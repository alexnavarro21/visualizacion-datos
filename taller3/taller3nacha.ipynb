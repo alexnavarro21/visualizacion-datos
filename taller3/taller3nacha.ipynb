{
 "cells": [
  {
   "cell_type": "code",
   "execution_count": 1,
   "id": "313651a2",
   "metadata": {},
   "outputs": [
    {
     "ename": "KeyboardInterrupt",
     "evalue": "",
     "output_type": "error",
     "traceback": [
      "\u001b[1;31m---------------------------------------------------------------------------\u001b[0m",
      "\u001b[1;31mKeyboardInterrupt\u001b[0m                         Traceback (most recent call last)",
      "Cell \u001b[1;32mIn[1], line 4\u001b[0m\n\u001b[0;32m      2\u001b[0m \u001b[38;5;28;01mimport\u001b[39;00m \u001b[38;5;21;01mmatplotlib\u001b[39;00m\u001b[38;5;21;01m.\u001b[39;00m\u001b[38;5;21;01mpyplot\u001b[39;00m \u001b[38;5;28;01mas\u001b[39;00m \u001b[38;5;21;01mplt\u001b[39;00m\n\u001b[0;32m      3\u001b[0m \u001b[38;5;28;01mimport\u001b[39;00m \u001b[38;5;21;01mseaborn\u001b[39;00m \u001b[38;5;28;01mas\u001b[39;00m \u001b[38;5;21;01msns\u001b[39;00m\n\u001b[1;32m----> 4\u001b[0m \u001b[38;5;28;01mimport\u001b[39;00m \u001b[38;5;21;01mplotly\u001b[39;00m\u001b[38;5;21;01m.\u001b[39;00m\u001b[38;5;21;01mexpress\u001b[39;00m \u001b[38;5;28;01mas\u001b[39;00m \u001b[38;5;21;01mpx\u001b[39;00m\n\u001b[0;32m      5\u001b[0m \u001b[38;5;28;01mimport\u001b[39;00m \u001b[38;5;21;01mwarnings\u001b[39;00m\n\u001b[0;32m      6\u001b[0m warnings\u001b[38;5;241m.\u001b[39mfilterwarnings(\u001b[38;5;124m'\u001b[39m\u001b[38;5;124mignore\u001b[39m\u001b[38;5;124m'\u001b[39m)\n",
      "File \u001b[1;32mc:\\Users\\nacha\\anaconda3\\Lib\\site-packages\\plotly\\express\\__init__.py:15\u001b[0m\n\u001b[0;32m      9\u001b[0m \u001b[38;5;28;01mif\u001b[39;00m pd \u001b[38;5;129;01mis\u001b[39;00m \u001b[38;5;28;01mNone\u001b[39;00m:\n\u001b[0;32m     10\u001b[0m     \u001b[38;5;28;01mraise\u001b[39;00m \u001b[38;5;167;01mImportError\u001b[39;00m(\n\u001b[0;32m     11\u001b[0m \u001b[38;5;250m        \u001b[39m\u001b[38;5;124;03m\"\"\"\\\u001b[39;00m\n\u001b[0;32m     12\u001b[0m \u001b[38;5;124;03mPlotly express requires pandas to be installed.\"\"\"\u001b[39;00m\n\u001b[0;32m     13\u001b[0m     )\n\u001b[1;32m---> 15\u001b[0m \u001b[38;5;28;01mfrom\u001b[39;00m \u001b[38;5;21;01m.\u001b[39;00m\u001b[38;5;21;01m_imshow\u001b[39;00m \u001b[38;5;28;01mimport\u001b[39;00m imshow\n\u001b[0;32m     16\u001b[0m \u001b[38;5;28;01mfrom\u001b[39;00m \u001b[38;5;21;01m.\u001b[39;00m\u001b[38;5;21;01m_chart_types\u001b[39;00m \u001b[38;5;28;01mimport\u001b[39;00m (  \u001b[38;5;66;03m# noqa: F401\u001b[39;00m\n\u001b[0;32m     17\u001b[0m     scatter,\n\u001b[0;32m     18\u001b[0m     scatter_3d,\n\u001b[1;32m   (...)\u001b[0m\n\u001b[0;32m     51\u001b[0m     density_mapbox,\n\u001b[0;32m     52\u001b[0m )\n\u001b[0;32m     55\u001b[0m \u001b[38;5;28;01mfrom\u001b[39;00m \u001b[38;5;21;01m.\u001b[39;00m\u001b[38;5;21;01m_core\u001b[39;00m \u001b[38;5;28;01mimport\u001b[39;00m (  \u001b[38;5;66;03m# noqa: F401\u001b[39;00m\n\u001b[0;32m     56\u001b[0m     set_mapbox_access_token,\n\u001b[0;32m     57\u001b[0m     defaults,\n\u001b[0;32m     58\u001b[0m     get_trendline_results,\n\u001b[0;32m     59\u001b[0m     NO_COLOR,\n\u001b[0;32m     60\u001b[0m )\n",
      "File \u001b[1;32mc:\\Users\\nacha\\anaconda3\\Lib\\site-packages\\plotly\\express\\_imshow.py:11\u001b[0m\n\u001b[0;32m      8\u001b[0m \u001b[38;5;28;01mfrom\u001b[39;00m \u001b[38;5;21;01mplotly\u001b[39;00m\u001b[38;5;21;01m.\u001b[39;00m\u001b[38;5;21;01mutils\u001b[39;00m \u001b[38;5;28;01mimport\u001b[39;00m image_array_to_data_uri\n\u001b[0;32m     10\u001b[0m \u001b[38;5;28;01mtry\u001b[39;00m:\n\u001b[1;32m---> 11\u001b[0m     \u001b[38;5;28;01mimport\u001b[39;00m \u001b[38;5;21;01mxarray\u001b[39;00m\n\u001b[0;32m     13\u001b[0m     xarray_imported \u001b[38;5;241m=\u001b[39m \u001b[38;5;28;01mTrue\u001b[39;00m\n\u001b[0;32m     14\u001b[0m \u001b[38;5;28;01mexcept\u001b[39;00m \u001b[38;5;167;01mImportError\u001b[39;00m:\n",
      "File \u001b[1;32mc:\\Users\\nacha\\anaconda3\\Lib\\site-packages\\xarray\\__init__.py:1\u001b[0m\n\u001b[1;32m----> 1\u001b[0m \u001b[38;5;28;01mfrom\u001b[39;00m \u001b[38;5;21;01mxarray\u001b[39;00m \u001b[38;5;28;01mimport\u001b[39;00m testing, tutorial\n\u001b[0;32m      2\u001b[0m \u001b[38;5;28;01mfrom\u001b[39;00m \u001b[38;5;21;01mxarray\u001b[39;00m\u001b[38;5;21;01m.\u001b[39;00m\u001b[38;5;21;01mbackends\u001b[39;00m\u001b[38;5;21;01m.\u001b[39;00m\u001b[38;5;21;01mapi\u001b[39;00m \u001b[38;5;28;01mimport\u001b[39;00m (\n\u001b[0;32m      3\u001b[0m     load_dataarray,\n\u001b[0;32m      4\u001b[0m     load_dataset,\n\u001b[1;32m   (...)\u001b[0m\n\u001b[0;32m      8\u001b[0m     save_mfdataset,\n\u001b[0;32m      9\u001b[0m )\n\u001b[0;32m     10\u001b[0m \u001b[38;5;28;01mfrom\u001b[39;00m \u001b[38;5;21;01mxarray\u001b[39;00m\u001b[38;5;21;01m.\u001b[39;00m\u001b[38;5;21;01mbackends\u001b[39;00m\u001b[38;5;21;01m.\u001b[39;00m\u001b[38;5;21;01mzarr\u001b[39;00m \u001b[38;5;28;01mimport\u001b[39;00m open_zarr\n",
      "File \u001b[1;32mc:\\Users\\nacha\\anaconda3\\Lib\\site-packages\\xarray\\tutorial.py:16\u001b[0m\n\u001b[0;32m     12\u001b[0m \u001b[38;5;28;01mfrom\u001b[39;00m \u001b[38;5;21;01mtyping\u001b[39;00m \u001b[38;5;28;01mimport\u001b[39;00m TYPE_CHECKING\n\u001b[0;32m     14\u001b[0m \u001b[38;5;28;01mimport\u001b[39;00m \u001b[38;5;21;01mnumpy\u001b[39;00m \u001b[38;5;28;01mas\u001b[39;00m \u001b[38;5;21;01mnp\u001b[39;00m\n\u001b[1;32m---> 16\u001b[0m \u001b[38;5;28;01mfrom\u001b[39;00m \u001b[38;5;21;01mxarray\u001b[39;00m\u001b[38;5;21;01m.\u001b[39;00m\u001b[38;5;21;01mbackends\u001b[39;00m\u001b[38;5;21;01m.\u001b[39;00m\u001b[38;5;21;01mapi\u001b[39;00m \u001b[38;5;28;01mimport\u001b[39;00m open_dataset \u001b[38;5;28;01mas\u001b[39;00m _open_dataset\n\u001b[0;32m     17\u001b[0m \u001b[38;5;28;01mfrom\u001b[39;00m \u001b[38;5;21;01mxarray\u001b[39;00m\u001b[38;5;21;01m.\u001b[39;00m\u001b[38;5;21;01mcore\u001b[39;00m\u001b[38;5;21;01m.\u001b[39;00m\u001b[38;5;21;01mdataarray\u001b[39;00m \u001b[38;5;28;01mimport\u001b[39;00m DataArray\n\u001b[0;32m     18\u001b[0m \u001b[38;5;28;01mfrom\u001b[39;00m \u001b[38;5;21;01mxarray\u001b[39;00m\u001b[38;5;21;01m.\u001b[39;00m\u001b[38;5;21;01mcore\u001b[39;00m\u001b[38;5;21;01m.\u001b[39;00m\u001b[38;5;21;01mdataset\u001b[39;00m \u001b[38;5;28;01mimport\u001b[39;00m Dataset\n",
      "File \u001b[1;32mc:\\Users\\nacha\\anaconda3\\Lib\\site-packages\\xarray\\backends\\__init__.py:7\u001b[0m\n\u001b[0;32m      1\u001b[0m \u001b[38;5;124;03m\"\"\"Backend objects for saving and loading data\u001b[39;00m\n\u001b[0;32m      2\u001b[0m \n\u001b[0;32m      3\u001b[0m \u001b[38;5;124;03mDataStores provide a uniform interface for saving and loading data in different\u001b[39;00m\n\u001b[0;32m      4\u001b[0m \u001b[38;5;124;03mformats. They should not be used directly, but rather through Dataset objects.\u001b[39;00m\n\u001b[0;32m      5\u001b[0m \u001b[38;5;124;03m\"\"\"\u001b[39;00m\n\u001b[0;32m      6\u001b[0m \u001b[38;5;28;01mfrom\u001b[39;00m \u001b[38;5;21;01mxarray\u001b[39;00m\u001b[38;5;21;01m.\u001b[39;00m\u001b[38;5;21;01mbackends\u001b[39;00m\u001b[38;5;21;01m.\u001b[39;00m\u001b[38;5;21;01mcommon\u001b[39;00m \u001b[38;5;28;01mimport\u001b[39;00m AbstractDataStore, BackendArray, BackendEntrypoint\n\u001b[1;32m----> 7\u001b[0m \u001b[38;5;28;01mfrom\u001b[39;00m \u001b[38;5;21;01mxarray\u001b[39;00m\u001b[38;5;21;01m.\u001b[39;00m\u001b[38;5;21;01mbackends\u001b[39;00m\u001b[38;5;21;01m.\u001b[39;00m\u001b[38;5;21;01mfile_manager\u001b[39;00m \u001b[38;5;28;01mimport\u001b[39;00m (\n\u001b[0;32m      8\u001b[0m     CachingFileManager,\n\u001b[0;32m      9\u001b[0m     DummyFileManager,\n\u001b[0;32m     10\u001b[0m     FileManager,\n\u001b[0;32m     11\u001b[0m )\n\u001b[0;32m     12\u001b[0m \u001b[38;5;28;01mfrom\u001b[39;00m \u001b[38;5;21;01mxarray\u001b[39;00m\u001b[38;5;21;01m.\u001b[39;00m\u001b[38;5;21;01mbackends\u001b[39;00m\u001b[38;5;21;01m.\u001b[39;00m\u001b[38;5;21;01mh5netcdf_\u001b[39;00m \u001b[38;5;28;01mimport\u001b[39;00m H5netcdfBackendEntrypoint, H5NetCDFStore\n\u001b[0;32m     13\u001b[0m \u001b[38;5;28;01mfrom\u001b[39;00m \u001b[38;5;21;01mxarray\u001b[39;00m\u001b[38;5;21;01m.\u001b[39;00m\u001b[38;5;21;01mbackends\u001b[39;00m\u001b[38;5;21;01m.\u001b[39;00m\u001b[38;5;21;01mmemory\u001b[39;00m \u001b[38;5;28;01mimport\u001b[39;00m InMemoryDataStore\n",
      "File \u001b[1;32mc:\\Users\\nacha\\anaconda3\\Lib\\site-packages\\xarray\\backends\\file_manager.py:12\u001b[0m\n\u001b[0;32m      9\u001b[0m \u001b[38;5;28;01mfrom\u001b[39;00m \u001b[38;5;21;01mcollections\u001b[39;00m\u001b[38;5;21;01m.\u001b[39;00m\u001b[38;5;21;01mabc\u001b[39;00m \u001b[38;5;28;01mimport\u001b[39;00m Hashable\n\u001b[0;32m     10\u001b[0m \u001b[38;5;28;01mfrom\u001b[39;00m \u001b[38;5;21;01mtyping\u001b[39;00m \u001b[38;5;28;01mimport\u001b[39;00m Any\n\u001b[1;32m---> 12\u001b[0m \u001b[38;5;28;01mfrom\u001b[39;00m \u001b[38;5;21;01mxarray\u001b[39;00m\u001b[38;5;21;01m.\u001b[39;00m\u001b[38;5;21;01mbackends\u001b[39;00m\u001b[38;5;21;01m.\u001b[39;00m\u001b[38;5;21;01mlocks\u001b[39;00m \u001b[38;5;28;01mimport\u001b[39;00m acquire\n\u001b[0;32m     13\u001b[0m \u001b[38;5;28;01mfrom\u001b[39;00m \u001b[38;5;21;01mxarray\u001b[39;00m\u001b[38;5;21;01m.\u001b[39;00m\u001b[38;5;21;01mbackends\u001b[39;00m\u001b[38;5;21;01m.\u001b[39;00m\u001b[38;5;21;01mlru_cache\u001b[39;00m \u001b[38;5;28;01mimport\u001b[39;00m LRUCache\n\u001b[0;32m     14\u001b[0m \u001b[38;5;28;01mfrom\u001b[39;00m \u001b[38;5;21;01mxarray\u001b[39;00m\u001b[38;5;21;01m.\u001b[39;00m\u001b[38;5;21;01mcore\u001b[39;00m \u001b[38;5;28;01mimport\u001b[39;00m utils\n",
      "File \u001b[1;32mc:\\Users\\nacha\\anaconda3\\Lib\\site-packages\\xarray\\backends\\locks.py:10\u001b[0m\n\u001b[0;32m      7\u001b[0m \u001b[38;5;28;01mfrom\u001b[39;00m \u001b[38;5;21;01mtyping\u001b[39;00m \u001b[38;5;28;01mimport\u001b[39;00m Any\n\u001b[0;32m      9\u001b[0m \u001b[38;5;28;01mtry\u001b[39;00m:\n\u001b[1;32m---> 10\u001b[0m     \u001b[38;5;28;01mfrom\u001b[39;00m \u001b[38;5;21;01mdask\u001b[39;00m\u001b[38;5;21;01m.\u001b[39;00m\u001b[38;5;21;01mutils\u001b[39;00m \u001b[38;5;28;01mimport\u001b[39;00m SerializableLock\n\u001b[0;32m     11\u001b[0m \u001b[38;5;28;01mexcept\u001b[39;00m \u001b[38;5;167;01mImportError\u001b[39;00m:\n\u001b[0;32m     12\u001b[0m     \u001b[38;5;66;03m# no need to worry about serializing the lock\u001b[39;00m\n\u001b[0;32m     13\u001b[0m     SerializableLock \u001b[38;5;241m=\u001b[39m threading\u001b[38;5;241m.\u001b[39mLock  \u001b[38;5;66;03m# type: ignore\u001b[39;00m\n",
      "File \u001b[1;32mc:\\Users\\nacha\\anaconda3\\Lib\\site-packages\\dask\\__init__.py:3\u001b[0m\n\u001b[0;32m      1\u001b[0m \u001b[38;5;28;01mfrom\u001b[39;00m \u001b[38;5;21;01m__future__\u001b[39;00m \u001b[38;5;28;01mimport\u001b[39;00m annotations\n\u001b[1;32m----> 3\u001b[0m \u001b[38;5;28;01mfrom\u001b[39;00m \u001b[38;5;21;01mdask\u001b[39;00m \u001b[38;5;28;01mimport\u001b[39;00m config, datasets\n\u001b[0;32m      4\u001b[0m \u001b[38;5;28;01mfrom\u001b[39;00m \u001b[38;5;21;01mdask\u001b[39;00m\u001b[38;5;21;01m.\u001b[39;00m\u001b[38;5;21;01m_version\u001b[39;00m \u001b[38;5;28;01mimport\u001b[39;00m get_versions\n\u001b[0;32m      5\u001b[0m \u001b[38;5;28;01mfrom\u001b[39;00m \u001b[38;5;21;01mdask\u001b[39;00m\u001b[38;5;21;01m.\u001b[39;00m\u001b[38;5;21;01mbase\u001b[39;00m \u001b[38;5;28;01mimport\u001b[39;00m (\n\u001b[0;32m      6\u001b[0m     annotate,\n\u001b[0;32m      7\u001b[0m     compute,\n\u001b[1;32m   (...)\u001b[0m\n\u001b[0;32m     12\u001b[0m     visualize,\n\u001b[0;32m     13\u001b[0m )\n",
      "File \u001b[1;32mc:\\Users\\nacha\\anaconda3\\Lib\\site-packages\\dask\\config.py:15\u001b[0m\n\u001b[0;32m     12\u001b[0m \u001b[38;5;28;01mfrom\u001b[39;00m \u001b[38;5;21;01mcollections\u001b[39;00m\u001b[38;5;21;01m.\u001b[39;00m\u001b[38;5;21;01mabc\u001b[39;00m \u001b[38;5;28;01mimport\u001b[39;00m Mapping, Sequence\n\u001b[0;32m     13\u001b[0m \u001b[38;5;28;01mfrom\u001b[39;00m \u001b[38;5;21;01mtyping\u001b[39;00m \u001b[38;5;28;01mimport\u001b[39;00m Any, Literal\n\u001b[1;32m---> 15\u001b[0m \u001b[38;5;28;01mimport\u001b[39;00m \u001b[38;5;21;01myaml\u001b[39;00m\n\u001b[0;32m     17\u001b[0m \u001b[38;5;28;01mfrom\u001b[39;00m \u001b[38;5;21;01mdask\u001b[39;00m\u001b[38;5;21;01m.\u001b[39;00m\u001b[38;5;21;01mtyping\u001b[39;00m \u001b[38;5;28;01mimport\u001b[39;00m no_default\n\u001b[0;32m     20\u001b[0m \u001b[38;5;28;01mdef\u001b[39;00m \u001b[38;5;21m_get_paths\u001b[39m():\n",
      "File \u001b[1;32mc:\\Users\\nacha\\anaconda3\\Lib\\site-packages\\yaml\\__init__.py:8\u001b[0m\n\u001b[0;32m      5\u001b[0m \u001b[38;5;28;01mfrom\u001b[39;00m \u001b[38;5;21;01m.\u001b[39;00m\u001b[38;5;21;01mevents\u001b[39;00m \u001b[38;5;28;01mimport\u001b[39;00m \u001b[38;5;241m*\u001b[39m\n\u001b[0;32m      6\u001b[0m \u001b[38;5;28;01mfrom\u001b[39;00m \u001b[38;5;21;01m.\u001b[39;00m\u001b[38;5;21;01mnodes\u001b[39;00m \u001b[38;5;28;01mimport\u001b[39;00m \u001b[38;5;241m*\u001b[39m\n\u001b[1;32m----> 8\u001b[0m \u001b[38;5;28;01mfrom\u001b[39;00m \u001b[38;5;21;01m.\u001b[39;00m\u001b[38;5;21;01mloader\u001b[39;00m \u001b[38;5;28;01mimport\u001b[39;00m \u001b[38;5;241m*\u001b[39m\n\u001b[0;32m      9\u001b[0m \u001b[38;5;28;01mfrom\u001b[39;00m \u001b[38;5;21;01m.\u001b[39;00m\u001b[38;5;21;01mdumper\u001b[39;00m \u001b[38;5;28;01mimport\u001b[39;00m \u001b[38;5;241m*\u001b[39m\n\u001b[0;32m     11\u001b[0m __version__ \u001b[38;5;241m=\u001b[39m \u001b[38;5;124m'\u001b[39m\u001b[38;5;124m6.0.1\u001b[39m\u001b[38;5;124m'\u001b[39m\n",
      "File \u001b[1;32mc:\\Users\\nacha\\anaconda3\\Lib\\site-packages\\yaml\\loader.py:5\u001b[0m\n\u001b[0;32m      2\u001b[0m __all__ \u001b[38;5;241m=\u001b[39m [\u001b[38;5;124m'\u001b[39m\u001b[38;5;124mBaseLoader\u001b[39m\u001b[38;5;124m'\u001b[39m, \u001b[38;5;124m'\u001b[39m\u001b[38;5;124mFullLoader\u001b[39m\u001b[38;5;124m'\u001b[39m, \u001b[38;5;124m'\u001b[39m\u001b[38;5;124mSafeLoader\u001b[39m\u001b[38;5;124m'\u001b[39m, \u001b[38;5;124m'\u001b[39m\u001b[38;5;124mLoader\u001b[39m\u001b[38;5;124m'\u001b[39m, \u001b[38;5;124m'\u001b[39m\u001b[38;5;124mUnsafeLoader\u001b[39m\u001b[38;5;124m'\u001b[39m]\n\u001b[0;32m      4\u001b[0m \u001b[38;5;28;01mfrom\u001b[39;00m \u001b[38;5;21;01m.\u001b[39;00m\u001b[38;5;21;01mreader\u001b[39;00m \u001b[38;5;28;01mimport\u001b[39;00m \u001b[38;5;241m*\u001b[39m\n\u001b[1;32m----> 5\u001b[0m \u001b[38;5;28;01mfrom\u001b[39;00m \u001b[38;5;21;01m.\u001b[39;00m\u001b[38;5;21;01mscanner\u001b[39;00m \u001b[38;5;28;01mimport\u001b[39;00m \u001b[38;5;241m*\u001b[39m\n\u001b[0;32m      6\u001b[0m \u001b[38;5;28;01mfrom\u001b[39;00m \u001b[38;5;21;01m.\u001b[39;00m\u001b[38;5;21;01mparser\u001b[39;00m \u001b[38;5;28;01mimport\u001b[39;00m \u001b[38;5;241m*\u001b[39m\n\u001b[0;32m      7\u001b[0m \u001b[38;5;28;01mfrom\u001b[39;00m \u001b[38;5;21;01m.\u001b[39;00m\u001b[38;5;21;01mcomposer\u001b[39;00m \u001b[38;5;28;01mimport\u001b[39;00m \u001b[38;5;241m*\u001b[39m\n",
      "File \u001b[1;32m<frozen importlib._bootstrap>:1176\u001b[0m, in \u001b[0;36m_find_and_load\u001b[1;34m(name, import_)\u001b[0m\n",
      "File \u001b[1;32m<frozen importlib._bootstrap>:1147\u001b[0m, in \u001b[0;36m_find_and_load_unlocked\u001b[1;34m(name, import_)\u001b[0m\n",
      "File \u001b[1;32m<frozen importlib._bootstrap>:690\u001b[0m, in \u001b[0;36m_load_unlocked\u001b[1;34m(spec)\u001b[0m\n",
      "File \u001b[1;32m<frozen importlib._bootstrap_external>:936\u001b[0m, in \u001b[0;36mexec_module\u001b[1;34m(self, module)\u001b[0m\n",
      "File \u001b[1;32m<frozen importlib._bootstrap_external>:1032\u001b[0m, in \u001b[0;36mget_code\u001b[1;34m(self, fullname)\u001b[0m\n",
      "File \u001b[1;32m<frozen importlib._bootstrap_external>:1131\u001b[0m, in \u001b[0;36mget_data\u001b[1;34m(self, path)\u001b[0m\n",
      "\u001b[1;31mKeyboardInterrupt\u001b[0m: "
     ]
    }
   ],
   "source": [
    "import pandas as pd\n",
    "import matplotlib.pyplot as plt\n",
    "import seaborn as sns\n",
    "import plotly.express as px\n",
    "import warnings\n",
    "warnings.filterwarnings('ignore')"
   ]
  },
  {
   "cell_type": "code",
   "execution_count": 6,
   "id": "bc71d46d",
   "metadata": {},
   "outputs": [
    {
     "data": {
      "text/html": [
       "<div>\n",
       "<style scoped>\n",
       "    .dataframe tbody tr th:only-of-type {\n",
       "        vertical-align: middle;\n",
       "    }\n",
       "\n",
       "    .dataframe tbody tr th {\n",
       "        vertical-align: top;\n",
       "    }\n",
       "\n",
       "    .dataframe thead th {\n",
       "        text-align: right;\n",
       "    }\n",
       "</style>\n",
       "<table border=\"1\" class=\"dataframe\">\n",
       "  <thead>\n",
       "    <tr style=\"text-align: right;\">\n",
       "      <th></th>\n",
       "      <th>Country</th>\n",
       "      <th>Region</th>\n",
       "      <th>Happiness Rank</th>\n",
       "      <th>Happiness Score</th>\n",
       "      <th>Standard Error</th>\n",
       "      <th>Economy (GDP per Capita)</th>\n",
       "      <th>Family</th>\n",
       "      <th>Health (Life Expectancy)</th>\n",
       "      <th>Freedom</th>\n",
       "      <th>Trust (Government Corruption)</th>\n",
       "      <th>Generosity</th>\n",
       "      <th>Dystopia Residual</th>\n",
       "    </tr>\n",
       "  </thead>\n",
       "  <tbody>\n",
       "    <tr>\n",
       "      <th>0</th>\n",
       "      <td>Switzerland</td>\n",
       "      <td>Western Europe</td>\n",
       "      <td>1</td>\n",
       "      <td>7.587</td>\n",
       "      <td>0.03411</td>\n",
       "      <td>1.39651</td>\n",
       "      <td>1.34951</td>\n",
       "      <td>0.94143</td>\n",
       "      <td>0.66557</td>\n",
       "      <td>0.41978</td>\n",
       "      <td>0.29678</td>\n",
       "      <td>2.51738</td>\n",
       "    </tr>\n",
       "    <tr>\n",
       "      <th>1</th>\n",
       "      <td>Iceland</td>\n",
       "      <td>Western Europe</td>\n",
       "      <td>2</td>\n",
       "      <td>7.561</td>\n",
       "      <td>0.04884</td>\n",
       "      <td>1.30232</td>\n",
       "      <td>1.40223</td>\n",
       "      <td>0.94784</td>\n",
       "      <td>0.62877</td>\n",
       "      <td>0.14145</td>\n",
       "      <td>0.43630</td>\n",
       "      <td>2.70201</td>\n",
       "    </tr>\n",
       "    <tr>\n",
       "      <th>2</th>\n",
       "      <td>Denmark</td>\n",
       "      <td>Western Europe</td>\n",
       "      <td>3</td>\n",
       "      <td>7.527</td>\n",
       "      <td>0.03328</td>\n",
       "      <td>1.32548</td>\n",
       "      <td>1.36058</td>\n",
       "      <td>0.87464</td>\n",
       "      <td>0.64938</td>\n",
       "      <td>0.48357</td>\n",
       "      <td>0.34139</td>\n",
       "      <td>2.49204</td>\n",
       "    </tr>\n",
       "    <tr>\n",
       "      <th>3</th>\n",
       "      <td>Norway</td>\n",
       "      <td>Western Europe</td>\n",
       "      <td>4</td>\n",
       "      <td>7.522</td>\n",
       "      <td>0.03880</td>\n",
       "      <td>1.45900</td>\n",
       "      <td>1.33095</td>\n",
       "      <td>0.88521</td>\n",
       "      <td>0.66973</td>\n",
       "      <td>0.36503</td>\n",
       "      <td>0.34699</td>\n",
       "      <td>2.46531</td>\n",
       "    </tr>\n",
       "    <tr>\n",
       "      <th>4</th>\n",
       "      <td>Canada</td>\n",
       "      <td>North America</td>\n",
       "      <td>5</td>\n",
       "      <td>7.427</td>\n",
       "      <td>0.03553</td>\n",
       "      <td>1.32629</td>\n",
       "      <td>1.32261</td>\n",
       "      <td>0.90563</td>\n",
       "      <td>0.63297</td>\n",
       "      <td>0.32957</td>\n",
       "      <td>0.45811</td>\n",
       "      <td>2.45176</td>\n",
       "    </tr>\n",
       "  </tbody>\n",
       "</table>\n",
       "</div>"
      ],
      "text/plain": [
       "       Country          Region  Happiness Rank  Happiness Score  \\\n",
       "0  Switzerland  Western Europe               1            7.587   \n",
       "1      Iceland  Western Europe               2            7.561   \n",
       "2      Denmark  Western Europe               3            7.527   \n",
       "3       Norway  Western Europe               4            7.522   \n",
       "4       Canada   North America               5            7.427   \n",
       "\n",
       "   Standard Error  Economy (GDP per Capita)   Family  \\\n",
       "0         0.03411                   1.39651  1.34951   \n",
       "1         0.04884                   1.30232  1.40223   \n",
       "2         0.03328                   1.32548  1.36058   \n",
       "3         0.03880                   1.45900  1.33095   \n",
       "4         0.03553                   1.32629  1.32261   \n",
       "\n",
       "   Health (Life Expectancy)  Freedom  Trust (Government Corruption)  \\\n",
       "0                   0.94143  0.66557                        0.41978   \n",
       "1                   0.94784  0.62877                        0.14145   \n",
       "2                   0.87464  0.64938                        0.48357   \n",
       "3                   0.88521  0.66973                        0.36503   \n",
       "4                   0.90563  0.63297                        0.32957   \n",
       "\n",
       "   Generosity  Dystopia Residual  \n",
       "0     0.29678            2.51738  \n",
       "1     0.43630            2.70201  \n",
       "2     0.34139            2.49204  \n",
       "3     0.34699            2.46531  \n",
       "4     0.45811            2.45176  "
      ]
     },
     "execution_count": 6,
     "metadata": {},
     "output_type": "execute_result"
    }
   ],
   "source": [
    "df = pd.read_csv('Datos-1.csv')\n",
    "df.head(5)"
   ]
  },
  {
   "cell_type": "code",
   "execution_count": 11,
   "id": "56acaac6",
   "metadata": {},
   "outputs": [
    {
     "data": {
      "application/vnd.plotly.v1+json": {
       "config": {
        "plotlyServerURL": "https://plot.ly"
       },
       "data": [
        {
         "hovertemplate": "Region=Western Europe<br>Economy (GDP per Capita)=%{x}<br>Happiness Score=%{y}<extra></extra>",
         "legendgroup": "Western Europe",
         "marker": {
          "color": "#636efa",
          "symbol": "circle"
         },
         "mode": "markers",
         "name": "Western Europe",
         "orientation": "v",
         "showlegend": true,
         "type": "scatter",
         "x": [
          1.39651,
          1.30232,
          1.32548,
          1.459,
          1.29025,
          1.32944,
          1.33171,
          1.33723,
          1.56391,
          1.33596,
          1.30782,
          1.26637,
          1.32792,
          1.27778,
          1.23011,
          1.2074,
          1.25114,
          1.20806,
          1.20813,
          1.15991,
          1.15406
         ],
         "xaxis": "x",
         "y": [
          7.587,
          7.561,
          7.527,
          7.522,
          7.406,
          7.378,
          7.364,
          7.2,
          6.946,
          6.94,
          6.937,
          6.867,
          6.75,
          6.575,
          6.329,
          6.302,
          5.948,
          5.695,
          5.689,
          5.102,
          4.857
         ],
         "yaxis": "y"
        },
        {
         "hovertemplate": "<b>OLS trendline</b><br>Happiness Score = 6.15957 * Economy (GDP per Capita) + -1.30917<br>R<sup>2</sup>=0.517912<br><br>Region=Western Europe<br>Economy (GDP per Capita)=%{x}<br>Happiness Score=%{y} <b>(trend)</b><extra></extra>",
         "legendgroup": "Western Europe",
         "marker": {
          "color": "#636efa",
          "symbol": "circle"
         },
         "mode": "lines",
         "name": "Western Europe",
         "showlegend": false,
         "type": "scatter",
         "x": [
          1.15406,
          1.15991,
          1.2074,
          1.20806,
          1.20813,
          1.23011,
          1.25114,
          1.26637,
          1.27778,
          1.29025,
          1.30232,
          1.30782,
          1.32548,
          1.32792,
          1.32944,
          1.33171,
          1.33596,
          1.33723,
          1.39651,
          1.459,
          1.56391
         ],
         "xaxis": "x",
         "y": [
          5.799341406448435,
          5.83537488251064,
          6.127892793313059,
          6.1319581085611015,
          6.132389278360137,
          6.267776595257109,
          6.397312322024319,
          6.491122551157207,
          6.561403228399902,
          6.638213048313697,
          6.712559040804437,
          6.7464366678714685,
          6.855214648599426,
          6.870243995880071,
          6.879606540087688,
          6.893588760713535,
          6.919766927083514,
          6.927589579151719,
          7.292728803248736,
          7.677640242415785,
          8.323840579798006
         ],
         "yaxis": "y"
        },
        {
         "hovertemplate": "Region=North America<br>Economy (GDP per Capita)=%{x}<br>Happiness Score=%{y}<extra></extra>",
         "legendgroup": "North America",
         "marker": {
          "color": "#EF553B",
          "symbol": "circle"
         },
         "mode": "markers",
         "name": "North America",
         "orientation": "v",
         "showlegend": true,
         "type": "scatter",
         "x": [
          1.32629,
          1.39451
         ],
         "xaxis": "x",
         "y": [
          7.427,
          7.119
         ],
         "yaxis": "y"
        },
        {
         "hovertemplate": "<b>OLS trendline</b><br>Happiness Score = -4.51481 * Economy (GDP per Capita) + 13.4149<br>R<sup>2</sup>=1.000000<br><br>Region=North America<br>Economy (GDP per Capita)=%{x}<br>Happiness Score=%{y} <b>(trend)</b><extra></extra>",
         "legendgroup": "North America",
         "marker": {
          "color": "#EF553B",
          "symbol": "circle"
         },
         "mode": "lines",
         "name": "North America",
         "showlegend": false,
         "type": "scatter",
         "x": [
          1.32629,
          1.39451
         ],
         "xaxis": "x",
         "y": [
          7.426999999999994,
          7.118999999999994
         ],
         "yaxis": "y"
        },
        {
         "hovertemplate": "Region=Australia and New Zealand<br>Economy (GDP per Capita)=%{x}<br>Happiness Score=%{y}<extra></extra>",
         "legendgroup": "Australia and New Zealand",
         "marker": {
          "color": "#00cc96",
          "symbol": "circle"
         },
         "mode": "markers",
         "name": "Australia and New Zealand",
         "orientation": "v",
         "showlegend": true,
         "type": "scatter",
         "x": [
          1.25018,
          1.33358
         ],
         "xaxis": "x",
         "y": [
          7.286,
          7.284
         ],
         "yaxis": "y"
        },
        {
         "hovertemplate": "<b>OLS trendline</b><br>Happiness Score = -0.0239808 * Economy (GDP per Capita) + 7.31598<br>R<sup>2</sup>=1.000000<br><br>Region=Australia and New Zealand<br>Economy (GDP per Capita)=%{x}<br>Happiness Score=%{y} <b>(trend)</b><extra></extra>",
         "legendgroup": "Australia and New Zealand",
         "marker": {
          "color": "#00cc96",
          "symbol": "circle"
         },
         "mode": "lines",
         "name": "Australia and New Zealand",
         "showlegend": false,
         "type": "scatter",
         "x": [
          1.25018,
          1.33358
         ],
         "xaxis": "x",
         "y": [
          7.285999999999978,
          7.283999999999979
         ],
         "yaxis": "y"
        },
        {
         "hovertemplate": "Region=Middle East and Northern Africa<br>Economy (GDP per Capita)=%{x}<br>Happiness Score=%{y}<extra></extra>",
         "legendgroup": "Middle East and Northern Africa",
         "marker": {
          "color": "#ab63fa",
          "symbol": "circle"
         },
         "mode": "markers",
         "name": "Middle East and Northern Africa",
         "orientation": "v",
         "showlegend": true,
         "type": "scatter",
         "x": [
          1.22857,
          1.42727,
          1.36011,
          1.69042,
          1.39541,
          1.55422,
          1.32376,
          1.13145,
          0.93929,
          1.06098,
          0.90198,
          0.73479,
          1.02564,
          0.88113,
          0.59867,
          1.0088,
          0.98549,
          0.8818,
          0.54649,
          0.6632
         ],
         "xaxis": "x",
         "y": [
          7.278,
          6.901,
          6.853,
          6.611,
          6.411,
          6.295,
          5.96,
          5.754,
          5.605,
          5.332,
          5.192,
          5.013,
          4.839,
          4.739,
          4.715,
          4.686,
          4.677,
          4.194,
          4.077,
          3.006
         ],
         "yaxis": "y"
        },
        {
         "hovertemplate": "<b>OLS trendline</b><br>Happiness Score = 2.86657 * Economy (GDP per Capita) + 2.34834<br>R<sup>2</sup>=0.689398<br><br>Region=Middle East and Northern Africa<br>Economy (GDP per Capita)=%{x}<br>Happiness Score=%{y} <b>(trend)</b><extra></extra>",
         "legendgroup": "Middle East and Northern Africa",
         "marker": {
          "color": "#ab63fa",
          "symbol": "circle"
         },
         "mode": "lines",
         "name": "Middle East and Northern Africa",
         "showlegend": false,
         "type": "scatter",
         "x": [
          0.54649,
          0.59867,
          0.6632,
          0.73479,
          0.88113,
          0.8818,
          0.90198,
          0.93929,
          0.98549,
          1.0088,
          1.02564,
          1.06098,
          1.13145,
          1.22857,
          1.32376,
          1.36011,
          1.39541,
          1.42727,
          1.55422,
          1.69042
         ],
         "xaxis": "x",
         "y": [
          3.9148956428965125,
          4.064473463045777,
          4.249453469451145,
          4.454671486785102,
          4.874165894616521,
          4.876086499053088,
          4.933933958052937,
          5.040885826005583,
          5.173321534915051,
          5.240141369864828,
          5.288414472419708,
          5.389719190014094,
          5.591726644707821,
          5.870128290796296,
          6.142997449477948,
          6.2471974065961104,
          6.34838746123906,
          6.439716502058445,
          6.80362804418089,
          7.1940553938230885
         ],
         "yaxis": "y"
        },
        {
         "hovertemplate": "Region=Latin America and Caribbean<br>Economy (GDP per Capita)=%{x}<br>Happiness Score=%{y}<extra></extra>",
         "legendgroup": "Latin America and Caribbean",
         "marker": {
          "color": "#FFA15A",
          "symbol": "circle"
         },
         "mode": "markers",
         "name": "Latin America and Caribbean",
         "orientation": "v",
         "showlegend": true,
         "type": "scatter",
         "x": [
          0.95578,
          1.02054,
          0.98124,
          1.04424,
          1.06353,
          1.10715,
          1.05351,
          1.06166,
          0.91861,
          0.99534,
          1.21183,
          0.76454,
          0.74553,
          0.86402,
          0.68133,
          0.75985,
          0.59325,
          0.90019,
          0.81038,
          0.89537,
          0.59532,
          0.26673
         ],
         "xaxis": "x",
         "y": [
          7.226,
          7.187,
          6.983,
          6.81,
          6.786,
          6.67,
          6.574,
          6.485,
          6.477,
          6.269,
          6.168,
          6.13,
          6.123,
          5.975,
          5.89,
          5.878,
          5.828,
          5.824,
          5.709,
          4.885,
          4.788,
          4.518
         ],
         "yaxis": "y"
        },
        {
         "hovertemplate": "<b>OLS trendline</b><br>Happiness Score = 2.4838 * Economy (GDP per Capita) + 3.96684<br>R<sup>2</sup>=0.534762<br><br>Region=Latin America and Caribbean<br>Economy (GDP per Capita)=%{x}<br>Happiness Score=%{y} <b>(trend)</b><extra></extra>",
         "legendgroup": "Latin America and Caribbean",
         "marker": {
          "color": "#FFA15A",
          "symbol": "circle"
         },
         "mode": "lines",
         "name": "Latin America and Caribbean",
         "showlegend": false,
         "type": "scatter",
         "x": [
          0.26673,
          0.59325,
          0.59532,
          0.68133,
          0.74553,
          0.75985,
          0.76454,
          0.81038,
          0.86402,
          0.89537,
          0.90019,
          0.91861,
          0.95578,
          0.98124,
          0.99534,
          1.02054,
          1.04424,
          1.05351,
          1.06166,
          1.06353,
          1.10715,
          1.21183
         ],
         "xaxis": "x",
         "y": [
          4.62934906129,
          5.440360777917399,
          5.445502252416415,
          5.65913424355669,
          5.818594467149362,
          5.854162541944487,
          5.865811583200712,
          5.979669163410806,
          6.112900415646178,
          6.19076767436316,
          6.20273961015314,
          6.248491281782064,
          6.340814280394831,
          6.404051932928622,
          6.4390735708204705,
          6.501665434286753,
          6.560531591594327,
          6.583556455655138,
          6.6037994591174485,
          6.608444172795304,
          6.716787707890511,
          6.976792321686162
         ],
         "yaxis": "y"
        },
        {
         "hovertemplate": "Region=Southeastern Asia<br>Economy (GDP per Capita)=%{x}<br>Happiness Score=%{y}<extra></extra>",
         "legendgroup": "Southeastern Asia",
         "marker": {
          "color": "#19d3f3",
          "symbol": "circle"
         },
         "mode": "markers",
         "name": "Southeastern Asia",
         "orientation": "v",
         "showlegend": true,
         "type": "scatter",
         "x": [
          1.52186,
          0.9669,
          1.12486,
          0.82827,
          0.63216,
          0.70532,
          0.59066,
          0.27108,
          0.46038
         ],
         "xaxis": "x",
         "y": [
          6.798,
          6.455,
          5.77,
          5.399,
          5.36,
          5.073,
          4.876,
          4.307,
          3.819
         ],
         "yaxis": "y"
        },
        {
         "hovertemplate": "<b>OLS trendline</b><br>Happiness Score = 2.26472 * Economy (GDP per Capita) + 3.53046<br>R<sup>2</sup>=0.802873<br><br>Region=Southeastern Asia<br>Economy (GDP per Capita)=%{x}<br>Happiness Score=%{y} <b>(trend)</b><extra></extra>",
         "legendgroup": "Southeastern Asia",
         "marker": {
          "color": "#19d3f3",
          "symbol": "circle"
         },
         "mode": "lines",
         "name": "Southeastern Asia",
         "showlegend": false,
         "type": "scatter",
         "x": [
          0.27108,
          0.46038,
          0.59066,
          0.63216,
          0.70532,
          0.82827,
          0.9669,
          1.12486,
          1.52186
         ],
         "xaxis": "x",
         "y": [
          4.144378268293118,
          4.573089432573855,
          4.868136925878105,
          4.962122733155709,
          5.127809520154012,
          5.406256628702964,
          5.7202145193751175,
          6.077949413774406,
          6.977042558092698
         ],
         "yaxis": "y"
        },
        {
         "hovertemplate": "Region=Central and Eastern Europe<br>Economy (GDP per Capita)=%{x}<br>Happiness Score=%{y}<extra></extra>",
         "legendgroup": "Central and Eastern Europe",
         "marker": {
          "color": "#FF6692",
          "symbol": "circle"
         },
         "mode": "markers",
         "name": "Central and Eastern Europe",
         "orientation": "v",
         "showlegend": true,
         "type": "scatter",
         "x": [
          1.17898,
          0.63244,
          1.16891,
          0.59448,
          1.12254,
          1.18498,
          1.14723,
          1.03192,
          1.12555,
          1.08254,
          1.13764,
          0.80148,
          0.95847,
          1.15174,
          0.47428,
          1.02389,
          0.97438,
          1.04345,
          0.92053,
          1.11312,
          0.91851,
          0.87867,
          0.83223,
          1.12094,
          0.39047,
          0.79907,
          0.76821,
          0.7419,
          1.01216
         ],
         "xaxis": "x",
         "y": [
          6.505,
          6.003,
          5.995,
          5.889,
          5.855,
          5.848,
          5.833,
          5.813,
          5.791,
          5.759,
          5.716,
          5.589,
          5.548,
          5.429,
          5.286,
          5.212,
          5.192,
          5.124,
          5.123,
          5.098,
          5.007,
          4.959,
          4.949,
          4.8,
          4.786,
          4.681,
          4.35,
          4.297,
          4.218
         ],
         "yaxis": "y"
        },
        {
         "hovertemplate": "<b>OLS trendline</b><br>Happiness Score = 0.914566 * Economy (GDP per Capita) + 4.47101<br>R<sup>2</sup>=0.122715<br><br>Region=Central and Eastern Europe<br>Economy (GDP per Capita)=%{x}<br>Happiness Score=%{y} <b>(trend)</b><extra></extra>",
         "legendgroup": "Central and Eastern Europe",
         "marker": {
          "color": "#FF6692",
          "symbol": "circle"
         },
         "mode": "lines",
         "name": "Central and Eastern Europe",
         "showlegend": false,
         "type": "scatter",
         "x": [
          0.39047,
          0.47428,
          0.59448,
          0.63244,
          0.7419,
          0.76821,
          0.79907,
          0.80148,
          0.83223,
          0.87867,
          0.91851,
          0.92053,
          0.95847,
          0.97438,
          1.01216,
          1.02389,
          1.03192,
          1.04345,
          1.08254,
          1.11312,
          1.12094,
          1.12254,
          1.12555,
          1.13764,
          1.14723,
          1.15174,
          1.16891,
          1.17898,
          1.18498
         ],
         "xaxis": "x",
         "y": [
          4.828119811392794,
          4.9047695582303135,
          5.014700348945859,
          5.049417260888972,
          5.14952561656055,
          5.173587838721332,
          5.201811334573925,
          5.2040154377821155,
          5.232138331413588,
          5.274610760039462,
          5.311047055398092,
          5.312894478004127,
          5.347593098634308,
          5.36214383807095,
          5.396696128197683,
          5.4074239832317375,
          5.4147679453735496,
          5.425312887278293,
          5.46106325840201,
          5.489030675873569,
          5.496182579229606,
          5.497645884264088,
          5.50039872686021,
          5.5114558255270225,
          5.520226510077457,
          5.524351201143405,
          5.540054293294703,
          5.549263969355481,
          5.554751363234793
         ],
         "yaxis": "y"
        },
        {
         "hovertemplate": "Region=Eastern Asia<br>Economy (GDP per Capita)=%{x}<br>Happiness Score=%{y}<extra></extra>",
         "legendgroup": "Eastern Asia",
         "marker": {
          "color": "#B6E880",
          "symbol": "circle"
         },
         "mode": "markers",
         "name": "Eastern Asia",
         "orientation": "v",
         "showlegend": true,
         "type": "scatter",
         "x": [
          1.29098,
          1.27074,
          1.24461,
          1.38604,
          0.89012,
          0.82819
         ],
         "xaxis": "x",
         "y": [
          6.298,
          5.987,
          5.984,
          5.474,
          5.14,
          4.874
         ],
         "yaxis": "y"
        },
        {
         "hovertemplate": "<b>OLS trendline</b><br>Happiness Score = 1.86758 * Economy (GDP per Capita) + 3.47513<br>R<sup>2</sup>=0.614002<br><br>Region=Eastern Asia<br>Economy (GDP per Capita)=%{x}<br>Happiness Score=%{y} <b>(trend)</b><extra></extra>",
         "legendgroup": "Eastern Asia",
         "marker": {
          "color": "#B6E880",
          "symbol": "circle"
         },
         "mode": "lines",
         "name": "Eastern Asia",
         "showlegend": false,
         "type": "scatter",
         "x": [
          0.82819,
          0.89012,
          1.24461,
          1.27074,
          1.29098,
          1.38604
         ],
         "xaxis": "x",
         "y": [
          5.021837144807776,
          5.137496242087424,
          5.79953392002481,
          5.848333729679537,
          5.886133505699884,
          6.0636654577005835
         ],
         "yaxis": "y"
        },
        {
         "hovertemplate": "Region=Sub-Saharan Africa<br>Economy (GDP per Capita)=%{x}<br>Happiness Score=%{y}<extra></extra>",
         "legendgroup": "Sub-Saharan Africa",
         "marker": {
          "color": "#FF97FF",
          "symbol": "circle"
         },
         "mode": "markers",
         "name": "Sub-Saharan Africa",
         "orientation": "v",
         "showlegend": true,
         "type": "scatter",
         "x": [
          1.00761,
          0.65435,
          0.47038,
          0.18847,
          0.08308,
          0.37545,
          0.71206,
          0.92049,
          0.54558,
          0.271,
          0.0712,
          0.52107,
          0,
          0.19073,
          0.33024,
          0.45407,
          0.36471,
          0.44025,
          0.99355,
          0.01604,
          0.4225,
          0.75778,
          0.26074,
          0.67866,
          0.23906,
          0.21102,
          0.36498,
          1.06024,
          0.0694,
          0.2852,
          0.20824,
          0.0785,
          0.34193,
          0.17417,
          0.46534,
          0.25812,
          0.22208,
          0.28665,
          0.0153,
          0.20868
         ],
         "xaxis": "x",
         "y": [
          5.477,
          5.268,
          5.129,
          5.057,
          4.971,
          4.898,
          4.867,
          4.642,
          4.633,
          4.61,
          4.571,
          4.55,
          4.517,
          4.512,
          4.507,
          4.436,
          4.419,
          4.369,
          4.332,
          4.292,
          4.252,
          4.033,
          3.995,
          3.989,
          3.956,
          3.931,
          3.904,
          3.896,
          3.845,
          3.781,
          3.681,
          3.678,
          3.667,
          3.656,
          3.655,
          3.587,
          3.465,
          3.34,
          2.905,
          2.839
         ],
         "yaxis": "y"
        },
        {
         "hovertemplate": "<b>OLS trendline</b><br>Happiness Score = 0.746061 * Economy (GDP per Capita) + 3.91894<br>R<sup>2</sup>=0.119352<br><br>Region=Sub-Saharan Africa<br>Economy (GDP per Capita)=%{x}<br>Happiness Score=%{y} <b>(trend)</b><extra></extra>",
         "legendgroup": "Sub-Saharan Africa",
         "marker": {
          "color": "#FF97FF",
          "symbol": "circle"
         },
         "mode": "lines",
         "name": "Sub-Saharan Africa",
         "showlegend": false,
         "type": "scatter",
         "x": [
          0,
          0.0153,
          0.01604,
          0.0694,
          0.0712,
          0.0785,
          0.08308,
          0.17417,
          0.18847,
          0.19073,
          0.20824,
          0.20868,
          0.21102,
          0.22208,
          0.23906,
          0.25812,
          0.26074,
          0.271,
          0.2852,
          0.28665,
          0.33024,
          0.34193,
          0.36471,
          0.36498,
          0.37545,
          0.4225,
          0.44025,
          0.45407,
          0.46534,
          0.47038,
          0.52107,
          0.54558,
          0.65435,
          0.67866,
          0.71206,
          0.75778,
          0.92049,
          0.99355,
          1.00761,
          1.06024
         ],
         "xaxis": "x",
         "y": [
          3.9189439909652046,
          3.9303587219401552,
          3.930910806967702,
          3.970720613818902,
          3.972063523345367,
          3.9775097675360294,
          3.980926726220034,
          4.0488854088676325,
          4.059554078994546,
          4.061240176511108,
          4.074303701960218,
          4.074631968733354,
          4.076377751117758,
          4.084629184097036,
          4.097297297296687,
          4.111517217060253,
          4.113471896482107,
          4.121126480782957,
          4.131720544825067,
          4.13280233305472,
          4.165323125420608,
          4.174044576734149,
          4.191039842852408,
          4.191241279281378,
          4.199052536360315,
          4.234154699260408,
          4.247397279313047,
          4.2577078402329045,
          4.266115945990269,
          4.269876092664371,
          4.307693917051315,
          4.3259798684366775,
          4.407128906877551,
          4.425265646093306,
          4.450184078417708,
          4.484293980389913,
          4.605685540973848,
          4.660192746531357,
          4.670682362054743,
          4.7099475444868775
         ],
         "yaxis": "y"
        },
        {
         "hovertemplate": "Region=Southern Asia<br>Economy (GDP per Capita)=%{x}<br>Happiness Score=%{y}<extra></extra>",
         "legendgroup": "Southern Asia",
         "marker": {
          "color": "#FECB52",
          "symbol": "circle"
         },
         "mode": "markers",
         "name": "Southern Asia",
         "orientation": "v",
         "showlegend": true,
         "type": "scatter",
         "x": [
          0.77042,
          0.59543,
          0.39753,
          0.64499,
          0.35997,
          0.83524,
          0.31982
         ],
         "xaxis": "x",
         "y": [
          5.253,
          5.194,
          4.694,
          4.565,
          4.514,
          4.271,
          3.575
         ],
         "yaxis": "y"
        },
        {
         "hovertemplate": "<b>OLS trendline</b><br>Happiness Score = 1.23949 * Economy (GDP per Capita) + 3.88614<br>R<sup>2</sup>=0.198712<br><br>Region=Southern Asia<br>Economy (GDP per Capita)=%{x}<br>Happiness Score=%{y} <b>(trend)</b><extra></extra>",
         "legendgroup": "Southern Asia",
         "marker": {
          "color": "#FECB52",
          "symbol": "circle"
         },
         "mode": "lines",
         "name": "Southern Asia",
         "showlegend": false,
         "type": "scatter",
         "x": [
          0.31982,
          0.35997,
          0.39753,
          0.59543,
          0.64499,
          0.77042,
          0.83524
         ],
         "xaxis": "x",
         "y": [
          4.2825552900128105,
          4.3323206644752545,
          4.3788757694518265,
          4.624170105843298,
          4.6855990462756445,
          4.841067811377122,
          4.92141131256406
         ],
         "yaxis": "y"
        }
       ],
       "layout": {
        "legend": {
         "title": {
          "text": "Region"
         },
         "tracegroupgap": 0
        },
        "margin": {
         "t": 60
        },
        "template": {
         "data": {
          "bar": [
           {
            "error_x": {
             "color": "#2a3f5f"
            },
            "error_y": {
             "color": "#2a3f5f"
            },
            "marker": {
             "line": {
              "color": "#E5ECF6",
              "width": 0.5
             },
             "pattern": {
              "fillmode": "overlay",
              "size": 10,
              "solidity": 0.2
             }
            },
            "type": "bar"
           }
          ],
          "barpolar": [
           {
            "marker": {
             "line": {
              "color": "#E5ECF6",
              "width": 0.5
             },
             "pattern": {
              "fillmode": "overlay",
              "size": 10,
              "solidity": 0.2
             }
            },
            "type": "barpolar"
           }
          ],
          "carpet": [
           {
            "aaxis": {
             "endlinecolor": "#2a3f5f",
             "gridcolor": "white",
             "linecolor": "white",
             "minorgridcolor": "white",
             "startlinecolor": "#2a3f5f"
            },
            "baxis": {
             "endlinecolor": "#2a3f5f",
             "gridcolor": "white",
             "linecolor": "white",
             "minorgridcolor": "white",
             "startlinecolor": "#2a3f5f"
            },
            "type": "carpet"
           }
          ],
          "choropleth": [
           {
            "colorbar": {
             "outlinewidth": 0,
             "ticks": ""
            },
            "type": "choropleth"
           }
          ],
          "contour": [
           {
            "colorbar": {
             "outlinewidth": 0,
             "ticks": ""
            },
            "colorscale": [
             [
              0,
              "#0d0887"
             ],
             [
              0.1111111111111111,
              "#46039f"
             ],
             [
              0.2222222222222222,
              "#7201a8"
             ],
             [
              0.3333333333333333,
              "#9c179e"
             ],
             [
              0.4444444444444444,
              "#bd3786"
             ],
             [
              0.5555555555555556,
              "#d8576b"
             ],
             [
              0.6666666666666666,
              "#ed7953"
             ],
             [
              0.7777777777777778,
              "#fb9f3a"
             ],
             [
              0.8888888888888888,
              "#fdca26"
             ],
             [
              1,
              "#f0f921"
             ]
            ],
            "type": "contour"
           }
          ],
          "contourcarpet": [
           {
            "colorbar": {
             "outlinewidth": 0,
             "ticks": ""
            },
            "type": "contourcarpet"
           }
          ],
          "heatmap": [
           {
            "colorbar": {
             "outlinewidth": 0,
             "ticks": ""
            },
            "colorscale": [
             [
              0,
              "#0d0887"
             ],
             [
              0.1111111111111111,
              "#46039f"
             ],
             [
              0.2222222222222222,
              "#7201a8"
             ],
             [
              0.3333333333333333,
              "#9c179e"
             ],
             [
              0.4444444444444444,
              "#bd3786"
             ],
             [
              0.5555555555555556,
              "#d8576b"
             ],
             [
              0.6666666666666666,
              "#ed7953"
             ],
             [
              0.7777777777777778,
              "#fb9f3a"
             ],
             [
              0.8888888888888888,
              "#fdca26"
             ],
             [
              1,
              "#f0f921"
             ]
            ],
            "type": "heatmap"
           }
          ],
          "heatmapgl": [
           {
            "colorbar": {
             "outlinewidth": 0,
             "ticks": ""
            },
            "colorscale": [
             [
              0,
              "#0d0887"
             ],
             [
              0.1111111111111111,
              "#46039f"
             ],
             [
              0.2222222222222222,
              "#7201a8"
             ],
             [
              0.3333333333333333,
              "#9c179e"
             ],
             [
              0.4444444444444444,
              "#bd3786"
             ],
             [
              0.5555555555555556,
              "#d8576b"
             ],
             [
              0.6666666666666666,
              "#ed7953"
             ],
             [
              0.7777777777777778,
              "#fb9f3a"
             ],
             [
              0.8888888888888888,
              "#fdca26"
             ],
             [
              1,
              "#f0f921"
             ]
            ],
            "type": "heatmapgl"
           }
          ],
          "histogram": [
           {
            "marker": {
             "pattern": {
              "fillmode": "overlay",
              "size": 10,
              "solidity": 0.2
             }
            },
            "type": "histogram"
           }
          ],
          "histogram2d": [
           {
            "colorbar": {
             "outlinewidth": 0,
             "ticks": ""
            },
            "colorscale": [
             [
              0,
              "#0d0887"
             ],
             [
              0.1111111111111111,
              "#46039f"
             ],
             [
              0.2222222222222222,
              "#7201a8"
             ],
             [
              0.3333333333333333,
              "#9c179e"
             ],
             [
              0.4444444444444444,
              "#bd3786"
             ],
             [
              0.5555555555555556,
              "#d8576b"
             ],
             [
              0.6666666666666666,
              "#ed7953"
             ],
             [
              0.7777777777777778,
              "#fb9f3a"
             ],
             [
              0.8888888888888888,
              "#fdca26"
             ],
             [
              1,
              "#f0f921"
             ]
            ],
            "type": "histogram2d"
           }
          ],
          "histogram2dcontour": [
           {
            "colorbar": {
             "outlinewidth": 0,
             "ticks": ""
            },
            "colorscale": [
             [
              0,
              "#0d0887"
             ],
             [
              0.1111111111111111,
              "#46039f"
             ],
             [
              0.2222222222222222,
              "#7201a8"
             ],
             [
              0.3333333333333333,
              "#9c179e"
             ],
             [
              0.4444444444444444,
              "#bd3786"
             ],
             [
              0.5555555555555556,
              "#d8576b"
             ],
             [
              0.6666666666666666,
              "#ed7953"
             ],
             [
              0.7777777777777778,
              "#fb9f3a"
             ],
             [
              0.8888888888888888,
              "#fdca26"
             ],
             [
              1,
              "#f0f921"
             ]
            ],
            "type": "histogram2dcontour"
           }
          ],
          "mesh3d": [
           {
            "colorbar": {
             "outlinewidth": 0,
             "ticks": ""
            },
            "type": "mesh3d"
           }
          ],
          "parcoords": [
           {
            "line": {
             "colorbar": {
              "outlinewidth": 0,
              "ticks": ""
             }
            },
            "type": "parcoords"
           }
          ],
          "pie": [
           {
            "automargin": true,
            "type": "pie"
           }
          ],
          "scatter": [
           {
            "fillpattern": {
             "fillmode": "overlay",
             "size": 10,
             "solidity": 0.2
            },
            "type": "scatter"
           }
          ],
          "scatter3d": [
           {
            "line": {
             "colorbar": {
              "outlinewidth": 0,
              "ticks": ""
             }
            },
            "marker": {
             "colorbar": {
              "outlinewidth": 0,
              "ticks": ""
             }
            },
            "type": "scatter3d"
           }
          ],
          "scattercarpet": [
           {
            "marker": {
             "colorbar": {
              "outlinewidth": 0,
              "ticks": ""
             }
            },
            "type": "scattercarpet"
           }
          ],
          "scattergeo": [
           {
            "marker": {
             "colorbar": {
              "outlinewidth": 0,
              "ticks": ""
             }
            },
            "type": "scattergeo"
           }
          ],
          "scattergl": [
           {
            "marker": {
             "colorbar": {
              "outlinewidth": 0,
              "ticks": ""
             }
            },
            "type": "scattergl"
           }
          ],
          "scattermapbox": [
           {
            "marker": {
             "colorbar": {
              "outlinewidth": 0,
              "ticks": ""
             }
            },
            "type": "scattermapbox"
           }
          ],
          "scatterpolar": [
           {
            "marker": {
             "colorbar": {
              "outlinewidth": 0,
              "ticks": ""
             }
            },
            "type": "scatterpolar"
           }
          ],
          "scatterpolargl": [
           {
            "marker": {
             "colorbar": {
              "outlinewidth": 0,
              "ticks": ""
             }
            },
            "type": "scatterpolargl"
           }
          ],
          "scatterternary": [
           {
            "marker": {
             "colorbar": {
              "outlinewidth": 0,
              "ticks": ""
             }
            },
            "type": "scatterternary"
           }
          ],
          "surface": [
           {
            "colorbar": {
             "outlinewidth": 0,
             "ticks": ""
            },
            "colorscale": [
             [
              0,
              "#0d0887"
             ],
             [
              0.1111111111111111,
              "#46039f"
             ],
             [
              0.2222222222222222,
              "#7201a8"
             ],
             [
              0.3333333333333333,
              "#9c179e"
             ],
             [
              0.4444444444444444,
              "#bd3786"
             ],
             [
              0.5555555555555556,
              "#d8576b"
             ],
             [
              0.6666666666666666,
              "#ed7953"
             ],
             [
              0.7777777777777778,
              "#fb9f3a"
             ],
             [
              0.8888888888888888,
              "#fdca26"
             ],
             [
              1,
              "#f0f921"
             ]
            ],
            "type": "surface"
           }
          ],
          "table": [
           {
            "cells": {
             "fill": {
              "color": "#EBF0F8"
             },
             "line": {
              "color": "white"
             }
            },
            "header": {
             "fill": {
              "color": "#C8D4E3"
             },
             "line": {
              "color": "white"
             }
            },
            "type": "table"
           }
          ]
         },
         "layout": {
          "annotationdefaults": {
           "arrowcolor": "#2a3f5f",
           "arrowhead": 0,
           "arrowwidth": 1
          },
          "autotypenumbers": "strict",
          "coloraxis": {
           "colorbar": {
            "outlinewidth": 0,
            "ticks": ""
           }
          },
          "colorscale": {
           "diverging": [
            [
             0,
             "#8e0152"
            ],
            [
             0.1,
             "#c51b7d"
            ],
            [
             0.2,
             "#de77ae"
            ],
            [
             0.3,
             "#f1b6da"
            ],
            [
             0.4,
             "#fde0ef"
            ],
            [
             0.5,
             "#f7f7f7"
            ],
            [
             0.6,
             "#e6f5d0"
            ],
            [
             0.7,
             "#b8e186"
            ],
            [
             0.8,
             "#7fbc41"
            ],
            [
             0.9,
             "#4d9221"
            ],
            [
             1,
             "#276419"
            ]
           ],
           "sequential": [
            [
             0,
             "#0d0887"
            ],
            [
             0.1111111111111111,
             "#46039f"
            ],
            [
             0.2222222222222222,
             "#7201a8"
            ],
            [
             0.3333333333333333,
             "#9c179e"
            ],
            [
             0.4444444444444444,
             "#bd3786"
            ],
            [
             0.5555555555555556,
             "#d8576b"
            ],
            [
             0.6666666666666666,
             "#ed7953"
            ],
            [
             0.7777777777777778,
             "#fb9f3a"
            ],
            [
             0.8888888888888888,
             "#fdca26"
            ],
            [
             1,
             "#f0f921"
            ]
           ],
           "sequentialminus": [
            [
             0,
             "#0d0887"
            ],
            [
             0.1111111111111111,
             "#46039f"
            ],
            [
             0.2222222222222222,
             "#7201a8"
            ],
            [
             0.3333333333333333,
             "#9c179e"
            ],
            [
             0.4444444444444444,
             "#bd3786"
            ],
            [
             0.5555555555555556,
             "#d8576b"
            ],
            [
             0.6666666666666666,
             "#ed7953"
            ],
            [
             0.7777777777777778,
             "#fb9f3a"
            ],
            [
             0.8888888888888888,
             "#fdca26"
            ],
            [
             1,
             "#f0f921"
            ]
           ]
          },
          "colorway": [
           "#636efa",
           "#EF553B",
           "#00cc96",
           "#ab63fa",
           "#FFA15A",
           "#19d3f3",
           "#FF6692",
           "#B6E880",
           "#FF97FF",
           "#FECB52"
          ],
          "font": {
           "color": "#2a3f5f"
          },
          "geo": {
           "bgcolor": "white",
           "lakecolor": "white",
           "landcolor": "#E5ECF6",
           "showlakes": true,
           "showland": true,
           "subunitcolor": "white"
          },
          "hoverlabel": {
           "align": "left"
          },
          "hovermode": "closest",
          "mapbox": {
           "style": "light"
          },
          "paper_bgcolor": "white",
          "plot_bgcolor": "#E5ECF6",
          "polar": {
           "angularaxis": {
            "gridcolor": "white",
            "linecolor": "white",
            "ticks": ""
           },
           "bgcolor": "#E5ECF6",
           "radialaxis": {
            "gridcolor": "white",
            "linecolor": "white",
            "ticks": ""
           }
          },
          "scene": {
           "xaxis": {
            "backgroundcolor": "#E5ECF6",
            "gridcolor": "white",
            "gridwidth": 2,
            "linecolor": "white",
            "showbackground": true,
            "ticks": "",
            "zerolinecolor": "white"
           },
           "yaxis": {
            "backgroundcolor": "#E5ECF6",
            "gridcolor": "white",
            "gridwidth": 2,
            "linecolor": "white",
            "showbackground": true,
            "ticks": "",
            "zerolinecolor": "white"
           },
           "zaxis": {
            "backgroundcolor": "#E5ECF6",
            "gridcolor": "white",
            "gridwidth": 2,
            "linecolor": "white",
            "showbackground": true,
            "ticks": "",
            "zerolinecolor": "white"
           }
          },
          "shapedefaults": {
           "line": {
            "color": "#2a3f5f"
           }
          },
          "ternary": {
           "aaxis": {
            "gridcolor": "white",
            "linecolor": "white",
            "ticks": ""
           },
           "baxis": {
            "gridcolor": "white",
            "linecolor": "white",
            "ticks": ""
           },
           "bgcolor": "#E5ECF6",
           "caxis": {
            "gridcolor": "white",
            "linecolor": "white",
            "ticks": ""
           }
          },
          "title": {
           "x": 0.05
          },
          "xaxis": {
           "automargin": true,
           "gridcolor": "white",
           "linecolor": "white",
           "ticks": "",
           "title": {
            "standoff": 15
           },
           "zerolinecolor": "white",
           "zerolinewidth": 2
          },
          "yaxis": {
           "automargin": true,
           "gridcolor": "white",
           "linecolor": "white",
           "ticks": "",
           "title": {
            "standoff": 15
           },
           "zerolinecolor": "white",
           "zerolinewidth": 2
          }
         }
        },
        "xaxis": {
         "anchor": "y",
         "domain": [
          0,
          1
         ],
         "title": {
          "text": "Economy (GDP per Capita)"
         }
        },
        "yaxis": {
         "anchor": "x",
         "domain": [
          0,
          1
         ],
         "title": {
          "text": "Happiness Score"
         }
        }
       }
      }
     },
     "metadata": {},
     "output_type": "display_data"
    }
   ],
   "source": [
    "# “¿Cuánto ‘compra’ la felicidad el dinero?”\n",
    "# Haz un scatter plot entre Economy (GDP per Capita) y Happiness Score con línea de tendencia. \n",
    "# Cuenta si el retorno marginal parece decreciente y destaca un outlier.\n",
    "\n",
    "fig1 = px.scatter(df ,x='Economy (GDP per Capita)', y='Happiness Score', color='Region', trendline='ols')\n",
    "fig1.show()\n"
   ]
  },
  {
   "cell_type": "markdown",
   "id": "8231d4d1",
   "metadata": {},
   "source": [
    "Analizando el grafico podemos decir que para la mayoria de paises el dinero influye en la felicidad de manera directa, sin embargo, en la región de Norte America hay una excepción dado que los datos muestran que a mayor Economy menor Happiness Score por lo que esta regón es un outlier con repsecto a las otras tendencias."
   ]
  },
  {
   "cell_type": "code",
   "execution_count": 14,
   "id": "246b8673",
   "metadata": {},
   "outputs": [
    {
     "data": {
      "application/vnd.plotly.v1+json": {
       "config": {
        "plotlyServerURL": "https://plot.ly"
       },
       "data": [
        {
         "hovertemplate": "Country=%{x}<br>Happiness Score=%{y}<extra></extra>",
         "legendgroup": "",
         "line": {
          "color": "#636efa",
          "dash": "solid"
         },
         "marker": {
          "symbol": "circle"
         },
         "mode": "lines",
         "name": "",
         "orientation": "v",
         "showlegend": false,
         "type": "scatter",
         "x": [
          "Switzerland",
          "Iceland",
          "Denmark",
          "Norway",
          "Canada",
          "Finland",
          "Netherlands",
          "Sweden",
          "New Zealand",
          "Australia"
         ],
         "xaxis": "x",
         "y": [
          7.587,
          7.561,
          7.527,
          7.522,
          7.427,
          7.406,
          7.378,
          7.364,
          7.286,
          7.284
         ],
         "yaxis": "y"
        }
       ],
       "layout": {
        "legend": {
         "tracegroupgap": 0
        },
        "margin": {
         "t": 60
        },
        "template": {
         "data": {
          "bar": [
           {
            "error_x": {
             "color": "#2a3f5f"
            },
            "error_y": {
             "color": "#2a3f5f"
            },
            "marker": {
             "line": {
              "color": "#E5ECF6",
              "width": 0.5
             },
             "pattern": {
              "fillmode": "overlay",
              "size": 10,
              "solidity": 0.2
             }
            },
            "type": "bar"
           }
          ],
          "barpolar": [
           {
            "marker": {
             "line": {
              "color": "#E5ECF6",
              "width": 0.5
             },
             "pattern": {
              "fillmode": "overlay",
              "size": 10,
              "solidity": 0.2
             }
            },
            "type": "barpolar"
           }
          ],
          "carpet": [
           {
            "aaxis": {
             "endlinecolor": "#2a3f5f",
             "gridcolor": "white",
             "linecolor": "white",
             "minorgridcolor": "white",
             "startlinecolor": "#2a3f5f"
            },
            "baxis": {
             "endlinecolor": "#2a3f5f",
             "gridcolor": "white",
             "linecolor": "white",
             "minorgridcolor": "white",
             "startlinecolor": "#2a3f5f"
            },
            "type": "carpet"
           }
          ],
          "choropleth": [
           {
            "colorbar": {
             "outlinewidth": 0,
             "ticks": ""
            },
            "type": "choropleth"
           }
          ],
          "contour": [
           {
            "colorbar": {
             "outlinewidth": 0,
             "ticks": ""
            },
            "colorscale": [
             [
              0,
              "#0d0887"
             ],
             [
              0.1111111111111111,
              "#46039f"
             ],
             [
              0.2222222222222222,
              "#7201a8"
             ],
             [
              0.3333333333333333,
              "#9c179e"
             ],
             [
              0.4444444444444444,
              "#bd3786"
             ],
             [
              0.5555555555555556,
              "#d8576b"
             ],
             [
              0.6666666666666666,
              "#ed7953"
             ],
             [
              0.7777777777777778,
              "#fb9f3a"
             ],
             [
              0.8888888888888888,
              "#fdca26"
             ],
             [
              1,
              "#f0f921"
             ]
            ],
            "type": "contour"
           }
          ],
          "contourcarpet": [
           {
            "colorbar": {
             "outlinewidth": 0,
             "ticks": ""
            },
            "type": "contourcarpet"
           }
          ],
          "heatmap": [
           {
            "colorbar": {
             "outlinewidth": 0,
             "ticks": ""
            },
            "colorscale": [
             [
              0,
              "#0d0887"
             ],
             [
              0.1111111111111111,
              "#46039f"
             ],
             [
              0.2222222222222222,
              "#7201a8"
             ],
             [
              0.3333333333333333,
              "#9c179e"
             ],
             [
              0.4444444444444444,
              "#bd3786"
             ],
             [
              0.5555555555555556,
              "#d8576b"
             ],
             [
              0.6666666666666666,
              "#ed7953"
             ],
             [
              0.7777777777777778,
              "#fb9f3a"
             ],
             [
              0.8888888888888888,
              "#fdca26"
             ],
             [
              1,
              "#f0f921"
             ]
            ],
            "type": "heatmap"
           }
          ],
          "heatmapgl": [
           {
            "colorbar": {
             "outlinewidth": 0,
             "ticks": ""
            },
            "colorscale": [
             [
              0,
              "#0d0887"
             ],
             [
              0.1111111111111111,
              "#46039f"
             ],
             [
              0.2222222222222222,
              "#7201a8"
             ],
             [
              0.3333333333333333,
              "#9c179e"
             ],
             [
              0.4444444444444444,
              "#bd3786"
             ],
             [
              0.5555555555555556,
              "#d8576b"
             ],
             [
              0.6666666666666666,
              "#ed7953"
             ],
             [
              0.7777777777777778,
              "#fb9f3a"
             ],
             [
              0.8888888888888888,
              "#fdca26"
             ],
             [
              1,
              "#f0f921"
             ]
            ],
            "type": "heatmapgl"
           }
          ],
          "histogram": [
           {
            "marker": {
             "pattern": {
              "fillmode": "overlay",
              "size": 10,
              "solidity": 0.2
             }
            },
            "type": "histogram"
           }
          ],
          "histogram2d": [
           {
            "colorbar": {
             "outlinewidth": 0,
             "ticks": ""
            },
            "colorscale": [
             [
              0,
              "#0d0887"
             ],
             [
              0.1111111111111111,
              "#46039f"
             ],
             [
              0.2222222222222222,
              "#7201a8"
             ],
             [
              0.3333333333333333,
              "#9c179e"
             ],
             [
              0.4444444444444444,
              "#bd3786"
             ],
             [
              0.5555555555555556,
              "#d8576b"
             ],
             [
              0.6666666666666666,
              "#ed7953"
             ],
             [
              0.7777777777777778,
              "#fb9f3a"
             ],
             [
              0.8888888888888888,
              "#fdca26"
             ],
             [
              1,
              "#f0f921"
             ]
            ],
            "type": "histogram2d"
           }
          ],
          "histogram2dcontour": [
           {
            "colorbar": {
             "outlinewidth": 0,
             "ticks": ""
            },
            "colorscale": [
             [
              0,
              "#0d0887"
             ],
             [
              0.1111111111111111,
              "#46039f"
             ],
             [
              0.2222222222222222,
              "#7201a8"
             ],
             [
              0.3333333333333333,
              "#9c179e"
             ],
             [
              0.4444444444444444,
              "#bd3786"
             ],
             [
              0.5555555555555556,
              "#d8576b"
             ],
             [
              0.6666666666666666,
              "#ed7953"
             ],
             [
              0.7777777777777778,
              "#fb9f3a"
             ],
             [
              0.8888888888888888,
              "#fdca26"
             ],
             [
              1,
              "#f0f921"
             ]
            ],
            "type": "histogram2dcontour"
           }
          ],
          "mesh3d": [
           {
            "colorbar": {
             "outlinewidth": 0,
             "ticks": ""
            },
            "type": "mesh3d"
           }
          ],
          "parcoords": [
           {
            "line": {
             "colorbar": {
              "outlinewidth": 0,
              "ticks": ""
             }
            },
            "type": "parcoords"
           }
          ],
          "pie": [
           {
            "automargin": true,
            "type": "pie"
           }
          ],
          "scatter": [
           {
            "fillpattern": {
             "fillmode": "overlay",
             "size": 10,
             "solidity": 0.2
            },
            "type": "scatter"
           }
          ],
          "scatter3d": [
           {
            "line": {
             "colorbar": {
              "outlinewidth": 0,
              "ticks": ""
             }
            },
            "marker": {
             "colorbar": {
              "outlinewidth": 0,
              "ticks": ""
             }
            },
            "type": "scatter3d"
           }
          ],
          "scattercarpet": [
           {
            "marker": {
             "colorbar": {
              "outlinewidth": 0,
              "ticks": ""
             }
            },
            "type": "scattercarpet"
           }
          ],
          "scattergeo": [
           {
            "marker": {
             "colorbar": {
              "outlinewidth": 0,
              "ticks": ""
             }
            },
            "type": "scattergeo"
           }
          ],
          "scattergl": [
           {
            "marker": {
             "colorbar": {
              "outlinewidth": 0,
              "ticks": ""
             }
            },
            "type": "scattergl"
           }
          ],
          "scattermapbox": [
           {
            "marker": {
             "colorbar": {
              "outlinewidth": 0,
              "ticks": ""
             }
            },
            "type": "scattermapbox"
           }
          ],
          "scatterpolar": [
           {
            "marker": {
             "colorbar": {
              "outlinewidth": 0,
              "ticks": ""
             }
            },
            "type": "scatterpolar"
           }
          ],
          "scatterpolargl": [
           {
            "marker": {
             "colorbar": {
              "outlinewidth": 0,
              "ticks": ""
             }
            },
            "type": "scatterpolargl"
           }
          ],
          "scatterternary": [
           {
            "marker": {
             "colorbar": {
              "outlinewidth": 0,
              "ticks": ""
             }
            },
            "type": "scatterternary"
           }
          ],
          "surface": [
           {
            "colorbar": {
             "outlinewidth": 0,
             "ticks": ""
            },
            "colorscale": [
             [
              0,
              "#0d0887"
             ],
             [
              0.1111111111111111,
              "#46039f"
             ],
             [
              0.2222222222222222,
              "#7201a8"
             ],
             [
              0.3333333333333333,
              "#9c179e"
             ],
             [
              0.4444444444444444,
              "#bd3786"
             ],
             [
              0.5555555555555556,
              "#d8576b"
             ],
             [
              0.6666666666666666,
              "#ed7953"
             ],
             [
              0.7777777777777778,
              "#fb9f3a"
             ],
             [
              0.8888888888888888,
              "#fdca26"
             ],
             [
              1,
              "#f0f921"
             ]
            ],
            "type": "surface"
           }
          ],
          "table": [
           {
            "cells": {
             "fill": {
              "color": "#EBF0F8"
             },
             "line": {
              "color": "white"
             }
            },
            "header": {
             "fill": {
              "color": "#C8D4E3"
             },
             "line": {
              "color": "white"
             }
            },
            "type": "table"
           }
          ]
         },
         "layout": {
          "annotationdefaults": {
           "arrowcolor": "#2a3f5f",
           "arrowhead": 0,
           "arrowwidth": 1
          },
          "autotypenumbers": "strict",
          "coloraxis": {
           "colorbar": {
            "outlinewidth": 0,
            "ticks": ""
           }
          },
          "colorscale": {
           "diverging": [
            [
             0,
             "#8e0152"
            ],
            [
             0.1,
             "#c51b7d"
            ],
            [
             0.2,
             "#de77ae"
            ],
            [
             0.3,
             "#f1b6da"
            ],
            [
             0.4,
             "#fde0ef"
            ],
            [
             0.5,
             "#f7f7f7"
            ],
            [
             0.6,
             "#e6f5d0"
            ],
            [
             0.7,
             "#b8e186"
            ],
            [
             0.8,
             "#7fbc41"
            ],
            [
             0.9,
             "#4d9221"
            ],
            [
             1,
             "#276419"
            ]
           ],
           "sequential": [
            [
             0,
             "#0d0887"
            ],
            [
             0.1111111111111111,
             "#46039f"
            ],
            [
             0.2222222222222222,
             "#7201a8"
            ],
            [
             0.3333333333333333,
             "#9c179e"
            ],
            [
             0.4444444444444444,
             "#bd3786"
            ],
            [
             0.5555555555555556,
             "#d8576b"
            ],
            [
             0.6666666666666666,
             "#ed7953"
            ],
            [
             0.7777777777777778,
             "#fb9f3a"
            ],
            [
             0.8888888888888888,
             "#fdca26"
            ],
            [
             1,
             "#f0f921"
            ]
           ],
           "sequentialminus": [
            [
             0,
             "#0d0887"
            ],
            [
             0.1111111111111111,
             "#46039f"
            ],
            [
             0.2222222222222222,
             "#7201a8"
            ],
            [
             0.3333333333333333,
             "#9c179e"
            ],
            [
             0.4444444444444444,
             "#bd3786"
            ],
            [
             0.5555555555555556,
             "#d8576b"
            ],
            [
             0.6666666666666666,
             "#ed7953"
            ],
            [
             0.7777777777777778,
             "#fb9f3a"
            ],
            [
             0.8888888888888888,
             "#fdca26"
            ],
            [
             1,
             "#f0f921"
            ]
           ]
          },
          "colorway": [
           "#636efa",
           "#EF553B",
           "#00cc96",
           "#ab63fa",
           "#FFA15A",
           "#19d3f3",
           "#FF6692",
           "#B6E880",
           "#FF97FF",
           "#FECB52"
          ],
          "font": {
           "color": "#2a3f5f"
          },
          "geo": {
           "bgcolor": "white",
           "lakecolor": "white",
           "landcolor": "#E5ECF6",
           "showlakes": true,
           "showland": true,
           "subunitcolor": "white"
          },
          "hoverlabel": {
           "align": "left"
          },
          "hovermode": "closest",
          "mapbox": {
           "style": "light"
          },
          "paper_bgcolor": "white",
          "plot_bgcolor": "#E5ECF6",
          "polar": {
           "angularaxis": {
            "gridcolor": "white",
            "linecolor": "white",
            "ticks": ""
           },
           "bgcolor": "#E5ECF6",
           "radialaxis": {
            "gridcolor": "white",
            "linecolor": "white",
            "ticks": ""
           }
          },
          "scene": {
           "xaxis": {
            "backgroundcolor": "#E5ECF6",
            "gridcolor": "white",
            "gridwidth": 2,
            "linecolor": "white",
            "showbackground": true,
            "ticks": "",
            "zerolinecolor": "white"
           },
           "yaxis": {
            "backgroundcolor": "#E5ECF6",
            "gridcolor": "white",
            "gridwidth": 2,
            "linecolor": "white",
            "showbackground": true,
            "ticks": "",
            "zerolinecolor": "white"
           },
           "zaxis": {
            "backgroundcolor": "#E5ECF6",
            "gridcolor": "white",
            "gridwidth": 2,
            "linecolor": "white",
            "showbackground": true,
            "ticks": "",
            "zerolinecolor": "white"
           }
          },
          "shapedefaults": {
           "line": {
            "color": "#2a3f5f"
           }
          },
          "ternary": {
           "aaxis": {
            "gridcolor": "white",
            "linecolor": "white",
            "ticks": ""
           },
           "baxis": {
            "gridcolor": "white",
            "linecolor": "white",
            "ticks": ""
           },
           "bgcolor": "#E5ECF6",
           "caxis": {
            "gridcolor": "white",
            "linecolor": "white",
            "ticks": ""
           }
          },
          "title": {
           "x": 0.05
          },
          "xaxis": {
           "automargin": true,
           "gridcolor": "white",
           "linecolor": "white",
           "ticks": "",
           "title": {
            "standoff": 15
           },
           "zerolinecolor": "white",
           "zerolinewidth": 2
          },
          "yaxis": {
           "automargin": true,
           "gridcolor": "white",
           "linecolor": "white",
           "ticks": "",
           "title": {
            "standoff": 15
           },
           "zerolinecolor": "white",
           "zerolinewidth": 2
          }
         }
        },
        "xaxis": {
         "anchor": "y",
         "domain": [
          0,
          1
         ],
         "title": {
          "text": "Country"
         }
        },
        "yaxis": {
         "anchor": "x",
         "domain": [
          0,
          1
         ],
         "title": {
          "text": "Happiness Score"
         }
        }
       }
      }
     },
     "metadata": {},
     "output_type": "display_data"
    }
   ],
   "source": [
    "# “Top 10: ¿liderazgo estable o frágil?”\n",
    "# Muestra el Top-10 países con mejor Happiness Rank en un gráfico de líneas ordenado. \n",
    "# Narra si hay “brechas de oro” entre los primeros tres y el resto\n",
    "\n",
    "fig2 = px.line(df.head(10), x='Country', y='Happiness Score')\n",
    "fig2.show()"
   ]
  },
  {
   "cell_type": "markdown",
   "id": "f58f47cd",
   "metadata": {},
   "source": [
    "El grafico muestra que el liderazgo del top 3 es estable, ya que sus puntajes de felicidad son practicamente iguales, alrededor de 7.5 y 7.6. Se observa una brecha de oro con respecto al resto, quizas no tan marcada pero si a una ligera distancia que los diferencia esta se ubica entre Noruega y Canadá. A partir del cuarto lugar los niveles siguen altos aunque con un liderazgo mas frágil en comparación con los primeros 3."
   ]
  },
  {
   "cell_type": "code",
   "execution_count": 4,
   "id": "34d03d2b",
   "metadata": {},
   "outputs": [
    {
     "data": {
      "application/vnd.plotly.v1+json": {
       "config": {
        "plotlyServerURL": "https://plot.ly"
       },
       "data": [
        {
         "error_y": {
          "array": {
           "bdata": "8Tn/P6QrVz8bcPeSF0HiP+l70Q3NuuE/1N0xLF1Q5z8aRS2hQp/xP0MO/5yB4Ms/d4YxppBm7j/urjHFwEHiP+MebON9geM/wmPfX/li6j8=",
           "dtype": "f8"
          }
         },
         "hovertemplate": "Region=%{x}<br>Happiness Score=%{y}<extra></extra>",
         "legendgroup": "",
         "marker": {
          "color": "#d4c600",
          "pattern": {
           "shape": ""
          }
         },
         "name": "",
         "orientation": "v",
         "showlegend": false,
         "textposition": "auto",
         "type": "bar",
         "x": [
          "Australia and New Zealand",
          "Central and Eastern Europe",
          "Eastern Asia",
          "Latin America and Caribbean",
          "Middle East and Northern Africa",
          "North America",
          "Southeastern Asia",
          "Southern Asia",
          "Sub-Saharan Africa",
          "Western Europe"
         ],
         "xaxis": "x",
         "y": {
          "bdata": "pHA9CtcjHUAktYPf61QVQPS2rNUxgRZAuqp1eCeUGEA3+MJkqqAVQGQ730+NFx1APL4MKBBFFUCy4AA3zFISQOSDns2qzxBA0ePgfivCGkA=",
          "dtype": "f8"
         },
         "yaxis": "y"
        }
       ],
       "layout": {
        "barmode": "relative",
        "legend": {
         "tracegroupgap": 0
        },
        "margin": {
         "t": 60
        },
        "template": {
         "data": {
          "bar": [
           {
            "error_x": {
             "color": "#2a3f5f"
            },
            "error_y": {
             "color": "#2a3f5f"
            },
            "marker": {
             "line": {
              "color": "#E5ECF6",
              "width": 0.5
             },
             "pattern": {
              "fillmode": "overlay",
              "size": 10,
              "solidity": 0.2
             }
            },
            "type": "bar"
           }
          ],
          "barpolar": [
           {
            "marker": {
             "line": {
              "color": "#E5ECF6",
              "width": 0.5
             },
             "pattern": {
              "fillmode": "overlay",
              "size": 10,
              "solidity": 0.2
             }
            },
            "type": "barpolar"
           }
          ],
          "carpet": [
           {
            "aaxis": {
             "endlinecolor": "#2a3f5f",
             "gridcolor": "white",
             "linecolor": "white",
             "minorgridcolor": "white",
             "startlinecolor": "#2a3f5f"
            },
            "baxis": {
             "endlinecolor": "#2a3f5f",
             "gridcolor": "white",
             "linecolor": "white",
             "minorgridcolor": "white",
             "startlinecolor": "#2a3f5f"
            },
            "type": "carpet"
           }
          ],
          "choropleth": [
           {
            "colorbar": {
             "outlinewidth": 0,
             "ticks": ""
            },
            "type": "choropleth"
           }
          ],
          "contour": [
           {
            "colorbar": {
             "outlinewidth": 0,
             "ticks": ""
            },
            "colorscale": [
             [
              0,
              "#0d0887"
             ],
             [
              0.1111111111111111,
              "#46039f"
             ],
             [
              0.2222222222222222,
              "#7201a8"
             ],
             [
              0.3333333333333333,
              "#9c179e"
             ],
             [
              0.4444444444444444,
              "#bd3786"
             ],
             [
              0.5555555555555556,
              "#d8576b"
             ],
             [
              0.6666666666666666,
              "#ed7953"
             ],
             [
              0.7777777777777778,
              "#fb9f3a"
             ],
             [
              0.8888888888888888,
              "#fdca26"
             ],
             [
              1,
              "#f0f921"
             ]
            ],
            "type": "contour"
           }
          ],
          "contourcarpet": [
           {
            "colorbar": {
             "outlinewidth": 0,
             "ticks": ""
            },
            "type": "contourcarpet"
           }
          ],
          "heatmap": [
           {
            "colorbar": {
             "outlinewidth": 0,
             "ticks": ""
            },
            "colorscale": [
             [
              0,
              "#0d0887"
             ],
             [
              0.1111111111111111,
              "#46039f"
             ],
             [
              0.2222222222222222,
              "#7201a8"
             ],
             [
              0.3333333333333333,
              "#9c179e"
             ],
             [
              0.4444444444444444,
              "#bd3786"
             ],
             [
              0.5555555555555556,
              "#d8576b"
             ],
             [
              0.6666666666666666,
              "#ed7953"
             ],
             [
              0.7777777777777778,
              "#fb9f3a"
             ],
             [
              0.8888888888888888,
              "#fdca26"
             ],
             [
              1,
              "#f0f921"
             ]
            ],
            "type": "heatmap"
           }
          ],
          "histogram": [
           {
            "marker": {
             "pattern": {
              "fillmode": "overlay",
              "size": 10,
              "solidity": 0.2
             }
            },
            "type": "histogram"
           }
          ],
          "histogram2d": [
           {
            "colorbar": {
             "outlinewidth": 0,
             "ticks": ""
            },
            "colorscale": [
             [
              0,
              "#0d0887"
             ],
             [
              0.1111111111111111,
              "#46039f"
             ],
             [
              0.2222222222222222,
              "#7201a8"
             ],
             [
              0.3333333333333333,
              "#9c179e"
             ],
             [
              0.4444444444444444,
              "#bd3786"
             ],
             [
              0.5555555555555556,
              "#d8576b"
             ],
             [
              0.6666666666666666,
              "#ed7953"
             ],
             [
              0.7777777777777778,
              "#fb9f3a"
             ],
             [
              0.8888888888888888,
              "#fdca26"
             ],
             [
              1,
              "#f0f921"
             ]
            ],
            "type": "histogram2d"
           }
          ],
          "histogram2dcontour": [
           {
            "colorbar": {
             "outlinewidth": 0,
             "ticks": ""
            },
            "colorscale": [
             [
              0,
              "#0d0887"
             ],
             [
              0.1111111111111111,
              "#46039f"
             ],
             [
              0.2222222222222222,
              "#7201a8"
             ],
             [
              0.3333333333333333,
              "#9c179e"
             ],
             [
              0.4444444444444444,
              "#bd3786"
             ],
             [
              0.5555555555555556,
              "#d8576b"
             ],
             [
              0.6666666666666666,
              "#ed7953"
             ],
             [
              0.7777777777777778,
              "#fb9f3a"
             ],
             [
              0.8888888888888888,
              "#fdca26"
             ],
             [
              1,
              "#f0f921"
             ]
            ],
            "type": "histogram2dcontour"
           }
          ],
          "mesh3d": [
           {
            "colorbar": {
             "outlinewidth": 0,
             "ticks": ""
            },
            "type": "mesh3d"
           }
          ],
          "parcoords": [
           {
            "line": {
             "colorbar": {
              "outlinewidth": 0,
              "ticks": ""
             }
            },
            "type": "parcoords"
           }
          ],
          "pie": [
           {
            "automargin": true,
            "type": "pie"
           }
          ],
          "scatter": [
           {
            "fillpattern": {
             "fillmode": "overlay",
             "size": 10,
             "solidity": 0.2
            },
            "type": "scatter"
           }
          ],
          "scatter3d": [
           {
            "line": {
             "colorbar": {
              "outlinewidth": 0,
              "ticks": ""
             }
            },
            "marker": {
             "colorbar": {
              "outlinewidth": 0,
              "ticks": ""
             }
            },
            "type": "scatter3d"
           }
          ],
          "scattercarpet": [
           {
            "marker": {
             "colorbar": {
              "outlinewidth": 0,
              "ticks": ""
             }
            },
            "type": "scattercarpet"
           }
          ],
          "scattergeo": [
           {
            "marker": {
             "colorbar": {
              "outlinewidth": 0,
              "ticks": ""
             }
            },
            "type": "scattergeo"
           }
          ],
          "scattergl": [
           {
            "marker": {
             "colorbar": {
              "outlinewidth": 0,
              "ticks": ""
             }
            },
            "type": "scattergl"
           }
          ],
          "scattermap": [
           {
            "marker": {
             "colorbar": {
              "outlinewidth": 0,
              "ticks": ""
             }
            },
            "type": "scattermap"
           }
          ],
          "scattermapbox": [
           {
            "marker": {
             "colorbar": {
              "outlinewidth": 0,
              "ticks": ""
             }
            },
            "type": "scattermapbox"
           }
          ],
          "scatterpolar": [
           {
            "marker": {
             "colorbar": {
              "outlinewidth": 0,
              "ticks": ""
             }
            },
            "type": "scatterpolar"
           }
          ],
          "scatterpolargl": [
           {
            "marker": {
             "colorbar": {
              "outlinewidth": 0,
              "ticks": ""
             }
            },
            "type": "scatterpolargl"
           }
          ],
          "scatterternary": [
           {
            "marker": {
             "colorbar": {
              "outlinewidth": 0,
              "ticks": ""
             }
            },
            "type": "scatterternary"
           }
          ],
          "surface": [
           {
            "colorbar": {
             "outlinewidth": 0,
             "ticks": ""
            },
            "colorscale": [
             [
              0,
              "#0d0887"
             ],
             [
              0.1111111111111111,
              "#46039f"
             ],
             [
              0.2222222222222222,
              "#7201a8"
             ],
             [
              0.3333333333333333,
              "#9c179e"
             ],
             [
              0.4444444444444444,
              "#bd3786"
             ],
             [
              0.5555555555555556,
              "#d8576b"
             ],
             [
              0.6666666666666666,
              "#ed7953"
             ],
             [
              0.7777777777777778,
              "#fb9f3a"
             ],
             [
              0.8888888888888888,
              "#fdca26"
             ],
             [
              1,
              "#f0f921"
             ]
            ],
            "type": "surface"
           }
          ],
          "table": [
           {
            "cells": {
             "fill": {
              "color": "#EBF0F8"
             },
             "line": {
              "color": "white"
             }
            },
            "header": {
             "fill": {
              "color": "#C8D4E3"
             },
             "line": {
              "color": "white"
             }
            },
            "type": "table"
           }
          ]
         },
         "layout": {
          "annotationdefaults": {
           "arrowcolor": "#2a3f5f",
           "arrowhead": 0,
           "arrowwidth": 1
          },
          "autotypenumbers": "strict",
          "coloraxis": {
           "colorbar": {
            "outlinewidth": 0,
            "ticks": ""
           }
          },
          "colorscale": {
           "diverging": [
            [
             0,
             "#8e0152"
            ],
            [
             0.1,
             "#c51b7d"
            ],
            [
             0.2,
             "#de77ae"
            ],
            [
             0.3,
             "#f1b6da"
            ],
            [
             0.4,
             "#fde0ef"
            ],
            [
             0.5,
             "#f7f7f7"
            ],
            [
             0.6,
             "#e6f5d0"
            ],
            [
             0.7,
             "#b8e186"
            ],
            [
             0.8,
             "#7fbc41"
            ],
            [
             0.9,
             "#4d9221"
            ],
            [
             1,
             "#276419"
            ]
           ],
           "sequential": [
            [
             0,
             "#0d0887"
            ],
            [
             0.1111111111111111,
             "#46039f"
            ],
            [
             0.2222222222222222,
             "#7201a8"
            ],
            [
             0.3333333333333333,
             "#9c179e"
            ],
            [
             0.4444444444444444,
             "#bd3786"
            ],
            [
             0.5555555555555556,
             "#d8576b"
            ],
            [
             0.6666666666666666,
             "#ed7953"
            ],
            [
             0.7777777777777778,
             "#fb9f3a"
            ],
            [
             0.8888888888888888,
             "#fdca26"
            ],
            [
             1,
             "#f0f921"
            ]
           ],
           "sequentialminus": [
            [
             0,
             "#0d0887"
            ],
            [
             0.1111111111111111,
             "#46039f"
            ],
            [
             0.2222222222222222,
             "#7201a8"
            ],
            [
             0.3333333333333333,
             "#9c179e"
            ],
            [
             0.4444444444444444,
             "#bd3786"
            ],
            [
             0.5555555555555556,
             "#d8576b"
            ],
            [
             0.6666666666666666,
             "#ed7953"
            ],
            [
             0.7777777777777778,
             "#fb9f3a"
            ],
            [
             0.8888888888888888,
             "#fdca26"
            ],
            [
             1,
             "#f0f921"
            ]
           ]
          },
          "colorway": [
           "#636efa",
           "#EF553B",
           "#00cc96",
           "#ab63fa",
           "#FFA15A",
           "#19d3f3",
           "#FF6692",
           "#B6E880",
           "#FF97FF",
           "#FECB52"
          ],
          "font": {
           "color": "#2a3f5f"
          },
          "geo": {
           "bgcolor": "white",
           "lakecolor": "white",
           "landcolor": "#E5ECF6",
           "showlakes": true,
           "showland": true,
           "subunitcolor": "white"
          },
          "hoverlabel": {
           "align": "left"
          },
          "hovermode": "closest",
          "mapbox": {
           "style": "light"
          },
          "paper_bgcolor": "white",
          "plot_bgcolor": "#E5ECF6",
          "polar": {
           "angularaxis": {
            "gridcolor": "white",
            "linecolor": "white",
            "ticks": ""
           },
           "bgcolor": "#E5ECF6",
           "radialaxis": {
            "gridcolor": "white",
            "linecolor": "white",
            "ticks": ""
           }
          },
          "scene": {
           "xaxis": {
            "backgroundcolor": "#E5ECF6",
            "gridcolor": "white",
            "gridwidth": 2,
            "linecolor": "white",
            "showbackground": true,
            "ticks": "",
            "zerolinecolor": "white"
           },
           "yaxis": {
            "backgroundcolor": "#E5ECF6",
            "gridcolor": "white",
            "gridwidth": 2,
            "linecolor": "white",
            "showbackground": true,
            "ticks": "",
            "zerolinecolor": "white"
           },
           "zaxis": {
            "backgroundcolor": "#E5ECF6",
            "gridcolor": "white",
            "gridwidth": 2,
            "linecolor": "white",
            "showbackground": true,
            "ticks": "",
            "zerolinecolor": "white"
           }
          },
          "shapedefaults": {
           "line": {
            "color": "#2a3f5f"
           }
          },
          "ternary": {
           "aaxis": {
            "gridcolor": "white",
            "linecolor": "white",
            "ticks": ""
           },
           "baxis": {
            "gridcolor": "white",
            "linecolor": "white",
            "ticks": ""
           },
           "bgcolor": "#E5ECF6",
           "caxis": {
            "gridcolor": "white",
            "linecolor": "white",
            "ticks": ""
           }
          },
          "title": {
           "x": 0.05
          },
          "xaxis": {
           "automargin": true,
           "gridcolor": "white",
           "linecolor": "white",
           "ticks": "",
           "title": {
            "standoff": 15
           },
           "zerolinecolor": "white",
           "zerolinewidth": 2
          },
          "yaxis": {
           "automargin": true,
           "gridcolor": "white",
           "linecolor": "white",
           "ticks": "",
           "title": {
            "standoff": 15
           },
           "zerolinecolor": "white",
           "zerolinewidth": 2
          }
         }
        },
        "xaxis": {
         "anchor": "y",
         "domain": [
          0,
          1
         ],
         "title": {
          "text": "Region"
         }
        },
        "yaxis": {
         "anchor": "x",
         "domain": [
          0,
          1
         ],
         "title": {
          "text": "Happiness Score"
         }
        }
       }
      }
     },
     "metadata": {},
     "output_type": "display_data"
    }
   ],
   "source": [
    "# “¿Qué región ‘sonríe’ más?”\n",
    "# Construye un bar chart con el promedio de Happiness Score por Region. \n",
    "# Cuenta qué región lidera y cuál queda rezagada. Incluye barras de error (Standard Error).\n",
    "r3 = df.groupby('Region')['Happiness Score'].mean().reset_index()\n",
    "\n",
    "std_r3 = df.groupby('Region')['Happiness Score'].std().reset_index()\n",
    "std_r3.rename(columns={'Happiness Score': 'std'}, inplace=True)\n",
    "\n",
    "r3 = r3.merge(std_r3, on='Region')\n",
    "fig3 = px.bar(r3, x='Region' ,y='Happiness Score', color_discrete_sequence=[\"#d4c600\"], error_y='std')\n",
    "fig3.show()"
   ]
  },
  {
   "cell_type": "markdown",
   "id": "96b151d6",
   "metadata": {},
   "source": [
    "En el gráfico se ve que norte america es la región que lidera en Happiness Score, seguida de cerca por Australia y nueva zelanda y Western Europe.\n",
    "La región más rezagada es Sub-Saharan Africa, con el promedio más bajo de felicidad."
   ]
  },
  {
   "cell_type": "code",
   "execution_count": null,
   "id": "36f9ee50",
   "metadata": {},
   "outputs": [
    {
     "data": {
      "application/vnd.plotly.v1+json": {
       "config": {
        "plotlyServerURL": "https://plot.ly"
       },
       "data": [
        {
         "hovertemplate": "Factor=Economy (GDP per Capita)<br>Country=%{x}<br>Valor=%{y}<br>text=%{text}<extra></extra>",
         "legendgroup": "Economy (GDP per Capita)",
         "marker": {
          "color": "#636efa",
          "pattern": {
           "shape": ""
          }
         },
         "name": "Economy (GDP per Capita)",
         "orientation": "v",
         "showlegend": true,
         "text": {
          "bdata": "ZmZmZmZm9j8=",
          "dtype": "f8"
         },
         "textposition": "auto",
         "type": "bar",
         "x": [
          "Switzerland"
         ],
         "xaxis": "x",
         "y": {
          "bdata": "Y5eo3hpY9j8=",
          "dtype": "f8"
         },
         "yaxis": "y"
        },
        {
         "hovertemplate": "Factor=Family<br>Country=%{x}<br>Valor=%{y}<br>text=%{text}<extra></extra>",
         "legendgroup": "Family",
         "marker": {
          "color": "#EF553B",
          "pattern": {
           "shape": ""
          }
         },
         "name": "Family",
         "orientation": "v",
         "showlegend": true,
         "text": {
          "bdata": "mpmZmZmZ9T8=",
          "dtype": "f8"
         },
         "textposition": "auto",
         "type": "bar",
         "x": [
          "Switzerland"
         ],
         "xaxis": "x",
         "y": {
          "bdata": "1v85zJeX9T8=",
          "dtype": "f8"
         },
         "yaxis": "y"
        },
        {
         "hovertemplate": "Factor=Health (Life Expectancy)<br>Country=%{x}<br>Valor=%{y}<br>text=%{text}<extra></extra>",
         "legendgroup": "Health (Life Expectancy)",
         "marker": {
          "color": "#00cc96",
          "pattern": {
           "shape": ""
          }
         },
         "name": "Health (Life Expectancy)",
         "orientation": "v",
         "showlegend": true,
         "text": {
          "bdata": "FK5H4XoU7j8=",
          "dtype": "f8"
         },
         "textposition": "auto",
         "type": "bar",
         "x": [
          "Switzerland"
         ],
         "xaxis": "x",
         "y": {
          "bdata": "HCWvzjEg7j8=",
          "dtype": "f8"
         },
         "yaxis": "y"
        },
        {
         "hovertemplate": "Factor=Freedom<br>Country=%{x}<br>Valor=%{y}<br>text=%{text}<extra></extra>",
         "legendgroup": "Freedom",
         "marker": {
          "color": "#ab63fa",
          "pattern": {
           "shape": ""
          }
         },
         "name": "Freedom",
         "orientation": "v",
         "showlegend": true,
         "text": {
          "bdata": "cT0K16Nw5T8=",
          "dtype": "f8"
         },
         "textposition": "auto",
         "type": "bar",
         "x": [
          "Switzerland"
         ],
         "xaxis": "x",
         "y": {
          "bdata": "6lvmdFlM5T8=",
          "dtype": "f8"
         },
         "yaxis": "y"
        },
        {
         "hovertemplate": "Factor=Trust (Government Corruption)<br>Country=%{x}<br>Valor=%{y}<br>text=%{text}<extra></extra>",
         "legendgroup": "Trust (Government Corruption)",
         "marker": {
          "color": "#FFA15A",
          "pattern": {
           "shape": ""
          }
         },
         "name": "Trust (Government Corruption)",
         "orientation": "v",
         "showlegend": true,
         "text": {
          "bdata": "4XoUrkfh2j8=",
          "dtype": "f8"
         },
         "textposition": "auto",
         "type": "bar",
         "x": [
          "Switzerland"
         ],
         "xaxis": "x",
         "y": {
          "bdata": "y/Pg7qzd2j8=",
          "dtype": "f8"
         },
         "yaxis": "y"
        },
        {
         "hovertemplate": "Factor=Generosity<br>Country=%{x}<br>Valor=%{y}<br>text=%{text}<extra></extra>",
         "legendgroup": "Generosity",
         "marker": {
          "color": "#19d3f3",
          "pattern": {
           "shape": ""
          }
         },
         "name": "Generosity",
         "orientation": "v",
         "showlegend": true,
         "text": {
          "bdata": "MzMzMzMz0z8=",
          "dtype": "f8"
         },
         "textposition": "auto",
         "type": "bar",
         "x": [
          "Switzerland"
         ],
         "xaxis": "x",
         "y": {
          "bdata": "H9eGinH+0j8=",
          "dtype": "f8"
         },
         "yaxis": "y"
        }
       ],
       "layout": {
        "barmode": "stack",
        "legend": {
         "title": {
          "text": "Pilar"
         },
         "tracegroupgap": 0
        },
        "margin": {
         "t": 60
        },
        "template": {
         "data": {
          "bar": [
           {
            "error_x": {
             "color": "#2a3f5f"
            },
            "error_y": {
             "color": "#2a3f5f"
            },
            "marker": {
             "line": {
              "color": "#E5ECF6",
              "width": 0.5
             },
             "pattern": {
              "fillmode": "overlay",
              "size": 10,
              "solidity": 0.2
             }
            },
            "type": "bar"
           }
          ],
          "barpolar": [
           {
            "marker": {
             "line": {
              "color": "#E5ECF6",
              "width": 0.5
             },
             "pattern": {
              "fillmode": "overlay",
              "size": 10,
              "solidity": 0.2
             }
            },
            "type": "barpolar"
           }
          ],
          "carpet": [
           {
            "aaxis": {
             "endlinecolor": "#2a3f5f",
             "gridcolor": "white",
             "linecolor": "white",
             "minorgridcolor": "white",
             "startlinecolor": "#2a3f5f"
            },
            "baxis": {
             "endlinecolor": "#2a3f5f",
             "gridcolor": "white",
             "linecolor": "white",
             "minorgridcolor": "white",
             "startlinecolor": "#2a3f5f"
            },
            "type": "carpet"
           }
          ],
          "choropleth": [
           {
            "colorbar": {
             "outlinewidth": 0,
             "ticks": ""
            },
            "type": "choropleth"
           }
          ],
          "contour": [
           {
            "colorbar": {
             "outlinewidth": 0,
             "ticks": ""
            },
            "colorscale": [
             [
              0,
              "#0d0887"
             ],
             [
              0.1111111111111111,
              "#46039f"
             ],
             [
              0.2222222222222222,
              "#7201a8"
             ],
             [
              0.3333333333333333,
              "#9c179e"
             ],
             [
              0.4444444444444444,
              "#bd3786"
             ],
             [
              0.5555555555555556,
              "#d8576b"
             ],
             [
              0.6666666666666666,
              "#ed7953"
             ],
             [
              0.7777777777777778,
              "#fb9f3a"
             ],
             [
              0.8888888888888888,
              "#fdca26"
             ],
             [
              1,
              "#f0f921"
             ]
            ],
            "type": "contour"
           }
          ],
          "contourcarpet": [
           {
            "colorbar": {
             "outlinewidth": 0,
             "ticks": ""
            },
            "type": "contourcarpet"
           }
          ],
          "heatmap": [
           {
            "colorbar": {
             "outlinewidth": 0,
             "ticks": ""
            },
            "colorscale": [
             [
              0,
              "#0d0887"
             ],
             [
              0.1111111111111111,
              "#46039f"
             ],
             [
              0.2222222222222222,
              "#7201a8"
             ],
             [
              0.3333333333333333,
              "#9c179e"
             ],
             [
              0.4444444444444444,
              "#bd3786"
             ],
             [
              0.5555555555555556,
              "#d8576b"
             ],
             [
              0.6666666666666666,
              "#ed7953"
             ],
             [
              0.7777777777777778,
              "#fb9f3a"
             ],
             [
              0.8888888888888888,
              "#fdca26"
             ],
             [
              1,
              "#f0f921"
             ]
            ],
            "type": "heatmap"
           }
          ],
          "histogram": [
           {
            "marker": {
             "pattern": {
              "fillmode": "overlay",
              "size": 10,
              "solidity": 0.2
             }
            },
            "type": "histogram"
           }
          ],
          "histogram2d": [
           {
            "colorbar": {
             "outlinewidth": 0,
             "ticks": ""
            },
            "colorscale": [
             [
              0,
              "#0d0887"
             ],
             [
              0.1111111111111111,
              "#46039f"
             ],
             [
              0.2222222222222222,
              "#7201a8"
             ],
             [
              0.3333333333333333,
              "#9c179e"
             ],
             [
              0.4444444444444444,
              "#bd3786"
             ],
             [
              0.5555555555555556,
              "#d8576b"
             ],
             [
              0.6666666666666666,
              "#ed7953"
             ],
             [
              0.7777777777777778,
              "#fb9f3a"
             ],
             [
              0.8888888888888888,
              "#fdca26"
             ],
             [
              1,
              "#f0f921"
             ]
            ],
            "type": "histogram2d"
           }
          ],
          "histogram2dcontour": [
           {
            "colorbar": {
             "outlinewidth": 0,
             "ticks": ""
            },
            "colorscale": [
             [
              0,
              "#0d0887"
             ],
             [
              0.1111111111111111,
              "#46039f"
             ],
             [
              0.2222222222222222,
              "#7201a8"
             ],
             [
              0.3333333333333333,
              "#9c179e"
             ],
             [
              0.4444444444444444,
              "#bd3786"
             ],
             [
              0.5555555555555556,
              "#d8576b"
             ],
             [
              0.6666666666666666,
              "#ed7953"
             ],
             [
              0.7777777777777778,
              "#fb9f3a"
             ],
             [
              0.8888888888888888,
              "#fdca26"
             ],
             [
              1,
              "#f0f921"
             ]
            ],
            "type": "histogram2dcontour"
           }
          ],
          "mesh3d": [
           {
            "colorbar": {
             "outlinewidth": 0,
             "ticks": ""
            },
            "type": "mesh3d"
           }
          ],
          "parcoords": [
           {
            "line": {
             "colorbar": {
              "outlinewidth": 0,
              "ticks": ""
             }
            },
            "type": "parcoords"
           }
          ],
          "pie": [
           {
            "automargin": true,
            "type": "pie"
           }
          ],
          "scatter": [
           {
            "fillpattern": {
             "fillmode": "overlay",
             "size": 10,
             "solidity": 0.2
            },
            "type": "scatter"
           }
          ],
          "scatter3d": [
           {
            "line": {
             "colorbar": {
              "outlinewidth": 0,
              "ticks": ""
             }
            },
            "marker": {
             "colorbar": {
              "outlinewidth": 0,
              "ticks": ""
             }
            },
            "type": "scatter3d"
           }
          ],
          "scattercarpet": [
           {
            "marker": {
             "colorbar": {
              "outlinewidth": 0,
              "ticks": ""
             }
            },
            "type": "scattercarpet"
           }
          ],
          "scattergeo": [
           {
            "marker": {
             "colorbar": {
              "outlinewidth": 0,
              "ticks": ""
             }
            },
            "type": "scattergeo"
           }
          ],
          "scattergl": [
           {
            "marker": {
             "colorbar": {
              "outlinewidth": 0,
              "ticks": ""
             }
            },
            "type": "scattergl"
           }
          ],
          "scattermap": [
           {
            "marker": {
             "colorbar": {
              "outlinewidth": 0,
              "ticks": ""
             }
            },
            "type": "scattermap"
           }
          ],
          "scattermapbox": [
           {
            "marker": {
             "colorbar": {
              "outlinewidth": 0,
              "ticks": ""
             }
            },
            "type": "scattermapbox"
           }
          ],
          "scatterpolar": [
           {
            "marker": {
             "colorbar": {
              "outlinewidth": 0,
              "ticks": ""
             }
            },
            "type": "scatterpolar"
           }
          ],
          "scatterpolargl": [
           {
            "marker": {
             "colorbar": {
              "outlinewidth": 0,
              "ticks": ""
             }
            },
            "type": "scatterpolargl"
           }
          ],
          "scatterternary": [
           {
            "marker": {
             "colorbar": {
              "outlinewidth": 0,
              "ticks": ""
             }
            },
            "type": "scatterternary"
           }
          ],
          "surface": [
           {
            "colorbar": {
             "outlinewidth": 0,
             "ticks": ""
            },
            "colorscale": [
             [
              0,
              "#0d0887"
             ],
             [
              0.1111111111111111,
              "#46039f"
             ],
             [
              0.2222222222222222,
              "#7201a8"
             ],
             [
              0.3333333333333333,
              "#9c179e"
             ],
             [
              0.4444444444444444,
              "#bd3786"
             ],
             [
              0.5555555555555556,
              "#d8576b"
             ],
             [
              0.6666666666666666,
              "#ed7953"
             ],
             [
              0.7777777777777778,
              "#fb9f3a"
             ],
             [
              0.8888888888888888,
              "#fdca26"
             ],
             [
              1,
              "#f0f921"
             ]
            ],
            "type": "surface"
           }
          ],
          "table": [
           {
            "cells": {
             "fill": {
              "color": "#EBF0F8"
             },
             "line": {
              "color": "white"
             }
            },
            "header": {
             "fill": {
              "color": "#C8D4E3"
             },
             "line": {
              "color": "white"
             }
            },
            "type": "table"
           }
          ]
         },
         "layout": {
          "annotationdefaults": {
           "arrowcolor": "#2a3f5f",
           "arrowhead": 0,
           "arrowwidth": 1
          },
          "autotypenumbers": "strict",
          "coloraxis": {
           "colorbar": {
            "outlinewidth": 0,
            "ticks": ""
           }
          },
          "colorscale": {
           "diverging": [
            [
             0,
             "#8e0152"
            ],
            [
             0.1,
             "#c51b7d"
            ],
            [
             0.2,
             "#de77ae"
            ],
            [
             0.3,
             "#f1b6da"
            ],
            [
             0.4,
             "#fde0ef"
            ],
            [
             0.5,
             "#f7f7f7"
            ],
            [
             0.6,
             "#e6f5d0"
            ],
            [
             0.7,
             "#b8e186"
            ],
            [
             0.8,
             "#7fbc41"
            ],
            [
             0.9,
             "#4d9221"
            ],
            [
             1,
             "#276419"
            ]
           ],
           "sequential": [
            [
             0,
             "#0d0887"
            ],
            [
             0.1111111111111111,
             "#46039f"
            ],
            [
             0.2222222222222222,
             "#7201a8"
            ],
            [
             0.3333333333333333,
             "#9c179e"
            ],
            [
             0.4444444444444444,
             "#bd3786"
            ],
            [
             0.5555555555555556,
             "#d8576b"
            ],
            [
             0.6666666666666666,
             "#ed7953"
            ],
            [
             0.7777777777777778,
             "#fb9f3a"
            ],
            [
             0.8888888888888888,
             "#fdca26"
            ],
            [
             1,
             "#f0f921"
            ]
           ],
           "sequentialminus": [
            [
             0,
             "#0d0887"
            ],
            [
             0.1111111111111111,
             "#46039f"
            ],
            [
             0.2222222222222222,
             "#7201a8"
            ],
            [
             0.3333333333333333,
             "#9c179e"
            ],
            [
             0.4444444444444444,
             "#bd3786"
            ],
            [
             0.5555555555555556,
             "#d8576b"
            ],
            [
             0.6666666666666666,
             "#ed7953"
            ],
            [
             0.7777777777777778,
             "#fb9f3a"
            ],
            [
             0.8888888888888888,
             "#fdca26"
            ],
            [
             1,
             "#f0f921"
            ]
           ]
          },
          "colorway": [
           "#636efa",
           "#EF553B",
           "#00cc96",
           "#ab63fa",
           "#FFA15A",
           "#19d3f3",
           "#FF6692",
           "#B6E880",
           "#FF97FF",
           "#FECB52"
          ],
          "font": {
           "color": "#2a3f5f"
          },
          "geo": {
           "bgcolor": "white",
           "lakecolor": "white",
           "landcolor": "#E5ECF6",
           "showlakes": true,
           "showland": true,
           "subunitcolor": "white"
          },
          "hoverlabel": {
           "align": "left"
          },
          "hovermode": "closest",
          "mapbox": {
           "style": "light"
          },
          "paper_bgcolor": "white",
          "plot_bgcolor": "#E5ECF6",
          "polar": {
           "angularaxis": {
            "gridcolor": "white",
            "linecolor": "white",
            "ticks": ""
           },
           "bgcolor": "#E5ECF6",
           "radialaxis": {
            "gridcolor": "white",
            "linecolor": "white",
            "ticks": ""
           }
          },
          "scene": {
           "xaxis": {
            "backgroundcolor": "#E5ECF6",
            "gridcolor": "white",
            "gridwidth": 2,
            "linecolor": "white",
            "showbackground": true,
            "ticks": "",
            "zerolinecolor": "white"
           },
           "yaxis": {
            "backgroundcolor": "#E5ECF6",
            "gridcolor": "white",
            "gridwidth": 2,
            "linecolor": "white",
            "showbackground": true,
            "ticks": "",
            "zerolinecolor": "white"
           },
           "zaxis": {
            "backgroundcolor": "#E5ECF6",
            "gridcolor": "white",
            "gridwidth": 2,
            "linecolor": "white",
            "showbackground": true,
            "ticks": "",
            "zerolinecolor": "white"
           }
          },
          "shapedefaults": {
           "line": {
            "color": "#2a3f5f"
           }
          },
          "ternary": {
           "aaxis": {
            "gridcolor": "white",
            "linecolor": "white",
            "ticks": ""
           },
           "baxis": {
            "gridcolor": "white",
            "linecolor": "white",
            "ticks": ""
           },
           "bgcolor": "#E5ECF6",
           "caxis": {
            "gridcolor": "white",
            "linecolor": "white",
            "ticks": ""
           }
          },
          "title": {
           "x": 0.05
          },
          "xaxis": {
           "automargin": true,
           "gridcolor": "white",
           "linecolor": "white",
           "ticks": "",
           "title": {
            "standoff": 15
           },
           "zerolinecolor": "white",
           "zerolinewidth": 2
          },
          "yaxis": {
           "automargin": true,
           "gridcolor": "white",
           "linecolor": "white",
           "ticks": "",
           "title": {
            "standoff": 15
           },
           "zerolinecolor": "white",
           "zerolinewidth": 2
          }
         }
        },
        "title": {
         "text": "Anatomía de la felicidad – Switzerland (Top 1)"
        },
        "xaxis": {
         "anchor": "y",
         "domain": [
          0,
          1
         ],
         "title": {
          "text": "Contribución al Happiness Score"
         }
        },
        "yaxis": {
         "anchor": "x",
         "domain": [
          0,
          1
         ],
         "title": {
          "text": ""
         }
        }
       }
      }
     },
     "metadata": {},
     "output_type": "display_data"
    }
   ],
   "source": [
    "# “Anatomía de un país feliz”\n",
    "# Para el país #1 en Happiness Rank, arma un stacked bar con los factores (Economy, Family, Health, Freedom, Trust, Generosity). Explica qué pilar pesa más.\n",
    "\n",
    "factores = [\"Economy (GDP per Capita)\", \"Family\", \"Health (Life Expectancy)\", \"Freedom\", \"Trust (Government Corruption)\", \"Generosity\"]\n",
    "\n",
    "top1 = df.sort_values(\"Happiness Rank\", ascending=True).iloc[0]\n",
    "country_name = top1[\"Country\"]\n",
    "\n",
    "vals = top1[factores].astype(float)\n",
    "plot_df = pd.DataFrame({\"Factor\": factores, \"Valor\": vals.values})\n",
    "plot_df[\"Country\"] = country_name\n",
    "\n",
    "fig4 = px.bar(\n",
    "    plot_df,\n",
    "    x=\"Country\",\n",
    "    y=\"Valor\",\n",
    "    color=\"Factor\",\n",
    "    orientation=\"v\",\n",
    "    barmode=\"stack\",\n",
    "    text=plot_df[\"Valor\"].round(2)\n",
    ")\n",
    "\n",
    "fig4.update_layout(\n",
    "    title=f\"Anatomía de la felicidad – {country_name} (Top 1)\",\n",
    "    xaxis_title=\"Contribución al Happiness Score\",\n",
    "    yaxis_title=\"\",\n",
    "    legend_title=\"Pilar\"\n",
    ")\n",
    "\n",
    "fig4.show()\n"
   ]
  },
  {
   "cell_type": "markdown",
   "id": "67776e18",
   "metadata": {},
   "source": [
    "El pilar que más pesa es Economy (GDP per Capita) con un aporte de 1.40.Le sigue muy de cerca Family, que aporta 1.35.\n",
    "Esto muestra que la base económica sólida es el principal soporte del alto Happiness Score de Suiza."
   ]
  },
  {
   "cell_type": "markdown",
   "id": "45d4743a",
   "metadata": {},
   "source": [
    "RESPUESTA"
   ]
  },
  {
   "cell_type": "code",
   "execution_count": null,
   "id": "7a624f83",
   "metadata": {},
   "outputs": [
    {
     "data": {
      "application/vnd.plotly.v1+json": {
       "config": {
        "plotlyServerURL": "https://plot.ly"
       },
       "data": [
        {
         "coloraxis": "coloraxis",
         "hovertemplate": "Factor: %{x}<br>Región: %{y}<br>Valor normalizado: %{z}<extra></extra>",
         "name": "0",
         "type": "heatmap",
         "x": [
          "Economy (GDP per Capita)",
          "Family",
          "Health (Life Expectancy)",
          "Freedom",
          "Trust (Government Corruption)",
          "Generosity"
         ],
         "xaxis": "x",
         "y": [
          "Australia and New Zealand",
          "Central and Eastern Europe",
          "Eastern Asia",
          "Latin America and Caribbean",
          "Middle East and Northern Africa",
          "North America",
          "Southeastern Asia",
          "Southern Asia",
          "Sub-Saharan Africa",
          "Western Europe"
         ],
         "yaxis": "y",
         "z": {
          "bdata": "9c4Doi/D7T8AAAAAAADwPwAAAAAAAPA/AAAAAAAA8D8AAAAAAADwPwAAAAAAAPA/QnGCwOtZ4j+wuRZdpH/jPxWrAp4x5+U/AAAAAAAAAAAAAAAAAAAAAAAAAAAAAAAAHQMiKfov6T8CcY/Bg7flP0b3B+7+3O0/RYOl5dY81z8ePKfrAyfBP493SZdvGM8/zobNqlM14D/D03lNU/jlP/KCjxe5J+U/8Dlp0yj93z9v99V/LIG5P0cf4w7nrMs/nOqJ4gJr5j+1UPFdqVHaP+ZCRHskPuU/cAd1V6bYiD932xgZCN7TP1pXSPzmGMA/AAAAAAAA8D8Xl/RhvJXuPx1i6qc2Lu4/IgS/SVvH6T+SNL9kcHjgP84WWZpWSO0/uS+701Kv2j+vSF471DrcP9w3TTsW0+M/cbJUtKkq5j9ON5F2IwPLP4iXIZxmMew/Vr25WnyDxz8AAAAAAAAAABtjcDke8tk/eYsSOMHgqj95kcpjmoeqP1J/HsRz+eM/AAAAAAAAAADLO1kFsVPPPwAAAAAAAAAAEsKL96Fhmz9JWeRr0By/P+4q5KsFF80/2GzLAFT77T+naA+H68nsP8xxcZoHde8/h9xKsMxd5T/Kbm3tS0XeP+TicfYgpd8/",
          "dtype": "f8",
          "shape": "10, 6"
         }
        }
       ],
       "layout": {
        "coloraxis": {
         "colorbar": {
          "title": {
           "text": "Valor normalizado"
          }
         },
         "colorscale": [
          [
           0,
           "#0d0887"
          ],
          [
           0.1111111111111111,
           "#46039f"
          ],
          [
           0.2222222222222222,
           "#7201a8"
          ],
          [
           0.3333333333333333,
           "#9c179e"
          ],
          [
           0.4444444444444444,
           "#bd3786"
          ],
          [
           0.5555555555555556,
           "#d8576b"
          ],
          [
           0.6666666666666666,
           "#ed7953"
          ],
          [
           0.7777777777777778,
           "#fb9f3a"
          ],
          [
           0.8888888888888888,
           "#fdca26"
          ],
          [
           1,
           "#f0f921"
          ]
         ]
        },
        "margin": {
         "t": 60
        },
        "template": {
         "data": {
          "bar": [
           {
            "error_x": {
             "color": "#2a3f5f"
            },
            "error_y": {
             "color": "#2a3f5f"
            },
            "marker": {
             "line": {
              "color": "#E5ECF6",
              "width": 0.5
             },
             "pattern": {
              "fillmode": "overlay",
              "size": 10,
              "solidity": 0.2
             }
            },
            "type": "bar"
           }
          ],
          "barpolar": [
           {
            "marker": {
             "line": {
              "color": "#E5ECF6",
              "width": 0.5
             },
             "pattern": {
              "fillmode": "overlay",
              "size": 10,
              "solidity": 0.2
             }
            },
            "type": "barpolar"
           }
          ],
          "carpet": [
           {
            "aaxis": {
             "endlinecolor": "#2a3f5f",
             "gridcolor": "white",
             "linecolor": "white",
             "minorgridcolor": "white",
             "startlinecolor": "#2a3f5f"
            },
            "baxis": {
             "endlinecolor": "#2a3f5f",
             "gridcolor": "white",
             "linecolor": "white",
             "minorgridcolor": "white",
             "startlinecolor": "#2a3f5f"
            },
            "type": "carpet"
           }
          ],
          "choropleth": [
           {
            "colorbar": {
             "outlinewidth": 0,
             "ticks": ""
            },
            "type": "choropleth"
           }
          ],
          "contour": [
           {
            "colorbar": {
             "outlinewidth": 0,
             "ticks": ""
            },
            "colorscale": [
             [
              0,
              "#0d0887"
             ],
             [
              0.1111111111111111,
              "#46039f"
             ],
             [
              0.2222222222222222,
              "#7201a8"
             ],
             [
              0.3333333333333333,
              "#9c179e"
             ],
             [
              0.4444444444444444,
              "#bd3786"
             ],
             [
              0.5555555555555556,
              "#d8576b"
             ],
             [
              0.6666666666666666,
              "#ed7953"
             ],
             [
              0.7777777777777778,
              "#fb9f3a"
             ],
             [
              0.8888888888888888,
              "#fdca26"
             ],
             [
              1,
              "#f0f921"
             ]
            ],
            "type": "contour"
           }
          ],
          "contourcarpet": [
           {
            "colorbar": {
             "outlinewidth": 0,
             "ticks": ""
            },
            "type": "contourcarpet"
           }
          ],
          "heatmap": [
           {
            "colorbar": {
             "outlinewidth": 0,
             "ticks": ""
            },
            "colorscale": [
             [
              0,
              "#0d0887"
             ],
             [
              0.1111111111111111,
              "#46039f"
             ],
             [
              0.2222222222222222,
              "#7201a8"
             ],
             [
              0.3333333333333333,
              "#9c179e"
             ],
             [
              0.4444444444444444,
              "#bd3786"
             ],
             [
              0.5555555555555556,
              "#d8576b"
             ],
             [
              0.6666666666666666,
              "#ed7953"
             ],
             [
              0.7777777777777778,
              "#fb9f3a"
             ],
             [
              0.8888888888888888,
              "#fdca26"
             ],
             [
              1,
              "#f0f921"
             ]
            ],
            "type": "heatmap"
           }
          ],
          "histogram": [
           {
            "marker": {
             "pattern": {
              "fillmode": "overlay",
              "size": 10,
              "solidity": 0.2
             }
            },
            "type": "histogram"
           }
          ],
          "histogram2d": [
           {
            "colorbar": {
             "outlinewidth": 0,
             "ticks": ""
            },
            "colorscale": [
             [
              0,
              "#0d0887"
             ],
             [
              0.1111111111111111,
              "#46039f"
             ],
             [
              0.2222222222222222,
              "#7201a8"
             ],
             [
              0.3333333333333333,
              "#9c179e"
             ],
             [
              0.4444444444444444,
              "#bd3786"
             ],
             [
              0.5555555555555556,
              "#d8576b"
             ],
             [
              0.6666666666666666,
              "#ed7953"
             ],
             [
              0.7777777777777778,
              "#fb9f3a"
             ],
             [
              0.8888888888888888,
              "#fdca26"
             ],
             [
              1,
              "#f0f921"
             ]
            ],
            "type": "histogram2d"
           }
          ],
          "histogram2dcontour": [
           {
            "colorbar": {
             "outlinewidth": 0,
             "ticks": ""
            },
            "colorscale": [
             [
              0,
              "#0d0887"
             ],
             [
              0.1111111111111111,
              "#46039f"
             ],
             [
              0.2222222222222222,
              "#7201a8"
             ],
             [
              0.3333333333333333,
              "#9c179e"
             ],
             [
              0.4444444444444444,
              "#bd3786"
             ],
             [
              0.5555555555555556,
              "#d8576b"
             ],
             [
              0.6666666666666666,
              "#ed7953"
             ],
             [
              0.7777777777777778,
              "#fb9f3a"
             ],
             [
              0.8888888888888888,
              "#fdca26"
             ],
             [
              1,
              "#f0f921"
             ]
            ],
            "type": "histogram2dcontour"
           }
          ],
          "mesh3d": [
           {
            "colorbar": {
             "outlinewidth": 0,
             "ticks": ""
            },
            "type": "mesh3d"
           }
          ],
          "parcoords": [
           {
            "line": {
             "colorbar": {
              "outlinewidth": 0,
              "ticks": ""
             }
            },
            "type": "parcoords"
           }
          ],
          "pie": [
           {
            "automargin": true,
            "type": "pie"
           }
          ],
          "scatter": [
           {
            "fillpattern": {
             "fillmode": "overlay",
             "size": 10,
             "solidity": 0.2
            },
            "type": "scatter"
           }
          ],
          "scatter3d": [
           {
            "line": {
             "colorbar": {
              "outlinewidth": 0,
              "ticks": ""
             }
            },
            "marker": {
             "colorbar": {
              "outlinewidth": 0,
              "ticks": ""
             }
            },
            "type": "scatter3d"
           }
          ],
          "scattercarpet": [
           {
            "marker": {
             "colorbar": {
              "outlinewidth": 0,
              "ticks": ""
             }
            },
            "type": "scattercarpet"
           }
          ],
          "scattergeo": [
           {
            "marker": {
             "colorbar": {
              "outlinewidth": 0,
              "ticks": ""
             }
            },
            "type": "scattergeo"
           }
          ],
          "scattergl": [
           {
            "marker": {
             "colorbar": {
              "outlinewidth": 0,
              "ticks": ""
             }
            },
            "type": "scattergl"
           }
          ],
          "scattermap": [
           {
            "marker": {
             "colorbar": {
              "outlinewidth": 0,
              "ticks": ""
             }
            },
            "type": "scattermap"
           }
          ],
          "scattermapbox": [
           {
            "marker": {
             "colorbar": {
              "outlinewidth": 0,
              "ticks": ""
             }
            },
            "type": "scattermapbox"
           }
          ],
          "scatterpolar": [
           {
            "marker": {
             "colorbar": {
              "outlinewidth": 0,
              "ticks": ""
             }
            },
            "type": "scatterpolar"
           }
          ],
          "scatterpolargl": [
           {
            "marker": {
             "colorbar": {
              "outlinewidth": 0,
              "ticks": ""
             }
            },
            "type": "scatterpolargl"
           }
          ],
          "scatterternary": [
           {
            "marker": {
             "colorbar": {
              "outlinewidth": 0,
              "ticks": ""
             }
            },
            "type": "scatterternary"
           }
          ],
          "surface": [
           {
            "colorbar": {
             "outlinewidth": 0,
             "ticks": ""
            },
            "colorscale": [
             [
              0,
              "#0d0887"
             ],
             [
              0.1111111111111111,
              "#46039f"
             ],
             [
              0.2222222222222222,
              "#7201a8"
             ],
             [
              0.3333333333333333,
              "#9c179e"
             ],
             [
              0.4444444444444444,
              "#bd3786"
             ],
             [
              0.5555555555555556,
              "#d8576b"
             ],
             [
              0.6666666666666666,
              "#ed7953"
             ],
             [
              0.7777777777777778,
              "#fb9f3a"
             ],
             [
              0.8888888888888888,
              "#fdca26"
             ],
             [
              1,
              "#f0f921"
             ]
            ],
            "type": "surface"
           }
          ],
          "table": [
           {
            "cells": {
             "fill": {
              "color": "#EBF0F8"
             },
             "line": {
              "color": "white"
             }
            },
            "header": {
             "fill": {
              "color": "#C8D4E3"
             },
             "line": {
              "color": "white"
             }
            },
            "type": "table"
           }
          ]
         },
         "layout": {
          "annotationdefaults": {
           "arrowcolor": "#2a3f5f",
           "arrowhead": 0,
           "arrowwidth": 1
          },
          "autotypenumbers": "strict",
          "coloraxis": {
           "colorbar": {
            "outlinewidth": 0,
            "ticks": ""
           }
          },
          "colorscale": {
           "diverging": [
            [
             0,
             "#8e0152"
            ],
            [
             0.1,
             "#c51b7d"
            ],
            [
             0.2,
             "#de77ae"
            ],
            [
             0.3,
             "#f1b6da"
            ],
            [
             0.4,
             "#fde0ef"
            ],
            [
             0.5,
             "#f7f7f7"
            ],
            [
             0.6,
             "#e6f5d0"
            ],
            [
             0.7,
             "#b8e186"
            ],
            [
             0.8,
             "#7fbc41"
            ],
            [
             0.9,
             "#4d9221"
            ],
            [
             1,
             "#276419"
            ]
           ],
           "sequential": [
            [
             0,
             "#0d0887"
            ],
            [
             0.1111111111111111,
             "#46039f"
            ],
            [
             0.2222222222222222,
             "#7201a8"
            ],
            [
             0.3333333333333333,
             "#9c179e"
            ],
            [
             0.4444444444444444,
             "#bd3786"
            ],
            [
             0.5555555555555556,
             "#d8576b"
            ],
            [
             0.6666666666666666,
             "#ed7953"
            ],
            [
             0.7777777777777778,
             "#fb9f3a"
            ],
            [
             0.8888888888888888,
             "#fdca26"
            ],
            [
             1,
             "#f0f921"
            ]
           ],
           "sequentialminus": [
            [
             0,
             "#0d0887"
            ],
            [
             0.1111111111111111,
             "#46039f"
            ],
            [
             0.2222222222222222,
             "#7201a8"
            ],
            [
             0.3333333333333333,
             "#9c179e"
            ],
            [
             0.4444444444444444,
             "#bd3786"
            ],
            [
             0.5555555555555556,
             "#d8576b"
            ],
            [
             0.6666666666666666,
             "#ed7953"
            ],
            [
             0.7777777777777778,
             "#fb9f3a"
            ],
            [
             0.8888888888888888,
             "#fdca26"
            ],
            [
             1,
             "#f0f921"
            ]
           ]
          },
          "colorway": [
           "#636efa",
           "#EF553B",
           "#00cc96",
           "#ab63fa",
           "#FFA15A",
           "#19d3f3",
           "#FF6692",
           "#B6E880",
           "#FF97FF",
           "#FECB52"
          ],
          "font": {
           "color": "#2a3f5f"
          },
          "geo": {
           "bgcolor": "white",
           "lakecolor": "white",
           "landcolor": "#E5ECF6",
           "showlakes": true,
           "showland": true,
           "subunitcolor": "white"
          },
          "hoverlabel": {
           "align": "left"
          },
          "hovermode": "closest",
          "mapbox": {
           "style": "light"
          },
          "paper_bgcolor": "white",
          "plot_bgcolor": "#E5ECF6",
          "polar": {
           "angularaxis": {
            "gridcolor": "white",
            "linecolor": "white",
            "ticks": ""
           },
           "bgcolor": "#E5ECF6",
           "radialaxis": {
            "gridcolor": "white",
            "linecolor": "white",
            "ticks": ""
           }
          },
          "scene": {
           "xaxis": {
            "backgroundcolor": "#E5ECF6",
            "gridcolor": "white",
            "gridwidth": 2,
            "linecolor": "white",
            "showbackground": true,
            "ticks": "",
            "zerolinecolor": "white"
           },
           "yaxis": {
            "backgroundcolor": "#E5ECF6",
            "gridcolor": "white",
            "gridwidth": 2,
            "linecolor": "white",
            "showbackground": true,
            "ticks": "",
            "zerolinecolor": "white"
           },
           "zaxis": {
            "backgroundcolor": "#E5ECF6",
            "gridcolor": "white",
            "gridwidth": 2,
            "linecolor": "white",
            "showbackground": true,
            "ticks": "",
            "zerolinecolor": "white"
           }
          },
          "shapedefaults": {
           "line": {
            "color": "#2a3f5f"
           }
          },
          "ternary": {
           "aaxis": {
            "gridcolor": "white",
            "linecolor": "white",
            "ticks": ""
           },
           "baxis": {
            "gridcolor": "white",
            "linecolor": "white",
            "ticks": ""
           },
           "bgcolor": "#E5ECF6",
           "caxis": {
            "gridcolor": "white",
            "linecolor": "white",
            "ticks": ""
           }
          },
          "title": {
           "x": 0.05
          },
          "xaxis": {
           "automargin": true,
           "gridcolor": "white",
           "linecolor": "white",
           "ticks": "",
           "title": {
            "standoff": 15
           },
           "zerolinecolor": "white",
           "zerolinewidth": 2
          },
          "yaxis": {
           "automargin": true,
           "gridcolor": "white",
           "linecolor": "white",
           "ticks": "",
           "title": {
            "standoff": 15
           },
           "zerolinecolor": "white",
           "zerolinewidth": 2
          }
         }
        },
        "title": {
         "text": "Mapa de calor de similitudes por Región"
        },
        "xaxis": {
         "anchor": "y",
         "constrain": "domain",
         "domain": [
          0,
          1
         ],
         "scaleanchor": "y",
         "title": {
          "text": "Factor"
         }
        },
        "yaxis": {
         "anchor": "x",
         "autorange": "reversed",
         "constrain": "domain",
         "domain": [
          0,
          1
         ],
         "title": {
          "text": "Región"
         }
        }
       }
      }
     },
     "metadata": {},
     "output_type": "display_data"
    }
   ],
   "source": [
    "df_region = df.groupby(\"Region\")[factores].mean().reset_index()\n",
    "\n",
    "# Normalización por región\n",
    "df_region_norm = df_region.copy()\n",
    "df_region_norm[factores] = (df_region[factores] - df_region[factores].min()) / (df_region[factores].max() - df_region[factores].min())\n",
    "\n",
    "# Heatmap por regiones\n",
    "fig5 = px.imshow(\n",
    "    df_region_norm[factores].values,\n",
    "    labels=dict(x=\"Factor\", y=\"Región\", color=\"Valor normalizado\"),\n",
    "    x=factores,\n",
    "    y=df_region_norm[\"Region\"],\n",
    "    color_continuous_scale=\"Plasma\"\n",
    ")\n",
    "\n",
    "fig5.update_layout(title=\"Mapa de calor de similitudes por Región\")\n",
    "fig5.show()\n",
    "\n"
   ]
  },
  {
   "cell_type": "markdown",
   "id": "d5d8a20c",
   "metadata": {},
   "source": []
  },
  {
   "cell_type": "code",
   "execution_count": null,
   "id": "e13f389b",
   "metadata": {},
   "outputs": [
    {
     "name": "stdout",
     "output_type": "stream",
     "text": [
      "Hermanos inesperados: Canada (North America) Netherlands (Western Europe) distancia = 0.264\n"
     ]
    },
    {
     "data": {
      "application/vnd.plotly.v1+json": {
       "config": {
        "plotlyServerURL": "https://plot.ly"
       },
       "data": [
        {
         "coloraxis": "coloraxis",
         "hovertemplate": "x: %{x}<br>y: %{y}<br>z-score: %{z}<extra></extra>",
         "name": "0",
         "type": "heatmap",
         "x": [
          "Economy (GDP per Capita)",
          "Family",
          "Health (Life Expectancy)",
          "Freedom",
          "Trust (Government Corruption)",
          "Generosity"
         ],
         "xaxis": "x",
         "y": [
          "Switzerland",
          "Denmark",
          "New Zealand",
          "Qatar",
          "Sweden",
          "Norway",
          "Australia",
          "Canada",
          "Luxembourg",
          "Singapore",
          "Ireland",
          "Finland",
          "Netherlands",
          "United Kingdom",
          "Hong Kong",
          "Iceland",
          "United Arab Emirates",
          "Austria",
          "Germany",
          "Malta",
          "Belgium",
          "United States",
          "Oman",
          "France",
          "Kuwait",
          "Japan",
          "Uruguay",
          "Bahrain",
          "Slovenia",
          "Costa Rica",
          "Spain",
          "North Cyprus",
          "Thailand",
          "Uzbekistan",
          "Israel",
          "Panama",
          "Chile",
          "Saudi Arabia",
          "Poland",
          "Malaysia",
          "Taiwan",
          "Estonia",
          "Trinidad and Tobago",
          "Turkmenistan",
          "Portugal",
          "Brazil",
          "Dominican Republic",
          "Czech Republic",
          "Paraguay",
          "Mauritius",
          "Argentina",
          "Nicaragua",
          "Italy",
          "Cyprus",
          "Mexico",
          "Belarus",
          "Bhutan",
          "Colombia",
          "Sri Lanka",
          "South Korea",
          "Venezuela",
          "Libya",
          "Kazakhstan",
          "Suriname",
          "Slovakia",
          "Ecuador",
          "Guatemala",
          "Philippines",
          "Mongolia",
          "Indonesia",
          "Jamaica",
          "Hungary",
          "Laos",
          "Vietnam",
          "Jordan",
          "China",
          "Rwanda",
          "Russia",
          "Latvia",
          "Somaliland region",
          "Peru",
          "Azerbaijan",
          "Bolivia",
          "Macedonia",
          "Bulgaria",
          "Lebanon",
          "Lithuania",
          "El Salvador",
          "Turkey",
          "Algeria",
          "Kyrgyzstan",
          "Romania",
          "Cambodia",
          "Albania",
          "Myanmar",
          "Honduras",
          "Ukraine",
          "Montenegro",
          "Georgia",
          "Serbia",
          "Tajikistan",
          "Croatia",
          "Iran",
          "Botswana",
          "South Africa",
          "Gabon",
          "Greece",
          "Moldova",
          "Kosovo",
          "Kenya",
          "Palestinian Territories",
          "Bosnia and Herzegovina",
          "Uganda",
          "Nepal",
          "Zambia",
          "Morocco",
          "Syria",
          "Djibouti",
          "Senegal",
          "Tunisia",
          "Armenia",
          "Iraq",
          "Egypt",
          "Tanzania",
          "Cameroon",
          "Ivory Coast",
          "Ghana",
          "Congo (Brazzaville)",
          "Mauritania",
          "Bangladesh",
          "India",
          "Mali",
          "Haiti",
          "Nigeria",
          "Ethiopia",
          "Burkina Faso",
          "Swaziland",
          "Sudan",
          "Niger",
          "Yemen",
          "Zimbabwe",
          "Lesotho",
          "Comoros",
          "Sierra Leone",
          "Mozambique",
          "Pakistan",
          "Benin",
          "Liberia",
          "Angola",
          "Madagascar",
          "Guinea",
          "Congo (Kinshasa)",
          "Chad",
          "Malawi",
          "Afghanistan",
          "Togo",
          "Central African Republic",
          "Burundi"
         ],
         "yaxis": "y",
         "z": {
          "bdata": "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",
          "dtype": "f8",
          "shape": "158, 6"
         }
        }
       ],
       "layout": {
        "coloraxis": {
         "colorbar": {
          "title": {
           "text": "z-score"
          }
         },
         "colorscale": [
          [
           0,
           "rgb(5,48,97)"
          ],
          [
           0.1,
           "rgb(33,102,172)"
          ],
          [
           0.2,
           "rgb(67,147,195)"
          ],
          [
           0.3,
           "rgb(146,197,222)"
          ],
          [
           0.4,
           "rgb(209,229,240)"
          ],
          [
           0.5,
           "rgb(247,247,247)"
          ],
          [
           0.6,
           "rgb(253,219,199)"
          ],
          [
           0.7,
           "rgb(244,165,130)"
          ],
          [
           0.8,
           "rgb(214,96,77)"
          ],
          [
           0.9,
           "rgb(178,24,43)"
          ],
          [
           1,
           "rgb(103,0,31)"
          ]
         ]
        },
        "height": 1200,
        "shapes": [
         {
          "line": {
           "color": "orange",
           "width": 3
          },
          "type": "rect",
          "x0": -0.5,
          "x1": 5.5,
          "y0": 6.5,
          "y1": 7.5
         },
         {
          "line": {
           "color": "orange",
           "width": 3
          },
          "type": "rect",
          "x0": -0.5,
          "x1": 5.5,
          "y0": 11.5,
          "y1": 12.5
         }
        ],
        "template": {
         "data": {
          "bar": [
           {
            "error_x": {
             "color": "#2a3f5f"
            },
            "error_y": {
             "color": "#2a3f5f"
            },
            "marker": {
             "line": {
              "color": "#E5ECF6",
              "width": 0.5
             },
             "pattern": {
              "fillmode": "overlay",
              "size": 10,
              "solidity": 0.2
             }
            },
            "type": "bar"
           }
          ],
          "barpolar": [
           {
            "marker": {
             "line": {
              "color": "#E5ECF6",
              "width": 0.5
             },
             "pattern": {
              "fillmode": "overlay",
              "size": 10,
              "solidity": 0.2
             }
            },
            "type": "barpolar"
           }
          ],
          "carpet": [
           {
            "aaxis": {
             "endlinecolor": "#2a3f5f",
             "gridcolor": "white",
             "linecolor": "white",
             "minorgridcolor": "white",
             "startlinecolor": "#2a3f5f"
            },
            "baxis": {
             "endlinecolor": "#2a3f5f",
             "gridcolor": "white",
             "linecolor": "white",
             "minorgridcolor": "white",
             "startlinecolor": "#2a3f5f"
            },
            "type": "carpet"
           }
          ],
          "choropleth": [
           {
            "colorbar": {
             "outlinewidth": 0,
             "ticks": ""
            },
            "type": "choropleth"
           }
          ],
          "contour": [
           {
            "colorbar": {
             "outlinewidth": 0,
             "ticks": ""
            },
            "colorscale": [
             [
              0,
              "#0d0887"
             ],
             [
              0.1111111111111111,
              "#46039f"
             ],
             [
              0.2222222222222222,
              "#7201a8"
             ],
             [
              0.3333333333333333,
              "#9c179e"
             ],
             [
              0.4444444444444444,
              "#bd3786"
             ],
             [
              0.5555555555555556,
              "#d8576b"
             ],
             [
              0.6666666666666666,
              "#ed7953"
             ],
             [
              0.7777777777777778,
              "#fb9f3a"
             ],
             [
              0.8888888888888888,
              "#fdca26"
             ],
             [
              1,
              "#f0f921"
             ]
            ],
            "type": "contour"
           }
          ],
          "contourcarpet": [
           {
            "colorbar": {
             "outlinewidth": 0,
             "ticks": ""
            },
            "type": "contourcarpet"
           }
          ],
          "heatmap": [
           {
            "colorbar": {
             "outlinewidth": 0,
             "ticks": ""
            },
            "colorscale": [
             [
              0,
              "#0d0887"
             ],
             [
              0.1111111111111111,
              "#46039f"
             ],
             [
              0.2222222222222222,
              "#7201a8"
             ],
             [
              0.3333333333333333,
              "#9c179e"
             ],
             [
              0.4444444444444444,
              "#bd3786"
             ],
             [
              0.5555555555555556,
              "#d8576b"
             ],
             [
              0.6666666666666666,
              "#ed7953"
             ],
             [
              0.7777777777777778,
              "#fb9f3a"
             ],
             [
              0.8888888888888888,
              "#fdca26"
             ],
             [
              1,
              "#f0f921"
             ]
            ],
            "type": "heatmap"
           }
          ],
          "histogram": [
           {
            "marker": {
             "pattern": {
              "fillmode": "overlay",
              "size": 10,
              "solidity": 0.2
             }
            },
            "type": "histogram"
           }
          ],
          "histogram2d": [
           {
            "colorbar": {
             "outlinewidth": 0,
             "ticks": ""
            },
            "colorscale": [
             [
              0,
              "#0d0887"
             ],
             [
              0.1111111111111111,
              "#46039f"
             ],
             [
              0.2222222222222222,
              "#7201a8"
             ],
             [
              0.3333333333333333,
              "#9c179e"
             ],
             [
              0.4444444444444444,
              "#bd3786"
             ],
             [
              0.5555555555555556,
              "#d8576b"
             ],
             [
              0.6666666666666666,
              "#ed7953"
             ],
             [
              0.7777777777777778,
              "#fb9f3a"
             ],
             [
              0.8888888888888888,
              "#fdca26"
             ],
             [
              1,
              "#f0f921"
             ]
            ],
            "type": "histogram2d"
           }
          ],
          "histogram2dcontour": [
           {
            "colorbar": {
             "outlinewidth": 0,
             "ticks": ""
            },
            "colorscale": [
             [
              0,
              "#0d0887"
             ],
             [
              0.1111111111111111,
              "#46039f"
             ],
             [
              0.2222222222222222,
              "#7201a8"
             ],
             [
              0.3333333333333333,
              "#9c179e"
             ],
             [
              0.4444444444444444,
              "#bd3786"
             ],
             [
              0.5555555555555556,
              "#d8576b"
             ],
             [
              0.6666666666666666,
              "#ed7953"
             ],
             [
              0.7777777777777778,
              "#fb9f3a"
             ],
             [
              0.8888888888888888,
              "#fdca26"
             ],
             [
              1,
              "#f0f921"
             ]
            ],
            "type": "histogram2dcontour"
           }
          ],
          "mesh3d": [
           {
            "colorbar": {
             "outlinewidth": 0,
             "ticks": ""
            },
            "type": "mesh3d"
           }
          ],
          "parcoords": [
           {
            "line": {
             "colorbar": {
              "outlinewidth": 0,
              "ticks": ""
             }
            },
            "type": "parcoords"
           }
          ],
          "pie": [
           {
            "automargin": true,
            "type": "pie"
           }
          ],
          "scatter": [
           {
            "fillpattern": {
             "fillmode": "overlay",
             "size": 10,
             "solidity": 0.2
            },
            "type": "scatter"
           }
          ],
          "scatter3d": [
           {
            "line": {
             "colorbar": {
              "outlinewidth": 0,
              "ticks": ""
             }
            },
            "marker": {
             "colorbar": {
              "outlinewidth": 0,
              "ticks": ""
             }
            },
            "type": "scatter3d"
           }
          ],
          "scattercarpet": [
           {
            "marker": {
             "colorbar": {
              "outlinewidth": 0,
              "ticks": ""
             }
            },
            "type": "scattercarpet"
           }
          ],
          "scattergeo": [
           {
            "marker": {
             "colorbar": {
              "outlinewidth": 0,
              "ticks": ""
             }
            },
            "type": "scattergeo"
           }
          ],
          "scattergl": [
           {
            "marker": {
             "colorbar": {
              "outlinewidth": 0,
              "ticks": ""
             }
            },
            "type": "scattergl"
           }
          ],
          "scattermap": [
           {
            "marker": {
             "colorbar": {
              "outlinewidth": 0,
              "ticks": ""
             }
            },
            "type": "scattermap"
           }
          ],
          "scattermapbox": [
           {
            "marker": {
             "colorbar": {
              "outlinewidth": 0,
              "ticks": ""
             }
            },
            "type": "scattermapbox"
           }
          ],
          "scatterpolar": [
           {
            "marker": {
             "colorbar": {
              "outlinewidth": 0,
              "ticks": ""
             }
            },
            "type": "scatterpolar"
           }
          ],
          "scatterpolargl": [
           {
            "marker": {
             "colorbar": {
              "outlinewidth": 0,
              "ticks": ""
             }
            },
            "type": "scatterpolargl"
           }
          ],
          "scatterternary": [
           {
            "marker": {
             "colorbar": {
              "outlinewidth": 0,
              "ticks": ""
             }
            },
            "type": "scatterternary"
           }
          ],
          "surface": [
           {
            "colorbar": {
             "outlinewidth": 0,
             "ticks": ""
            },
            "colorscale": [
             [
              0,
              "#0d0887"
             ],
             [
              0.1111111111111111,
              "#46039f"
             ],
             [
              0.2222222222222222,
              "#7201a8"
             ],
             [
              0.3333333333333333,
              "#9c179e"
             ],
             [
              0.4444444444444444,
              "#bd3786"
             ],
             [
              0.5555555555555556,
              "#d8576b"
             ],
             [
              0.6666666666666666,
              "#ed7953"
             ],
             [
              0.7777777777777778,
              "#fb9f3a"
             ],
             [
              0.8888888888888888,
              "#fdca26"
             ],
             [
              1,
              "#f0f921"
             ]
            ],
            "type": "surface"
           }
          ],
          "table": [
           {
            "cells": {
             "fill": {
              "color": "#EBF0F8"
             },
             "line": {
              "color": "white"
             }
            },
            "header": {
             "fill": {
              "color": "#C8D4E3"
             },
             "line": {
              "color": "white"
             }
            },
            "type": "table"
           }
          ]
         },
         "layout": {
          "annotationdefaults": {
           "arrowcolor": "#2a3f5f",
           "arrowhead": 0,
           "arrowwidth": 1
          },
          "autotypenumbers": "strict",
          "coloraxis": {
           "colorbar": {
            "outlinewidth": 0,
            "ticks": ""
           }
          },
          "colorscale": {
           "diverging": [
            [
             0,
             "#8e0152"
            ],
            [
             0.1,
             "#c51b7d"
            ],
            [
             0.2,
             "#de77ae"
            ],
            [
             0.3,
             "#f1b6da"
            ],
            [
             0.4,
             "#fde0ef"
            ],
            [
             0.5,
             "#f7f7f7"
            ],
            [
             0.6,
             "#e6f5d0"
            ],
            [
             0.7,
             "#b8e186"
            ],
            [
             0.8,
             "#7fbc41"
            ],
            [
             0.9,
             "#4d9221"
            ],
            [
             1,
             "#276419"
            ]
           ],
           "sequential": [
            [
             0,
             "#0d0887"
            ],
            [
             0.1111111111111111,
             "#46039f"
            ],
            [
             0.2222222222222222,
             "#7201a8"
            ],
            [
             0.3333333333333333,
             "#9c179e"
            ],
            [
             0.4444444444444444,
             "#bd3786"
            ],
            [
             0.5555555555555556,
             "#d8576b"
            ],
            [
             0.6666666666666666,
             "#ed7953"
            ],
            [
             0.7777777777777778,
             "#fb9f3a"
            ],
            [
             0.8888888888888888,
             "#fdca26"
            ],
            [
             1,
             "#f0f921"
            ]
           ],
           "sequentialminus": [
            [
             0,
             "#0d0887"
            ],
            [
             0.1111111111111111,
             "#46039f"
            ],
            [
             0.2222222222222222,
             "#7201a8"
            ],
            [
             0.3333333333333333,
             "#9c179e"
            ],
            [
             0.4444444444444444,
             "#bd3786"
            ],
            [
             0.5555555555555556,
             "#d8576b"
            ],
            [
             0.6666666666666666,
             "#ed7953"
            ],
            [
             0.7777777777777778,
             "#fb9f3a"
            ],
            [
             0.8888888888888888,
             "#fdca26"
            ],
            [
             1,
             "#f0f921"
            ]
           ]
          },
          "colorway": [
           "#636efa",
           "#EF553B",
           "#00cc96",
           "#ab63fa",
           "#FFA15A",
           "#19d3f3",
           "#FF6692",
           "#B6E880",
           "#FF97FF",
           "#FECB52"
          ],
          "font": {
           "color": "#2a3f5f"
          },
          "geo": {
           "bgcolor": "white",
           "lakecolor": "white",
           "landcolor": "#E5ECF6",
           "showlakes": true,
           "showland": true,
           "subunitcolor": "white"
          },
          "hoverlabel": {
           "align": "left"
          },
          "hovermode": "closest",
          "mapbox": {
           "style": "light"
          },
          "paper_bgcolor": "white",
          "plot_bgcolor": "#E5ECF6",
          "polar": {
           "angularaxis": {
            "gridcolor": "white",
            "linecolor": "white",
            "ticks": ""
           },
           "bgcolor": "#E5ECF6",
           "radialaxis": {
            "gridcolor": "white",
            "linecolor": "white",
            "ticks": ""
           }
          },
          "scene": {
           "xaxis": {
            "backgroundcolor": "#E5ECF6",
            "gridcolor": "white",
            "gridwidth": 2,
            "linecolor": "white",
            "showbackground": true,
            "ticks": "",
            "zerolinecolor": "white"
           },
           "yaxis": {
            "backgroundcolor": "#E5ECF6",
            "gridcolor": "white",
            "gridwidth": 2,
            "linecolor": "white",
            "showbackground": true,
            "ticks": "",
            "zerolinecolor": "white"
           },
           "zaxis": {
            "backgroundcolor": "#E5ECF6",
            "gridcolor": "white",
            "gridwidth": 2,
            "linecolor": "white",
            "showbackground": true,
            "ticks": "",
            "zerolinecolor": "white"
           }
          },
          "shapedefaults": {
           "line": {
            "color": "#2a3f5f"
           }
          },
          "ternary": {
           "aaxis": {
            "gridcolor": "white",
            "linecolor": "white",
            "ticks": ""
           },
           "baxis": {
            "gridcolor": "white",
            "linecolor": "white",
            "ticks": ""
           },
           "bgcolor": "#E5ECF6",
           "caxis": {
            "gridcolor": "white",
            "linecolor": "white",
            "ticks": ""
           }
          },
          "title": {
           "x": 0.05
          },
          "xaxis": {
           "automargin": true,
           "gridcolor": "white",
           "linecolor": "white",
           "ticks": "",
           "title": {
            "standoff": 15
           },
           "zerolinecolor": "white",
           "zerolinewidth": 2
          },
          "yaxis": {
           "automargin": true,
           "gridcolor": "white",
           "linecolor": "white",
           "ticks": "",
           "title": {
            "standoff": 15
           },
           "zerolinecolor": "white",
           "zerolinewidth": 2
          }
         }
        },
        "title": {
         "text": "Hermandades ocultas entre países – Heatmap clusterizado (z-score)"
        },
        "xaxis": {
         "anchor": "y",
         "domain": [
          0,
          1
         ]
        },
        "yaxis": {
         "anchor": "x",
         "autorange": "reversed",
         "domain": [
          0,
          1
         ]
        }
       }
      }
     },
     "metadata": {},
     "output_type": "display_data"
    }
   ],
   "source": [
    "# Visualizacion 6\n",
    "import numpy as np\n",
    "\n",
    "factors = [\"Economy (GDP per Capita)\", \"Family\", \"Health (Life Expectancy)\", \"Freedom\", \"Trust (Government Corruption)\", \"Generosity\"]\n",
    "\n",
    "# Filtrar columnas y quitar nulos\n",
    "dfm = df[[\"Country\", \"Region\"] + factors].dropna()\n",
    "\n",
    "# Normalización (z-score)\n",
    "X = dfm[factors].astype(float).to_numpy()\n",
    "Xz = (X - X.mean(axis=0)) / X.std(axis=0, ddof=0)\n",
    "\n",
    "countries = dfm[\"Country\"].to_numpy()\n",
    "regions   = dfm[\"Region\"].to_numpy()\n",
    "\n",
    "# Ordenar países (por 1ª componente principal)\n",
    "U, S, VT = np.linalg.svd(Xz, full_matrices=False)\n",
    "proj = (Xz @ VT.T)[:,0]\n",
    "order = np.argsort(proj)\n",
    "\n",
    "Xo, Co, Re = Xz[order], countries[order], regions[order]\n",
    "\n",
    "# Buscar \"hermanos inesperados\"\n",
    "D = np.linalg.norm(Xo[:,None,:] - Xo[None,:,:], axis=2)\n",
    "np.fill_diagonal(D, np.inf)\n",
    "mask = np.not_equal.outer(Re, Re)\n",
    "if mask.any():\n",
    "    Dm = np.where(mask, D, np.inf)\n",
    "    i, j = np.unravel_index(np.argmin(Dm), Dm.shape)\n",
    "else:\n",
    "    i, j = np.unravel_index(np.argmin(D), D.shape)\n",
    "\n",
    "print(f\"Hermanos inesperados: {Co[i]} ({Re[i]}) {Co[j]} ({Re[j]}) distancia = {D[i,j]:.3f}\")\n",
    "\n",
    "# Heatmap con px.imshow\n",
    "fig6 = px.imshow(\n",
    "    Xo,\n",
    "    x=factors,\n",
    "    y=Co,\n",
    "    color_continuous_scale=\"RdBu_r\",\n",
    "    labels={\"color\": \"z-score\"},\n",
    "    title=\"Hermandades ocultas entre países – Heatmap clusterizado (z-score)\",\n",
    "    aspect=\"auto\"   # <-- evita que quede tan delgado\n",
    ")\n",
    "\n",
    "# Resaltar hermanos inesperados\n",
    "for r in [i, j]:\n",
    "    fig6.add_shape(\n",
    "        type=\"rect\",\n",
    "        x0=-0.5, x1=len(factors)-0.5,\n",
    "        y0=r-0.5, y1=r+0.5,\n",
    "        line=dict(color=\"orange\", width=3)\n",
    "    )\n",
    "\n",
    "fig6.update_layout(   # más ancho\n",
    "    height=1200    # más alto\n",
    ")\n",
    "\n",
    "fig6.show()"
   ]
  },
  {
   "cell_type": "markdown",
   "id": "6be6bcd4",
   "metadata": {},
   "source": [
    "En el heatmap se resaltan con un recuadro naranja Australia y Netherlands como los dos países que aparecen como “hermanos inesperados\"Aunque pertenecen a regiones distintas, su perfil en los factores de felicidad resulta muy similar, lo que los hace destacar como pareja atípica en el cluster."
   ]
  },
  {
   "cell_type": "code",
   "execution_count": null,
   "id": "e09d7a42",
   "metadata": {},
   "outputs": [
    {
     "data": {
      "application/vnd.plotly.v1+json": {
       "config": {
        "plotlyServerURL": "https://plot.ly"
       },
       "data": [
        {
         "bingroup": "x",
         "hovertemplate": "Happiness Score=%{x}<br>count=%{y}<extra></extra>",
         "legendgroup": "",
         "marker": {
          "color": "#636efa",
          "opacity": 0.85,
          "pattern": {
           "shape": ""
          }
         },
         "name": "",
         "nbinsx": 30,
         "orientation": "v",
         "showlegend": false,
         "type": "histogram",
         "x": {
          "bdata": "DAIrhxZZHkBYObTIdj4eQM/3U+OlGx5ASgwCK4cWHkBoke18P7UdQDm0yHa+nx1AUI2XbhKDHUDb+X5qvHQdQL6fGi/dJB1AiUFg5dAiHUDpJjEIrBwdQIGVQ4ts5xxAzczMzMzMHEBzaJHtfL8cQGDl0CLbeRxAO99PjZfuG0BiEFg5tMgbQMP1KFyPwhtAc2iR7Xy/G0C0yHa+n5obQCuHFtnOdxtAtvP91HhpG0A9CtejcD0bQP7UeOkmMRtAvp8aL90kG0AAAAAAAAAbQK5H4XoUrhpAi2zn+6lxGkDNzMzMzEwaQLKd76fGSxpAhetRuB4FGkBxPQrXo/AZQJzEILBy6BlAUrgehevRGUC+nxov3aQZQDeJQWDlUBlAaJHtfD81GUD+1HjpJjEZQK5H4XoULhlA+n5qvHQTGUB56SYxCKwYQIXrUbgehRhAy6FFtvN9GEBQjZduEgMYQHsUrkfh+hdAppvEILDyF0BWDi2yne8XQGZmZmZm5hdA16NwPQrXF0CYbhKDwMoXQI/C9ShcjxdAdZMYBFaOF0BQjZduEoMXQOxRuB6FaxdAMQisHFpkF0CiRbbz/VQXQB1aZDvfTxdAsp3vp8ZLF0CNl24Sg0AXQESLbOf7KRdAFK5H4XoUF0Dwp8ZLNwkXQGq8dJMYBBdAd76fGi/dFkC8dJMYBNYWQEjhehSuxxZAqMZLN4nBFkDsUbgehWsWQEJg5dAiWxZA/tR46SYxFkCcxCCwcugVQEw3iUFg5RVAnu+nxku3FUB/arx0k5gVQHE9CtejcBVAhxbZzvdTFUC+nxov3SQVQN9PjZduEhVAUI2XbhIDFUAMAiuHFtkUQC2yne+nxhRA+FPjpZvEFED4U+Olm8QUQI/C9ShcjxRAarx0kxiEFEDl0CLb+X4UQMuhRbbzfRRAnMQgsHJoFEAxCKwcWmQUQJhuEoPAShRA7nw/NV46FEBaZDvfTw0UQLpJDAIrBxRA/Knx0k3iE0C8dJMYBNYTQLKd76fGyxNAZDvfT42XE0AK16NwPYoTQBsv3SQGgRNA5dAi2/l+E0ArhxbZzncTQCGwcmiRbRNAQmDl0CJbE0AzMzMzMzMTQPT91HjpJhNAvp8aL90kE0Db+X5qvPQSQFyPwvUo3BJALbKd76fGEkBYObTIdr4SQNNNYhBYuRJAaJHtfD+1EkDFILByaJESQNV46SYxiBJAcT0K16NwEkBiEFg5tEgSQMP1KFyPQhJAMzMzMzMzEkDfT42XbhISQMUgsHJoERJAdZMYBFYOEkA/NV66SQwSQLpJDAIrBxJAWDm0yHa+EUCTGARWDq0RQGDl0CLbeRFAZmZmZmZmEUCHFtnO91MRQO58PzVeOhFA46WbxCAwEUBeukkMAisRQC/dJAaBFRFANV66SQwCEUCsHFpkO98QQC2yne+nxhBAAiuHFtlOEEBvEoPAyiEQQPYoXI/C9Q9AtvP91HjpD0DZzvdT46UPQKabxCCwcg9ACKwcWmQ7D0BeukkMAisPQMP1KFyPwg5AWmQ730+NDkBzaJHtfD8OQKabxCCwcg1ABoGVQ4tsDUC8dJMYBFYNQHNoke18Pw1APQrXo3A9DUAZBFYOLbIMQJqZmZmZmQxAuB6F61G4C0C4HoXrUbgKQD81XrpJDAhAPQrXo3A9B0CDwMqhRbYGQA==",
          "dtype": "f8"
         },
         "xaxis": "x",
         "yaxis": "y"
        },
        {
         "hovertemplate": "Happiness Score=%{x}<extra></extra>",
         "legendgroup": "",
         "marker": {
          "color": "#636efa"
         },
         "name": "",
         "notched": true,
         "showlegend": false,
         "type": "box",
         "x": {
          "bdata": "DAIrhxZZHkBYObTIdj4eQM/3U+OlGx5ASgwCK4cWHkBoke18P7UdQDm0yHa+nx1AUI2XbhKDHUDb+X5qvHQdQL6fGi/dJB1AiUFg5dAiHUDpJjEIrBwdQIGVQ4ts5xxAzczMzMzMHEBzaJHtfL8cQGDl0CLbeRxAO99PjZfuG0BiEFg5tMgbQMP1KFyPwhtAc2iR7Xy/G0C0yHa+n5obQCuHFtnOdxtAtvP91HhpG0A9CtejcD0bQP7UeOkmMRtAvp8aL90kG0AAAAAAAAAbQK5H4XoUrhpAi2zn+6lxGkDNzMzMzEwaQLKd76fGSxpAhetRuB4FGkBxPQrXo/AZQJzEILBy6BlAUrgehevRGUC+nxov3aQZQDeJQWDlUBlAaJHtfD81GUD+1HjpJjEZQK5H4XoULhlA+n5qvHQTGUB56SYxCKwYQIXrUbgehRhAy6FFtvN9GEBQjZduEgMYQHsUrkfh+hdAppvEILDyF0BWDi2yne8XQGZmZmZm5hdA16NwPQrXF0CYbhKDwMoXQI/C9ShcjxdAdZMYBFaOF0BQjZduEoMXQOxRuB6FaxdAMQisHFpkF0CiRbbz/VQXQB1aZDvfTxdAsp3vp8ZLF0CNl24Sg0AXQESLbOf7KRdAFK5H4XoUF0Dwp8ZLNwkXQGq8dJMYBBdAd76fGi/dFkC8dJMYBNYWQEjhehSuxxZAqMZLN4nBFkDsUbgehWsWQEJg5dAiWxZA/tR46SYxFkCcxCCwcugVQEw3iUFg5RVAnu+nxku3FUB/arx0k5gVQHE9CtejcBVAhxbZzvdTFUC+nxov3SQVQN9PjZduEhVAUI2XbhIDFUAMAiuHFtkUQC2yne+nxhRA+FPjpZvEFED4U+Olm8QUQI/C9ShcjxRAarx0kxiEFEDl0CLb+X4UQMuhRbbzfRRAnMQgsHJoFEAxCKwcWmQUQJhuEoPAShRA7nw/NV46FEBaZDvfTw0UQLpJDAIrBxRA/Knx0k3iE0C8dJMYBNYTQLKd76fGyxNAZDvfT42XE0AK16NwPYoTQBsv3SQGgRNA5dAi2/l+E0ArhxbZzncTQCGwcmiRbRNAQmDl0CJbE0AzMzMzMzMTQPT91HjpJhNAvp8aL90kE0Db+X5qvPQSQFyPwvUo3BJALbKd76fGEkBYObTIdr4SQNNNYhBYuRJAaJHtfD+1EkDFILByaJESQNV46SYxiBJAcT0K16NwEkBiEFg5tEgSQMP1KFyPQhJAMzMzMzMzEkDfT42XbhISQMUgsHJoERJAdZMYBFYOEkA/NV66SQwSQLpJDAIrBxJAWDm0yHa+EUCTGARWDq0RQGDl0CLbeRFAZmZmZmZmEUCHFtnO91MRQO58PzVeOhFA46WbxCAwEUBeukkMAisRQC/dJAaBFRFANV66SQwCEUCsHFpkO98QQC2yne+nxhBAAiuHFtlOEEBvEoPAyiEQQPYoXI/C9Q9AtvP91HjpD0DZzvdT46UPQKabxCCwcg9ACKwcWmQ7D0BeukkMAisPQMP1KFyPwg5AWmQ730+NDkBzaJHtfD8OQKabxCCwcg1ABoGVQ4tsDUC8dJMYBFYNQHNoke18Pw1APQrXo3A9DUAZBFYOLbIMQJqZmZmZmQxAuB6F61G4C0C4HoXrUbgKQD81XrpJDAhAPQrXo3A9B0CDwMqhRbYGQA==",
          "dtype": "f8"
         },
         "xaxis": "x2",
         "yaxis": "y2"
        }
       ],
       "layout": {
        "barmode": "relative",
        "legend": {
         "tracegroupgap": 0
        },
        "template": {
         "data": {
          "bar": [
           {
            "error_x": {
             "color": "#2a3f5f"
            },
            "error_y": {
             "color": "#2a3f5f"
            },
            "marker": {
             "line": {
              "color": "#E5ECF6",
              "width": 0.5
             },
             "pattern": {
              "fillmode": "overlay",
              "size": 10,
              "solidity": 0.2
             }
            },
            "type": "bar"
           }
          ],
          "barpolar": [
           {
            "marker": {
             "line": {
              "color": "#E5ECF6",
              "width": 0.5
             },
             "pattern": {
              "fillmode": "overlay",
              "size": 10,
              "solidity": 0.2
             }
            },
            "type": "barpolar"
           }
          ],
          "carpet": [
           {
            "aaxis": {
             "endlinecolor": "#2a3f5f",
             "gridcolor": "white",
             "linecolor": "white",
             "minorgridcolor": "white",
             "startlinecolor": "#2a3f5f"
            },
            "baxis": {
             "endlinecolor": "#2a3f5f",
             "gridcolor": "white",
             "linecolor": "white",
             "minorgridcolor": "white",
             "startlinecolor": "#2a3f5f"
            },
            "type": "carpet"
           }
          ],
          "choropleth": [
           {
            "colorbar": {
             "outlinewidth": 0,
             "ticks": ""
            },
            "type": "choropleth"
           }
          ],
          "contour": [
           {
            "colorbar": {
             "outlinewidth": 0,
             "ticks": ""
            },
            "colorscale": [
             [
              0,
              "#0d0887"
             ],
             [
              0.1111111111111111,
              "#46039f"
             ],
             [
              0.2222222222222222,
              "#7201a8"
             ],
             [
              0.3333333333333333,
              "#9c179e"
             ],
             [
              0.4444444444444444,
              "#bd3786"
             ],
             [
              0.5555555555555556,
              "#d8576b"
             ],
             [
              0.6666666666666666,
              "#ed7953"
             ],
             [
              0.7777777777777778,
              "#fb9f3a"
             ],
             [
              0.8888888888888888,
              "#fdca26"
             ],
             [
              1,
              "#f0f921"
             ]
            ],
            "type": "contour"
           }
          ],
          "contourcarpet": [
           {
            "colorbar": {
             "outlinewidth": 0,
             "ticks": ""
            },
            "type": "contourcarpet"
           }
          ],
          "heatmap": [
           {
            "colorbar": {
             "outlinewidth": 0,
             "ticks": ""
            },
            "colorscale": [
             [
              0,
              "#0d0887"
             ],
             [
              0.1111111111111111,
              "#46039f"
             ],
             [
              0.2222222222222222,
              "#7201a8"
             ],
             [
              0.3333333333333333,
              "#9c179e"
             ],
             [
              0.4444444444444444,
              "#bd3786"
             ],
             [
              0.5555555555555556,
              "#d8576b"
             ],
             [
              0.6666666666666666,
              "#ed7953"
             ],
             [
              0.7777777777777778,
              "#fb9f3a"
             ],
             [
              0.8888888888888888,
              "#fdca26"
             ],
             [
              1,
              "#f0f921"
             ]
            ],
            "type": "heatmap"
           }
          ],
          "histogram": [
           {
            "marker": {
             "pattern": {
              "fillmode": "overlay",
              "size": 10,
              "solidity": 0.2
             }
            },
            "type": "histogram"
           }
          ],
          "histogram2d": [
           {
            "colorbar": {
             "outlinewidth": 0,
             "ticks": ""
            },
            "colorscale": [
             [
              0,
              "#0d0887"
             ],
             [
              0.1111111111111111,
              "#46039f"
             ],
             [
              0.2222222222222222,
              "#7201a8"
             ],
             [
              0.3333333333333333,
              "#9c179e"
             ],
             [
              0.4444444444444444,
              "#bd3786"
             ],
             [
              0.5555555555555556,
              "#d8576b"
             ],
             [
              0.6666666666666666,
              "#ed7953"
             ],
             [
              0.7777777777777778,
              "#fb9f3a"
             ],
             [
              0.8888888888888888,
              "#fdca26"
             ],
             [
              1,
              "#f0f921"
             ]
            ],
            "type": "histogram2d"
           }
          ],
          "histogram2dcontour": [
           {
            "colorbar": {
             "outlinewidth": 0,
             "ticks": ""
            },
            "colorscale": [
             [
              0,
              "#0d0887"
             ],
             [
              0.1111111111111111,
              "#46039f"
             ],
             [
              0.2222222222222222,
              "#7201a8"
             ],
             [
              0.3333333333333333,
              "#9c179e"
             ],
             [
              0.4444444444444444,
              "#bd3786"
             ],
             [
              0.5555555555555556,
              "#d8576b"
             ],
             [
              0.6666666666666666,
              "#ed7953"
             ],
             [
              0.7777777777777778,
              "#fb9f3a"
             ],
             [
              0.8888888888888888,
              "#fdca26"
             ],
             [
              1,
              "#f0f921"
             ]
            ],
            "type": "histogram2dcontour"
           }
          ],
          "mesh3d": [
           {
            "colorbar": {
             "outlinewidth": 0,
             "ticks": ""
            },
            "type": "mesh3d"
           }
          ],
          "parcoords": [
           {
            "line": {
             "colorbar": {
              "outlinewidth": 0,
              "ticks": ""
             }
            },
            "type": "parcoords"
           }
          ],
          "pie": [
           {
            "automargin": true,
            "type": "pie"
           }
          ],
          "scatter": [
           {
            "fillpattern": {
             "fillmode": "overlay",
             "size": 10,
             "solidity": 0.2
            },
            "type": "scatter"
           }
          ],
          "scatter3d": [
           {
            "line": {
             "colorbar": {
              "outlinewidth": 0,
              "ticks": ""
             }
            },
            "marker": {
             "colorbar": {
              "outlinewidth": 0,
              "ticks": ""
             }
            },
            "type": "scatter3d"
           }
          ],
          "scattercarpet": [
           {
            "marker": {
             "colorbar": {
              "outlinewidth": 0,
              "ticks": ""
             }
            },
            "type": "scattercarpet"
           }
          ],
          "scattergeo": [
           {
            "marker": {
             "colorbar": {
              "outlinewidth": 0,
              "ticks": ""
             }
            },
            "type": "scattergeo"
           }
          ],
          "scattergl": [
           {
            "marker": {
             "colorbar": {
              "outlinewidth": 0,
              "ticks": ""
             }
            },
            "type": "scattergl"
           }
          ],
          "scattermap": [
           {
            "marker": {
             "colorbar": {
              "outlinewidth": 0,
              "ticks": ""
             }
            },
            "type": "scattermap"
           }
          ],
          "scattermapbox": [
           {
            "marker": {
             "colorbar": {
              "outlinewidth": 0,
              "ticks": ""
             }
            },
            "type": "scattermapbox"
           }
          ],
          "scatterpolar": [
           {
            "marker": {
             "colorbar": {
              "outlinewidth": 0,
              "ticks": ""
             }
            },
            "type": "scatterpolar"
           }
          ],
          "scatterpolargl": [
           {
            "marker": {
             "colorbar": {
              "outlinewidth": 0,
              "ticks": ""
             }
            },
            "type": "scatterpolargl"
           }
          ],
          "scatterternary": [
           {
            "marker": {
             "colorbar": {
              "outlinewidth": 0,
              "ticks": ""
             }
            },
            "type": "scatterternary"
           }
          ],
          "surface": [
           {
            "colorbar": {
             "outlinewidth": 0,
             "ticks": ""
            },
            "colorscale": [
             [
              0,
              "#0d0887"
             ],
             [
              0.1111111111111111,
              "#46039f"
             ],
             [
              0.2222222222222222,
              "#7201a8"
             ],
             [
              0.3333333333333333,
              "#9c179e"
             ],
             [
              0.4444444444444444,
              "#bd3786"
             ],
             [
              0.5555555555555556,
              "#d8576b"
             ],
             [
              0.6666666666666666,
              "#ed7953"
             ],
             [
              0.7777777777777778,
              "#fb9f3a"
             ],
             [
              0.8888888888888888,
              "#fdca26"
             ],
             [
              1,
              "#f0f921"
             ]
            ],
            "type": "surface"
           }
          ],
          "table": [
           {
            "cells": {
             "fill": {
              "color": "#EBF0F8"
             },
             "line": {
              "color": "white"
             }
            },
            "header": {
             "fill": {
              "color": "#C8D4E3"
             },
             "line": {
              "color": "white"
             }
            },
            "type": "table"
           }
          ]
         },
         "layout": {
          "annotationdefaults": {
           "arrowcolor": "#2a3f5f",
           "arrowhead": 0,
           "arrowwidth": 1
          },
          "autotypenumbers": "strict",
          "coloraxis": {
           "colorbar": {
            "outlinewidth": 0,
            "ticks": ""
           }
          },
          "colorscale": {
           "diverging": [
            [
             0,
             "#8e0152"
            ],
            [
             0.1,
             "#c51b7d"
            ],
            [
             0.2,
             "#de77ae"
            ],
            [
             0.3,
             "#f1b6da"
            ],
            [
             0.4,
             "#fde0ef"
            ],
            [
             0.5,
             "#f7f7f7"
            ],
            [
             0.6,
             "#e6f5d0"
            ],
            [
             0.7,
             "#b8e186"
            ],
            [
             0.8,
             "#7fbc41"
            ],
            [
             0.9,
             "#4d9221"
            ],
            [
             1,
             "#276419"
            ]
           ],
           "sequential": [
            [
             0,
             "#0d0887"
            ],
            [
             0.1111111111111111,
             "#46039f"
            ],
            [
             0.2222222222222222,
             "#7201a8"
            ],
            [
             0.3333333333333333,
             "#9c179e"
            ],
            [
             0.4444444444444444,
             "#bd3786"
            ],
            [
             0.5555555555555556,
             "#d8576b"
            ],
            [
             0.6666666666666666,
             "#ed7953"
            ],
            [
             0.7777777777777778,
             "#fb9f3a"
            ],
            [
             0.8888888888888888,
             "#fdca26"
            ],
            [
             1,
             "#f0f921"
            ]
           ],
           "sequentialminus": [
            [
             0,
             "#0d0887"
            ],
            [
             0.1111111111111111,
             "#46039f"
            ],
            [
             0.2222222222222222,
             "#7201a8"
            ],
            [
             0.3333333333333333,
             "#9c179e"
            ],
            [
             0.4444444444444444,
             "#bd3786"
            ],
            [
             0.5555555555555556,
             "#d8576b"
            ],
            [
             0.6666666666666666,
             "#ed7953"
            ],
            [
             0.7777777777777778,
             "#fb9f3a"
            ],
            [
             0.8888888888888888,
             "#fdca26"
            ],
            [
             1,
             "#f0f921"
            ]
           ]
          },
          "colorway": [
           "#636efa",
           "#EF553B",
           "#00cc96",
           "#ab63fa",
           "#FFA15A",
           "#19d3f3",
           "#FF6692",
           "#B6E880",
           "#FF97FF",
           "#FECB52"
          ],
          "font": {
           "color": "#2a3f5f"
          },
          "geo": {
           "bgcolor": "white",
           "lakecolor": "white",
           "landcolor": "#E5ECF6",
           "showlakes": true,
           "showland": true,
           "subunitcolor": "white"
          },
          "hoverlabel": {
           "align": "left"
          },
          "hovermode": "closest",
          "mapbox": {
           "style": "light"
          },
          "paper_bgcolor": "white",
          "plot_bgcolor": "#E5ECF6",
          "polar": {
           "angularaxis": {
            "gridcolor": "white",
            "linecolor": "white",
            "ticks": ""
           },
           "bgcolor": "#E5ECF6",
           "radialaxis": {
            "gridcolor": "white",
            "linecolor": "white",
            "ticks": ""
           }
          },
          "scene": {
           "xaxis": {
            "backgroundcolor": "#E5ECF6",
            "gridcolor": "white",
            "gridwidth": 2,
            "linecolor": "white",
            "showbackground": true,
            "ticks": "",
            "zerolinecolor": "white"
           },
           "yaxis": {
            "backgroundcolor": "#E5ECF6",
            "gridcolor": "white",
            "gridwidth": 2,
            "linecolor": "white",
            "showbackground": true,
            "ticks": "",
            "zerolinecolor": "white"
           },
           "zaxis": {
            "backgroundcolor": "#E5ECF6",
            "gridcolor": "white",
            "gridwidth": 2,
            "linecolor": "white",
            "showbackground": true,
            "ticks": "",
            "zerolinecolor": "white"
           }
          },
          "shapedefaults": {
           "line": {
            "color": "#2a3f5f"
           }
          },
          "ternary": {
           "aaxis": {
            "gridcolor": "white",
            "linecolor": "white",
            "ticks": ""
           },
           "baxis": {
            "gridcolor": "white",
            "linecolor": "white",
            "ticks": ""
           },
           "bgcolor": "#E5ECF6",
           "caxis": {
            "gridcolor": "white",
            "linecolor": "white",
            "ticks": ""
           }
          },
          "title": {
           "x": 0.05
          },
          "xaxis": {
           "automargin": true,
           "gridcolor": "white",
           "linecolor": "white",
           "ticks": "",
           "title": {
            "standoff": 15
           },
           "zerolinecolor": "white",
           "zerolinewidth": 2
          },
          "yaxis": {
           "automargin": true,
           "gridcolor": "white",
           "linecolor": "white",
           "ticks": "",
           "title": {
            "standoff": 15
           },
           "zerolinecolor": "white",
           "zerolinewidth": 2
          }
         }
        },
        "title": {
         "text": "Distribución de Happiness Score"
        },
        "xaxis": {
         "anchor": "y",
         "domain": [
          0,
          1
         ],
         "title": {
          "text": "Happiness Score"
         }
        },
        "xaxis2": {
         "anchor": "y2",
         "domain": [
          0,
          1
         ],
         "matches": "x",
         "showgrid": true,
         "showticklabels": false
        },
        "yaxis": {
         "anchor": "x",
         "domain": [
          0,
          0.8316
         ],
         "title": {
          "text": "Frecuencia"
         }
        },
        "yaxis2": {
         "anchor": "x2",
         "domain": [
          0.8416,
          1
         ],
         "matches": "y2",
         "showgrid": false,
         "showline": false,
         "showticklabels": false,
         "ticks": ""
        }
       }
      }
     },
     "metadata": {},
     "output_type": "display_data"
    }
   ],
   "source": [
    "# Visualización 7\n",
    "\n",
    "# Histograma de Happiness Score con box marginal\n",
    "fig7 = px.histogram(\n",
    "    df,\n",
    "    x=\"Happiness Score\",   # usa exactamente el nombre de tu Excel\n",
    "    nbins=30,\n",
    "    marginal=\"box\",\n",
    "    opacity=0.85,\n",
    "    title=\"Distribución de Happiness Score\"\n",
    ")\n",
    "fig7.update_layout(xaxis_title=\"Happiness Score\", yaxis_title=\"Frecuencia\")\n",
    "fig7.show()"
   ]
  },
  {
   "cell_type": "code",
   "execution_count": null,
   "id": "9d8160ce",
   "metadata": {},
   "outputs": [
    {
     "data": {
      "application/vnd.plotly.v1+json": {
       "config": {
        "plotlyServerURL": "https://plot.ly"
       },
       "data": [
        {
         "alignmentgroup": "True",
         "boxpoints": "outliers",
         "hovertemplate": "Region=%{x}<br>Happiness Score=%{y}<extra></extra>",
         "legendgroup": "",
         "marker": {
          "color": "#636efa"
         },
         "name": "",
         "notched": false,
         "offsetgroup": "",
         "orientation": "v",
         "showlegend": false,
         "type": "box",
         "x": [
          "Western Europe",
          "Western Europe",
          "Western Europe",
          "Western Europe",
          "North America",
          "Western Europe",
          "Western Europe",
          "Western Europe",
          "Australia and New Zealand",
          "Australia and New Zealand",
          "Middle East and Northern Africa",
          "Latin America and Caribbean",
          "Western Europe",
          "Latin America and Caribbean",
          "North America",
          "Latin America and Caribbean",
          "Western Europe",
          "Western Europe",
          "Western Europe",
          "Middle East and Northern Africa",
          "Western Europe",
          "Middle East and Northern Africa",
          "Latin America and Caribbean",
          "Southeastern Asia",
          "Latin America and Caribbean",
          "Western Europe",
          "Latin America and Caribbean",
          "Middle East and Northern Africa",
          "Western Europe",
          "Latin America and Caribbean",
          "Central and Eastern Europe",
          "Latin America and Caribbean",
          "Latin America and Caribbean",
          "Southeastern Asia",
          "Middle East and Northern Africa",
          "Western Europe",
          "Western Europe",
          "Eastern Asia",
          "Middle East and Northern Africa",
          "Latin America and Caribbean",
          "Latin America and Caribbean",
          "Latin America and Caribbean",
          "Latin America and Caribbean",
          "Central and Eastern Europe",
          "Central and Eastern Europe",
          "Eastern Asia",
          "Eastern Asia",
          "Latin America and Caribbean",
          "Middle East and Northern Africa",
          "Western Europe",
          "Latin America and Caribbean",
          "Central and Eastern Europe",
          "Latin America and Caribbean",
          "Central and Eastern Europe",
          "Central and Eastern Europe",
          "Central and Eastern Europe",
          "Latin America and Caribbean",
          "Latin America and Caribbean",
          "Central and Eastern Europe",
          "Central and Eastern Europe",
          "Southeastern Asia",
          "Central and Eastern Europe",
          "Middle East and Northern Africa",
          "Central and Eastern Europe",
          "Latin America and Caribbean",
          "Western Europe",
          "Western Europe",
          "Middle East and Northern Africa",
          "Central and Eastern Europe",
          "Central and Eastern Europe",
          "Sub-Saharan Africa",
          "Eastern Asia",
          "Central and Eastern Europe",
          "Southeastern Asia",
          "Southeastern Asia",
          "Middle East and Northern Africa",
          "Central and Eastern Europe",
          "Sub-Saharan Africa",
          "Southern Asia",
          "Central and Eastern Europe",
          "Southern Asia",
          "Middle East and Northern Africa",
          "Central and Eastern Europe",
          "Eastern Asia",
          "Sub-Saharan Africa",
          "Central and Eastern Europe",
          "Central and Eastern Europe",
          "Western Europe",
          "Central and Eastern Europe",
          "Southeastern Asia",
          "Sub-Saharan Africa",
          "Middle East and Northern Africa",
          "Central and Eastern Europe",
          "Sub-Saharan Africa",
          "Central and Eastern Europe",
          "Central and Eastern Europe",
          "Sub-Saharan Africa",
          "Latin America and Caribbean",
          "Southeastern Asia",
          "Eastern Asia",
          "Sub-Saharan Africa",
          "Western Europe",
          "Middle East and Northern Africa",
          "Central and Eastern Europe",
          "Latin America and Caribbean",
          "Central and Eastern Europe",
          "Middle East and Northern Africa",
          "Middle East and Northern Africa",
          "Southern Asia",
          "Middle East and Northern Africa",
          "Central and Eastern Europe",
          "Middle East and Northern Africa",
          "Sub-Saharan Africa",
          "Sub-Saharan Africa",
          "Sub-Saharan Africa",
          "Sub-Saharan Africa",
          "Southern Asia",
          "Sub-Saharan Africa",
          "Latin America and Caribbean",
          "Sub-Saharan Africa",
          "Southern Asia",
          "Sub-Saharan Africa",
          "Sub-Saharan Africa",
          "Sub-Saharan Africa",
          "Sub-Saharan Africa",
          "Sub-Saharan Africa",
          "Central and Eastern Europe",
          "Sub-Saharan Africa",
          "Southeastern Asia",
          "Central and Eastern Europe",
          "Sub-Saharan Africa",
          "Southern Asia",
          "Sub-Saharan Africa",
          "Central and Eastern Europe",
          "Middle East and Northern Africa",
          "Middle East and Northern Africa",
          "Sub-Saharan Africa",
          "Sub-Saharan Africa",
          "Sub-Saharan Africa",
          "Sub-Saharan Africa",
          "Sub-Saharan Africa",
          "Sub-Saharan Africa",
          "Sub-Saharan Africa",
          "Sub-Saharan Africa",
          "Southeastern Asia",
          "Sub-Saharan Africa",
          "Sub-Saharan Africa",
          "Sub-Saharan Africa",
          "Sub-Saharan Africa",
          "Sub-Saharan Africa",
          "Sub-Saharan Africa",
          "Sub-Saharan Africa",
          "Southern Asia",
          "Sub-Saharan Africa",
          "Sub-Saharan Africa",
          "Middle East and Northern Africa",
          "Sub-Saharan Africa",
          "Sub-Saharan Africa"
         ],
         "x0": " ",
         "xaxis": "x",
         "y": {
          "bdata": "DAIrhxZZHkBYObTIdj4eQM/3U+OlGx5ASgwCK4cWHkBoke18P7UdQDm0yHa+nx1AUI2XbhKDHUDb+X5qvHQdQL6fGi/dJB1AiUFg5dAiHUDpJjEIrBwdQIGVQ4ts5xxAzczMzMzMHEBzaJHtfL8cQGDl0CLbeRxAO99PjZfuG0BiEFg5tMgbQMP1KFyPwhtAc2iR7Xy/G0C0yHa+n5obQCuHFtnOdxtAtvP91HhpG0A9CtejcD0bQP7UeOkmMRtAvp8aL90kG0AAAAAAAAAbQK5H4XoUrhpAi2zn+6lxGkDNzMzMzEwaQLKd76fGSxpAhetRuB4FGkBxPQrXo/AZQJzEILBy6BlAUrgehevRGUC+nxov3aQZQDeJQWDlUBlAaJHtfD81GUD+1HjpJjEZQK5H4XoULhlA+n5qvHQTGUB56SYxCKwYQIXrUbgehRhAy6FFtvN9GEBQjZduEgMYQHsUrkfh+hdAppvEILDyF0BWDi2yne8XQGZmZmZm5hdA16NwPQrXF0CYbhKDwMoXQI/C9ShcjxdAdZMYBFaOF0BQjZduEoMXQOxRuB6FaxdAMQisHFpkF0CiRbbz/VQXQB1aZDvfTxdAsp3vp8ZLF0CNl24Sg0AXQESLbOf7KRdAFK5H4XoUF0Dwp8ZLNwkXQGq8dJMYBBdAd76fGi/dFkC8dJMYBNYWQEjhehSuxxZAqMZLN4nBFkDsUbgehWsWQEJg5dAiWxZA/tR46SYxFkCcxCCwcugVQEw3iUFg5RVAnu+nxku3FUB/arx0k5gVQHE9CtejcBVAhxbZzvdTFUC+nxov3SQVQN9PjZduEhVAUI2XbhIDFUAMAiuHFtkUQC2yne+nxhRA+FPjpZvEFED4U+Olm8QUQI/C9ShcjxRAarx0kxiEFEDl0CLb+X4UQMuhRbbzfRRAnMQgsHJoFEAxCKwcWmQUQJhuEoPAShRA7nw/NV46FEBaZDvfTw0UQLpJDAIrBxRA/Knx0k3iE0C8dJMYBNYTQLKd76fGyxNAZDvfT42XE0AK16NwPYoTQBsv3SQGgRNA5dAi2/l+E0ArhxbZzncTQCGwcmiRbRNAQmDl0CJbE0AzMzMzMzMTQPT91HjpJhNAvp8aL90kE0Db+X5qvPQSQFyPwvUo3BJALbKd76fGEkBYObTIdr4SQNNNYhBYuRJAaJHtfD+1EkDFILByaJESQNV46SYxiBJAcT0K16NwEkBiEFg5tEgSQMP1KFyPQhJAMzMzMzMzEkDfT42XbhISQMUgsHJoERJAdZMYBFYOEkA/NV66SQwSQLpJDAIrBxJAWDm0yHa+EUCTGARWDq0RQGDl0CLbeRFAZmZmZmZmEUCHFtnO91MRQO58PzVeOhFA46WbxCAwEUBeukkMAisRQC/dJAaBFRFANV66SQwCEUCsHFpkO98QQC2yne+nxhBAAiuHFtlOEEBvEoPAyiEQQPYoXI/C9Q9AtvP91HjpD0DZzvdT46UPQKabxCCwcg9ACKwcWmQ7D0BeukkMAisPQMP1KFyPwg5AWmQ730+NDkBzaJHtfD8OQKabxCCwcg1ABoGVQ4tsDUC8dJMYBFYNQHNoke18Pw1APQrXo3A9DUAZBFYOLbIMQJqZmZmZmQxAuB6F61G4C0C4HoXrUbgKQD81XrpJDAhAPQrXo3A9B0CDwMqhRbYGQA==",
          "dtype": "f8"
         },
         "y0": " ",
         "yaxis": "y"
        }
       ],
       "layout": {
        "boxmode": "group",
        "legend": {
         "tracegroupgap": 0
        },
        "template": {
         "data": {
          "bar": [
           {
            "error_x": {
             "color": "#2a3f5f"
            },
            "error_y": {
             "color": "#2a3f5f"
            },
            "marker": {
             "line": {
              "color": "#E5ECF6",
              "width": 0.5
             },
             "pattern": {
              "fillmode": "overlay",
              "size": 10,
              "solidity": 0.2
             }
            },
            "type": "bar"
           }
          ],
          "barpolar": [
           {
            "marker": {
             "line": {
              "color": "#E5ECF6",
              "width": 0.5
             },
             "pattern": {
              "fillmode": "overlay",
              "size": 10,
              "solidity": 0.2
             }
            },
            "type": "barpolar"
           }
          ],
          "carpet": [
           {
            "aaxis": {
             "endlinecolor": "#2a3f5f",
             "gridcolor": "white",
             "linecolor": "white",
             "minorgridcolor": "white",
             "startlinecolor": "#2a3f5f"
            },
            "baxis": {
             "endlinecolor": "#2a3f5f",
             "gridcolor": "white",
             "linecolor": "white",
             "minorgridcolor": "white",
             "startlinecolor": "#2a3f5f"
            },
            "type": "carpet"
           }
          ],
          "choropleth": [
           {
            "colorbar": {
             "outlinewidth": 0,
             "ticks": ""
            },
            "type": "choropleth"
           }
          ],
          "contour": [
           {
            "colorbar": {
             "outlinewidth": 0,
             "ticks": ""
            },
            "colorscale": [
             [
              0,
              "#0d0887"
             ],
             [
              0.1111111111111111,
              "#46039f"
             ],
             [
              0.2222222222222222,
              "#7201a8"
             ],
             [
              0.3333333333333333,
              "#9c179e"
             ],
             [
              0.4444444444444444,
              "#bd3786"
             ],
             [
              0.5555555555555556,
              "#d8576b"
             ],
             [
              0.6666666666666666,
              "#ed7953"
             ],
             [
              0.7777777777777778,
              "#fb9f3a"
             ],
             [
              0.8888888888888888,
              "#fdca26"
             ],
             [
              1,
              "#f0f921"
             ]
            ],
            "type": "contour"
           }
          ],
          "contourcarpet": [
           {
            "colorbar": {
             "outlinewidth": 0,
             "ticks": ""
            },
            "type": "contourcarpet"
           }
          ],
          "heatmap": [
           {
            "colorbar": {
             "outlinewidth": 0,
             "ticks": ""
            },
            "colorscale": [
             [
              0,
              "#0d0887"
             ],
             [
              0.1111111111111111,
              "#46039f"
             ],
             [
              0.2222222222222222,
              "#7201a8"
             ],
             [
              0.3333333333333333,
              "#9c179e"
             ],
             [
              0.4444444444444444,
              "#bd3786"
             ],
             [
              0.5555555555555556,
              "#d8576b"
             ],
             [
              0.6666666666666666,
              "#ed7953"
             ],
             [
              0.7777777777777778,
              "#fb9f3a"
             ],
             [
              0.8888888888888888,
              "#fdca26"
             ],
             [
              1,
              "#f0f921"
             ]
            ],
            "type": "heatmap"
           }
          ],
          "histogram": [
           {
            "marker": {
             "pattern": {
              "fillmode": "overlay",
              "size": 10,
              "solidity": 0.2
             }
            },
            "type": "histogram"
           }
          ],
          "histogram2d": [
           {
            "colorbar": {
             "outlinewidth": 0,
             "ticks": ""
            },
            "colorscale": [
             [
              0,
              "#0d0887"
             ],
             [
              0.1111111111111111,
              "#46039f"
             ],
             [
              0.2222222222222222,
              "#7201a8"
             ],
             [
              0.3333333333333333,
              "#9c179e"
             ],
             [
              0.4444444444444444,
              "#bd3786"
             ],
             [
              0.5555555555555556,
              "#d8576b"
             ],
             [
              0.6666666666666666,
              "#ed7953"
             ],
             [
              0.7777777777777778,
              "#fb9f3a"
             ],
             [
              0.8888888888888888,
              "#fdca26"
             ],
             [
              1,
              "#f0f921"
             ]
            ],
            "type": "histogram2d"
           }
          ],
          "histogram2dcontour": [
           {
            "colorbar": {
             "outlinewidth": 0,
             "ticks": ""
            },
            "colorscale": [
             [
              0,
              "#0d0887"
             ],
             [
              0.1111111111111111,
              "#46039f"
             ],
             [
              0.2222222222222222,
              "#7201a8"
             ],
             [
              0.3333333333333333,
              "#9c179e"
             ],
             [
              0.4444444444444444,
              "#bd3786"
             ],
             [
              0.5555555555555556,
              "#d8576b"
             ],
             [
              0.6666666666666666,
              "#ed7953"
             ],
             [
              0.7777777777777778,
              "#fb9f3a"
             ],
             [
              0.8888888888888888,
              "#fdca26"
             ],
             [
              1,
              "#f0f921"
             ]
            ],
            "type": "histogram2dcontour"
           }
          ],
          "mesh3d": [
           {
            "colorbar": {
             "outlinewidth": 0,
             "ticks": ""
            },
            "type": "mesh3d"
           }
          ],
          "parcoords": [
           {
            "line": {
             "colorbar": {
              "outlinewidth": 0,
              "ticks": ""
             }
            },
            "type": "parcoords"
           }
          ],
          "pie": [
           {
            "automargin": true,
            "type": "pie"
           }
          ],
          "scatter": [
           {
            "fillpattern": {
             "fillmode": "overlay",
             "size": 10,
             "solidity": 0.2
            },
            "type": "scatter"
           }
          ],
          "scatter3d": [
           {
            "line": {
             "colorbar": {
              "outlinewidth": 0,
              "ticks": ""
             }
            },
            "marker": {
             "colorbar": {
              "outlinewidth": 0,
              "ticks": ""
             }
            },
            "type": "scatter3d"
           }
          ],
          "scattercarpet": [
           {
            "marker": {
             "colorbar": {
              "outlinewidth": 0,
              "ticks": ""
             }
            },
            "type": "scattercarpet"
           }
          ],
          "scattergeo": [
           {
            "marker": {
             "colorbar": {
              "outlinewidth": 0,
              "ticks": ""
             }
            },
            "type": "scattergeo"
           }
          ],
          "scattergl": [
           {
            "marker": {
             "colorbar": {
              "outlinewidth": 0,
              "ticks": ""
             }
            },
            "type": "scattergl"
           }
          ],
          "scattermap": [
           {
            "marker": {
             "colorbar": {
              "outlinewidth": 0,
              "ticks": ""
             }
            },
            "type": "scattermap"
           }
          ],
          "scattermapbox": [
           {
            "marker": {
             "colorbar": {
              "outlinewidth": 0,
              "ticks": ""
             }
            },
            "type": "scattermapbox"
           }
          ],
          "scatterpolar": [
           {
            "marker": {
             "colorbar": {
              "outlinewidth": 0,
              "ticks": ""
             }
            },
            "type": "scatterpolar"
           }
          ],
          "scatterpolargl": [
           {
            "marker": {
             "colorbar": {
              "outlinewidth": 0,
              "ticks": ""
             }
            },
            "type": "scatterpolargl"
           }
          ],
          "scatterternary": [
           {
            "marker": {
             "colorbar": {
              "outlinewidth": 0,
              "ticks": ""
             }
            },
            "type": "scatterternary"
           }
          ],
          "surface": [
           {
            "colorbar": {
             "outlinewidth": 0,
             "ticks": ""
            },
            "colorscale": [
             [
              0,
              "#0d0887"
             ],
             [
              0.1111111111111111,
              "#46039f"
             ],
             [
              0.2222222222222222,
              "#7201a8"
             ],
             [
              0.3333333333333333,
              "#9c179e"
             ],
             [
              0.4444444444444444,
              "#bd3786"
             ],
             [
              0.5555555555555556,
              "#d8576b"
             ],
             [
              0.6666666666666666,
              "#ed7953"
             ],
             [
              0.7777777777777778,
              "#fb9f3a"
             ],
             [
              0.8888888888888888,
              "#fdca26"
             ],
             [
              1,
              "#f0f921"
             ]
            ],
            "type": "surface"
           }
          ],
          "table": [
           {
            "cells": {
             "fill": {
              "color": "#EBF0F8"
             },
             "line": {
              "color": "white"
             }
            },
            "header": {
             "fill": {
              "color": "#C8D4E3"
             },
             "line": {
              "color": "white"
             }
            },
            "type": "table"
           }
          ]
         },
         "layout": {
          "annotationdefaults": {
           "arrowcolor": "#2a3f5f",
           "arrowhead": 0,
           "arrowwidth": 1
          },
          "autotypenumbers": "strict",
          "coloraxis": {
           "colorbar": {
            "outlinewidth": 0,
            "ticks": ""
           }
          },
          "colorscale": {
           "diverging": [
            [
             0,
             "#8e0152"
            ],
            [
             0.1,
             "#c51b7d"
            ],
            [
             0.2,
             "#de77ae"
            ],
            [
             0.3,
             "#f1b6da"
            ],
            [
             0.4,
             "#fde0ef"
            ],
            [
             0.5,
             "#f7f7f7"
            ],
            [
             0.6,
             "#e6f5d0"
            ],
            [
             0.7,
             "#b8e186"
            ],
            [
             0.8,
             "#7fbc41"
            ],
            [
             0.9,
             "#4d9221"
            ],
            [
             1,
             "#276419"
            ]
           ],
           "sequential": [
            [
             0,
             "#0d0887"
            ],
            [
             0.1111111111111111,
             "#46039f"
            ],
            [
             0.2222222222222222,
             "#7201a8"
            ],
            [
             0.3333333333333333,
             "#9c179e"
            ],
            [
             0.4444444444444444,
             "#bd3786"
            ],
            [
             0.5555555555555556,
             "#d8576b"
            ],
            [
             0.6666666666666666,
             "#ed7953"
            ],
            [
             0.7777777777777778,
             "#fb9f3a"
            ],
            [
             0.8888888888888888,
             "#fdca26"
            ],
            [
             1,
             "#f0f921"
            ]
           ],
           "sequentialminus": [
            [
             0,
             "#0d0887"
            ],
            [
             0.1111111111111111,
             "#46039f"
            ],
            [
             0.2222222222222222,
             "#7201a8"
            ],
            [
             0.3333333333333333,
             "#9c179e"
            ],
            [
             0.4444444444444444,
             "#bd3786"
            ],
            [
             0.5555555555555556,
             "#d8576b"
            ],
            [
             0.6666666666666666,
             "#ed7953"
            ],
            [
             0.7777777777777778,
             "#fb9f3a"
            ],
            [
             0.8888888888888888,
             "#fdca26"
            ],
            [
             1,
             "#f0f921"
            ]
           ]
          },
          "colorway": [
           "#636efa",
           "#EF553B",
           "#00cc96",
           "#ab63fa",
           "#FFA15A",
           "#19d3f3",
           "#FF6692",
           "#B6E880",
           "#FF97FF",
           "#FECB52"
          ],
          "font": {
           "color": "#2a3f5f"
          },
          "geo": {
           "bgcolor": "white",
           "lakecolor": "white",
           "landcolor": "#E5ECF6",
           "showlakes": true,
           "showland": true,
           "subunitcolor": "white"
          },
          "hoverlabel": {
           "align": "left"
          },
          "hovermode": "closest",
          "mapbox": {
           "style": "light"
          },
          "paper_bgcolor": "white",
          "plot_bgcolor": "#E5ECF6",
          "polar": {
           "angularaxis": {
            "gridcolor": "white",
            "linecolor": "white",
            "ticks": ""
           },
           "bgcolor": "#E5ECF6",
           "radialaxis": {
            "gridcolor": "white",
            "linecolor": "white",
            "ticks": ""
           }
          },
          "scene": {
           "xaxis": {
            "backgroundcolor": "#E5ECF6",
            "gridcolor": "white",
            "gridwidth": 2,
            "linecolor": "white",
            "showbackground": true,
            "ticks": "",
            "zerolinecolor": "white"
           },
           "yaxis": {
            "backgroundcolor": "#E5ECF6",
            "gridcolor": "white",
            "gridwidth": 2,
            "linecolor": "white",
            "showbackground": true,
            "ticks": "",
            "zerolinecolor": "white"
           },
           "zaxis": {
            "backgroundcolor": "#E5ECF6",
            "gridcolor": "white",
            "gridwidth": 2,
            "linecolor": "white",
            "showbackground": true,
            "ticks": "",
            "zerolinecolor": "white"
           }
          },
          "shapedefaults": {
           "line": {
            "color": "#2a3f5f"
           }
          },
          "ternary": {
           "aaxis": {
            "gridcolor": "white",
            "linecolor": "white",
            "ticks": ""
           },
           "baxis": {
            "gridcolor": "white",
            "linecolor": "white",
            "ticks": ""
           },
           "bgcolor": "#E5ECF6",
           "caxis": {
            "gridcolor": "white",
            "linecolor": "white",
            "ticks": ""
           }
          },
          "title": {
           "x": 0.05
          },
          "xaxis": {
           "automargin": true,
           "gridcolor": "white",
           "linecolor": "white",
           "ticks": "",
           "title": {
            "standoff": 15
           },
           "zerolinecolor": "white",
           "zerolinewidth": 2
          },
          "yaxis": {
           "automargin": true,
           "gridcolor": "white",
           "linecolor": "white",
           "ticks": "",
           "title": {
            "standoff": 15
           },
           "zerolinecolor": "white",
           "zerolinewidth": 2
          }
         }
        },
        "title": {
         "text": "Heterogeneidad de Happiness Score por Región"
        },
        "xaxis": {
         "anchor": "y",
         "domain": [
          0,
          1
         ],
         "tickangle": 45,
         "title": {
          "text": "Región"
         }
        },
        "yaxis": {
         "anchor": "x",
         "domain": [
          0,
          1
         ],
         "title": {
          "text": "Happiness Score"
         }
        }
       }
      }
     },
     "metadata": {},
     "output_type": "display_data"
    }
   ],
   "source": [
    "# Visualización 8\n",
    "\n",
    "# Boxplot de Happiness Score por Region\n",
    "fig8 = px.box(\n",
    "    df,\n",
    "    x=\"Region\",              \n",
    "    y=\"Happiness Score\",     \n",
    "    points=\"outliers\",       \n",
    "    title=\"Heterogeneidad de Happiness Score por Región\"\n",
    ")\n",
    "\n",
    "fig8.update_layout(\n",
    "    xaxis_title=\"Región\",\n",
    "    yaxis_title=\"Happiness Score\",\n",
    "    xaxis_tickangle=45\n",
    ")\n",
    "\n",
    "fig8.show()\n"
   ]
  },
  {
   "cell_type": "markdown",
   "id": "01ac0313",
   "metadata": {},
   "source": [
    "LATAM y caribbean tiene una mediana de Happiness Score ligeramente por encima de la global, lo que refleja un nivel medio-alto en comparación mundial, aunque un outlier con puntaje bajo evidencia la desigualdad interna en la región."
   ]
  },
  {
   "cell_type": "markdown",
   "id": "bd7b55a5",
   "metadata": {},
   "source": [
    "R"
   ]
  },
  {
   "cell_type": "code",
   "execution_count": null,
   "id": "485f538f",
   "metadata": {},
   "outputs": [
    {
     "data": {
      "application/vnd.plotly.v1+json": {
       "config": {
        "plotlyServerURL": "https://plot.ly"
       },
       "data": [
        {
         "customdata": {
          "bdata": "DAIrhxZZHkBYObTIdj4eQM/3U+OlGx5ASgwCK4cWHkA5tMh2vp8dQFCNl24Sgx1A2/l+arx0HUDNzMzMzMwcQGIQWDm0yBtAw/UoXI/CG0BzaJHtfL8bQCuHFtnOdxtAAAAAAAAAG0DNzMzMzEwaQDeJQWDlUBlAaJHtfD81GUCYbhKDwMoXQEjhehSuxxZAqMZLN4nBFkCcxCCwcmgUQCGwcmiRbRNA",
          "dtype": "f8",
          "shape": "21, 1"
         },
         "hovertemplate": "<b>%{hovertext}</b><br><br>Region=Western Europe<br>Freedom=%{x}<br>Trust (Government Corruption)=%{y}<br>Happiness Score=%{customdata[0]}<extra></extra>",
         "hovertext": [
          "Switzerland",
          "Iceland",
          "Denmark",
          "Norway",
          "Finland",
          "Netherlands",
          "Sweden",
          "Austria",
          "Luxembourg",
          "Ireland",
          "Belgium",
          "United Kingdom",
          "Germany",
          "France",
          "Spain",
          "Malta",
          "Italy",
          "North Cyprus",
          "Cyprus",
          "Portugal",
          "Greece"
         ],
         "legendgroup": "Western Europe",
         "marker": {
          "color": "#636efa",
          "symbol": "circle"
         },
         "mode": "markers",
         "name": "Western Europe",
         "orientation": "v",
         "showlegend": true,
         "type": "scatter",
         "x": {
          "bdata": "6lvmdFlM5T/mllZD4h7kP7ml1ZC4x+Q/dc3km21u5T+bcoV3uYjkPzHrxVBOtOM/W9O84xQd5T98LH3ogvrjP2mpvB3htOM/v2VOl8XE4z9OYhBYObTiPxSuR+F6FOM/QPuRIjKs4z9fe2ZJgJrhP2LWi6GcaN0/cF8HzhlR4z/t0/GYgcrQP1RvDWyVYN8/gUOoUrMH2j/xgLIpV3jgP2h5HtydtbM/",
          "dtype": "f8"
         },
         "xaxis": "x",
         "y": {
          "bdata": "y/Pg7qzd2j8ldQKaCBvCP/vo1JXP8t4/scQDyqZc1z8m32xzY3raPwYq499nXNQ/AYdQpWYP3D8PuRluwOfHP3CxogbTMNg/5iK+E7Ne0j/uWkI+6NnMP4S7s3bbhdQ/TI47pYP1yz8FUfcBSG3KP8UbmUf+YLA/3dJqSNxjwT+GIAclzLSdP9c07zhFR8I/1jkGZK93rz/5Zpsb0xOGP+o+AKlNnIw/",
          "dtype": "f8"
         },
         "yaxis": "y"
        },
        {
         "bingroup": "x",
         "hovertemplate": "Region=Western Europe<br>Freedom=%{x}<br>count=%{y}<extra></extra>",
         "legendgroup": "Western Europe",
         "marker": {
          "color": "#636efa"
         },
         "name": "Western Europe",
         "opacity": 0.5,
         "showlegend": false,
         "type": "histogram",
         "x": {
          "bdata": "6lvmdFlM5T/mllZD4h7kP7ml1ZC4x+Q/dc3km21u5T+bcoV3uYjkPzHrxVBOtOM/W9O84xQd5T98LH3ogvrjP2mpvB3htOM/v2VOl8XE4z9OYhBYObTiPxSuR+F6FOM/QPuRIjKs4z9fe2ZJgJrhP2LWi6GcaN0/cF8HzhlR4z/t0/GYgcrQP1RvDWyVYN8/gUOoUrMH2j/xgLIpV3jgP2h5HtydtbM/",
          "dtype": "f8"
         },
         "xaxis": "x3",
         "yaxis": "y3"
        },
        {
         "bingroup": "y",
         "hovertemplate": "Region=Western Europe<br>Trust (Government Corruption)=%{y}<br>count=%{x}<extra></extra>",
         "legendgroup": "Western Europe",
         "marker": {
          "color": "#636efa"
         },
         "name": "Western Europe",
         "opacity": 0.5,
         "showlegend": false,
         "type": "histogram",
         "xaxis": "x2",
         "y": {
          "bdata": "y/Pg7qzd2j8ldQKaCBvCP/vo1JXP8t4/scQDyqZc1z8m32xzY3raPwYq499nXNQ/AYdQpWYP3D8PuRluwOfHP3CxogbTMNg/5iK+E7Ne0j/uWkI+6NnMP4S7s3bbhdQ/TI47pYP1yz8FUfcBSG3KP8UbmUf+YLA/3dJqSNxjwT+GIAclzLSdP9c07zhFR8I/1jkGZK93rz/5Zpsb0xOGP+o+AKlNnIw/",
          "dtype": "f8"
         },
         "yaxis": "y2"
        },
        {
         "customdata": {
          "bdata": "aJHtfD+1HUBg5dAi23kcQA==",
          "dtype": "f8",
          "shape": "2, 1"
         },
         "hovertemplate": "<b>%{hovertext}</b><br><br>Region=North America<br>Freedom=%{x}<br>Trust (Government Corruption)=%{y}<br>Happiness Score=%{customdata[0]}<extra></extra>",
         "hovertext": [
          "Canada",
          "United States"
         ],
         "legendgroup": "North America",
         "marker": {
          "color": "#EF553B",
          "symbol": "circle"
         },
         "mode": "markers",
         "name": "North America",
         "orientation": "v",
         "showlegend": true,
         "type": "scatter",
         "x": {
          "bdata": "/isrTUpB5D/T2cngKHnhPw==",
          "dtype": "f8"
         },
         "xaxis": "x",
         "y": {
          "bdata": "uYjvxKwX1T+fzarP1VbEPw==",
          "dtype": "f8"
         },
         "yaxis": "y"
        },
        {
         "bingroup": "x",
         "hovertemplate": "Region=North America<br>Freedom=%{x}<br>count=%{y}<extra></extra>",
         "legendgroup": "North America",
         "marker": {
          "color": "#EF553B"
         },
         "name": "North America",
         "opacity": 0.5,
         "showlegend": false,
         "type": "histogram",
         "x": {
          "bdata": "/isrTUpB5D/T2cngKHnhPw==",
          "dtype": "f8"
         },
         "xaxis": "x3",
         "yaxis": "y3"
        },
        {
         "bingroup": "y",
         "hovertemplate": "Region=North America<br>Trust (Government Corruption)=%{y}<br>count=%{x}<extra></extra>",
         "legendgroup": "North America",
         "marker": {
          "color": "#EF553B"
         },
         "name": "North America",
         "opacity": 0.5,
         "showlegend": false,
         "type": "histogram",
         "xaxis": "x2",
         "y": {
          "bdata": "uYjvxKwX1T+fzarP1VbEPw==",
          "dtype": "f8"
         },
         "yaxis": "y2"
        },
        {
         "customdata": {
          "bdata": "vp8aL90kHUCJQWDl0CIdQA==",
          "dtype": "f8",
          "shape": "2, 1"
         },
         "hovertemplate": "<b>%{hovertext}</b><br><br>Region=Australia and New Zealand<br>Freedom=%{x}<br>Trust (Government Corruption)=%{y}<br>Happiness Score=%{customdata[0]}<extra></extra>",
         "hovertext": [
          "New Zealand",
          "Australia"
         ],
         "legendgroup": "Australia and New Zealand",
         "marker": {
          "color": "#00cc96",
          "symbol": "circle"
         },
         "mode": "markers",
         "name": "Australia and New Zealand",
         "orientation": "v",
         "showlegend": true,
         "type": "scatter",
         "x": {
          "bdata": "Z+22C8115D/0GrtE9dbkPw==",
          "dtype": "f8"
         },
         "xaxis": "x",
         "y": {
          "bdata": "8YCyKVd42z8fotEdxM7WPw==",
          "dtype": "f8"
         },
         "yaxis": "y"
        },
        {
         "bingroup": "x",
         "hovertemplate": "Region=Australia and New Zealand<br>Freedom=%{x}<br>count=%{y}<extra></extra>",
         "legendgroup": "Australia and New Zealand",
         "marker": {
          "color": "#00cc96"
         },
         "name": "Australia and New Zealand",
         "opacity": 0.5,
         "showlegend": false,
         "type": "histogram",
         "x": {
          "bdata": "Z+22C8115D/0GrtE9dbkPw==",
          "dtype": "f8"
         },
         "xaxis": "x3",
         "yaxis": "y3"
        },
        {
         "bingroup": "y",
         "hovertemplate": "Region=Australia and New Zealand<br>Trust (Government Corruption)=%{y}<br>count=%{x}<extra></extra>",
         "legendgroup": "Australia and New Zealand",
         "marker": {
          "color": "#00cc96"
         },
         "name": "Australia and New Zealand",
         "opacity": 0.5,
         "showlegend": false,
         "type": "histogram",
         "xaxis": "x2",
         "y": {
          "bdata": "8YCyKVd42z8fotEdxM7WPw==",
          "dtype": "f8"
         },
         "yaxis": "y2"
        },
        {
         "customdata": {
          "bdata": "6SYxCKwcHUC0yHa+n5obQLbz/dR4aRtAi2zn+6lxGkC+nxov3aQZQK5H4XoULhlA16NwPQrXF0BqvHSTGAQXQOxRuB6FaxZAhxbZzvdTFUD4U+Olm8QUQFpkO99PDRRAQmDl0CJbE0Db+X5qvPQSQFyPwvUo3BJAWDm0yHa+EkBoke18P7USQC2yne+nxhBAAiuHFtlOEEA/NV66SQwIQA==",
          "dtype": "f8",
          "shape": "20, 1"
         },
         "hovertemplate": "<b>%{hovertext}</b><br><br>Region=Middle East and Northern Africa<br>Freedom=%{x}<br>Trust (Government Corruption)=%{y}<br>Happiness Score=%{customdata[0]}<extra></extra>",
         "hovertext": [
          "Israel",
          "United Arab Emirates",
          "Oman",
          "Qatar",
          "Saudi Arabia",
          "Kuwait",
          "Bahrain",
          "Libya",
          "Algeria",
          "Turkey",
          "Jordan",
          "Morocco",
          "Lebanon",
          "Tunisia",
          "Palestinian Territories",
          "Iran",
          "Iraq",
          "Egypt",
          "Yemen",
          "Syria"
         ],
         "legendgroup": "Middle East and Northern Africa",
         "marker": {
          "color": "#ab63fa",
          "symbol": "circle"
         },
         "mode": "markers",
         "name": "Middle East and Northern Africa",
         "orientation": "v",
         "showlegend": true,
         "type": "scatter",
         "x": {
          "bdata": "/TBCeLRx2j/yBwPPvYfkP4/f2/RnP+Q/A3gLJCh+5D8e+YOB597TP99sc2N6wuE/6PaSxmgd3T8JbTmX4qraP5iG4SNiStI/FYxK6gQ0zT/2fw7z5QXaP+YF2Eenrto/hiAHJcy01T/IDFTGv8/QP89r7BLVW88/1H0AUps40z8AAAAAAAAAABv1EI3uIMY/3Qw34PPD1j+lMVpHVRPEPw==",
          "dtype": "f8"
         },
         "xaxis": "x",
         "y": {
          "bdata": "klz+Q/rtsz8aNPRPcLHYP3B31m670NQ/aam8HeG04D9wd9Zuu9DUP/lJtU/HY9A/L90kBoGV0z+cvwmFCDi8P6smiLoPQMY/8s02N6YnxD8IA8+9h0vCP6m8HeG04LU/hGQBE7h1pz+C/61kx0awPxQ/xty1hMA/hgMhWcAErj+g4GJFDabBP+ONzCN/MLA/7IZtizIbtD9Qqn06HjPIPw==",
          "dtype": "f8"
         },
         "yaxis": "y"
        },
        {
         "bingroup": "x",
         "hovertemplate": "Region=Middle East and Northern Africa<br>Freedom=%{x}<br>count=%{y}<extra></extra>",
         "legendgroup": "Middle East and Northern Africa",
         "marker": {
          "color": "#ab63fa"
         },
         "name": "Middle East and Northern Africa",
         "opacity": 0.5,
         "showlegend": false,
         "type": "histogram",
         "x": {
          "bdata": "/TBCeLRx2j/yBwPPvYfkP4/f2/RnP+Q/A3gLJCh+5D8e+YOB597TP99sc2N6wuE/6PaSxmgd3T8JbTmX4qraP5iG4SNiStI/FYxK6gQ0zT/2fw7z5QXaP+YF2Eenrto/hiAHJcy01T/IDFTGv8/QP89r7BLVW88/1H0AUps40z8AAAAAAAAAABv1EI3uIMY/3Qw34PPD1j+lMVpHVRPEPw==",
          "dtype": "f8"
         },
         "xaxis": "x3",
         "yaxis": "y3"
        },
        {
         "bingroup": "y",
         "hovertemplate": "Region=Middle East and Northern Africa<br>Trust (Government Corruption)=%{y}<br>count=%{x}<extra></extra>",
         "legendgroup": "Middle East and Northern Africa",
         "marker": {
          "color": "#ab63fa"
         },
         "name": "Middle East and Northern Africa",
         "opacity": 0.5,
         "showlegend": false,
         "type": "histogram",
         "xaxis": "x2",
         "y": {
          "bdata": "klz+Q/rtsz8aNPRPcLHYP3B31m670NQ/aam8HeG04D9wd9Zuu9DUP/lJtU/HY9A/L90kBoGV0z+cvwmFCDi8P6smiLoPQMY/8s02N6YnxD8IA8+9h0vCP6m8HeG04LU/hGQBE7h1pz+C/61kx0awPxQ/xty1hMA/hgMhWcAErj+g4GJFDabBP+ONzCN/MLA/7IZtizIbtD9Qqn06HjPIPw==",
          "dtype": "f8"
         },
         "yaxis": "y2"
        },
        {
         "customdata": {
          "bdata": "gZVDi2znHEBzaJHtfL8cQDvfT42X7htAPQrXo3A9G0C+nxov3SQbQK5H4XoUrhpAsp3vp8ZLGkBxPQrXo/AZQJzEILBy6BlA+n5qvHQTGUB56SYxCKwYQIXrUbgehRhAy6FFtvN9GEBmZmZmZuYXQI/C9ShcjxdAUI2XbhKDF0AdWmQ7308XQLKd76fGSxdAvHSTGATWFkAK16NwPYoTQPT91HjpJhNA30+Nl24SEkA=",
          "dtype": "f8",
          "shape": "22, 1"
         },
         "hovertemplate": "<b>%{hovertext}</b><br><br>Region=Latin America and Caribbean<br>Freedom=%{x}<br>Trust (Government Corruption)=%{y}<br>Happiness Score=%{customdata[0]}<extra></extra>",
         "hovertext": [
          "Costa Rica",
          "Mexico",
          "Brazil",
          "Venezuela",
          "Panama",
          "Chile",
          "Argentina",
          "Uruguay",
          "Colombia",
          "Suriname",
          "Trinidad and Tobago",
          "El Salvador",
          "Guatemala",
          "Ecuador",
          "Bolivia",
          "Paraguay",
          "Nicaragua",
          "Peru",
          "Jamaica",
          "Dominican Republic",
          "Honduras",
          "Haiti"
         ],
         "legendgroup": "Latin America and Caribbean",
         "marker": {
          "color": "#FFA15A",
          "symbol": "circle"
         },
         "mode": "markers",
         "name": "Latin America and Caribbean",
         "orientation": "v",
         "showlegend": true,
         "type": "scatter",
         "x": {
          "bdata": "K2owDcNH5D9LsDic+dXeP2r2QCswZN8/EojX9Qt22z/UK2UZ4ljhP62GxD2WPtw/m/7sR4rI3D/GxObj2lDjP+tWz0nvG+E/gsr49xkX4z/gSnZsBOLhP23n+6nx0tk/Yf2fw3x54j+D+pY5XRbfPwFqatlaX+I/j9/b9Gc/4T+Nl24Sg8DhP3R7SWO0jto/o1huaTUk4D8xX16AfXTiP4vgfyvZsdk/3SQGgZVDzz8=",
          "dtype": "f8"
         },
         "xaxis": "x",
         "y": {
          "bdata": "uYjvxKwXuz+Bzw8jhEfLPwVR9wFIbcY/g4b+CS5WvD/Q1VbsL7u3Pyk/qfbpeMA/DoRkARO4tT9znUZaKm/PPy1DHOviNqo/3lm77UJzwT/UK2UZ4liHP9rmxvSEJb4/VvFG5pE/uD/WVuwvuyfHP7pJDAIrh7Y/REyJJHoZtT+2vkhoy7nIP2ACt+7mqa4/7UeKyLCKlz9j0XR2MjjCP0a28/3UeLE/lkOLbOf7xT8=",
          "dtype": "f8"
         },
         "yaxis": "y"
        },
        {
         "bingroup": "x",
         "hovertemplate": "Region=Latin America and Caribbean<br>Freedom=%{x}<br>count=%{y}<extra></extra>",
         "legendgroup": "Latin America and Caribbean",
         "marker": {
          "color": "#FFA15A"
         },
         "name": "Latin America and Caribbean",
         "opacity": 0.5,
         "showlegend": false,
         "type": "histogram",
         "x": {
          "bdata": "K2owDcNH5D9LsDic+dXeP2r2QCswZN8/EojX9Qt22z/UK2UZ4ljhP62GxD2WPtw/m/7sR4rI3D/GxObj2lDjP+tWz0nvG+E/gsr49xkX4z/gSnZsBOLhP23n+6nx0tk/Yf2fw3x54j+D+pY5XRbfPwFqatlaX+I/j9/b9Gc/4T+Nl24Sg8DhP3R7SWO0jto/o1huaTUk4D8xX16AfXTiP4vgfyvZsdk/3SQGgZVDzz8=",
          "dtype": "f8"
         },
         "xaxis": "x3",
         "yaxis": "y3"
        },
        {
         "bingroup": "y",
         "hovertemplate": "Region=Latin America and Caribbean<br>Trust (Government Corruption)=%{y}<br>count=%{x}<extra></extra>",
         "legendgroup": "Latin America and Caribbean",
         "marker": {
          "color": "#FFA15A"
         },
         "name": "Latin America and Caribbean",
         "opacity": 0.5,
         "showlegend": false,
         "type": "histogram",
         "xaxis": "x2",
         "y": {
          "bdata": "uYjvxKwXuz+Bzw8jhEfLPwVR9wFIbcY/g4b+CS5WvD/Q1VbsL7u3Pyk/qfbpeMA/DoRkARO4tT9znUZaKm/PPy1DHOviNqo/3lm77UJzwT/UK2UZ4liHP9rmxvSEJb4/VvFG5pE/uD/WVuwvuyfHP7pJDAIrh7Y/REyJJHoZtT+2vkhoy7nIP2ACt+7mqa4/7UeKyLCKlz9j0XR2MjjCP0a28/3UeLE/lkOLbOf7xT8=",
          "dtype": "f8"
         },
         "yaxis": "y2"
        },
        {
         "customdata": {
          "bdata": "/tR46SYxG0BSuB6F69EZQBSuR+F6FBdAf2q8dJOYFUBxPQrXo3AVQJhuEoPAShRAGy/dJAaBE0DufD81XjoRQFpkO99PjQ5A",
          "dtype": "f8",
          "shape": "9, 1"
         },
         "hovertemplate": "<b>%{hovertext}</b><br><br>Region=Southeastern Asia<br>Freedom=%{x}<br>Trust (Government Corruption)=%{y}<br>Happiness Score=%{customdata[0]}<extra></extra>",
         "hovertext": [
          "Singapore",
          "Thailand",
          "Malaysia",
          "Indonesia",
          "Vietnam",
          "Philippines",
          "Laos",
          "Myanmar",
          "Cambodia"
         ],
         "legendgroup": "Southeastern Asia",
         "marker": {
          "color": "#19d3f3",
          "symbol": "circle"
         },
         "mode": "markers",
         "name": "Southeastern Asia",
         "orientation": "v",
         "showlegend": true,
         "type": "scatter",
         "x": {
          "bdata": "I6Et51Jc4T9yp3Sw/s/hP0j+YOC59+A/+KqVCb/U3T9L5e0IpwXjP/kP6bevA+Q/4X8r2bER4z9diqvKvivcP6YPXVDfMuU/",
          "dtype": "f8"
         },
         "xaxis": "x",
         "y": {
          "bdata": "dCSX/5B+3z83cXK/Q1GgP/3BwHPv4bo/AAAAAAAAAACYF2Afnbq6P3OdRloqb78/fbPNjekJzz8icY+lD13IPz7t8NdkjbI/",
          "dtype": "f8"
         },
         "yaxis": "y"
        },
        {
         "bingroup": "x",
         "hovertemplate": "Region=Southeastern Asia<br>Freedom=%{x}<br>count=%{y}<extra></extra>",
         "legendgroup": "Southeastern Asia",
         "marker": {
          "color": "#19d3f3"
         },
         "name": "Southeastern Asia",
         "opacity": 0.5,
         "showlegend": false,
         "type": "histogram",
         "x": {
          "bdata": "I6Et51Jc4T9yp3Sw/s/hP0j+YOC59+A/+KqVCb/U3T9L5e0IpwXjP/kP6bevA+Q/4X8r2bER4z9diqvKvivcP6YPXVDfMuU/",
          "dtype": "f8"
         },
         "xaxis": "x3",
         "yaxis": "y3"
        },
        {
         "bingroup": "y",
         "hovertemplate": "Region=Southeastern Asia<br>Trust (Government Corruption)=%{y}<br>count=%{x}<extra></extra>",
         "legendgroup": "Southeastern Asia",
         "marker": {
          "color": "#19d3f3"
         },
         "name": "Southeastern Asia",
         "opacity": 0.5,
         "showlegend": false,
         "type": "histogram",
         "xaxis": "x2",
         "y": {
          "bdata": "dCSX/5B+3z83cXK/Q1GgP/3BwHPv4bo/AAAAAAAAAACYF2Afnbq6P3OdRloqb78/fbPNjekJzz8icY+lD13IPz7t8NdkjbI/",
          "dtype": "f8"
         },
         "yaxis": "y2"
        },
        {
         "customdata": {
          "bdata": "hetRuB4FGkBQjZduEgMYQHsUrkfh+hdAdZMYBFaOF0DsUbgehWsXQDEIrBxaZBdAokW28/1UF0CNl24Sg0AXQESLbOf7KRdA8KfGSzcJF0B3vp8aL90WQEJg5dAiWxZA/tR46SYxFkCe76fGS7cVQL6fGi/dJBVADAIrhxbZFED4U+Olm8QUQOXQItv5fhRAy6FFtvN9FEAxCKwcWmQUQLpJDAIrBxRAvHSTGATWE0Cyne+nxssTQDMzMzMzMxNAvp8aL90kE0DTTWIQWLkSQGZmZmZmZhFA46WbxCAwEUCsHFpkO98QQA==",
          "dtype": "f8",
          "shape": "29, 1"
         },
         "hovertemplate": "<b>%{hovertext}</b><br><br>Region=Central and Eastern Europe<br>Freedom=%{x}<br>Trust (Government Corruption)=%{y}<br>Happiness Score=%{customdata[0]}<extra></extra>",
         "hovertext": [
          "Czech Republic",
          "Uzbekistan",
          "Slovakia",
          "Moldova",
          "Kazakhstan",
          "Slovenia",
          "Lithuania",
          "Belarus",
          "Poland",
          "Croatia",
          "Russia",
          "Kosovo",
          "Turkmenistan",
          "Estonia",
          "Kyrgyzstan",
          "Azerbaijan",
          "Montenegro",
          "Romania",
          "Serbia",
          "Latvia",
          "Macedonia",
          "Albania",
          "Bosnia and Herzegovina",
          "Hungary",
          "Tajikistan",
          "Ukraine",
          "Armenia",
          "Georgia",
          "Bulgaria"
         ],
         "legendgroup": "Central and Eastern Europe",
         "marker": {
          "color": "#FF6692",
          "symbol": "circle"
         },
         "mode": "markers",
         "name": "Central and Eastern Europe",
         "orientation": "v",
         "showlegend": true,
         "type": "scatter",
         "x": {
          "bdata": "I4RHG0es3T8czvxqDhDlPxnKiXYVUtQ/xuHMr+YA1T/XwFYJFofgP7dif9k9eeM/GvonuFhRyz8rajANw0fYP1Zl3xXB/+A/xlBOtKuQ0D9h/Z/DfHnXPyAkC5jArc8/1QloImx43j/RBfUtc7rcP/oK0oxF09s/+1xtxf6y1z/l8h/Sb1/HPzYf14aKcdY/zXUaaam8yT+vWpnwS/3SPwtBDkqYadU/rUz4pX7e1j8m5IOezaq3P3fbheY6jdQ/1q2ek9433j+HinH+JhTQP/NZngd3Z8k/uarsuyL42T8W9rTDX5PTPw==",
          "dtype": "f8"
         },
         "xaxis": "x",
         "y": {
          "bdata": "Y3rCEg8omz+0jqomiLrTPzf92Y8UkaE/YVRSJ6CJkD/cLjTXaaS1PxbB/1ayY6M/6PaSxmgdhT8dOGdEaW/IP6nZA63AkKU/w9MrZRnimD/arPpcbcWeP2e4AZ8fRqg/r84xIHu90z8BwRw9fm/DP+317o/3qqU/cRsN4C2QxD+xbVFmg0zCP4VCBBxClXo/eJeL+E7Mmj+9xi5RvTWwP0pBt5c0Rqs/X0ax3NJqsD8NpmH4iJhiP5I/GHjuPZw/CTNt/8pKwz8Zyol2FVKePyuHFtnO96M/Y7SOqiaI2D9dp5GWytuBPw==",
          "dtype": "f8"
         },
         "yaxis": "y"
        },
        {
         "bingroup": "x",
         "hovertemplate": "Region=Central and Eastern Europe<br>Freedom=%{x}<br>count=%{y}<extra></extra>",
         "legendgroup": "Central and Eastern Europe",
         "marker": {
          "color": "#FF6692"
         },
         "name": "Central and Eastern Europe",
         "opacity": 0.5,
         "showlegend": false,
         "type": "histogram",
         "x": {
          "bdata": "I4RHG0es3T8czvxqDhDlPxnKiXYVUtQ/xuHMr+YA1T/XwFYJFofgP7dif9k9eeM/GvonuFhRyz8rajANw0fYP1Zl3xXB/+A/xlBOtKuQ0D9h/Z/DfHnXPyAkC5jArc8/1QloImx43j/RBfUtc7rcP/oK0oxF09s/+1xtxf6y1z/l8h/Sb1/HPzYf14aKcdY/zXUaaam8yT+vWpnwS/3SPwtBDkqYadU/rUz4pX7e1j8m5IOezaq3P3fbheY6jdQ/1q2ek9433j+HinH+JhTQP/NZngd3Z8k/uarsuyL42T8W9rTDX5PTPw==",
          "dtype": "f8"
         },
         "xaxis": "x3",
         "yaxis": "y3"
        },
        {
         "bingroup": "y",
         "hovertemplate": "Region=Central and Eastern Europe<br>Trust (Government Corruption)=%{y}<br>count=%{x}<extra></extra>",
         "legendgroup": "Central and Eastern Europe",
         "marker": {
          "color": "#FF6692"
         },
         "name": "Central and Eastern Europe",
         "opacity": 0.5,
         "showlegend": false,
         "type": "histogram",
         "xaxis": "x2",
         "y": {
          "bdata": "Y3rCEg8omz+0jqomiLrTPzf92Y8UkaE/YVRSJ6CJkD/cLjTXaaS1PxbB/1ayY6M/6PaSxmgdhT8dOGdEaW/IP6nZA63AkKU/w9MrZRnimD/arPpcbcWeP2e4AZ8fRqg/r84xIHu90z8BwRw9fm/DP+317o/3qqU/cRsN4C2QxD+xbVFmg0zCP4VCBBxClXo/eJeL+E7Mmj+9xi5RvTWwP0pBt5c0Rqs/X0ax3NJqsD8NpmH4iJhiP5I/GHjuPZw/CTNt/8pKwz8Zyol2FVKePyuHFtnO96M/Y7SOqiaI2D9dp5GWytuBPw==",
          "dtype": "f8"
         },
         "yaxis": "y2"
        },
        {
         "customdata": {
          "bdata": "/tR46SYxGUCmm8QgsPIXQFYOLbKd7xdATDeJQWDlFUCPwvUoXI8UQOXQItv5fhNA",
          "dtype": "f8",
          "shape": "6, 1"
         },
         "hovertemplate": "<b>%{hovertext}</b><br><br>Region=Eastern Asia<br>Freedom=%{x}<br>Trust (Government Corruption)=%{y}<br>Happiness Score=%{customdata[0]}<extra></extra>",
         "hovertext": [
          "Taiwan",
          "Japan",
          "South Korea",
          "Hong Kong",
          "China",
          "Mongolia"
         ],
         "legendgroup": "Eastern Asia",
         "marker": {
          "color": "#B6E880",
          "symbol": "circle"
         },
         "mode": "markers",
         "name": "Eastern Asia",
         "orientation": "v",
         "showlegend": true,
         "type": "scatter",
         "x": {
          "bdata": "rIvbaABv2T/+Q/rt68DfP6n26XjMQNU/+5Y5XRYT4z97a2CrBIvgP7JjIxCv69s/",
          "dtype": "f8"
         },
         "xaxis": "x",
         "y": {
          "bdata": "Oul942vPtD89LNSa5h3HPz5cctwpHbQ//OO9amXC1z9gzQGCOXqcP1sIclDCTJs/",
          "dtype": "f8"
         },
         "yaxis": "y"
        },
        {
         "bingroup": "x",
         "hovertemplate": "Region=Eastern Asia<br>Freedom=%{x}<br>count=%{y}<extra></extra>",
         "legendgroup": "Eastern Asia",
         "marker": {
          "color": "#B6E880"
         },
         "name": "Eastern Asia",
         "opacity": 0.5,
         "showlegend": false,
         "type": "histogram",
         "x": {
          "bdata": "rIvbaABv2T/+Q/rt68DfP6n26XjMQNU/+5Y5XRYT4z97a2CrBIvgP7JjIxCv69s/",
          "dtype": "f8"
         },
         "xaxis": "x3",
         "yaxis": "y3"
        },
        {
         "bingroup": "y",
         "hovertemplate": "Region=Eastern Asia<br>Trust (Government Corruption)=%{y}<br>count=%{x}<extra></extra>",
         "legendgroup": "Eastern Asia",
         "marker": {
          "color": "#B6E880"
         },
         "name": "Eastern Asia",
         "opacity": 0.5,
         "showlegend": false,
         "type": "histogram",
         "xaxis": "x2",
         "y": {
          "bdata": "Oul942vPtD89LNSa5h3HPz5cctwpHbQ//OO9amXC1z9gzQGCOXqcP1sIclDCTJs/",
          "dtype": "f8"
         },
         "yaxis": "y2"
        },
        {
         "customdata": {
          "bdata": "nMQgsHLoFUDfT42XbhIVQGq8dJMYhBRA7nw/NV46FED8qfHSTeITQGQ730+NlxNAK4cW2c53E0DFILByaJESQNV46SYxiBJAcT0K16NwEkBiEFg5tEgSQDMzMzMzMxJAxSCwcmgREkA/NV66SQwSQLpJDAIrBxJAWDm0yHa+EUCTGARWDq0RQGDl0CLbeRFAhxbZzvdTEUBeukkMAisRQDVeukkMAhFAbxKDwMohEED2KFyPwvUPQLbz/dR46Q9A2c73U+OlD0Cmm8QgsHIPQAisHFpkOw9AXrpJDAIrD0DD9Shcj8IOQHNoke18Pw5AppvEILByDUAGgZVDi2wNQLx0kxgEVg1Ac2iR7Xw/DUA9CtejcD0NQBkEVg4tsgxAuB6F61G4C0C4HoXrUbgKQD0K16NwPQdAg8DKoUW2BkA=",
          "dtype": "f8",
          "shape": "40, 1"
         },
         "hovertemplate": "<b>%{hovertext}</b><br><br>Region=Sub-Saharan Africa<br>Freedom=%{x}<br>Trust (Government Corruption)=%{y}<br>Happiness Score=%{customdata[0]}<extra></extra>",
         "hovertext": [
          "Mauritius",
          "Nigeria",
          "Zambia",
          "Somaliland region",
          "Mozambique",
          "Lesotho",
          "Swaziland",
          "South Africa",
          "Ghana",
          "Zimbabwe",
          "Liberia",
          "Sudan",
          "Congo (Kinshasa)",
          "Ethiopia",
          "Sierra Leone",
          "Mauritania",
          "Kenya",
          "Djibouti",
          "Botswana",
          "Malawi",
          "Cameroon",
          "Angola",
          "Mali",
          "Congo (Brazzaville)",
          "Comoros",
          "Uganda",
          "Senegal",
          "Gabon",
          "Niger",
          "Tanzania",
          "Madagascar",
          "Central African Republic",
          "Chad",
          "Guinea",
          "Ivory Coast",
          "Burkina Faso",
          "Rwanda",
          "Benin",
          "Burundi",
          "Togo"
         ],
         "legendgroup": "Sub-Saharan Africa",
         "marker": {
          "color": "#FF97FF",
          "symbol": "circle"
         },
         "mode": "markers",
         "name": "Sub-Saharan Africa",
         "orientation": "v",
         "showlegend": true,
         "type": "scatter",
         "x": {
          "bdata": "jZyFPe3w4T8oJ9pVSPnVPwCMZ9DQP98/cqd0sP7P3T9/h6JAn8jVP4bmOo20VNQ/O+RmuAGf0z/i5H6HokDVP346HjNQGds/sMka9RCN0D9RMc7fhELSPzsZHCWvzrk/5WGh1jTvzD8CK4cW2c7bP/rt68A5I9o/FVeVfVcEzz/caABvgQTbP+lg/Z/DfN0/zO7Jw0Kt3z91q+ek943bP1cE/1vJjt8/hUIEHEKVuj/nOo20VN7YPydmvRjKido/hbacS3FVzT9rSNxj6UPdP5tyhXe5iNc/sBu2Lcps1D+Eu7N224XeP18M5US7CtU/IEYIjzaOyD9jKCfaVUjfP6LRHcTOFM4/vp8aL90k2D8DYDyDhv7dP9hkjXqIRtk/b/Wc9L7x4j81XrpJDALfP7x0kxgEVr4/3Esao3VU1z8=",
          "dtype": "f8"
         },
         "xaxis": "x",
         "y": {
          "bdata": "cAhVavZAsz/gvg6cM6KkP5ccd0oH678/r5l8s82N2T/U8ZiByvjDPzeOWItPAcA/S8gHPZtVnz+unpPeN762PyNKe4MvTKY/5gXYR6eutD8qAMYzaOivPxb7y+7Jw8I/hetRuB6Fsz/C3Vm77ULDPzxmoDL+fbY/0vvG155Zxj9ortNIS+WtP3icoiO5/NE/O8eA7PXuvz947j1cctyxPx09fm/Tn60/7DTSUnk7sj875Ga4AZ+/P0PnNXaJ6r0/Rrbz/dR4yT9fe2ZJgJqyP5SkaybfbLs/26LMBplkvD+/8bVnlgTEP82SADW1bK0/soUgByXMtD9HWipvRzi1P+4IpwUv+qo/iLoPQGoTvz/iAWVTrvDGP7Abti3KbMA/RbsKKT+p4T+M22gAb4G0PzXSUnk7wrk/f6SIDKt4uz8=",
          "dtype": "f8"
         },
         "yaxis": "y"
        },
        {
         "bingroup": "x",
         "hovertemplate": "Region=Sub-Saharan Africa<br>Freedom=%{x}<br>count=%{y}<extra></extra>",
         "legendgroup": "Sub-Saharan Africa",
         "marker": {
          "color": "#FF97FF"
         },
         "name": "Sub-Saharan Africa",
         "opacity": 0.5,
         "showlegend": false,
         "type": "histogram",
         "x": {
          "bdata": "jZyFPe3w4T8oJ9pVSPnVPwCMZ9DQP98/cqd0sP7P3T9/h6JAn8jVP4bmOo20VNQ/O+RmuAGf0z/i5H6HokDVP346HjNQGds/sMka9RCN0D9RMc7fhELSPzsZHCWvzrk/5WGh1jTvzD8CK4cW2c7bP/rt68A5I9o/FVeVfVcEzz/caABvgQTbP+lg/Z/DfN0/zO7Jw0Kt3z91q+ek943bP1cE/1vJjt8/hUIEHEKVuj/nOo20VN7YPydmvRjKido/hbacS3FVzT9rSNxj6UPdP5tyhXe5iNc/sBu2Lcps1D+Eu7N224XeP18M5US7CtU/IEYIjzaOyD9jKCfaVUjfP6LRHcTOFM4/vp8aL90k2D8DYDyDhv7dP9hkjXqIRtk/b/Wc9L7x4j81XrpJDALfP7x0kxgEVr4/3Esao3VU1z8=",
          "dtype": "f8"
         },
         "xaxis": "x3",
         "yaxis": "y3"
        },
        {
         "bingroup": "y",
         "hovertemplate": "Region=Sub-Saharan Africa<br>Trust (Government Corruption)=%{y}<br>count=%{x}<extra></extra>",
         "legendgroup": "Sub-Saharan Africa",
         "marker": {
          "color": "#FF97FF"
         },
         "name": "Sub-Saharan Africa",
         "opacity": 0.5,
         "showlegend": false,
         "type": "histogram",
         "xaxis": "x2",
         "y": {
          "bdata": "cAhVavZAsz/gvg6cM6KkP5ccd0oH678/r5l8s82N2T/U8ZiByvjDPzeOWItPAcA/S8gHPZtVnz+unpPeN762PyNKe4MvTKY/5gXYR6eutD8qAMYzaOivPxb7y+7Jw8I/hetRuB6Fsz/C3Vm77ULDPzxmoDL+fbY/0vvG155Zxj9ortNIS+WtP3icoiO5/NE/O8eA7PXuvz947j1cctyxPx09fm/Tn60/7DTSUnk7sj875Ga4AZ+/P0PnNXaJ6r0/Rrbz/dR4yT9fe2ZJgJqyP5SkaybfbLs/26LMBplkvD+/8bVnlgTEP82SADW1bK0/soUgByXMtD9HWipvRzi1P+4IpwUv+qo/iLoPQGoTvz/iAWVTrvDGP7Abti3KbMA/RbsKKT+p4T+M22gAb4G0PzXSUnk7wrk/f6SIDKt4uz8=",
          "dtype": "f8"
         },
         "yaxis": "y2"
        },
        {
         "customdata": {
          "bdata": "UI2XbhIDFUAtsp3vp8YUQC2yne+nxhJAw/UoXI9CEkB1kxgEVg4SQC/dJAaBFRFAmpmZmZmZDEA=",
          "dtype": "f8",
          "shape": "7, 1"
         },
         "hovertemplate": "<b>%{hovertext}</b><br><br>Region=Southern Asia<br>Freedom=%{x}<br>Trust (Government Corruption)=%{y}<br>Happiness Score=%{customdata[0]}<extra></extra>",
         "hovertext": [
          "Bhutan",
          "Pakistan",
          "Bangladesh",
          "India",
          "Nepal",
          "Sri Lanka",
          "Afghanistan"
         ],
         "legendgroup": "Southern Asia",
         "marker": {
          "color": "#FECB52",
          "symbol": "circle"
         },
         "mode": "markers",
         "name": "Southern Asia",
         "orientation": "v",
         "showlegend": true,
         "type": "scatter",
         "x": {
          "bdata": "9E9wsaIG4T+XcymuKvu+P3KKjuTyH9o/Zr0Yyol22T9VTRB1H4DYP+FdLuI7MeE/f7xXrUz4zT8=",
          "dtype": "f8"
         },
         "xaxis": "x",
         "y": {
          "bdata": "aQBvgQTFwz8Le9rhr8m6Py2VtyOcFsA/6LzGLlG9tT/mdFlMbD6uPx2PGaiMf7c/qIx/n3HhuD8=",
          "dtype": "f8"
         },
         "yaxis": "y"
        },
        {
         "bingroup": "x",
         "hovertemplate": "Region=Southern Asia<br>Freedom=%{x}<br>count=%{y}<extra></extra>",
         "legendgroup": "Southern Asia",
         "marker": {
          "color": "#FECB52"
         },
         "name": "Southern Asia",
         "opacity": 0.5,
         "showlegend": false,
         "type": "histogram",
         "x": {
          "bdata": "9E9wsaIG4T+XcymuKvu+P3KKjuTyH9o/Zr0Yyol22T9VTRB1H4DYP+FdLuI7MeE/f7xXrUz4zT8=",
          "dtype": "f8"
         },
         "xaxis": "x3",
         "yaxis": "y3"
        },
        {
         "bingroup": "y",
         "hovertemplate": "Region=Southern Asia<br>Trust (Government Corruption)=%{y}<br>count=%{x}<extra></extra>",
         "legendgroup": "Southern Asia",
         "marker": {
          "color": "#FECB52"
         },
         "name": "Southern Asia",
         "opacity": 0.5,
         "showlegend": false,
         "type": "histogram",
         "xaxis": "x2",
         "y": {
          "bdata": "aQBvgQTFwz8Le9rhr8m6Py2VtyOcFsA/6LzGLlG9tT/mdFlMbD6uPx2PGaiMf7c/qIx/n3HhuD8=",
          "dtype": "f8"
         },
         "yaxis": "y2"
        }
       ],
       "layout": {
        "barmode": "overlay",
        "legend": {
         "title": {
          "text": "Region"
         },
         "tracegroupgap": 0
        },
        "shapes": [
         {
          "line": {
           "color": "black",
           "dash": "dash"
          },
          "type": "line",
          "x0": 0.435515,
          "x1": 0.435515,
          "xref": "x",
          "y0": 0,
          "y1": 1,
          "yref": "y domain"
         },
         {
          "line": {
           "color": "black",
           "dash": "dash"
          },
          "type": "line",
          "x0": 0.435515,
          "x1": 0.435515,
          "xref": "x2",
          "y0": 0,
          "y1": 1,
          "yref": "y2 domain"
         },
         {
          "line": {
           "color": "black",
           "dash": "dash"
          },
          "type": "line",
          "x0": 0.435515,
          "x1": 0.435515,
          "xref": "x3",
          "y0": 0,
          "y1": 1,
          "yref": "y3 domain"
         },
         {
          "line": {
           "color": "black",
           "dash": "dash"
          },
          "type": "line",
          "x0": 0,
          "x1": 1,
          "xref": "x domain",
          "y0": 0.10722000000000001,
          "y1": 0.10722000000000001,
          "yref": "y"
         },
         {
          "line": {
           "color": "black",
           "dash": "dash"
          },
          "type": "line",
          "x0": 0,
          "x1": 1,
          "xref": "x2 domain",
          "y0": 0.10722000000000001,
          "y1": 0.10722000000000001,
          "yref": "y2"
         },
         {
          "line": {
           "color": "black",
           "dash": "dash"
          },
          "type": "line",
          "x0": 0,
          "x1": 1,
          "xref": "x3 domain",
          "y0": 0.10722000000000001,
          "y1": 0.10722000000000001,
          "yref": "y3"
         }
        ],
        "template": {
         "data": {
          "bar": [
           {
            "error_x": {
             "color": "#2a3f5f"
            },
            "error_y": {
             "color": "#2a3f5f"
            },
            "marker": {
             "line": {
              "color": "#E5ECF6",
              "width": 0.5
             },
             "pattern": {
              "fillmode": "overlay",
              "size": 10,
              "solidity": 0.2
             }
            },
            "type": "bar"
           }
          ],
          "barpolar": [
           {
            "marker": {
             "line": {
              "color": "#E5ECF6",
              "width": 0.5
             },
             "pattern": {
              "fillmode": "overlay",
              "size": 10,
              "solidity": 0.2
             }
            },
            "type": "barpolar"
           }
          ],
          "carpet": [
           {
            "aaxis": {
             "endlinecolor": "#2a3f5f",
             "gridcolor": "white",
             "linecolor": "white",
             "minorgridcolor": "white",
             "startlinecolor": "#2a3f5f"
            },
            "baxis": {
             "endlinecolor": "#2a3f5f",
             "gridcolor": "white",
             "linecolor": "white",
             "minorgridcolor": "white",
             "startlinecolor": "#2a3f5f"
            },
            "type": "carpet"
           }
          ],
          "choropleth": [
           {
            "colorbar": {
             "outlinewidth": 0,
             "ticks": ""
            },
            "type": "choropleth"
           }
          ],
          "contour": [
           {
            "colorbar": {
             "outlinewidth": 0,
             "ticks": ""
            },
            "colorscale": [
             [
              0,
              "#0d0887"
             ],
             [
              0.1111111111111111,
              "#46039f"
             ],
             [
              0.2222222222222222,
              "#7201a8"
             ],
             [
              0.3333333333333333,
              "#9c179e"
             ],
             [
              0.4444444444444444,
              "#bd3786"
             ],
             [
              0.5555555555555556,
              "#d8576b"
             ],
             [
              0.6666666666666666,
              "#ed7953"
             ],
             [
              0.7777777777777778,
              "#fb9f3a"
             ],
             [
              0.8888888888888888,
              "#fdca26"
             ],
             [
              1,
              "#f0f921"
             ]
            ],
            "type": "contour"
           }
          ],
          "contourcarpet": [
           {
            "colorbar": {
             "outlinewidth": 0,
             "ticks": ""
            },
            "type": "contourcarpet"
           }
          ],
          "heatmap": [
           {
            "colorbar": {
             "outlinewidth": 0,
             "ticks": ""
            },
            "colorscale": [
             [
              0,
              "#0d0887"
             ],
             [
              0.1111111111111111,
              "#46039f"
             ],
             [
              0.2222222222222222,
              "#7201a8"
             ],
             [
              0.3333333333333333,
              "#9c179e"
             ],
             [
              0.4444444444444444,
              "#bd3786"
             ],
             [
              0.5555555555555556,
              "#d8576b"
             ],
             [
              0.6666666666666666,
              "#ed7953"
             ],
             [
              0.7777777777777778,
              "#fb9f3a"
             ],
             [
              0.8888888888888888,
              "#fdca26"
             ],
             [
              1,
              "#f0f921"
             ]
            ],
            "type": "heatmap"
           }
          ],
          "histogram": [
           {
            "marker": {
             "pattern": {
              "fillmode": "overlay",
              "size": 10,
              "solidity": 0.2
             }
            },
            "type": "histogram"
           }
          ],
          "histogram2d": [
           {
            "colorbar": {
             "outlinewidth": 0,
             "ticks": ""
            },
            "colorscale": [
             [
              0,
              "#0d0887"
             ],
             [
              0.1111111111111111,
              "#46039f"
             ],
             [
              0.2222222222222222,
              "#7201a8"
             ],
             [
              0.3333333333333333,
              "#9c179e"
             ],
             [
              0.4444444444444444,
              "#bd3786"
             ],
             [
              0.5555555555555556,
              "#d8576b"
             ],
             [
              0.6666666666666666,
              "#ed7953"
             ],
             [
              0.7777777777777778,
              "#fb9f3a"
             ],
             [
              0.8888888888888888,
              "#fdca26"
             ],
             [
              1,
              "#f0f921"
             ]
            ],
            "type": "histogram2d"
           }
          ],
          "histogram2dcontour": [
           {
            "colorbar": {
             "outlinewidth": 0,
             "ticks": ""
            },
            "colorscale": [
             [
              0,
              "#0d0887"
             ],
             [
              0.1111111111111111,
              "#46039f"
             ],
             [
              0.2222222222222222,
              "#7201a8"
             ],
             [
              0.3333333333333333,
              "#9c179e"
             ],
             [
              0.4444444444444444,
              "#bd3786"
             ],
             [
              0.5555555555555556,
              "#d8576b"
             ],
             [
              0.6666666666666666,
              "#ed7953"
             ],
             [
              0.7777777777777778,
              "#fb9f3a"
             ],
             [
              0.8888888888888888,
              "#fdca26"
             ],
             [
              1,
              "#f0f921"
             ]
            ],
            "type": "histogram2dcontour"
           }
          ],
          "mesh3d": [
           {
            "colorbar": {
             "outlinewidth": 0,
             "ticks": ""
            },
            "type": "mesh3d"
           }
          ],
          "parcoords": [
           {
            "line": {
             "colorbar": {
              "outlinewidth": 0,
              "ticks": ""
             }
            },
            "type": "parcoords"
           }
          ],
          "pie": [
           {
            "automargin": true,
            "type": "pie"
           }
          ],
          "scatter": [
           {
            "fillpattern": {
             "fillmode": "overlay",
             "size": 10,
             "solidity": 0.2
            },
            "type": "scatter"
           }
          ],
          "scatter3d": [
           {
            "line": {
             "colorbar": {
              "outlinewidth": 0,
              "ticks": ""
             }
            },
            "marker": {
             "colorbar": {
              "outlinewidth": 0,
              "ticks": ""
             }
            },
            "type": "scatter3d"
           }
          ],
          "scattercarpet": [
           {
            "marker": {
             "colorbar": {
              "outlinewidth": 0,
              "ticks": ""
             }
            },
            "type": "scattercarpet"
           }
          ],
          "scattergeo": [
           {
            "marker": {
             "colorbar": {
              "outlinewidth": 0,
              "ticks": ""
             }
            },
            "type": "scattergeo"
           }
          ],
          "scattergl": [
           {
            "marker": {
             "colorbar": {
              "outlinewidth": 0,
              "ticks": ""
             }
            },
            "type": "scattergl"
           }
          ],
          "scattermap": [
           {
            "marker": {
             "colorbar": {
              "outlinewidth": 0,
              "ticks": ""
             }
            },
            "type": "scattermap"
           }
          ],
          "scattermapbox": [
           {
            "marker": {
             "colorbar": {
              "outlinewidth": 0,
              "ticks": ""
             }
            },
            "type": "scattermapbox"
           }
          ],
          "scatterpolar": [
           {
            "marker": {
             "colorbar": {
              "outlinewidth": 0,
              "ticks": ""
             }
            },
            "type": "scatterpolar"
           }
          ],
          "scatterpolargl": [
           {
            "marker": {
             "colorbar": {
              "outlinewidth": 0,
              "ticks": ""
             }
            },
            "type": "scatterpolargl"
           }
          ],
          "scatterternary": [
           {
            "marker": {
             "colorbar": {
              "outlinewidth": 0,
              "ticks": ""
             }
            },
            "type": "scatterternary"
           }
          ],
          "surface": [
           {
            "colorbar": {
             "outlinewidth": 0,
             "ticks": ""
            },
            "colorscale": [
             [
              0,
              "#0d0887"
             ],
             [
              0.1111111111111111,
              "#46039f"
             ],
             [
              0.2222222222222222,
              "#7201a8"
             ],
             [
              0.3333333333333333,
              "#9c179e"
             ],
             [
              0.4444444444444444,
              "#bd3786"
             ],
             [
              0.5555555555555556,
              "#d8576b"
             ],
             [
              0.6666666666666666,
              "#ed7953"
             ],
             [
              0.7777777777777778,
              "#fb9f3a"
             ],
             [
              0.8888888888888888,
              "#fdca26"
             ],
             [
              1,
              "#f0f921"
             ]
            ],
            "type": "surface"
           }
          ],
          "table": [
           {
            "cells": {
             "fill": {
              "color": "#EBF0F8"
             },
             "line": {
              "color": "white"
             }
            },
            "header": {
             "fill": {
              "color": "#C8D4E3"
             },
             "line": {
              "color": "white"
             }
            },
            "type": "table"
           }
          ]
         },
         "layout": {
          "annotationdefaults": {
           "arrowcolor": "#2a3f5f",
           "arrowhead": 0,
           "arrowwidth": 1
          },
          "autotypenumbers": "strict",
          "coloraxis": {
           "colorbar": {
            "outlinewidth": 0,
            "ticks": ""
           }
          },
          "colorscale": {
           "diverging": [
            [
             0,
             "#8e0152"
            ],
            [
             0.1,
             "#c51b7d"
            ],
            [
             0.2,
             "#de77ae"
            ],
            [
             0.3,
             "#f1b6da"
            ],
            [
             0.4,
             "#fde0ef"
            ],
            [
             0.5,
             "#f7f7f7"
            ],
            [
             0.6,
             "#e6f5d0"
            ],
            [
             0.7,
             "#b8e186"
            ],
            [
             0.8,
             "#7fbc41"
            ],
            [
             0.9,
             "#4d9221"
            ],
            [
             1,
             "#276419"
            ]
           ],
           "sequential": [
            [
             0,
             "#0d0887"
            ],
            [
             0.1111111111111111,
             "#46039f"
            ],
            [
             0.2222222222222222,
             "#7201a8"
            ],
            [
             0.3333333333333333,
             "#9c179e"
            ],
            [
             0.4444444444444444,
             "#bd3786"
            ],
            [
             0.5555555555555556,
             "#d8576b"
            ],
            [
             0.6666666666666666,
             "#ed7953"
            ],
            [
             0.7777777777777778,
             "#fb9f3a"
            ],
            [
             0.8888888888888888,
             "#fdca26"
            ],
            [
             1,
             "#f0f921"
            ]
           ],
           "sequentialminus": [
            [
             0,
             "#0d0887"
            ],
            [
             0.1111111111111111,
             "#46039f"
            ],
            [
             0.2222222222222222,
             "#7201a8"
            ],
            [
             0.3333333333333333,
             "#9c179e"
            ],
            [
             0.4444444444444444,
             "#bd3786"
            ],
            [
             0.5555555555555556,
             "#d8576b"
            ],
            [
             0.6666666666666666,
             "#ed7953"
            ],
            [
             0.7777777777777778,
             "#fb9f3a"
            ],
            [
             0.8888888888888888,
             "#fdca26"
            ],
            [
             1,
             "#f0f921"
            ]
           ]
          },
          "colorway": [
           "#636efa",
           "#EF553B",
           "#00cc96",
           "#ab63fa",
           "#FFA15A",
           "#19d3f3",
           "#FF6692",
           "#B6E880",
           "#FF97FF",
           "#FECB52"
          ],
          "font": {
           "color": "#2a3f5f"
          },
          "geo": {
           "bgcolor": "white",
           "lakecolor": "white",
           "landcolor": "#E5ECF6",
           "showlakes": true,
           "showland": true,
           "subunitcolor": "white"
          },
          "hoverlabel": {
           "align": "left"
          },
          "hovermode": "closest",
          "mapbox": {
           "style": "light"
          },
          "paper_bgcolor": "white",
          "plot_bgcolor": "#E5ECF6",
          "polar": {
           "angularaxis": {
            "gridcolor": "white",
            "linecolor": "white",
            "ticks": ""
           },
           "bgcolor": "#E5ECF6",
           "radialaxis": {
            "gridcolor": "white",
            "linecolor": "white",
            "ticks": ""
           }
          },
          "scene": {
           "xaxis": {
            "backgroundcolor": "#E5ECF6",
            "gridcolor": "white",
            "gridwidth": 2,
            "linecolor": "white",
            "showbackground": true,
            "ticks": "",
            "zerolinecolor": "white"
           },
           "yaxis": {
            "backgroundcolor": "#E5ECF6",
            "gridcolor": "white",
            "gridwidth": 2,
            "linecolor": "white",
            "showbackground": true,
            "ticks": "",
            "zerolinecolor": "white"
           },
           "zaxis": {
            "backgroundcolor": "#E5ECF6",
            "gridcolor": "white",
            "gridwidth": 2,
            "linecolor": "white",
            "showbackground": true,
            "ticks": "",
            "zerolinecolor": "white"
           }
          },
          "shapedefaults": {
           "line": {
            "color": "#2a3f5f"
           }
          },
          "ternary": {
           "aaxis": {
            "gridcolor": "white",
            "linecolor": "white",
            "ticks": ""
           },
           "baxis": {
            "gridcolor": "white",
            "linecolor": "white",
            "ticks": ""
           },
           "bgcolor": "#E5ECF6",
           "caxis": {
            "gridcolor": "white",
            "linecolor": "white",
            "ticks": ""
           }
          },
          "title": {
           "x": 0.05
          },
          "xaxis": {
           "automargin": true,
           "gridcolor": "white",
           "linecolor": "white",
           "ticks": "",
           "title": {
            "standoff": 15
           },
           "zerolinecolor": "white",
           "zerolinewidth": 2
          },
          "yaxis": {
           "automargin": true,
           "gridcolor": "white",
           "linecolor": "white",
           "ticks": "",
           "title": {
            "standoff": 15
           },
           "zerolinecolor": "white",
           "zerolinewidth": 2
          }
         }
        },
        "title": {
         "text": "Libertad vs. Confianza"
        },
        "xaxis": {
         "anchor": "y",
         "domain": [
          0,
          0.7363
         ],
         "title": {
          "text": "Freedom"
         }
        },
        "xaxis2": {
         "anchor": "y2",
         "domain": [
          0.7413,
          1
         ],
         "matches": "x2",
         "showgrid": true,
         "showline": false,
         "showticklabels": false,
         "ticks": ""
        },
        "xaxis3": {
         "anchor": "y3",
         "domain": [
          0,
          0.7363
         ],
         "matches": "x",
         "showgrid": true,
         "showticklabels": false
        },
        "xaxis4": {
         "anchor": "y4",
         "domain": [
          0.7413,
          1
         ],
         "matches": "x2",
         "showgrid": true,
         "showline": false,
         "showticklabels": false,
         "ticks": ""
        },
        "yaxis": {
         "anchor": "x",
         "domain": [
          0,
          0.7326
         ],
         "title": {
          "text": "Trust"
         }
        },
        "yaxis2": {
         "anchor": "x2",
         "domain": [
          0,
          0.7326
         ],
         "matches": "y",
         "showgrid": true,
         "showticklabels": false
        },
        "yaxis3": {
         "anchor": "x3",
         "domain": [
          0.7426,
          1
         ],
         "matches": "y3",
         "showgrid": true,
         "showline": false,
         "showticklabels": false,
         "ticks": ""
        },
        "yaxis4": {
         "anchor": "x4",
         "domain": [
          0.7426,
          1
         ],
         "matches": "y3",
         "showgrid": true,
         "showline": false,
         "showticklabels": false,
         "ticks": ""
        }
       }
      }
     },
     "metadata": {},
     "output_type": "display_data"
    }
   ],
   "source": [
    "# 9\n",
    "\n",
    "# Scatter Freedom vs Trust con histogramas marginales y líneas de mediana\n",
    "fig9 = px.scatter(\n",
    "    df,\n",
    "    x=\"Freedom\",                 # usa el nombre exacto de tu Excel\n",
    "    y=\"Trust (Government Corruption)\",  # ajusta al nombre exacto en tu archivo\n",
    "    color=\"Region\",\n",
    "    hover_name=\"Country\",\n",
    "    hover_data={\"Happiness Score\": True},\n",
    "    marginal_x=\"histogram\",\n",
    "    marginal_y=\"histogram\",\n",
    "    title=\"Libertad vs. Confianza\"\n",
    ")\n",
    "\n",
    "# Calcular medianas\n",
    "x_med = df[\"Freedom\"].median()\n",
    "y_med = df[\"Trust (Government Corruption)\"].median()\n",
    "\n",
    "# Trazar líneas guía\n",
    "fig9.add_vline(x=x_med, line_dash=\"dash\", line_color=\"black\")\n",
    "fig9.add_hline(y=y_med, line_dash=\"dash\", line_color=\"black\")\n",
    "\n",
    "fig9.update_layout(\n",
    "    xaxis_title=\"Freedom\",\n",
    "    yaxis_title=\"Trust\",\n",
    "    legend_title=\"Region\"\n",
    ")\n",
    "\n",
    "fig9.show()"
   ]
  },
  {
   "cell_type": "code",
   "execution_count": null,
   "id": "652f6de4",
   "metadata": {},
   "outputs": [
    {
     "data": {
      "application/vnd.plotly.v1+json": {
       "config": {
        "plotlyServerURL": "https://plot.ly"
       },
       "data": [
        {
         "alignmentgroup": "True",
         "box": {
          "visible": true
         },
         "hovertemplate": "Region=%{x}<br>Happiness Score=%{y}<extra></extra>",
         "legendgroup": "",
         "marker": {
          "color": "#636efa"
         },
         "name": "",
         "offsetgroup": "",
         "orientation": "v",
         "points": "all",
         "scalegroup": "True",
         "showlegend": false,
         "type": "violin",
         "x": [
          "Western Europe",
          "Western Europe",
          "Western Europe",
          "Western Europe",
          "North America",
          "Western Europe",
          "Western Europe",
          "Western Europe",
          "Australia and New Zealand",
          "Australia and New Zealand",
          "Middle East and Northern Africa",
          "Latin America and Caribbean",
          "Western Europe",
          "Latin America and Caribbean",
          "North America",
          "Latin America and Caribbean",
          "Western Europe",
          "Western Europe",
          "Western Europe",
          "Middle East and Northern Africa",
          "Western Europe",
          "Middle East and Northern Africa",
          "Latin America and Caribbean",
          "Southeastern Asia",
          "Latin America and Caribbean",
          "Western Europe",
          "Latin America and Caribbean",
          "Middle East and Northern Africa",
          "Western Europe",
          "Latin America and Caribbean",
          "Central and Eastern Europe",
          "Latin America and Caribbean",
          "Latin America and Caribbean",
          "Southeastern Asia",
          "Middle East and Northern Africa",
          "Western Europe",
          "Western Europe",
          "Eastern Asia",
          "Middle East and Northern Africa",
          "Latin America and Caribbean",
          "Latin America and Caribbean",
          "Latin America and Caribbean",
          "Latin America and Caribbean",
          "Central and Eastern Europe",
          "Central and Eastern Europe",
          "Eastern Asia",
          "Eastern Asia",
          "Latin America and Caribbean",
          "Middle East and Northern Africa",
          "Western Europe",
          "Latin America and Caribbean",
          "Central and Eastern Europe",
          "Latin America and Caribbean",
          "Central and Eastern Europe",
          "Central and Eastern Europe",
          "Central and Eastern Europe",
          "Latin America and Caribbean",
          "Latin America and Caribbean",
          "Central and Eastern Europe",
          "Central and Eastern Europe",
          "Southeastern Asia",
          "Central and Eastern Europe",
          "Middle East and Northern Africa",
          "Central and Eastern Europe",
          "Latin America and Caribbean",
          "Western Europe",
          "Western Europe",
          "Middle East and Northern Africa",
          "Central and Eastern Europe",
          "Central and Eastern Europe",
          "Sub-Saharan Africa",
          "Eastern Asia",
          "Central and Eastern Europe",
          "Southeastern Asia",
          "Southeastern Asia",
          "Middle East and Northern Africa",
          "Central and Eastern Europe",
          "Sub-Saharan Africa",
          "Southern Asia",
          "Central and Eastern Europe",
          "Southern Asia",
          "Middle East and Northern Africa",
          "Central and Eastern Europe",
          "Eastern Asia",
          "Sub-Saharan Africa",
          "Central and Eastern Europe",
          "Central and Eastern Europe",
          "Western Europe",
          "Central and Eastern Europe",
          "Southeastern Asia",
          "Sub-Saharan Africa",
          "Middle East and Northern Africa",
          "Central and Eastern Europe",
          "Sub-Saharan Africa",
          "Central and Eastern Europe",
          "Central and Eastern Europe",
          "Sub-Saharan Africa",
          "Latin America and Caribbean",
          "Southeastern Asia",
          "Eastern Asia",
          "Sub-Saharan Africa",
          "Western Europe",
          "Middle East and Northern Africa",
          "Central and Eastern Europe",
          "Latin America and Caribbean",
          "Central and Eastern Europe",
          "Middle East and Northern Africa",
          "Middle East and Northern Africa",
          "Southern Asia",
          "Middle East and Northern Africa",
          "Central and Eastern Europe",
          "Middle East and Northern Africa",
          "Sub-Saharan Africa",
          "Sub-Saharan Africa",
          "Sub-Saharan Africa",
          "Sub-Saharan Africa",
          "Southern Asia",
          "Sub-Saharan Africa",
          "Latin America and Caribbean",
          "Sub-Saharan Africa",
          "Southern Asia",
          "Sub-Saharan Africa",
          "Sub-Saharan Africa",
          "Sub-Saharan Africa",
          "Sub-Saharan Africa",
          "Sub-Saharan Africa",
          "Central and Eastern Europe",
          "Sub-Saharan Africa",
          "Southeastern Asia",
          "Central and Eastern Europe",
          "Sub-Saharan Africa",
          "Southern Asia",
          "Sub-Saharan Africa",
          "Central and Eastern Europe",
          "Middle East and Northern Africa",
          "Middle East and Northern Africa",
          "Sub-Saharan Africa",
          "Sub-Saharan Africa",
          "Sub-Saharan Africa",
          "Sub-Saharan Africa",
          "Sub-Saharan Africa",
          "Sub-Saharan Africa",
          "Sub-Saharan Africa",
          "Sub-Saharan Africa",
          "Southeastern Asia",
          "Sub-Saharan Africa",
          "Sub-Saharan Africa",
          "Sub-Saharan Africa",
          "Sub-Saharan Africa",
          "Sub-Saharan Africa",
          "Sub-Saharan Africa",
          "Sub-Saharan Africa",
          "Southern Asia",
          "Sub-Saharan Africa",
          "Sub-Saharan Africa",
          "Middle East and Northern Africa",
          "Sub-Saharan Africa",
          "Sub-Saharan Africa"
         ],
         "x0": " ",
         "xaxis": "x",
         "y": {
          "bdata": "DAIrhxZZHkBYObTIdj4eQM/3U+OlGx5ASgwCK4cWHkBoke18P7UdQDm0yHa+nx1AUI2XbhKDHUDb+X5qvHQdQL6fGi/dJB1AiUFg5dAiHUDpJjEIrBwdQIGVQ4ts5xxAzczMzMzMHEBzaJHtfL8cQGDl0CLbeRxAO99PjZfuG0BiEFg5tMgbQMP1KFyPwhtAc2iR7Xy/G0C0yHa+n5obQCuHFtnOdxtAtvP91HhpG0A9CtejcD0bQP7UeOkmMRtAvp8aL90kG0AAAAAAAAAbQK5H4XoUrhpAi2zn+6lxGkDNzMzMzEwaQLKd76fGSxpAhetRuB4FGkBxPQrXo/AZQJzEILBy6BlAUrgehevRGUC+nxov3aQZQDeJQWDlUBlAaJHtfD81GUD+1HjpJjEZQK5H4XoULhlA+n5qvHQTGUB56SYxCKwYQIXrUbgehRhAy6FFtvN9GEBQjZduEgMYQHsUrkfh+hdAppvEILDyF0BWDi2yne8XQGZmZmZm5hdA16NwPQrXF0CYbhKDwMoXQI/C9ShcjxdAdZMYBFaOF0BQjZduEoMXQOxRuB6FaxdAMQisHFpkF0CiRbbz/VQXQB1aZDvfTxdAsp3vp8ZLF0CNl24Sg0AXQESLbOf7KRdAFK5H4XoUF0Dwp8ZLNwkXQGq8dJMYBBdAd76fGi/dFkC8dJMYBNYWQEjhehSuxxZAqMZLN4nBFkDsUbgehWsWQEJg5dAiWxZA/tR46SYxFkCcxCCwcugVQEw3iUFg5RVAnu+nxku3FUB/arx0k5gVQHE9CtejcBVAhxbZzvdTFUC+nxov3SQVQN9PjZduEhVAUI2XbhIDFUAMAiuHFtkUQC2yne+nxhRA+FPjpZvEFED4U+Olm8QUQI/C9ShcjxRAarx0kxiEFEDl0CLb+X4UQMuhRbbzfRRAnMQgsHJoFEAxCKwcWmQUQJhuEoPAShRA7nw/NV46FEBaZDvfTw0UQLpJDAIrBxRA/Knx0k3iE0C8dJMYBNYTQLKd76fGyxNAZDvfT42XE0AK16NwPYoTQBsv3SQGgRNA5dAi2/l+E0ArhxbZzncTQCGwcmiRbRNAQmDl0CJbE0AzMzMzMzMTQPT91HjpJhNAvp8aL90kE0Db+X5qvPQSQFyPwvUo3BJALbKd76fGEkBYObTIdr4SQNNNYhBYuRJAaJHtfD+1EkDFILByaJESQNV46SYxiBJAcT0K16NwEkBiEFg5tEgSQMP1KFyPQhJAMzMzMzMzEkDfT42XbhISQMUgsHJoERJAdZMYBFYOEkA/NV66SQwSQLpJDAIrBxJAWDm0yHa+EUCTGARWDq0RQGDl0CLbeRFAZmZmZmZmEUCHFtnO91MRQO58PzVeOhFA46WbxCAwEUBeukkMAisRQC/dJAaBFRFANV66SQwCEUCsHFpkO98QQC2yne+nxhBAAiuHFtlOEEBvEoPAyiEQQPYoXI/C9Q9AtvP91HjpD0DZzvdT46UPQKabxCCwcg9ACKwcWmQ7D0BeukkMAisPQMP1KFyPwg5AWmQ730+NDkBzaJHtfD8OQKabxCCwcg1ABoGVQ4tsDUC8dJMYBFYNQHNoke18Pw1APQrXo3A9DUAZBFYOLbIMQJqZmZmZmQxAuB6F61G4C0C4HoXrUbgKQD81XrpJDAhAPQrXo3A9B0CDwMqhRbYGQA==",
          "dtype": "f8"
         },
         "y0": " ",
         "yaxis": "y"
        }
       ],
       "layout": {
        "annotations": [
         {
          "text": "LATAM",
          "x": "Latin America and Caribbean",
          "y": 6.149,
          "yshift": 30
         }
        ],
        "legend": {
         "tracegroupgap": 0
        },
        "template": {
         "data": {
          "bar": [
           {
            "error_x": {
             "color": "#2a3f5f"
            },
            "error_y": {
             "color": "#2a3f5f"
            },
            "marker": {
             "line": {
              "color": "#E5ECF6",
              "width": 0.5
             },
             "pattern": {
              "fillmode": "overlay",
              "size": 10,
              "solidity": 0.2
             }
            },
            "type": "bar"
           }
          ],
          "barpolar": [
           {
            "marker": {
             "line": {
              "color": "#E5ECF6",
              "width": 0.5
             },
             "pattern": {
              "fillmode": "overlay",
              "size": 10,
              "solidity": 0.2
             }
            },
            "type": "barpolar"
           }
          ],
          "carpet": [
           {
            "aaxis": {
             "endlinecolor": "#2a3f5f",
             "gridcolor": "white",
             "linecolor": "white",
             "minorgridcolor": "white",
             "startlinecolor": "#2a3f5f"
            },
            "baxis": {
             "endlinecolor": "#2a3f5f",
             "gridcolor": "white",
             "linecolor": "white",
             "minorgridcolor": "white",
             "startlinecolor": "#2a3f5f"
            },
            "type": "carpet"
           }
          ],
          "choropleth": [
           {
            "colorbar": {
             "outlinewidth": 0,
             "ticks": ""
            },
            "type": "choropleth"
           }
          ],
          "contour": [
           {
            "colorbar": {
             "outlinewidth": 0,
             "ticks": ""
            },
            "colorscale": [
             [
              0,
              "#0d0887"
             ],
             [
              0.1111111111111111,
              "#46039f"
             ],
             [
              0.2222222222222222,
              "#7201a8"
             ],
             [
              0.3333333333333333,
              "#9c179e"
             ],
             [
              0.4444444444444444,
              "#bd3786"
             ],
             [
              0.5555555555555556,
              "#d8576b"
             ],
             [
              0.6666666666666666,
              "#ed7953"
             ],
             [
              0.7777777777777778,
              "#fb9f3a"
             ],
             [
              0.8888888888888888,
              "#fdca26"
             ],
             [
              1,
              "#f0f921"
             ]
            ],
            "type": "contour"
           }
          ],
          "contourcarpet": [
           {
            "colorbar": {
             "outlinewidth": 0,
             "ticks": ""
            },
            "type": "contourcarpet"
           }
          ],
          "heatmap": [
           {
            "colorbar": {
             "outlinewidth": 0,
             "ticks": ""
            },
            "colorscale": [
             [
              0,
              "#0d0887"
             ],
             [
              0.1111111111111111,
              "#46039f"
             ],
             [
              0.2222222222222222,
              "#7201a8"
             ],
             [
              0.3333333333333333,
              "#9c179e"
             ],
             [
              0.4444444444444444,
              "#bd3786"
             ],
             [
              0.5555555555555556,
              "#d8576b"
             ],
             [
              0.6666666666666666,
              "#ed7953"
             ],
             [
              0.7777777777777778,
              "#fb9f3a"
             ],
             [
              0.8888888888888888,
              "#fdca26"
             ],
             [
              1,
              "#f0f921"
             ]
            ],
            "type": "heatmap"
           }
          ],
          "histogram": [
           {
            "marker": {
             "pattern": {
              "fillmode": "overlay",
              "size": 10,
              "solidity": 0.2
             }
            },
            "type": "histogram"
           }
          ],
          "histogram2d": [
           {
            "colorbar": {
             "outlinewidth": 0,
             "ticks": ""
            },
            "colorscale": [
             [
              0,
              "#0d0887"
             ],
             [
              0.1111111111111111,
              "#46039f"
             ],
             [
              0.2222222222222222,
              "#7201a8"
             ],
             [
              0.3333333333333333,
              "#9c179e"
             ],
             [
              0.4444444444444444,
              "#bd3786"
             ],
             [
              0.5555555555555556,
              "#d8576b"
             ],
             [
              0.6666666666666666,
              "#ed7953"
             ],
             [
              0.7777777777777778,
              "#fb9f3a"
             ],
             [
              0.8888888888888888,
              "#fdca26"
             ],
             [
              1,
              "#f0f921"
             ]
            ],
            "type": "histogram2d"
           }
          ],
          "histogram2dcontour": [
           {
            "colorbar": {
             "outlinewidth": 0,
             "ticks": ""
            },
            "colorscale": [
             [
              0,
              "#0d0887"
             ],
             [
              0.1111111111111111,
              "#46039f"
             ],
             [
              0.2222222222222222,
              "#7201a8"
             ],
             [
              0.3333333333333333,
              "#9c179e"
             ],
             [
              0.4444444444444444,
              "#bd3786"
             ],
             [
              0.5555555555555556,
              "#d8576b"
             ],
             [
              0.6666666666666666,
              "#ed7953"
             ],
             [
              0.7777777777777778,
              "#fb9f3a"
             ],
             [
              0.8888888888888888,
              "#fdca26"
             ],
             [
              1,
              "#f0f921"
             ]
            ],
            "type": "histogram2dcontour"
           }
          ],
          "mesh3d": [
           {
            "colorbar": {
             "outlinewidth": 0,
             "ticks": ""
            },
            "type": "mesh3d"
           }
          ],
          "parcoords": [
           {
            "line": {
             "colorbar": {
              "outlinewidth": 0,
              "ticks": ""
             }
            },
            "type": "parcoords"
           }
          ],
          "pie": [
           {
            "automargin": true,
            "type": "pie"
           }
          ],
          "scatter": [
           {
            "fillpattern": {
             "fillmode": "overlay",
             "size": 10,
             "solidity": 0.2
            },
            "type": "scatter"
           }
          ],
          "scatter3d": [
           {
            "line": {
             "colorbar": {
              "outlinewidth": 0,
              "ticks": ""
             }
            },
            "marker": {
             "colorbar": {
              "outlinewidth": 0,
              "ticks": ""
             }
            },
            "type": "scatter3d"
           }
          ],
          "scattercarpet": [
           {
            "marker": {
             "colorbar": {
              "outlinewidth": 0,
              "ticks": ""
             }
            },
            "type": "scattercarpet"
           }
          ],
          "scattergeo": [
           {
            "marker": {
             "colorbar": {
              "outlinewidth": 0,
              "ticks": ""
             }
            },
            "type": "scattergeo"
           }
          ],
          "scattergl": [
           {
            "marker": {
             "colorbar": {
              "outlinewidth": 0,
              "ticks": ""
             }
            },
            "type": "scattergl"
           }
          ],
          "scattermap": [
           {
            "marker": {
             "colorbar": {
              "outlinewidth": 0,
              "ticks": ""
             }
            },
            "type": "scattermap"
           }
          ],
          "scattermapbox": [
           {
            "marker": {
             "colorbar": {
              "outlinewidth": 0,
              "ticks": ""
             }
            },
            "type": "scattermapbox"
           }
          ],
          "scatterpolar": [
           {
            "marker": {
             "colorbar": {
              "outlinewidth": 0,
              "ticks": ""
             }
            },
            "type": "scatterpolar"
           }
          ],
          "scatterpolargl": [
           {
            "marker": {
             "colorbar": {
              "outlinewidth": 0,
              "ticks": ""
             }
            },
            "type": "scatterpolargl"
           }
          ],
          "scatterternary": [
           {
            "marker": {
             "colorbar": {
              "outlinewidth": 0,
              "ticks": ""
             }
            },
            "type": "scatterternary"
           }
          ],
          "surface": [
           {
            "colorbar": {
             "outlinewidth": 0,
             "ticks": ""
            },
            "colorscale": [
             [
              0,
              "#0d0887"
             ],
             [
              0.1111111111111111,
              "#46039f"
             ],
             [
              0.2222222222222222,
              "#7201a8"
             ],
             [
              0.3333333333333333,
              "#9c179e"
             ],
             [
              0.4444444444444444,
              "#bd3786"
             ],
             [
              0.5555555555555556,
              "#d8576b"
             ],
             [
              0.6666666666666666,
              "#ed7953"
             ],
             [
              0.7777777777777778,
              "#fb9f3a"
             ],
             [
              0.8888888888888888,
              "#fdca26"
             ],
             [
              1,
              "#f0f921"
             ]
            ],
            "type": "surface"
           }
          ],
          "table": [
           {
            "cells": {
             "fill": {
              "color": "#EBF0F8"
             },
             "line": {
              "color": "white"
             }
            },
            "header": {
             "fill": {
              "color": "#C8D4E3"
             },
             "line": {
              "color": "white"
             }
            },
            "type": "table"
           }
          ]
         },
         "layout": {
          "annotationdefaults": {
           "arrowcolor": "#2a3f5f",
           "arrowhead": 0,
           "arrowwidth": 1
          },
          "autotypenumbers": "strict",
          "coloraxis": {
           "colorbar": {
            "outlinewidth": 0,
            "ticks": ""
           }
          },
          "colorscale": {
           "diverging": [
            [
             0,
             "#8e0152"
            ],
            [
             0.1,
             "#c51b7d"
            ],
            [
             0.2,
             "#de77ae"
            ],
            [
             0.3,
             "#f1b6da"
            ],
            [
             0.4,
             "#fde0ef"
            ],
            [
             0.5,
             "#f7f7f7"
            ],
            [
             0.6,
             "#e6f5d0"
            ],
            [
             0.7,
             "#b8e186"
            ],
            [
             0.8,
             "#7fbc41"
            ],
            [
             0.9,
             "#4d9221"
            ],
            [
             1,
             "#276419"
            ]
           ],
           "sequential": [
            [
             0,
             "#0d0887"
            ],
            [
             0.1111111111111111,
             "#46039f"
            ],
            [
             0.2222222222222222,
             "#7201a8"
            ],
            [
             0.3333333333333333,
             "#9c179e"
            ],
            [
             0.4444444444444444,
             "#bd3786"
            ],
            [
             0.5555555555555556,
             "#d8576b"
            ],
            [
             0.6666666666666666,
             "#ed7953"
            ],
            [
             0.7777777777777778,
             "#fb9f3a"
            ],
            [
             0.8888888888888888,
             "#fdca26"
            ],
            [
             1,
             "#f0f921"
            ]
           ],
           "sequentialminus": [
            [
             0,
             "#0d0887"
            ],
            [
             0.1111111111111111,
             "#46039f"
            ],
            [
             0.2222222222222222,
             "#7201a8"
            ],
            [
             0.3333333333333333,
             "#9c179e"
            ],
            [
             0.4444444444444444,
             "#bd3786"
            ],
            [
             0.5555555555555556,
             "#d8576b"
            ],
            [
             0.6666666666666666,
             "#ed7953"
            ],
            [
             0.7777777777777778,
             "#fb9f3a"
            ],
            [
             0.8888888888888888,
             "#fdca26"
            ],
            [
             1,
             "#f0f921"
            ]
           ]
          },
          "colorway": [
           "#636efa",
           "#EF553B",
           "#00cc96",
           "#ab63fa",
           "#FFA15A",
           "#19d3f3",
           "#FF6692",
           "#B6E880",
           "#FF97FF",
           "#FECB52"
          ],
          "font": {
           "color": "#2a3f5f"
          },
          "geo": {
           "bgcolor": "white",
           "lakecolor": "white",
           "landcolor": "#E5ECF6",
           "showlakes": true,
           "showland": true,
           "subunitcolor": "white"
          },
          "hoverlabel": {
           "align": "left"
          },
          "hovermode": "closest",
          "mapbox": {
           "style": "light"
          },
          "paper_bgcolor": "white",
          "plot_bgcolor": "#E5ECF6",
          "polar": {
           "angularaxis": {
            "gridcolor": "white",
            "linecolor": "white",
            "ticks": ""
           },
           "bgcolor": "#E5ECF6",
           "radialaxis": {
            "gridcolor": "white",
            "linecolor": "white",
            "ticks": ""
           }
          },
          "scene": {
           "xaxis": {
            "backgroundcolor": "#E5ECF6",
            "gridcolor": "white",
            "gridwidth": 2,
            "linecolor": "white",
            "showbackground": true,
            "ticks": "",
            "zerolinecolor": "white"
           },
           "yaxis": {
            "backgroundcolor": "#E5ECF6",
            "gridcolor": "white",
            "gridwidth": 2,
            "linecolor": "white",
            "showbackground": true,
            "ticks": "",
            "zerolinecolor": "white"
           },
           "zaxis": {
            "backgroundcolor": "#E5ECF6",
            "gridcolor": "white",
            "gridwidth": 2,
            "linecolor": "white",
            "showbackground": true,
            "ticks": "",
            "zerolinecolor": "white"
           }
          },
          "shapedefaults": {
           "line": {
            "color": "#2a3f5f"
           }
          },
          "ternary": {
           "aaxis": {
            "gridcolor": "white",
            "linecolor": "white",
            "ticks": ""
           },
           "baxis": {
            "gridcolor": "white",
            "linecolor": "white",
            "ticks": ""
           },
           "bgcolor": "#E5ECF6",
           "caxis": {
            "gridcolor": "white",
            "linecolor": "white",
            "ticks": ""
           }
          },
          "title": {
           "x": 0.05
          },
          "xaxis": {
           "automargin": true,
           "gridcolor": "white",
           "linecolor": "white",
           "ticks": "",
           "title": {
            "standoff": 15
           },
           "zerolinecolor": "white",
           "zerolinewidth": 2
          },
          "yaxis": {
           "automargin": true,
           "gridcolor": "white",
           "linecolor": "white",
           "ticks": "",
           "title": {
            "standoff": 15
           },
           "zerolinecolor": "white",
           "zerolinewidth": 2
          }
         }
        },
        "title": {
         "text": "Violines de felicidad por Región (LATAM destacada)"
        },
        "violinmode": "group",
        "xaxis": {
         "anchor": "y",
         "categoryarray": [
          "Latin America and Caribbean",
          "Western Europe",
          "North America",
          "Australia and New Zealand",
          "Middle East and Northern Africa",
          "Southeastern Asia",
          "Central and Eastern Europe",
          "Eastern Asia",
          "Sub-Saharan Africa",
          "Southern Asia"
         ],
         "categoryorder": "array",
         "domain": [
          0,
          1
         ],
         "title": {
          "text": "Región"
         }
        },
        "yaxis": {
         "anchor": "x",
         "domain": [
          0,
          1
         ],
         "title": {
          "text": "Happiness Score"
         }
        }
       }
      }
     },
     "metadata": {},
     "output_type": "display_data"
    }
   ],
   "source": [
    "# Visualización 10\n",
    "\n",
    "\n",
    "# Detectar etiqueta de LATAM (busca \"latin\" en Region, sin depender de un nombre fijo)\n",
    "regions = df[\"Region\"].astype(str)\n",
    "latam_candidates = [r for r in regions.unique() if \"latin\" in r.lower()]\n",
    "latam_label = latam_candidates[0] if latam_candidates else regions.unique()[0]\n",
    "\n",
    "# Orden: LATAM primero\n",
    "cat_order = [latam_label] + [r for r in regions.unique() if r != latam_label]\n",
    "\n",
    "# Violin plot con box=True y LATAM primero\n",
    "fig10 = px.violin(\n",
    "    df,\n",
    "    x=\"Region\",                 # usa exactamente los nombres de tu Excel\n",
    "    y=\"Happiness Score\",\n",
    "    box=True,\n",
    "    category_orders={\"Region\": cat_order},\n",
    "    points='all',\n",
    "    title=\"Violines de felicidad por Región (LATAM destacada)\"\n",
    ")\n",
    "\n",
    "\n",
    "y_med_latam = df.loc[regions == latam_label, \"Happiness Score\"].median()\n",
    "fig10.add_annotation(\n",
    "    x=latam_label, y=y_med_latam,\n",
    "    text=\"LATAM\",\n",
    "    yshift=30\n",
    ")\n",
    "\n",
    "fig10.update_layout(xaxis_title=\"Región\", yaxis_title=\"Happiness Score\")\n",
    "fig10.show()"
   ]
  },
  {
   "cell_type": "markdown",
   "id": "7d0f274f",
   "metadata": {},
   "source": [
    "Las regiones con mayor dispersión son Middle East and Northern Africa y Latin America and Caribbean, y la mediana ajusta el ranking al mostrar que en LATAM el nivel típico es más alto de lo que indica el promedio."
   ]
  },
  {
   "cell_type": "code",
   "execution_count": null,
   "id": "746bb1a6",
   "metadata": {},
   "outputs": [
    {
     "data": {
      "application/vnd.plotly.v1+json": {
       "config": {
        "plotlyServerURL": "https://plot.ly"
       },
       "data": [
        {
         "hovertemplate": "Region=%{x}<br>Generosity=%{y}<br>text=%{text}<extra></extra>",
         "legendgroup": "Australia and New Zealand",
         "marker": {
          "color": "#636efa",
          "pattern": {
           "shape": ""
          }
         },
         "name": "Australia and New Zealand",
         "orientation": "v",
         "showlegend": true,
         "text": {
          "bdata": "H4XrUbge3T8=",
          "dtype": "f8"
         },
         "textposition": "auto",
         "type": "bar",
         "x": [
          "Australia and New Zealand"
         ],
         "xaxis": "x",
         "y": {
          "bdata": "FjWYhuEj3T8=",
          "dtype": "f8"
         },
         "yaxis": "y"
        },
        {
         "hovertemplate": "Region=%{x}<br>Generosity=%{y}<br>text=%{text}<extra></extra>",
         "legendgroup": "North America",
         "marker": {
          "color": "#EF553B",
          "pattern": {
           "shape": ""
          }
         },
         "name": "North America",
         "orientation": "v",
         "showlegend": true,
         "text": {
          "bdata": "hetRuB6F2z8=",
          "dtype": "f8"
         },
         "textposition": "auto",
         "type": "bar",
         "x": [
          "North America"
         ],
         "xaxis": "x",
         "y": {
          "bdata": "5wDBHD1+2z8=",
          "dtype": "f8"
         },
         "yaxis": "y"
        },
        {
         "hovertemplate": "Region=%{x}<br>Generosity=%{y}<br>text=%{text}<extra></extra>",
         "legendgroup": "Southeastern Asia",
         "marker": {
          "color": "#00cc96",
          "pattern": {
           "shape": ""
          }
         },
         "name": "Southeastern Asia",
         "orientation": "v",
         "showlegend": true,
         "text": {
          "bdata": "N4lBYOXQ2j8=",
          "dtype": "f8"
         },
         "textposition": "auto",
         "type": "bar",
         "x": [
          "Southeastern Asia"
         ],
         "xaxis": "x",
         "y": {
          "bdata": "8TwtjizV2j8=",
          "dtype": "f8"
         },
         "yaxis": "y"
        },
        {
         "hovertemplate": "Region=%{x}<br>Generosity=%{y}<br>text=%{text}<extra></extra>",
         "legendgroup": "Southern Asia",
         "marker": {
          "color": "#ab63fa",
          "pattern": {
           "shape": ""
          }
         },
         "name": "Southern Asia",
         "orientation": "v",
         "showlegend": true,
         "text": {
          "bdata": "bef7qfHS1T8=",
          "dtype": "f8"
         },
         "textposition": "auto",
         "type": "bar",
         "x": [
          "Southern Asia"
         ],
         "xaxis": "x",
         "y": {
          "bdata": "bSoNOffZ1T8=",
          "dtype": "f8"
         },
         "yaxis": "y"
        },
        {
         "hovertemplate": "Region=%{x}<br>Generosity=%{y}<br>text=%{text}<extra></extra>",
         "legendgroup": "Western Europe",
         "marker": {
          "color": "#FFA15A",
          "pattern": {
           "shape": ""
          }
         },
         "name": "Western Europe",
         "orientation": "v",
         "showlegend": true,
         "text": {
          "bdata": "hxbZzvdT0z8=",
          "dtype": "f8"
         },
         "textposition": "auto",
         "type": "bar",
         "x": [
          "Western Europe"
         ],
         "xaxis": "x",
         "y": {
          "bdata": "rSCIML9V0z8=",
          "dtype": "f8"
         },
         "yaxis": "y"
        },
        {
         "hovertemplate": "Region=%{x}<br>Generosity=%{y}<br>text=%{text}<extra></extra>",
         "legendgroup": "Eastern Asia",
         "marker": {
          "color": "#19d3f3",
          "pattern": {
           "shape": ""
          }
         },
         "name": "Eastern Asia",
         "orientation": "v",
         "showlegend": true,
         "text": {
          "bdata": "IbByaJHtzD8=",
          "dtype": "f8"
         },
         "textposition": "auto",
         "type": "bar",
         "x": [
          "Eastern Asia"
         ],
         "xaxis": "x",
         "y": {
          "bdata": "RBfUt8zpzD8=",
          "dtype": "f8"
         },
         "yaxis": "y"
        },
        {
         "hovertemplate": "Region=%{x}<br>Generosity=%{y}<br>text=%{text}<extra></extra>",
         "legendgroup": "Sub-Saharan Africa",
         "marker": {
          "color": "#FF6692",
          "pattern": {
           "shape": ""
          }
         },
         "name": "Sub-Saharan Africa",
         "orientation": "v",
         "showlegend": true,
         "text": {
          "bdata": "fT81XrpJzD8=",
          "dtype": "f8"
         },
         "textposition": "auto",
         "type": "bar",
         "x": [
          "Sub-Saharan Africa"
         ],
         "xaxis": "x",
         "y": {
          "bdata": "FcyYgjVOzD8=",
          "dtype": "f8"
         },
         "yaxis": "y"
        },
        {
         "hovertemplate": "Region=%{x}<br>Generosity=%{y}<br>text=%{text}<extra></extra>",
         "legendgroup": "Latin America and Caribbean",
         "marker": {
          "color": "#B6E880",
          "pattern": {
           "shape": ""
          }
         },
         "name": "Latin America and Caribbean",
         "orientation": "v",
         "showlegend": true,
         "text": {
          "bdata": "gZVDi2znyz8=",
          "dtype": "f8"
         },
         "textposition": "auto",
         "type": "bar",
         "x": [
          "Latin America and Caribbean"
         ],
         "xaxis": "x",
         "y": {
          "bdata": "z6IN33fgyz8=",
          "dtype": "f8"
         },
         "yaxis": "y"
        },
        {
         "hovertemplate": "Region=%{x}<br>Generosity=%{y}<br>text=%{text}<extra></extra>",
         "legendgroup": "Middle East and Northern Africa",
         "marker": {
          "color": "#FF97FF",
          "pattern": {
           "shape": ""
          }
         },
         "name": "Middle East and Northern Africa",
         "orientation": "v",
         "showlegend": true,
         "text": {
          "bdata": "UrgehetRyD8=",
          "dtype": "f8"
         },
         "textposition": "auto",
         "type": "bar",
         "x": [
          "Middle East and Northern Africa"
         ],
         "xaxis": "x",
         "y": {
          "bdata": "v9U6cTleyD8=",
          "dtype": "f8"
         },
         "yaxis": "y"
        },
        {
         "hovertemplate": "Region=%{x}<br>Generosity=%{y}<br>text=%{text}<extra></extra>",
         "legendgroup": "Central and Eastern Europe",
         "marker": {
          "color": "#FECB52",
          "pattern": {
           "shape": ""
          }
         },
         "name": "Central and Eastern Europe",
         "orientation": "v",
         "showlegend": true,
         "text": {
          "bdata": "2/l+arx0wz8=",
          "dtype": "f8"
         },
         "textposition": "auto",
         "type": "bar",
         "x": [
          "Central and Eastern Europe"
         ],
         "xaxis": "x",
         "y": {
          "bdata": "oELfRWF9wz8=",
          "dtype": "f8"
         },
         "yaxis": "y"
        }
       ],
       "layout": {
        "barmode": "relative",
        "font": {
         "size": 9
        },
        "legend": {
         "title": {
          "text": "Region"
         },
         "tracegroupgap": 0
        },
        "showlegend": false,
        "template": {
         "data": {
          "bar": [
           {
            "error_x": {
             "color": "#2a3f5f"
            },
            "error_y": {
             "color": "#2a3f5f"
            },
            "marker": {
             "line": {
              "color": "#E5ECF6",
              "width": 0.5
             },
             "pattern": {
              "fillmode": "overlay",
              "size": 10,
              "solidity": 0.2
             }
            },
            "type": "bar"
           }
          ],
          "barpolar": [
           {
            "marker": {
             "line": {
              "color": "#E5ECF6",
              "width": 0.5
             },
             "pattern": {
              "fillmode": "overlay",
              "size": 10,
              "solidity": 0.2
             }
            },
            "type": "barpolar"
           }
          ],
          "carpet": [
           {
            "aaxis": {
             "endlinecolor": "#2a3f5f",
             "gridcolor": "white",
             "linecolor": "white",
             "minorgridcolor": "white",
             "startlinecolor": "#2a3f5f"
            },
            "baxis": {
             "endlinecolor": "#2a3f5f",
             "gridcolor": "white",
             "linecolor": "white",
             "minorgridcolor": "white",
             "startlinecolor": "#2a3f5f"
            },
            "type": "carpet"
           }
          ],
          "choropleth": [
           {
            "colorbar": {
             "outlinewidth": 0,
             "ticks": ""
            },
            "type": "choropleth"
           }
          ],
          "contour": [
           {
            "colorbar": {
             "outlinewidth": 0,
             "ticks": ""
            },
            "colorscale": [
             [
              0,
              "#0d0887"
             ],
             [
              0.1111111111111111,
              "#46039f"
             ],
             [
              0.2222222222222222,
              "#7201a8"
             ],
             [
              0.3333333333333333,
              "#9c179e"
             ],
             [
              0.4444444444444444,
              "#bd3786"
             ],
             [
              0.5555555555555556,
              "#d8576b"
             ],
             [
              0.6666666666666666,
              "#ed7953"
             ],
             [
              0.7777777777777778,
              "#fb9f3a"
             ],
             [
              0.8888888888888888,
              "#fdca26"
             ],
             [
              1,
              "#f0f921"
             ]
            ],
            "type": "contour"
           }
          ],
          "contourcarpet": [
           {
            "colorbar": {
             "outlinewidth": 0,
             "ticks": ""
            },
            "type": "contourcarpet"
           }
          ],
          "heatmap": [
           {
            "colorbar": {
             "outlinewidth": 0,
             "ticks": ""
            },
            "colorscale": [
             [
              0,
              "#0d0887"
             ],
             [
              0.1111111111111111,
              "#46039f"
             ],
             [
              0.2222222222222222,
              "#7201a8"
             ],
             [
              0.3333333333333333,
              "#9c179e"
             ],
             [
              0.4444444444444444,
              "#bd3786"
             ],
             [
              0.5555555555555556,
              "#d8576b"
             ],
             [
              0.6666666666666666,
              "#ed7953"
             ],
             [
              0.7777777777777778,
              "#fb9f3a"
             ],
             [
              0.8888888888888888,
              "#fdca26"
             ],
             [
              1,
              "#f0f921"
             ]
            ],
            "type": "heatmap"
           }
          ],
          "histogram": [
           {
            "marker": {
             "pattern": {
              "fillmode": "overlay",
              "size": 10,
              "solidity": 0.2
             }
            },
            "type": "histogram"
           }
          ],
          "histogram2d": [
           {
            "colorbar": {
             "outlinewidth": 0,
             "ticks": ""
            },
            "colorscale": [
             [
              0,
              "#0d0887"
             ],
             [
              0.1111111111111111,
              "#46039f"
             ],
             [
              0.2222222222222222,
              "#7201a8"
             ],
             [
              0.3333333333333333,
              "#9c179e"
             ],
             [
              0.4444444444444444,
              "#bd3786"
             ],
             [
              0.5555555555555556,
              "#d8576b"
             ],
             [
              0.6666666666666666,
              "#ed7953"
             ],
             [
              0.7777777777777778,
              "#fb9f3a"
             ],
             [
              0.8888888888888888,
              "#fdca26"
             ],
             [
              1,
              "#f0f921"
             ]
            ],
            "type": "histogram2d"
           }
          ],
          "histogram2dcontour": [
           {
            "colorbar": {
             "outlinewidth": 0,
             "ticks": ""
            },
            "colorscale": [
             [
              0,
              "#0d0887"
             ],
             [
              0.1111111111111111,
              "#46039f"
             ],
             [
              0.2222222222222222,
              "#7201a8"
             ],
             [
              0.3333333333333333,
              "#9c179e"
             ],
             [
              0.4444444444444444,
              "#bd3786"
             ],
             [
              0.5555555555555556,
              "#d8576b"
             ],
             [
              0.6666666666666666,
              "#ed7953"
             ],
             [
              0.7777777777777778,
              "#fb9f3a"
             ],
             [
              0.8888888888888888,
              "#fdca26"
             ],
             [
              1,
              "#f0f921"
             ]
            ],
            "type": "histogram2dcontour"
           }
          ],
          "mesh3d": [
           {
            "colorbar": {
             "outlinewidth": 0,
             "ticks": ""
            },
            "type": "mesh3d"
           }
          ],
          "parcoords": [
           {
            "line": {
             "colorbar": {
              "outlinewidth": 0,
              "ticks": ""
             }
            },
            "type": "parcoords"
           }
          ],
          "pie": [
           {
            "automargin": true,
            "type": "pie"
           }
          ],
          "scatter": [
           {
            "fillpattern": {
             "fillmode": "overlay",
             "size": 10,
             "solidity": 0.2
            },
            "type": "scatter"
           }
          ],
          "scatter3d": [
           {
            "line": {
             "colorbar": {
              "outlinewidth": 0,
              "ticks": ""
             }
            },
            "marker": {
             "colorbar": {
              "outlinewidth": 0,
              "ticks": ""
             }
            },
            "type": "scatter3d"
           }
          ],
          "scattercarpet": [
           {
            "marker": {
             "colorbar": {
              "outlinewidth": 0,
              "ticks": ""
             }
            },
            "type": "scattercarpet"
           }
          ],
          "scattergeo": [
           {
            "marker": {
             "colorbar": {
              "outlinewidth": 0,
              "ticks": ""
             }
            },
            "type": "scattergeo"
           }
          ],
          "scattergl": [
           {
            "marker": {
             "colorbar": {
              "outlinewidth": 0,
              "ticks": ""
             }
            },
            "type": "scattergl"
           }
          ],
          "scattermap": [
           {
            "marker": {
             "colorbar": {
              "outlinewidth": 0,
              "ticks": ""
             }
            },
            "type": "scattermap"
           }
          ],
          "scattermapbox": [
           {
            "marker": {
             "colorbar": {
              "outlinewidth": 0,
              "ticks": ""
             }
            },
            "type": "scattermapbox"
           }
          ],
          "scatterpolar": [
           {
            "marker": {
             "colorbar": {
              "outlinewidth": 0,
              "ticks": ""
             }
            },
            "type": "scatterpolar"
           }
          ],
          "scatterpolargl": [
           {
            "marker": {
             "colorbar": {
              "outlinewidth": 0,
              "ticks": ""
             }
            },
            "type": "scatterpolargl"
           }
          ],
          "scatterternary": [
           {
            "marker": {
             "colorbar": {
              "outlinewidth": 0,
              "ticks": ""
             }
            },
            "type": "scatterternary"
           }
          ],
          "surface": [
           {
            "colorbar": {
             "outlinewidth": 0,
             "ticks": ""
            },
            "colorscale": [
             [
              0,
              "#0d0887"
             ],
             [
              0.1111111111111111,
              "#46039f"
             ],
             [
              0.2222222222222222,
              "#7201a8"
             ],
             [
              0.3333333333333333,
              "#9c179e"
             ],
             [
              0.4444444444444444,
              "#bd3786"
             ],
             [
              0.5555555555555556,
              "#d8576b"
             ],
             [
              0.6666666666666666,
              "#ed7953"
             ],
             [
              0.7777777777777778,
              "#fb9f3a"
             ],
             [
              0.8888888888888888,
              "#fdca26"
             ],
             [
              1,
              "#f0f921"
             ]
            ],
            "type": "surface"
           }
          ],
          "table": [
           {
            "cells": {
             "fill": {
              "color": "#EBF0F8"
             },
             "line": {
              "color": "white"
             }
            },
            "header": {
             "fill": {
              "color": "#C8D4E3"
             },
             "line": {
              "color": "white"
             }
            },
            "type": "table"
           }
          ]
         },
         "layout": {
          "annotationdefaults": {
           "arrowcolor": "#2a3f5f",
           "arrowhead": 0,
           "arrowwidth": 1
          },
          "autotypenumbers": "strict",
          "coloraxis": {
           "colorbar": {
            "outlinewidth": 0,
            "ticks": ""
           }
          },
          "colorscale": {
           "diverging": [
            [
             0,
             "#8e0152"
            ],
            [
             0.1,
             "#c51b7d"
            ],
            [
             0.2,
             "#de77ae"
            ],
            [
             0.3,
             "#f1b6da"
            ],
            [
             0.4,
             "#fde0ef"
            ],
            [
             0.5,
             "#f7f7f7"
            ],
            [
             0.6,
             "#e6f5d0"
            ],
            [
             0.7,
             "#b8e186"
            ],
            [
             0.8,
             "#7fbc41"
            ],
            [
             0.9,
             "#4d9221"
            ],
            [
             1,
             "#276419"
            ]
           ],
           "sequential": [
            [
             0,
             "#0d0887"
            ],
            [
             0.1111111111111111,
             "#46039f"
            ],
            [
             0.2222222222222222,
             "#7201a8"
            ],
            [
             0.3333333333333333,
             "#9c179e"
            ],
            [
             0.4444444444444444,
             "#bd3786"
            ],
            [
             0.5555555555555556,
             "#d8576b"
            ],
            [
             0.6666666666666666,
             "#ed7953"
            ],
            [
             0.7777777777777778,
             "#fb9f3a"
            ],
            [
             0.8888888888888888,
             "#fdca26"
            ],
            [
             1,
             "#f0f921"
            ]
           ],
           "sequentialminus": [
            [
             0,
             "#0d0887"
            ],
            [
             0.1111111111111111,
             "#46039f"
            ],
            [
             0.2222222222222222,
             "#7201a8"
            ],
            [
             0.3333333333333333,
             "#9c179e"
            ],
            [
             0.4444444444444444,
             "#bd3786"
            ],
            [
             0.5555555555555556,
             "#d8576b"
            ],
            [
             0.6666666666666666,
             "#ed7953"
            ],
            [
             0.7777777777777778,
             "#fb9f3a"
            ],
            [
             0.8888888888888888,
             "#fdca26"
            ],
            [
             1,
             "#f0f921"
            ]
           ]
          },
          "colorway": [
           "#636efa",
           "#EF553B",
           "#00cc96",
           "#ab63fa",
           "#FFA15A",
           "#19d3f3",
           "#FF6692",
           "#B6E880",
           "#FF97FF",
           "#FECB52"
          ],
          "font": {
           "color": "#2a3f5f"
          },
          "geo": {
           "bgcolor": "white",
           "lakecolor": "white",
           "landcolor": "#E5ECF6",
           "showlakes": true,
           "showland": true,
           "subunitcolor": "white"
          },
          "hoverlabel": {
           "align": "left"
          },
          "hovermode": "closest",
          "mapbox": {
           "style": "light"
          },
          "paper_bgcolor": "white",
          "plot_bgcolor": "#E5ECF6",
          "polar": {
           "angularaxis": {
            "gridcolor": "white",
            "linecolor": "white",
            "ticks": ""
           },
           "bgcolor": "#E5ECF6",
           "radialaxis": {
            "gridcolor": "white",
            "linecolor": "white",
            "ticks": ""
           }
          },
          "scene": {
           "xaxis": {
            "backgroundcolor": "#E5ECF6",
            "gridcolor": "white",
            "gridwidth": 2,
            "linecolor": "white",
            "showbackground": true,
            "ticks": "",
            "zerolinecolor": "white"
           },
           "yaxis": {
            "backgroundcolor": "#E5ECF6",
            "gridcolor": "white",
            "gridwidth": 2,
            "linecolor": "white",
            "showbackground": true,
            "ticks": "",
            "zerolinecolor": "white"
           },
           "zaxis": {
            "backgroundcolor": "#E5ECF6",
            "gridcolor": "white",
            "gridwidth": 2,
            "linecolor": "white",
            "showbackground": true,
            "ticks": "",
            "zerolinecolor": "white"
           }
          },
          "shapedefaults": {
           "line": {
            "color": "#2a3f5f"
           }
          },
          "ternary": {
           "aaxis": {
            "gridcolor": "white",
            "linecolor": "white",
            "ticks": ""
           },
           "baxis": {
            "gridcolor": "white",
            "linecolor": "white",
            "ticks": ""
           },
           "bgcolor": "#E5ECF6",
           "caxis": {
            "gridcolor": "white",
            "linecolor": "white",
            "ticks": ""
           }
          },
          "title": {
           "x": 0.05
          },
          "xaxis": {
           "automargin": true,
           "gridcolor": "white",
           "linecolor": "white",
           "ticks": "",
           "title": {
            "standoff": 15
           },
           "zerolinecolor": "white",
           "zerolinewidth": 2
          },
          "yaxis": {
           "automargin": true,
           "gridcolor": "white",
           "linecolor": "white",
           "ticks": "",
           "title": {
            "standoff": 15
           },
           "zerolinecolor": "white",
           "zerolinewidth": 2
          }
         }
        },
        "title": {
         "text": "Promedio de Generosity por Región"
        },
        "xaxis": {
         "anchor": "y",
         "categoryarray": [
          "Australia and New Zealand",
          "North America",
          "Southeastern Asia",
          "Southern Asia",
          "Western Europe",
          "Eastern Asia",
          "Sub-Saharan Africa",
          "Latin America and Caribbean",
          "Middle East and Northern Africa",
          "Central and Eastern Europe"
         ],
         "categoryorder": "array",
         "domain": [
          0,
          1
         ],
         "tickangle": 45,
         "title": {
          "text": "Región"
         }
        },
        "yaxis": {
         "anchor": "x",
         "domain": [
          0,
          1
         ],
         "title": {
          "text": "Promedio de Generosity"
         }
        }
       }
      }
     },
     "metadata": {},
     "output_type": "display_data"
    }
   ],
   "source": [
    "# Pregunta 11 Visualización Nº2\n",
    "\n",
    "# Promedio de Generosity por Región\n",
    "r11 = df.groupby(\"Region\", as_index=False)[\"Generosity\"].mean()\n",
    "\n",
    "# Ordenar descendente\n",
    "r11 = r11.sort_values(\"Generosity\", ascending=False)\n",
    "\n",
    "# Gráfico de barras\n",
    "fig11 = px.bar(\n",
    "    r11,\n",
    "    x=\"Region\",\n",
    "    y=\"Generosity\",\n",
    "    title=\"Promedio de Generosity por Región\",\n",
    "    color=\"Region\",\n",
    "    text=r11[\"Generosity\"].round(3),\n",
    ")\n",
    "\n",
    "fig11.update_layout(\n",
    "    xaxis_title=\"Región\",\n",
    "    yaxis_title=\"Promedio de Generosity\",\n",
    "    xaxis_tickangle=45,\n",
    "    showlegend=False,\n",
    "    font=dict(size=9)\n",
    ")\n",
    "\n",
    "fig11.show()"
   ]
  },
  {
   "cell_type": "code",
   "execution_count": null,
   "id": "d60ccdcb",
   "metadata": {},
   "outputs": [
    {
     "data": {
      "application/vnd.plotly.v1+json": {
       "config": {
        "plotlyServerURL": "https://plot.ly"
       },
       "data": [
        {
         "customdata": {
          "bdata": "7nw/NV46EUA=",
          "dtype": "f8",
          "shape": "1, 1"
         },
         "hovertemplate": "Country=%{x}<br>Generosity=%{y}<br>text=%{text}<br>Happiness Score=%{customdata[0]}<extra></extra>",
         "legendgroup": "Myanmar",
         "marker": {
          "color": "#636efa",
          "pattern": {
           "shape": ""
          }
         },
         "name": "Myanmar",
         "orientation": "v",
         "showlegend": true,
         "text": {
          "bdata": "Rrbz/dR46T8=",
          "dtype": "f8"
         },
         "textposition": "auto",
         "type": "bar",
         "x": [
          "Myanmar"
         ],
         "xaxis": "x",
         "y": {
          "bdata": "nUtxVdl36T8=",
          "dtype": "f8"
         },
         "yaxis": "y"
        },
        {
         "customdata": {
          "bdata": "UrgehevRGUA=",
          "dtype": "f8",
          "shape": "1, 1"
         },
         "hovertemplate": "Country=%{x}<br>Generosity=%{y}<br>text=%{text}<br>Happiness Score=%{customdata[0]}<extra></extra>",
         "legendgroup": "Thailand",
         "marker": {
          "color": "#EF553B",
          "pattern": {
           "shape": ""
          }
         },
         "name": "Thailand",
         "orientation": "v",
         "showlegend": true,
         "text": {
          "bdata": "O99PjZdu4j8=",
          "dtype": "f8"
         },
         "textposition": "auto",
         "type": "bar",
         "x": [
          "Thailand"
         ],
         "xaxis": "x",
         "y": {
          "bdata": "4umVsgxx4j8=",
          "dtype": "f8"
         },
         "yaxis": "y"
        },
        {
         "customdata": {
          "bdata": "K4cW2c53G0A=",
          "dtype": "f8",
          "shape": "1, 1"
         },
         "hovertemplate": "Country=%{x}<br>Generosity=%{y}<br>text=%{text}<br>Happiness Score=%{customdata[0]}<extra></extra>",
         "legendgroup": "United Kingdom",
         "marker": {
          "color": "#00cc96",
          "pattern": {
           "shape": ""
          }
         },
         "name": "United Kingdom",
         "orientation": "v",
         "showlegend": true,
         "text": {
          "bdata": "z/dT46Wb4D8=",
          "dtype": "f8"
         },
         "textposition": "auto",
         "type": "bar",
         "x": [
          "United Kingdom"
         ],
         "xaxis": "x",
         "y": {
          "bdata": "eGLWi6Gc4D8=",
          "dtype": "f8"
         },
         "yaxis": "y"
        },
        {
         "customdata": {
          "bdata": "aJHtfD81GUA=",
          "dtype": "f8",
          "shape": "1, 1"
         },
         "hovertemplate": "Country=%{x}<br>Generosity=%{y}<br>text=%{text}<br>Happiness Score=%{customdata[0]}<extra></extra>",
         "legendgroup": "Malta",
         "marker": {
          "color": "#ab63fa",
          "pattern": {
           "shape": ""
          }
         },
         "name": "Malta",
         "orientation": "v",
         "showlegend": true,
         "text": {
          "bdata": "+n5qvHST4D8=",
          "dtype": "f8"
         },
         "textposition": "auto",
         "type": "bar",
         "x": [
          "Malta"
         ],
         "xaxis": "x",
         "y": {
          "bdata": "VtRgGoaP4D8=",
          "dtype": "f8"
         },
         "yaxis": "y"
        },
        {
         "customdata": {
          "bdata": "f2q8dJOYFUA=",
          "dtype": "f8",
          "shape": "1, 1"
         },
         "hovertemplate": "Country=%{x}<br>Generosity=%{y}<br>text=%{text}<br>Happiness Score=%{customdata[0]}<extra></extra>",
         "legendgroup": "Indonesia",
         "marker": {
          "color": "#FFA15A",
          "pattern": {
           "shape": ""
          }
         },
         "name": "Indonesia",
         "orientation": "v",
         "showlegend": true,
         "text": {
          "bdata": "exSuR+F64D8=",
          "dtype": "f8"
         },
         "textposition": "auto",
         "type": "bar",
         "x": [
          "Indonesia"
         ],
         "xaxis": "x",
         "y": {
          "bdata": "kst/SL994D8=",
          "dtype": "f8"
         },
         "yaxis": "y"
        },
        {
         "customdata": {
          "bdata": "7nw/NV46FEA=",
          "dtype": "f8",
          "shape": "1, 1"
         },
         "hovertemplate": "Country=%{x}<br>Generosity=%{y}<br>text=%{text}<br>Happiness Score=%{customdata[0]}<extra></extra>",
         "legendgroup": "Somaliland region",
         "marker": {
          "color": "#19d3f3",
          "pattern": {
           "shape": ""
          }
         },
         "name": "Somaliland region",
         "orientation": "v",
         "showlegend": true,
         "text": {
          "bdata": "f2q8dJMY4D8=",
          "dtype": "f8"
         },
         "textposition": "auto",
         "type": "bar",
         "x": [
          "Somaliland region"
         ],
         "xaxis": "x",
         "y": {
          "bdata": "fAqA8Qwa4D8=",
          "dtype": "f8"
         },
         "yaxis": "y"
        },
        {
         "customdata": {
          "bdata": "UI2XbhIDFUA=",
          "dtype": "f8",
          "shape": "1, 1"
         },
         "hovertemplate": "Country=%{x}<br>Generosity=%{y}<br>text=%{text}<br>Happiness Score=%{customdata[0]}<extra></extra>",
         "legendgroup": "Bhutan",
         "marker": {
          "color": "#FF6692",
          "pattern": {
           "shape": ""
          }
         },
         "name": "Bhutan",
         "orientation": "v",
         "showlegend": true,
         "text": {
          "bdata": "uB6F61G43j8=",
          "dtype": "f8"
         },
         "textposition": "auto",
         "type": "bar",
         "x": [
          "Bhutan"
         ],
         "xaxis": "x",
         "y": {
          "bdata": "K/uuCP633j8=",
          "dtype": "f8"
         },
         "yaxis": "y"
        },
        {
         "customdata": {
          "bdata": "UI2XbhKDHUA=",
          "dtype": "f8",
          "shape": "1, 1"
         },
         "hovertemplate": "Country=%{x}<br>Generosity=%{y}<br>text=%{text}<br>Happiness Score=%{customdata[0]}<extra></extra>",
         "legendgroup": "Netherlands",
         "marker": {
          "color": "#B6E880",
          "pattern": {
           "shape": ""
          }
         },
         "name": "Netherlands",
         "orientation": "v",
         "showlegend": true,
         "text": {
          "bdata": "EFg5tMh23j8=",
          "dtype": "f8"
         },
         "textposition": "auto",
         "type": "bar",
         "x": [
          "Netherlands"
         ],
         "xaxis": "x",
         "y": {
          "bdata": "1QloImx43j8=",
          "dtype": "f8"
         },
         "yaxis": "y"
        },
        {
         "customdata": {
          "bdata": "vp8aL90kHUA=",
          "dtype": "f8",
          "shape": "1, 1"
         },
         "hovertemplate": "Country=%{x}<br>Generosity=%{y}<br>text=%{text}<br>Happiness Score=%{customdata[0]}<extra></extra>",
         "legendgroup": "New Zealand",
         "marker": {
          "color": "#FF97FF",
          "pattern": {
           "shape": ""
          }
         },
         "name": "New Zealand",
         "orientation": "v",
         "showlegend": true,
         "text": {
          "bdata": "ZmZmZmZm3j8=",
          "dtype": "f8"
         },
         "textposition": "auto",
         "type": "bar",
         "x": [
          "New Zealand"
         ],
         "xaxis": "x",
         "y": {
          "bdata": "LXjRV5Bm3j8=",
          "dtype": "f8"
         },
         "yaxis": "y"
        },
        {
         "customdata": {
          "bdata": "PzVeukkMCEA=",
          "dtype": "f8",
          "shape": "1, 1"
         },
         "hovertemplate": "Country=%{x}<br>Generosity=%{y}<br>text=%{text}<br>Happiness Score=%{customdata[0]}<extra></extra>",
         "legendgroup": "Syria",
         "marker": {
          "color": "#FECB52",
          "pattern": {
           "shape": ""
          }
         },
         "name": "Syria",
         "orientation": "v",
         "showlegend": true,
         "text": {
          "bdata": "aJHtfD813j8=",
          "dtype": "f8"
         },
         "textposition": "auto",
         "type": "bar",
         "x": [
          "Syria"
         ],
         "xaxis": "x",
         "y": {
          "bdata": "GRwlr84x3j8=",
          "dtype": "f8"
         },
         "yaxis": "y"
        }
       ],
       "layout": {
        "barmode": "relative",
        "font": {
         "size": 9
        },
        "legend": {
         "title": {
          "text": "Country"
         },
         "tracegroupgap": 0
        },
        "shapes": [
         {
          "fillcolor": "rgba(255,0,0,0.1)",
          "layer": "below",
          "line": {
           "color": "red",
           "width": 2
          },
          "type": "rect",
          "x0": -0.5,
          "x1": 1.5,
          "y0": 0,
          "y1": 0.835674
         }
        ],
        "showlegend": false,
        "template": {
         "data": {
          "bar": [
           {
            "error_x": {
             "color": "#2a3f5f"
            },
            "error_y": {
             "color": "#2a3f5f"
            },
            "marker": {
             "line": {
              "color": "#E5ECF6",
              "width": 0.5
             },
             "pattern": {
              "fillmode": "overlay",
              "size": 10,
              "solidity": 0.2
             }
            },
            "type": "bar"
           }
          ],
          "barpolar": [
           {
            "marker": {
             "line": {
              "color": "#E5ECF6",
              "width": 0.5
             },
             "pattern": {
              "fillmode": "overlay",
              "size": 10,
              "solidity": 0.2
             }
            },
            "type": "barpolar"
           }
          ],
          "carpet": [
           {
            "aaxis": {
             "endlinecolor": "#2a3f5f",
             "gridcolor": "white",
             "linecolor": "white",
             "minorgridcolor": "white",
             "startlinecolor": "#2a3f5f"
            },
            "baxis": {
             "endlinecolor": "#2a3f5f",
             "gridcolor": "white",
             "linecolor": "white",
             "minorgridcolor": "white",
             "startlinecolor": "#2a3f5f"
            },
            "type": "carpet"
           }
          ],
          "choropleth": [
           {
            "colorbar": {
             "outlinewidth": 0,
             "ticks": ""
            },
            "type": "choropleth"
           }
          ],
          "contour": [
           {
            "colorbar": {
             "outlinewidth": 0,
             "ticks": ""
            },
            "colorscale": [
             [
              0,
              "#0d0887"
             ],
             [
              0.1111111111111111,
              "#46039f"
             ],
             [
              0.2222222222222222,
              "#7201a8"
             ],
             [
              0.3333333333333333,
              "#9c179e"
             ],
             [
              0.4444444444444444,
              "#bd3786"
             ],
             [
              0.5555555555555556,
              "#d8576b"
             ],
             [
              0.6666666666666666,
              "#ed7953"
             ],
             [
              0.7777777777777778,
              "#fb9f3a"
             ],
             [
              0.8888888888888888,
              "#fdca26"
             ],
             [
              1,
              "#f0f921"
             ]
            ],
            "type": "contour"
           }
          ],
          "contourcarpet": [
           {
            "colorbar": {
             "outlinewidth": 0,
             "ticks": ""
            },
            "type": "contourcarpet"
           }
          ],
          "heatmap": [
           {
            "colorbar": {
             "outlinewidth": 0,
             "ticks": ""
            },
            "colorscale": [
             [
              0,
              "#0d0887"
             ],
             [
              0.1111111111111111,
              "#46039f"
             ],
             [
              0.2222222222222222,
              "#7201a8"
             ],
             [
              0.3333333333333333,
              "#9c179e"
             ],
             [
              0.4444444444444444,
              "#bd3786"
             ],
             [
              0.5555555555555556,
              "#d8576b"
             ],
             [
              0.6666666666666666,
              "#ed7953"
             ],
             [
              0.7777777777777778,
              "#fb9f3a"
             ],
             [
              0.8888888888888888,
              "#fdca26"
             ],
             [
              1,
              "#f0f921"
             ]
            ],
            "type": "heatmap"
           }
          ],
          "histogram": [
           {
            "marker": {
             "pattern": {
              "fillmode": "overlay",
              "size": 10,
              "solidity": 0.2
             }
            },
            "type": "histogram"
           }
          ],
          "histogram2d": [
           {
            "colorbar": {
             "outlinewidth": 0,
             "ticks": ""
            },
            "colorscale": [
             [
              0,
              "#0d0887"
             ],
             [
              0.1111111111111111,
              "#46039f"
             ],
             [
              0.2222222222222222,
              "#7201a8"
             ],
             [
              0.3333333333333333,
              "#9c179e"
             ],
             [
              0.4444444444444444,
              "#bd3786"
             ],
             [
              0.5555555555555556,
              "#d8576b"
             ],
             [
              0.6666666666666666,
              "#ed7953"
             ],
             [
              0.7777777777777778,
              "#fb9f3a"
             ],
             [
              0.8888888888888888,
              "#fdca26"
             ],
             [
              1,
              "#f0f921"
             ]
            ],
            "type": "histogram2d"
           }
          ],
          "histogram2dcontour": [
           {
            "colorbar": {
             "outlinewidth": 0,
             "ticks": ""
            },
            "colorscale": [
             [
              0,
              "#0d0887"
             ],
             [
              0.1111111111111111,
              "#46039f"
             ],
             [
              0.2222222222222222,
              "#7201a8"
             ],
             [
              0.3333333333333333,
              "#9c179e"
             ],
             [
              0.4444444444444444,
              "#bd3786"
             ],
             [
              0.5555555555555556,
              "#d8576b"
             ],
             [
              0.6666666666666666,
              "#ed7953"
             ],
             [
              0.7777777777777778,
              "#fb9f3a"
             ],
             [
              0.8888888888888888,
              "#fdca26"
             ],
             [
              1,
              "#f0f921"
             ]
            ],
            "type": "histogram2dcontour"
           }
          ],
          "mesh3d": [
           {
            "colorbar": {
             "outlinewidth": 0,
             "ticks": ""
            },
            "type": "mesh3d"
           }
          ],
          "parcoords": [
           {
            "line": {
             "colorbar": {
              "outlinewidth": 0,
              "ticks": ""
             }
            },
            "type": "parcoords"
           }
          ],
          "pie": [
           {
            "automargin": true,
            "type": "pie"
           }
          ],
          "scatter": [
           {
            "fillpattern": {
             "fillmode": "overlay",
             "size": 10,
             "solidity": 0.2
            },
            "type": "scatter"
           }
          ],
          "scatter3d": [
           {
            "line": {
             "colorbar": {
              "outlinewidth": 0,
              "ticks": ""
             }
            },
            "marker": {
             "colorbar": {
              "outlinewidth": 0,
              "ticks": ""
             }
            },
            "type": "scatter3d"
           }
          ],
          "scattercarpet": [
           {
            "marker": {
             "colorbar": {
              "outlinewidth": 0,
              "ticks": ""
             }
            },
            "type": "scattercarpet"
           }
          ],
          "scattergeo": [
           {
            "marker": {
             "colorbar": {
              "outlinewidth": 0,
              "ticks": ""
             }
            },
            "type": "scattergeo"
           }
          ],
          "scattergl": [
           {
            "marker": {
             "colorbar": {
              "outlinewidth": 0,
              "ticks": ""
             }
            },
            "type": "scattergl"
           }
          ],
          "scattermap": [
           {
            "marker": {
             "colorbar": {
              "outlinewidth": 0,
              "ticks": ""
             }
            },
            "type": "scattermap"
           }
          ],
          "scattermapbox": [
           {
            "marker": {
             "colorbar": {
              "outlinewidth": 0,
              "ticks": ""
             }
            },
            "type": "scattermapbox"
           }
          ],
          "scatterpolar": [
           {
            "marker": {
             "colorbar": {
              "outlinewidth": 0,
              "ticks": ""
             }
            },
            "type": "scatterpolar"
           }
          ],
          "scatterpolargl": [
           {
            "marker": {
             "colorbar": {
              "outlinewidth": 0,
              "ticks": ""
             }
            },
            "type": "scatterpolargl"
           }
          ],
          "scatterternary": [
           {
            "marker": {
             "colorbar": {
              "outlinewidth": 0,
              "ticks": ""
             }
            },
            "type": "scatterternary"
           }
          ],
          "surface": [
           {
            "colorbar": {
             "outlinewidth": 0,
             "ticks": ""
            },
            "colorscale": [
             [
              0,
              "#0d0887"
             ],
             [
              0.1111111111111111,
              "#46039f"
             ],
             [
              0.2222222222222222,
              "#7201a8"
             ],
             [
              0.3333333333333333,
              "#9c179e"
             ],
             [
              0.4444444444444444,
              "#bd3786"
             ],
             [
              0.5555555555555556,
              "#d8576b"
             ],
             [
              0.6666666666666666,
              "#ed7953"
             ],
             [
              0.7777777777777778,
              "#fb9f3a"
             ],
             [
              0.8888888888888888,
              "#fdca26"
             ],
             [
              1,
              "#f0f921"
             ]
            ],
            "type": "surface"
           }
          ],
          "table": [
           {
            "cells": {
             "fill": {
              "color": "#EBF0F8"
             },
             "line": {
              "color": "white"
             }
            },
            "header": {
             "fill": {
              "color": "#C8D4E3"
             },
             "line": {
              "color": "white"
             }
            },
            "type": "table"
           }
          ]
         },
         "layout": {
          "annotationdefaults": {
           "arrowcolor": "#2a3f5f",
           "arrowhead": 0,
           "arrowwidth": 1
          },
          "autotypenumbers": "strict",
          "coloraxis": {
           "colorbar": {
            "outlinewidth": 0,
            "ticks": ""
           }
          },
          "colorscale": {
           "diverging": [
            [
             0,
             "#8e0152"
            ],
            [
             0.1,
             "#c51b7d"
            ],
            [
             0.2,
             "#de77ae"
            ],
            [
             0.3,
             "#f1b6da"
            ],
            [
             0.4,
             "#fde0ef"
            ],
            [
             0.5,
             "#f7f7f7"
            ],
            [
             0.6,
             "#e6f5d0"
            ],
            [
             0.7,
             "#b8e186"
            ],
            [
             0.8,
             "#7fbc41"
            ],
            [
             0.9,
             "#4d9221"
            ],
            [
             1,
             "#276419"
            ]
           ],
           "sequential": [
            [
             0,
             "#0d0887"
            ],
            [
             0.1111111111111111,
             "#46039f"
            ],
            [
             0.2222222222222222,
             "#7201a8"
            ],
            [
             0.3333333333333333,
             "#9c179e"
            ],
            [
             0.4444444444444444,
             "#bd3786"
            ],
            [
             0.5555555555555556,
             "#d8576b"
            ],
            [
             0.6666666666666666,
             "#ed7953"
            ],
            [
             0.7777777777777778,
             "#fb9f3a"
            ],
            [
             0.8888888888888888,
             "#fdca26"
            ],
            [
             1,
             "#f0f921"
            ]
           ],
           "sequentialminus": [
            [
             0,
             "#0d0887"
            ],
            [
             0.1111111111111111,
             "#46039f"
            ],
            [
             0.2222222222222222,
             "#7201a8"
            ],
            [
             0.3333333333333333,
             "#9c179e"
            ],
            [
             0.4444444444444444,
             "#bd3786"
            ],
            [
             0.5555555555555556,
             "#d8576b"
            ],
            [
             0.6666666666666666,
             "#ed7953"
            ],
            [
             0.7777777777777778,
             "#fb9f3a"
            ],
            [
             0.8888888888888888,
             "#fdca26"
            ],
            [
             1,
             "#f0f921"
            ]
           ]
          },
          "colorway": [
           "#636efa",
           "#EF553B",
           "#00cc96",
           "#ab63fa",
           "#FFA15A",
           "#19d3f3",
           "#FF6692",
           "#B6E880",
           "#FF97FF",
           "#FECB52"
          ],
          "font": {
           "color": "#2a3f5f"
          },
          "geo": {
           "bgcolor": "white",
           "lakecolor": "white",
           "landcolor": "#E5ECF6",
           "showlakes": true,
           "showland": true,
           "subunitcolor": "white"
          },
          "hoverlabel": {
           "align": "left"
          },
          "hovermode": "closest",
          "mapbox": {
           "style": "light"
          },
          "paper_bgcolor": "white",
          "plot_bgcolor": "#E5ECF6",
          "polar": {
           "angularaxis": {
            "gridcolor": "white",
            "linecolor": "white",
            "ticks": ""
           },
           "bgcolor": "#E5ECF6",
           "radialaxis": {
            "gridcolor": "white",
            "linecolor": "white",
            "ticks": ""
           }
          },
          "scene": {
           "xaxis": {
            "backgroundcolor": "#E5ECF6",
            "gridcolor": "white",
            "gridwidth": 2,
            "linecolor": "white",
            "showbackground": true,
            "ticks": "",
            "zerolinecolor": "white"
           },
           "yaxis": {
            "backgroundcolor": "#E5ECF6",
            "gridcolor": "white",
            "gridwidth": 2,
            "linecolor": "white",
            "showbackground": true,
            "ticks": "",
            "zerolinecolor": "white"
           },
           "zaxis": {
            "backgroundcolor": "#E5ECF6",
            "gridcolor": "white",
            "gridwidth": 2,
            "linecolor": "white",
            "showbackground": true,
            "ticks": "",
            "zerolinecolor": "white"
           }
          },
          "shapedefaults": {
           "line": {
            "color": "#2a3f5f"
           }
          },
          "ternary": {
           "aaxis": {
            "gridcolor": "white",
            "linecolor": "white",
            "ticks": ""
           },
           "baxis": {
            "gridcolor": "white",
            "linecolor": "white",
            "ticks": ""
           },
           "bgcolor": "#E5ECF6",
           "caxis": {
            "gridcolor": "white",
            "linecolor": "white",
            "ticks": ""
           }
          },
          "title": {
           "x": 0.05
          },
          "xaxis": {
           "automargin": true,
           "gridcolor": "white",
           "linecolor": "white",
           "ticks": "",
           "title": {
            "standoff": 15
           },
           "zerolinecolor": "white",
           "zerolinewidth": 2
          },
          "yaxis": {
           "automargin": true,
           "gridcolor": "white",
           "linecolor": "white",
           "ticks": "",
           "title": {
            "standoff": 15
           },
           "zerolinecolor": "white",
           "zerolinewidth": 2
          }
         }
        },
        "title": {
         "text": "Promedio de Generosity por Región"
        },
        "xaxis": {
         "anchor": "y",
         "categoryarray": [
          "Myanmar",
          "Thailand",
          "United Kingdom",
          "Malta",
          "Indonesia",
          "Somaliland region",
          "Bhutan",
          "Netherlands",
          "New Zealand",
          "Syria"
         ],
         "categoryorder": "array",
         "domain": [
          0,
          1
         ],
         "tickangle": 45,
         "title": {
          "text": "Región"
         }
        },
        "yaxis": {
         "anchor": "x",
         "domain": [
          0,
          1
         ],
         "title": {
          "text": "Promedio de Generosity"
         }
        }
       }
      }
     },
     "metadata": {},
     "output_type": "display_data"
    }
   ],
   "source": [
    "# Pregunta 11 Visualización Nº2\n",
    "\n",
    "\n",
    "# Promedio de Generosity por Región\n",
    "r12 = df.groupby(\"Country\", as_index=False)[[\"Generosity\",'Happiness Score']].mean()\n",
    "\n",
    "# Ordenar descendente\n",
    "r12 = r12.sort_values(\"Generosity\", ascending=False)\n",
    "\n",
    "# Gráfico de barras\n",
    "fig12 = px.bar(\n",
    "    r12.head(10),\n",
    "    x=\"Country\",\n",
    "    y=\"Generosity\",\n",
    "    title=\"Promedio de Generosity por Región\",\n",
    "    color=\"Country\",\n",
    "    text=r12.head(10)[\"Generosity\"].round(3),\n",
    "    hover_data=['Happiness Score']\n",
    ")\n",
    "\n",
    "fig12.update_layout(\n",
    "    xaxis_title=\"Región\",\n",
    "    yaxis_title=\"Promedio de Generosity\",\n",
    "    xaxis_tickangle=45,\n",
    "    showlegend=False,\n",
    "    font=dict(size=9)\n",
    ")\n",
    "\n",
    "fig12.add_shape(\n",
    "    type=\"rect\",\n",
    "    x0=-0.5, x1=1.5,   # de la primera a la segunda barra (índices 0 y 1 en el eje X)\n",
    "    y0=0, y1=r12[\"Generosity\"].max()*1.05,  # cubrir hasta un poco más del valor máximo\n",
    "    line=dict(color=\"red\", width=2),\n",
    "    fillcolor=\"rgba(255,0,0,0.1)\",  # relleno semitransparente\n",
    "    layer=\"below\"  # para que no tape las barras\n",
    ")\n",
    "\n",
    "fig12.show()"
   ]
  },
  {
   "cell_type": "code",
   "execution_count": 74,
   "id": "dccfc48a",
   "metadata": {},
   "outputs": [
    {
     "data": {
      "text/plain": [
       "['Country',\n",
       " 'Region',\n",
       " 'Happiness Rank',\n",
       " 'Happiness Score',\n",
       " 'Standard Error',\n",
       " 'Economy (GDP per Capita)',\n",
       " 'Family',\n",
       " 'Health (Life Expectancy)',\n",
       " 'Freedom',\n",
       " 'Trust (Government Corruption)',\n",
       " 'Generosity',\n",
       " 'Dystopia Residual']"
      ]
     },
     "execution_count": 74,
     "metadata": {},
     "output_type": "execute_result"
    }
   ],
   "source": [
    "list(df.columns)"
   ]
  },
  {
   "cell_type": "code",
   "execution_count": 75,
   "id": "432637da",
   "metadata": {},
   "outputs": [
    {
     "data": {
      "application/vnd.plotly.v1+json": {
       "config": {
        "plotlyServerURL": "https://plot.ly"
       },
       "data": [
        {
         "coloraxis": "coloraxis",
         "hovertemplate": "x: %{x}<br>y: %{y}<br>Correlación (r): %{z}<extra></extra>",
         "name": "0",
         "type": "heatmap",
         "x": [
          "Economy (GDP per Capita)",
          "Family",
          "Health (Life Expectancy)",
          "Freedom",
          "Trust (Government Corruption)",
          "Generosity",
          "Happiness Score"
         ],
         "xaxis": "x",
         "y": [
          "Economy (GDP per Capita)",
          "Family",
          "Health (Life Expectancy)",
          "Freedom",
          "Trust (Government Corruption)",
          "Generosity",
          "Happiness Score"
         ],
         "yaxis": "y",
         "z": {
          "bdata": "AAAAAAAA8D90lEHnSqbkP8IBJXqWIOo/UBlDi/2y1z9Ta1geZLTTP0YVLSTnboW/2iymaqv96D90lEHnSqbkPwAAAAAAAPA/hLg8ys3+4D8QrM2Y1UHcP/mdsK9EUco/jlvmfURntj/ZJayrCbPnP8IBJXqWIOo/hLg8ys3+4D8AAAAAAADwP903tyQMEtc/6x6NUW7Jzz+MoJZa27u7P0EWGKGkLOc/UBlDi/2y1z8QrM2Y1UHcP903tyQMEtc/AAAAAAAA8D9zV9mp45XfP6mAsuY97tc/OZlXosgu4j9Ta1geZLTTP/mdsK9EUco/6x6NUW7Jzz9zV9mp45XfPwAAAAAAAPA/j+7yjf6r0T+9UkAA70rZP0YVLSTnboW/jlvmfURntj+MoJZa27u7P6mAsuY97tc/j+7yjf6r0T8AAAAAAADwP5F9g2+tFMc/2iymaqv96D/ZJayrCbPnP0EWGKGkLOc/OZlXosgu4j+9UkAA70rZP5F9g2+tFMc/AAAAAAAA8D8=",
          "dtype": "f8",
          "shape": "7, 7"
         }
        }
       ],
       "layout": {
        "coloraxis": {
         "cmax": 1,
         "cmin": -1,
         "colorbar": {
          "title": {
           "text": "Correlación (r)"
          }
         },
         "colorscale": [
          [
           0,
           "rgb(5,48,97)"
          ],
          [
           0.1,
           "rgb(33,102,172)"
          ],
          [
           0.2,
           "rgb(67,147,195)"
          ],
          [
           0.3,
           "rgb(146,197,222)"
          ],
          [
           0.4,
           "rgb(209,229,240)"
          ],
          [
           0.5,
           "rgb(247,247,247)"
          ],
          [
           0.6,
           "rgb(253,219,199)"
          ],
          [
           0.7,
           "rgb(244,165,130)"
          ],
          [
           0.8,
           "rgb(214,96,77)"
          ],
          [
           0.9,
           "rgb(178,24,43)"
          ],
          [
           1,
           "rgb(103,0,31)"
          ]
         ]
        },
        "template": {
         "data": {
          "bar": [
           {
            "error_x": {
             "color": "#2a3f5f"
            },
            "error_y": {
             "color": "#2a3f5f"
            },
            "marker": {
             "line": {
              "color": "#E5ECF6",
              "width": 0.5
             },
             "pattern": {
              "fillmode": "overlay",
              "size": 10,
              "solidity": 0.2
             }
            },
            "type": "bar"
           }
          ],
          "barpolar": [
           {
            "marker": {
             "line": {
              "color": "#E5ECF6",
              "width": 0.5
             },
             "pattern": {
              "fillmode": "overlay",
              "size": 10,
              "solidity": 0.2
             }
            },
            "type": "barpolar"
           }
          ],
          "carpet": [
           {
            "aaxis": {
             "endlinecolor": "#2a3f5f",
             "gridcolor": "white",
             "linecolor": "white",
             "minorgridcolor": "white",
             "startlinecolor": "#2a3f5f"
            },
            "baxis": {
             "endlinecolor": "#2a3f5f",
             "gridcolor": "white",
             "linecolor": "white",
             "minorgridcolor": "white",
             "startlinecolor": "#2a3f5f"
            },
            "type": "carpet"
           }
          ],
          "choropleth": [
           {
            "colorbar": {
             "outlinewidth": 0,
             "ticks": ""
            },
            "type": "choropleth"
           }
          ],
          "contour": [
           {
            "colorbar": {
             "outlinewidth": 0,
             "ticks": ""
            },
            "colorscale": [
             [
              0,
              "#0d0887"
             ],
             [
              0.1111111111111111,
              "#46039f"
             ],
             [
              0.2222222222222222,
              "#7201a8"
             ],
             [
              0.3333333333333333,
              "#9c179e"
             ],
             [
              0.4444444444444444,
              "#bd3786"
             ],
             [
              0.5555555555555556,
              "#d8576b"
             ],
             [
              0.6666666666666666,
              "#ed7953"
             ],
             [
              0.7777777777777778,
              "#fb9f3a"
             ],
             [
              0.8888888888888888,
              "#fdca26"
             ],
             [
              1,
              "#f0f921"
             ]
            ],
            "type": "contour"
           }
          ],
          "contourcarpet": [
           {
            "colorbar": {
             "outlinewidth": 0,
             "ticks": ""
            },
            "type": "contourcarpet"
           }
          ],
          "heatmap": [
           {
            "colorbar": {
             "outlinewidth": 0,
             "ticks": ""
            },
            "colorscale": [
             [
              0,
              "#0d0887"
             ],
             [
              0.1111111111111111,
              "#46039f"
             ],
             [
              0.2222222222222222,
              "#7201a8"
             ],
             [
              0.3333333333333333,
              "#9c179e"
             ],
             [
              0.4444444444444444,
              "#bd3786"
             ],
             [
              0.5555555555555556,
              "#d8576b"
             ],
             [
              0.6666666666666666,
              "#ed7953"
             ],
             [
              0.7777777777777778,
              "#fb9f3a"
             ],
             [
              0.8888888888888888,
              "#fdca26"
             ],
             [
              1,
              "#f0f921"
             ]
            ],
            "type": "heatmap"
           }
          ],
          "histogram": [
           {
            "marker": {
             "pattern": {
              "fillmode": "overlay",
              "size": 10,
              "solidity": 0.2
             }
            },
            "type": "histogram"
           }
          ],
          "histogram2d": [
           {
            "colorbar": {
             "outlinewidth": 0,
             "ticks": ""
            },
            "colorscale": [
             [
              0,
              "#0d0887"
             ],
             [
              0.1111111111111111,
              "#46039f"
             ],
             [
              0.2222222222222222,
              "#7201a8"
             ],
             [
              0.3333333333333333,
              "#9c179e"
             ],
             [
              0.4444444444444444,
              "#bd3786"
             ],
             [
              0.5555555555555556,
              "#d8576b"
             ],
             [
              0.6666666666666666,
              "#ed7953"
             ],
             [
              0.7777777777777778,
              "#fb9f3a"
             ],
             [
              0.8888888888888888,
              "#fdca26"
             ],
             [
              1,
              "#f0f921"
             ]
            ],
            "type": "histogram2d"
           }
          ],
          "histogram2dcontour": [
           {
            "colorbar": {
             "outlinewidth": 0,
             "ticks": ""
            },
            "colorscale": [
             [
              0,
              "#0d0887"
             ],
             [
              0.1111111111111111,
              "#46039f"
             ],
             [
              0.2222222222222222,
              "#7201a8"
             ],
             [
              0.3333333333333333,
              "#9c179e"
             ],
             [
              0.4444444444444444,
              "#bd3786"
             ],
             [
              0.5555555555555556,
              "#d8576b"
             ],
             [
              0.6666666666666666,
              "#ed7953"
             ],
             [
              0.7777777777777778,
              "#fb9f3a"
             ],
             [
              0.8888888888888888,
              "#fdca26"
             ],
             [
              1,
              "#f0f921"
             ]
            ],
            "type": "histogram2dcontour"
           }
          ],
          "mesh3d": [
           {
            "colorbar": {
             "outlinewidth": 0,
             "ticks": ""
            },
            "type": "mesh3d"
           }
          ],
          "parcoords": [
           {
            "line": {
             "colorbar": {
              "outlinewidth": 0,
              "ticks": ""
             }
            },
            "type": "parcoords"
           }
          ],
          "pie": [
           {
            "automargin": true,
            "type": "pie"
           }
          ],
          "scatter": [
           {
            "fillpattern": {
             "fillmode": "overlay",
             "size": 10,
             "solidity": 0.2
            },
            "type": "scatter"
           }
          ],
          "scatter3d": [
           {
            "line": {
             "colorbar": {
              "outlinewidth": 0,
              "ticks": ""
             }
            },
            "marker": {
             "colorbar": {
              "outlinewidth": 0,
              "ticks": ""
             }
            },
            "type": "scatter3d"
           }
          ],
          "scattercarpet": [
           {
            "marker": {
             "colorbar": {
              "outlinewidth": 0,
              "ticks": ""
             }
            },
            "type": "scattercarpet"
           }
          ],
          "scattergeo": [
           {
            "marker": {
             "colorbar": {
              "outlinewidth": 0,
              "ticks": ""
             }
            },
            "type": "scattergeo"
           }
          ],
          "scattergl": [
           {
            "marker": {
             "colorbar": {
              "outlinewidth": 0,
              "ticks": ""
             }
            },
            "type": "scattergl"
           }
          ],
          "scattermap": [
           {
            "marker": {
             "colorbar": {
              "outlinewidth": 0,
              "ticks": ""
             }
            },
            "type": "scattermap"
           }
          ],
          "scattermapbox": [
           {
            "marker": {
             "colorbar": {
              "outlinewidth": 0,
              "ticks": ""
             }
            },
            "type": "scattermapbox"
           }
          ],
          "scatterpolar": [
           {
            "marker": {
             "colorbar": {
              "outlinewidth": 0,
              "ticks": ""
             }
            },
            "type": "scatterpolar"
           }
          ],
          "scatterpolargl": [
           {
            "marker": {
             "colorbar": {
              "outlinewidth": 0,
              "ticks": ""
             }
            },
            "type": "scatterpolargl"
           }
          ],
          "scatterternary": [
           {
            "marker": {
             "colorbar": {
              "outlinewidth": 0,
              "ticks": ""
             }
            },
            "type": "scatterternary"
           }
          ],
          "surface": [
           {
            "colorbar": {
             "outlinewidth": 0,
             "ticks": ""
            },
            "colorscale": [
             [
              0,
              "#0d0887"
             ],
             [
              0.1111111111111111,
              "#46039f"
             ],
             [
              0.2222222222222222,
              "#7201a8"
             ],
             [
              0.3333333333333333,
              "#9c179e"
             ],
             [
              0.4444444444444444,
              "#bd3786"
             ],
             [
              0.5555555555555556,
              "#d8576b"
             ],
             [
              0.6666666666666666,
              "#ed7953"
             ],
             [
              0.7777777777777778,
              "#fb9f3a"
             ],
             [
              0.8888888888888888,
              "#fdca26"
             ],
             [
              1,
              "#f0f921"
             ]
            ],
            "type": "surface"
           }
          ],
          "table": [
           {
            "cells": {
             "fill": {
              "color": "#EBF0F8"
             },
             "line": {
              "color": "white"
             }
            },
            "header": {
             "fill": {
              "color": "#C8D4E3"
             },
             "line": {
              "color": "white"
             }
            },
            "type": "table"
           }
          ]
         },
         "layout": {
          "annotationdefaults": {
           "arrowcolor": "#2a3f5f",
           "arrowhead": 0,
           "arrowwidth": 1
          },
          "autotypenumbers": "strict",
          "coloraxis": {
           "colorbar": {
            "outlinewidth": 0,
            "ticks": ""
           }
          },
          "colorscale": {
           "diverging": [
            [
             0,
             "#8e0152"
            ],
            [
             0.1,
             "#c51b7d"
            ],
            [
             0.2,
             "#de77ae"
            ],
            [
             0.3,
             "#f1b6da"
            ],
            [
             0.4,
             "#fde0ef"
            ],
            [
             0.5,
             "#f7f7f7"
            ],
            [
             0.6,
             "#e6f5d0"
            ],
            [
             0.7,
             "#b8e186"
            ],
            [
             0.8,
             "#7fbc41"
            ],
            [
             0.9,
             "#4d9221"
            ],
            [
             1,
             "#276419"
            ]
           ],
           "sequential": [
            [
             0,
             "#0d0887"
            ],
            [
             0.1111111111111111,
             "#46039f"
            ],
            [
             0.2222222222222222,
             "#7201a8"
            ],
            [
             0.3333333333333333,
             "#9c179e"
            ],
            [
             0.4444444444444444,
             "#bd3786"
            ],
            [
             0.5555555555555556,
             "#d8576b"
            ],
            [
             0.6666666666666666,
             "#ed7953"
            ],
            [
             0.7777777777777778,
             "#fb9f3a"
            ],
            [
             0.8888888888888888,
             "#fdca26"
            ],
            [
             1,
             "#f0f921"
            ]
           ],
           "sequentialminus": [
            [
             0,
             "#0d0887"
            ],
            [
             0.1111111111111111,
             "#46039f"
            ],
            [
             0.2222222222222222,
             "#7201a8"
            ],
            [
             0.3333333333333333,
             "#9c179e"
            ],
            [
             0.4444444444444444,
             "#bd3786"
            ],
            [
             0.5555555555555556,
             "#d8576b"
            ],
            [
             0.6666666666666666,
             "#ed7953"
            ],
            [
             0.7777777777777778,
             "#fb9f3a"
            ],
            [
             0.8888888888888888,
             "#fdca26"
            ],
            [
             1,
             "#f0f921"
            ]
           ]
          },
          "colorway": [
           "#636efa",
           "#EF553B",
           "#00cc96",
           "#ab63fa",
           "#FFA15A",
           "#19d3f3",
           "#FF6692",
           "#B6E880",
           "#FF97FF",
           "#FECB52"
          ],
          "font": {
           "color": "#2a3f5f"
          },
          "geo": {
           "bgcolor": "white",
           "lakecolor": "white",
           "landcolor": "#E5ECF6",
           "showlakes": true,
           "showland": true,
           "subunitcolor": "white"
          },
          "hoverlabel": {
           "align": "left"
          },
          "hovermode": "closest",
          "mapbox": {
           "style": "light"
          },
          "paper_bgcolor": "white",
          "plot_bgcolor": "#E5ECF6",
          "polar": {
           "angularaxis": {
            "gridcolor": "white",
            "linecolor": "white",
            "ticks": ""
           },
           "bgcolor": "#E5ECF6",
           "radialaxis": {
            "gridcolor": "white",
            "linecolor": "white",
            "ticks": ""
           }
          },
          "scene": {
           "xaxis": {
            "backgroundcolor": "#E5ECF6",
            "gridcolor": "white",
            "gridwidth": 2,
            "linecolor": "white",
            "showbackground": true,
            "ticks": "",
            "zerolinecolor": "white"
           },
           "yaxis": {
            "backgroundcolor": "#E5ECF6",
            "gridcolor": "white",
            "gridwidth": 2,
            "linecolor": "white",
            "showbackground": true,
            "ticks": "",
            "zerolinecolor": "white"
           },
           "zaxis": {
            "backgroundcolor": "#E5ECF6",
            "gridcolor": "white",
            "gridwidth": 2,
            "linecolor": "white",
            "showbackground": true,
            "ticks": "",
            "zerolinecolor": "white"
           }
          },
          "shapedefaults": {
           "line": {
            "color": "#2a3f5f"
           }
          },
          "ternary": {
           "aaxis": {
            "gridcolor": "white",
            "linecolor": "white",
            "ticks": ""
           },
           "baxis": {
            "gridcolor": "white",
            "linecolor": "white",
            "ticks": ""
           },
           "bgcolor": "#E5ECF6",
           "caxis": {
            "gridcolor": "white",
            "linecolor": "white",
            "ticks": ""
           }
          },
          "title": {
           "x": 0.05
          },
          "xaxis": {
           "automargin": true,
           "gridcolor": "white",
           "linecolor": "white",
           "ticks": "",
           "title": {
            "standoff": 15
           },
           "zerolinecolor": "white",
           "zerolinewidth": 2
          },
          "yaxis": {
           "automargin": true,
           "gridcolor": "white",
           "linecolor": "white",
           "ticks": "",
           "title": {
            "standoff": 15
           },
           "zerolinecolor": "white",
           "zerolinewidth": 2
          }
         }
        },
        "title": {
         "text": "Matriz de correlación – Factores y Happiness Score"
        },
        "xaxis": {
         "anchor": "y",
         "constrain": "domain",
         "domain": [
          0,
          1
         ],
         "scaleanchor": "y",
         "title": {
          "text": "Variables"
         }
        },
        "yaxis": {
         "anchor": "x",
         "autorange": "reversed",
         "constrain": "domain",
         "domain": [
          0,
          1
         ],
         "title": {
          "text": "Variables"
         }
        }
       }
      }
     },
     "metadata": {},
     "output_type": "display_data"
    }
   ],
   "source": [
    "# Pregunta 12\n",
    "\n",
    "# Columnas EXACTAS según tu Excel\n",
    "cols = [\n",
    "    \"Economy (GDP per Capita)\",\n",
    "    \"Family\",\n",
    "    \"Health (Life Expectancy)\",\n",
    "    \"Freedom\",\n",
    "    \"Trust (Government Corruption)\",\n",
    "    \"Generosity\",\n",
    "    \"Happiness Score\"\n",
    "]\n",
    "\n",
    "# Matriz de correlación (Pearson)\n",
    "corr = df[cols].corr(method=\"pearson\")\n",
    "\n",
    "# Heatmap de correlaciones\n",
    "fig = px.imshow(\n",
    "    corr,\n",
    "    x=corr.columns,\n",
    "    y=corr.index,\n",
    "    color_continuous_scale=\"RdBu_r\",\n",
    "    zmin=-1, zmax=1,\n",
    "    labels={\"color\": \"Correlación (r)\"},\n",
    "    title=\"Matriz de correlación – Factores y Happiness Score\"\n",
    ")\n",
    "\n",
    "fig.update_layout(\n",
    "    xaxis_title=\"Variables\",\n",
    "    yaxis_title=\"Variables\"\n",
    ")\n",
    "\n",
    "fig.show()"
   ]
  },
  {
   "cell_type": "markdown",
   "id": "441ced3c",
   "metadata": {},
   "source": [
    "La relación más fuerte es entre Economy (GDP per Capita) y Happiness Score, mientras que la más débil aparece con Generosity.\n",
    "Una posible hipótesis es que la prosperidad económica favorece condiciones de vida que incrementan la felicidad; en cambio, la generosidad refleja más un rasgo cultural que acompaña, pero no determina directamente el nivel de felicidad."
   ]
  },
  {
   "cell_type": "code",
   "execution_count": 78,
   "id": "42a129bb",
   "metadata": {},
   "outputs": [
    {
     "data": {
      "application/vnd.plotly.v1+json": {
       "config": {
        "plotlyServerURL": "https://plot.ly"
       },
       "data": [
        {
         "dimensions": [
          {
           "label": "Happiness Score",
           "values": [
            "Alto",
            "Alto",
            "Alto",
            "Alto",
            "Alto",
            "Alto",
            "Alto",
            "Alto",
            "Alto",
            "Alto",
            "Alto",
            "Alto",
            "Alto",
            "Alto",
            "Alto",
            "Alto",
            "Alto",
            "Alto",
            "Alto",
            "Alto",
            "Alto",
            "Alto",
            "Alto",
            "Alto",
            "Alto",
            "Alto",
            "Alto",
            "Alto",
            "Alto",
            "Alto",
            "Alto",
            "Alto",
            "Alto",
            "Alto",
            "Alto",
            "Alto",
            "Alto",
            "Alto",
            "Alto",
            "Alto",
            "Alto",
            "Alto",
            "Alto",
            "Alto",
            "Alto",
            "Alto",
            "Alto",
            "Alto",
            "Alto",
            "Alto",
            "Alto",
            "Alto",
            "Alto",
            "Alto",
            "Alto",
            "Alto",
            "Alto",
            "Alto",
            "Alto",
            "Alto",
            "Alto",
            "Alto",
            "Alto",
            "Alto",
            "Alto",
            "Alto",
            "Alto",
            "Alto",
            "Alto",
            "Alto",
            "Alto",
            "Alto",
            "Alto",
            "Alto",
            "Alto",
            "Alto",
            "Alto",
            "Alto",
            "Alto",
            "Bajo",
            "Bajo",
            "Bajo",
            "Bajo",
            "Bajo",
            "Bajo",
            "Bajo",
            "Bajo",
            "Bajo",
            "Bajo",
            "Bajo",
            "Bajo",
            "Bajo",
            "Bajo",
            "Bajo",
            "Bajo",
            "Bajo",
            "Bajo",
            "Bajo",
            "Bajo",
            "Bajo",
            "Bajo",
            "Bajo",
            "Bajo",
            "Bajo",
            "Bajo",
            "Bajo",
            "Bajo",
            "Bajo",
            "Bajo",
            "Bajo",
            "Bajo",
            "Bajo",
            "Bajo",
            "Bajo",
            "Bajo",
            "Bajo",
            "Bajo",
            "Bajo",
            "Bajo",
            "Bajo",
            "Bajo",
            "Bajo",
            "Bajo",
            "Bajo",
            "Bajo",
            "Bajo",
            "Bajo",
            "Bajo",
            "Bajo",
            "Bajo",
            "Bajo",
            "Bajo",
            "Bajo",
            "Bajo",
            "Bajo",
            "Bajo",
            "Bajo",
            "Bajo",
            "Bajo",
            "Bajo",
            "Bajo",
            "Bajo",
            "Bajo",
            "Bajo",
            "Bajo",
            "Bajo",
            "Bajo",
            "Bajo",
            "Bajo",
            "Bajo",
            "Bajo",
            "Bajo",
            "Bajo",
            "Bajo",
            "Bajo",
            "Bajo",
            "Bajo",
            "Bajo"
           ]
          },
          {
           "label": "Economy",
           "values": [
            "Alto",
            "Alto",
            "Alto",
            "Alto",
            "Alto",
            "Alto",
            "Alto",
            "Alto",
            "Alto",
            "Alto",
            "Alto",
            "Medio",
            "Alto",
            "Medio",
            "Alto",
            "Medio",
            "Alto",
            "Alto",
            "Alto",
            "Alto",
            "Alto",
            "Alto",
            "Medio",
            "Alto",
            "Alto",
            "Alto",
            "Alto",
            "Alto",
            "Alto",
            "Medio",
            "Alto",
            "Medio",
            "Medio",
            "Medio",
            "Alto",
            "Alto",
            "Alto",
            "Alto",
            "Alto",
            "Medio",
            "Alto",
            "Medio",
            "Medio",
            "Bajo",
            "Alto",
            "Alto",
            "Alto",
            "Medio",
            "Alto",
            "Alto",
            "Medio",
            "Bajo",
            "Medio",
            "Alto",
            "Alto",
            "Alto",
            "Bajo",
            "Medio",
            "Medio",
            "Alto",
            "Alto",
            "Alto",
            "Alto",
            "Alto",
            "Medio",
            "Alto",
            "Alto",
            "Medio",
            "Medio",
            "Medio",
            "Medio",
            "Alto",
            "Alto",
            "Medio",
            "Bajo",
            "Medio",
            "Bajo",
            "Bajo",
            "Medio",
            "Medio",
            "Bajo",
            "Medio",
            "Medio",
            "Medio",
            "Bajo",
            "Medio",
            "Medio",
            "Alto",
            "Alto",
            "Medio",
            "Bajo",
            "Medio",
            "Medio",
            "Bajo",
            "Medio",
            "Medio",
            "Bajo",
            "Medio",
            "Bajo",
            "Medio",
            "Medio",
            "Alto",
            "Medio",
            "Alto",
            "Bajo",
            "Bajo",
            "Medio",
            "Bajo",
            "Bajo",
            "Medio",
            "Medio",
            "Medio",
            "Medio",
            "Bajo",
            "Bajo",
            "Bajo",
            "Bajo",
            "Bajo",
            "Bajo",
            "Bajo",
            "Bajo",
            "Bajo",
            "Bajo",
            "Bajo",
            "Bajo",
            "Bajo",
            "Medio",
            "Medio",
            "Bajo",
            "Medio",
            "Bajo",
            "Medio",
            "Bajo",
            "Medio",
            "Medio",
            "Bajo",
            "Medio",
            "Bajo",
            "Bajo",
            "Bajo",
            "Bajo",
            "Bajo",
            "Medio",
            "Bajo",
            "Bajo",
            "Bajo",
            "Bajo",
            "Bajo",
            "Bajo",
            "Bajo",
            "Bajo",
            "Bajo",
            "Bajo",
            "Bajo",
            "Bajo",
            "Bajo",
            "Bajo",
            "Bajo"
           ]
          },
          {
           "label": "Health",
           "values": [
            "Alto",
            "Alto",
            "Alto",
            "Alto",
            "Alto",
            "Alto",
            "Alto",
            "Alto",
            "Alto",
            "Alto",
            "Alto",
            "Alto",
            "Alto",
            "Alto",
            "Alto",
            "Medio",
            "Alto",
            "Alto",
            "Alto",
            "Alto",
            "Alto",
            "Alto",
            "Medio",
            "Alto",
            "Alto",
            "Alto",
            "Alto",
            "Alto",
            "Alto",
            "Alto",
            "Alto",
            "Alto",
            "Medio",
            "Medio",
            "Medio",
            "Alto",
            "Alto",
            "Alto",
            "Medio",
            "Medio",
            "Medio",
            "Medio",
            "Medio",
            "Bajo",
            "Alto",
            "Alto",
            "Alto",
            "Alto",
            "Medio",
            "Alto",
            "Bajo",
            "Medio",
            "Medio",
            "Medio",
            "Alto",
            "Medio",
            "Medio",
            "Medio",
            "Medio",
            "Alto",
            "Medio",
            "Alto",
            "Medio",
            "Medio",
            "Medio",
            "Alto",
            "Alto",
            "Medio",
            "Medio",
            "Bajo",
            "Medio",
            "Alto",
            "Alto",
            "Medio",
            "Medio",
            "Medio",
            "Medio",
            "Bajo",
            "Bajo",
            "Medio",
            "Bajo",
            "Medio",
            "Medio",
            "Alto",
            "Bajo",
            "Alto",
            "Medio",
            "Alto",
            "Medio",
            "Bajo",
            "Bajo",
            "Medio",
            "Medio",
            "Bajo",
            "Alto",
            "Alto",
            "Bajo",
            "Medio",
            "Bajo",
            "Medio",
            "Bajo",
            "Alto",
            "Alto",
            "Medio",
            "Medio",
            "Bajo",
            "Medio",
            "Medio",
            "Medio",
            "Medio",
            "Medio",
            "Medio",
            "Bajo",
            "Bajo",
            "Bajo",
            "Bajo",
            "Bajo",
            "Bajo",
            "Bajo",
            "Bajo",
            "Bajo",
            "Bajo",
            "Bajo",
            "Bajo",
            "Bajo",
            "Bajo",
            "Medio",
            "Bajo",
            "Bajo",
            "Medio",
            "Bajo",
            "Medio",
            "Bajo",
            "Alto",
            "Medio",
            "Bajo",
            "Bajo",
            "Bajo",
            "Bajo",
            "Bajo",
            "Bajo",
            "Bajo",
            "Bajo",
            "Bajo",
            "Medio",
            "Bajo",
            "Bajo",
            "Bajo",
            "Bajo",
            "Bajo",
            "Bajo",
            "Bajo",
            "Bajo",
            "Bajo",
            "Bajo",
            "Medio",
            "Bajo",
            "Bajo"
           ]
          },
          {
           "label": "Freedom",
           "values": [
            "Alto",
            "Alto",
            "Alto",
            "Alto",
            "Alto",
            "Alto",
            "Alto",
            "Alto",
            "Alto",
            "Alto",
            "Medio",
            "Alto",
            "Alto",
            "Medio",
            "Alto",
            "Medio",
            "Alto",
            "Alto",
            "Alto",
            "Alto",
            "Alto",
            "Alto",
            "Medio",
            "Alto",
            "Alto",
            "Alto",
            "Medio",
            "Alto",
            "Alto",
            "Medio",
            "Medio",
            "Alto",
            "Alto",
            "Alto",
            "Bajo",
            "Medio",
            "Alto",
            "Medio",
            "Alto",
            "Alto",
            "Alto",
            "Medio",
            "Alto",
            "Alto",
            "Bajo",
            "Medio",
            "Bajo",
            "Medio",
            "Medio",
            "Bajo",
            "Alto",
            "Bajo",
            "Alto",
            "Alto",
            "Alto",
            "Bajo",
            "Alto",
            "Medio",
            "Medio",
            "Alto",
            "Alto",
            "Bajo",
            "Medio",
            "Bajo",
            "Alto",
            "Medio",
            "Medio",
            "Bajo",
            "Bajo",
            "Medio",
            "Alto",
            "Alto",
            "Medio",
            "Medio",
            "Alto",
            "Bajo",
            "Medio",
            "Bajo",
            "Alto",
            "Medio",
            "Bajo",
            "Medio",
            "Bajo",
            "Alto",
            "Medio",
            "Bajo",
            "Bajo",
            "Alto",
            "Bajo",
            "Alto",
            "Medio",
            "Medio",
            "Bajo",
            "Bajo",
            "Bajo",
            "Bajo",
            "Bajo",
            "Alto",
            "Alto",
            "Medio",
            "Bajo",
            "Bajo",
            "Bajo",
            "Bajo",
            "Medio",
            "Medio",
            "Bajo",
            "Bajo",
            "Medio",
            "Bajo",
            "Bajo",
            "Bajo",
            "Bajo",
            "Medio",
            "Bajo",
            "Bajo",
            "Medio",
            "Bajo",
            "Bajo",
            "Bajo",
            "Medio",
            "Medio",
            "Medio",
            "Bajo",
            "Medio",
            "Medio",
            "Bajo",
            "Medio",
            "Medio",
            "Medio",
            "Medio",
            "Alto",
            "Medio",
            "Bajo",
            "Bajo",
            "Bajo",
            "Bajo",
            "Medio",
            "Medio",
            "Bajo",
            "Medio",
            "Bajo",
            "Bajo",
            "Medio",
            "Alto",
            "Bajo",
            "Bajo",
            "Medio",
            "Bajo",
            "Medio",
            "Medio",
            "Medio",
            "Bajo",
            "Alto",
            "Medio",
            "Bajo",
            "Bajo",
            "Bajo"
           ]
          },
          {
           "label": "Trust",
           "values": [
            "Alto",
            "Medio",
            "Alto",
            "Alto",
            "Alto",
            "Alto",
            "Alto",
            "Alto",
            "Alto",
            "Alto",
            "Medio",
            "Medio",
            "Alto",
            "Alto",
            "Alto",
            "Alto",
            "Alto",
            "Alto",
            "Alto",
            "Alto",
            "Alto",
            "Alto",
            "Medio",
            "Alto",
            "Medio",
            "Alto",
            "Medio",
            "Alto",
            "Alto",
            "Medio",
            "Bajo",
            "Alto",
            "Bajo",
            "Bajo",
            "Alto",
            "Bajo",
            "Medio",
            "Medio",
            "Alto",
            "Medio",
            "Bajo",
            "Medio",
            "Medio",
            "Alto",
            "Bajo",
            "Alto",
            "Medio",
            "Alto",
            "Alto",
            "Bajo",
            "Medio",
            "Bajo",
            "Medio",
            "Medio",
            "Bajo",
            "Bajo",
            "Alto",
            "Bajo",
            "Alto",
            "Bajo",
            "Medio",
            "Bajo",
            "Medio",
            "Bajo",
            "Bajo",
            "Medio",
            "Bajo",
            "Alto",
            "Bajo",
            "Alto",
            "Bajo",
            "Alto",
            "Alto",
            "Bajo",
            "Medio",
            "Alto",
            "Bajo",
            "Bajo",
            "Alto",
            "Alto",
            "Medio",
            "Medio",
            "Medio",
            "Bajo",
            "Medio",
            "Bajo",
            "Bajo",
            "Bajo",
            "Bajo",
            "Medio",
            "Alto",
            "Medio",
            "Bajo",
            "Alto",
            "Bajo",
            "Bajo",
            "Medio",
            "Medio",
            "Alto",
            "Bajo",
            "Bajo",
            "Bajo",
            "Bajo",
            "Bajo",
            "Bajo",
            "Alto",
            "Bajo",
            "Medio",
            "Medio",
            "Bajo",
            "Bajo",
            "Medio",
            "Medio",
            "Bajo",
            "Medio",
            "Bajo",
            "Medio",
            "Medio",
            "Alto",
            "Bajo",
            "Bajo",
            "Medio",
            "Medio",
            "Alto",
            "Bajo",
            "Alto",
            "Bajo",
            "Medio",
            "Alto",
            "Alto",
            "Bajo",
            "Medio",
            "Bajo",
            "Bajo",
            "Bajo",
            "Medio",
            "Bajo",
            "Medio",
            "Medio",
            "Alto",
            "Bajo",
            "Medio",
            "Medio",
            "Alto",
            "Bajo",
            "Bajo",
            "Medio",
            "Medio",
            "Bajo",
            "Medio",
            "Alto",
            "Medio",
            "Medio",
            "Alto",
            "Medio",
            "Alto",
            "Medio",
            "Medio"
           ]
          }
         ],
         "domain": {
          "x": [
           0,
           1
          ],
          "y": [
           0,
           1
          ]
         },
         "line": {
          "color": {
           "bdata": "DAIrhxZZHkBYObTIdj4eQM/3U+OlGx5ASgwCK4cWHkBoke18P7UdQDm0yHa+nx1AUI2XbhKDHUDb+X5qvHQdQL6fGi/dJB1AiUFg5dAiHUDpJjEIrBwdQIGVQ4ts5xxAzczMzMzMHEBzaJHtfL8cQGDl0CLbeRxAO99PjZfuG0BiEFg5tMgbQMP1KFyPwhtAc2iR7Xy/G0C0yHa+n5obQCuHFtnOdxtAtvP91HhpG0A9CtejcD0bQP7UeOkmMRtAvp8aL90kG0AAAAAAAAAbQK5H4XoUrhpAi2zn+6lxGkDNzMzMzEwaQLKd76fGSxpAhetRuB4FGkBxPQrXo/AZQJzEILBy6BlAUrgehevRGUC+nxov3aQZQDeJQWDlUBlAaJHtfD81GUD+1HjpJjEZQK5H4XoULhlA+n5qvHQTGUB56SYxCKwYQIXrUbgehRhAy6FFtvN9GEBQjZduEgMYQHsUrkfh+hdAppvEILDyF0BWDi2yne8XQGZmZmZm5hdA16NwPQrXF0CYbhKDwMoXQI/C9ShcjxdAdZMYBFaOF0BQjZduEoMXQOxRuB6FaxdAMQisHFpkF0CiRbbz/VQXQB1aZDvfTxdAsp3vp8ZLF0CNl24Sg0AXQESLbOf7KRdAFK5H4XoUF0Dwp8ZLNwkXQGq8dJMYBBdAd76fGi/dFkC8dJMYBNYWQEjhehSuxxZAqMZLN4nBFkDsUbgehWsWQEJg5dAiWxZA/tR46SYxFkCcxCCwcugVQEw3iUFg5RVAnu+nxku3FUB/arx0k5gVQHE9CtejcBVAhxbZzvdTFUC+nxov3SQVQN9PjZduEhVAUI2XbhIDFUAMAiuHFtkUQC2yne+nxhRA+FPjpZvEFED4U+Olm8QUQI/C9ShcjxRAarx0kxiEFEDl0CLb+X4UQMuhRbbzfRRAnMQgsHJoFEAxCKwcWmQUQJhuEoPAShRA7nw/NV46FEBaZDvfTw0UQLpJDAIrBxRA/Knx0k3iE0C8dJMYBNYTQLKd76fGyxNAZDvfT42XE0AK16NwPYoTQBsv3SQGgRNA5dAi2/l+E0ArhxbZzncTQCGwcmiRbRNAQmDl0CJbE0AzMzMzMzMTQPT91HjpJhNAvp8aL90kE0Db+X5qvPQSQFyPwvUo3BJALbKd76fGEkBYObTIdr4SQNNNYhBYuRJAaJHtfD+1EkDFILByaJESQNV46SYxiBJAcT0K16NwEkBiEFg5tEgSQMP1KFyPQhJAMzMzMzMzEkDfT42XbhISQMUgsHJoERJAdZMYBFYOEkA/NV66SQwSQLpJDAIrBxJAWDm0yHa+EUCTGARWDq0RQGDl0CLbeRFAZmZmZmZmEUCHFtnO91MRQO58PzVeOhFA46WbxCAwEUBeukkMAisRQC/dJAaBFRFANV66SQwCEUCsHFpkO98QQC2yne+nxhBAAiuHFtlOEEBvEoPAyiEQQPYoXI/C9Q9AtvP91HjpD0DZzvdT46UPQKabxCCwcg9ACKwcWmQ7D0BeukkMAisPQMP1KFyPwg5AWmQ730+NDkBzaJHtfD8OQKabxCCwcg1ABoGVQ4tsDUC8dJMYBFYNQHNoke18Pw1APQrXo3A9DUAZBFYOLbIMQJqZmZmZmQxAuB6F61G4C0C4HoXrUbgKQD81XrpJDAhAPQrXo3A9B0CDwMqhRbYGQA==",
           "dtype": "f8"
          },
          "coloraxis": "coloraxis"
         },
         "name": "",
         "type": "parcats"
        }
       ],
       "layout": {
        "coloraxis": {
         "colorbar": {
          "title": {
           "text": "Happiness Score"
          }
         },
         "colorscale": [
          [
           0,
           "rgb(253, 253, 204)"
          ],
          [
           0.09090909090909091,
           "rgb(206, 236, 179)"
          ],
          [
           0.18181818181818182,
           "rgb(156, 219, 165)"
          ],
          [
           0.2727272727272727,
           "rgb(111, 201, 163)"
          ],
          [
           0.36363636363636365,
           "rgb(86, 177, 163)"
          ],
          [
           0.45454545454545453,
           "rgb(76, 153, 160)"
          ],
          [
           0.5454545454545454,
           "rgb(68, 130, 155)"
          ],
          [
           0.6363636363636364,
           "rgb(62, 108, 150)"
          ],
          [
           0.7272727272727273,
           "rgb(62, 82, 143)"
          ],
          [
           0.8181818181818182,
           "rgb(64, 60, 115)"
          ],
          [
           0.9090909090909091,
           "rgb(54, 43, 77)"
          ],
          [
           1,
           "rgb(39, 26, 44)"
          ]
         ]
        },
        "legend": {
         "tracegroupgap": 0
        },
        "template": {
         "data": {
          "bar": [
           {
            "error_x": {
             "color": "#2a3f5f"
            },
            "error_y": {
             "color": "#2a3f5f"
            },
            "marker": {
             "line": {
              "color": "#E5ECF6",
              "width": 0.5
             },
             "pattern": {
              "fillmode": "overlay",
              "size": 10,
              "solidity": 0.2
             }
            },
            "type": "bar"
           }
          ],
          "barpolar": [
           {
            "marker": {
             "line": {
              "color": "#E5ECF6",
              "width": 0.5
             },
             "pattern": {
              "fillmode": "overlay",
              "size": 10,
              "solidity": 0.2
             }
            },
            "type": "barpolar"
           }
          ],
          "carpet": [
           {
            "aaxis": {
             "endlinecolor": "#2a3f5f",
             "gridcolor": "white",
             "linecolor": "white",
             "minorgridcolor": "white",
             "startlinecolor": "#2a3f5f"
            },
            "baxis": {
             "endlinecolor": "#2a3f5f",
             "gridcolor": "white",
             "linecolor": "white",
             "minorgridcolor": "white",
             "startlinecolor": "#2a3f5f"
            },
            "type": "carpet"
           }
          ],
          "choropleth": [
           {
            "colorbar": {
             "outlinewidth": 0,
             "ticks": ""
            },
            "type": "choropleth"
           }
          ],
          "contour": [
           {
            "colorbar": {
             "outlinewidth": 0,
             "ticks": ""
            },
            "colorscale": [
             [
              0,
              "#0d0887"
             ],
             [
              0.1111111111111111,
              "#46039f"
             ],
             [
              0.2222222222222222,
              "#7201a8"
             ],
             [
              0.3333333333333333,
              "#9c179e"
             ],
             [
              0.4444444444444444,
              "#bd3786"
             ],
             [
              0.5555555555555556,
              "#d8576b"
             ],
             [
              0.6666666666666666,
              "#ed7953"
             ],
             [
              0.7777777777777778,
              "#fb9f3a"
             ],
             [
              0.8888888888888888,
              "#fdca26"
             ],
             [
              1,
              "#f0f921"
             ]
            ],
            "type": "contour"
           }
          ],
          "contourcarpet": [
           {
            "colorbar": {
             "outlinewidth": 0,
             "ticks": ""
            },
            "type": "contourcarpet"
           }
          ],
          "heatmap": [
           {
            "colorbar": {
             "outlinewidth": 0,
             "ticks": ""
            },
            "colorscale": [
             [
              0,
              "#0d0887"
             ],
             [
              0.1111111111111111,
              "#46039f"
             ],
             [
              0.2222222222222222,
              "#7201a8"
             ],
             [
              0.3333333333333333,
              "#9c179e"
             ],
             [
              0.4444444444444444,
              "#bd3786"
             ],
             [
              0.5555555555555556,
              "#d8576b"
             ],
             [
              0.6666666666666666,
              "#ed7953"
             ],
             [
              0.7777777777777778,
              "#fb9f3a"
             ],
             [
              0.8888888888888888,
              "#fdca26"
             ],
             [
              1,
              "#f0f921"
             ]
            ],
            "type": "heatmap"
           }
          ],
          "histogram": [
           {
            "marker": {
             "pattern": {
              "fillmode": "overlay",
              "size": 10,
              "solidity": 0.2
             }
            },
            "type": "histogram"
           }
          ],
          "histogram2d": [
           {
            "colorbar": {
             "outlinewidth": 0,
             "ticks": ""
            },
            "colorscale": [
             [
              0,
              "#0d0887"
             ],
             [
              0.1111111111111111,
              "#46039f"
             ],
             [
              0.2222222222222222,
              "#7201a8"
             ],
             [
              0.3333333333333333,
              "#9c179e"
             ],
             [
              0.4444444444444444,
              "#bd3786"
             ],
             [
              0.5555555555555556,
              "#d8576b"
             ],
             [
              0.6666666666666666,
              "#ed7953"
             ],
             [
              0.7777777777777778,
              "#fb9f3a"
             ],
             [
              0.8888888888888888,
              "#fdca26"
             ],
             [
              1,
              "#f0f921"
             ]
            ],
            "type": "histogram2d"
           }
          ],
          "histogram2dcontour": [
           {
            "colorbar": {
             "outlinewidth": 0,
             "ticks": ""
            },
            "colorscale": [
             [
              0,
              "#0d0887"
             ],
             [
              0.1111111111111111,
              "#46039f"
             ],
             [
              0.2222222222222222,
              "#7201a8"
             ],
             [
              0.3333333333333333,
              "#9c179e"
             ],
             [
              0.4444444444444444,
              "#bd3786"
             ],
             [
              0.5555555555555556,
              "#d8576b"
             ],
             [
              0.6666666666666666,
              "#ed7953"
             ],
             [
              0.7777777777777778,
              "#fb9f3a"
             ],
             [
              0.8888888888888888,
              "#fdca26"
             ],
             [
              1,
              "#f0f921"
             ]
            ],
            "type": "histogram2dcontour"
           }
          ],
          "mesh3d": [
           {
            "colorbar": {
             "outlinewidth": 0,
             "ticks": ""
            },
            "type": "mesh3d"
           }
          ],
          "parcoords": [
           {
            "line": {
             "colorbar": {
              "outlinewidth": 0,
              "ticks": ""
             }
            },
            "type": "parcoords"
           }
          ],
          "pie": [
           {
            "automargin": true,
            "type": "pie"
           }
          ],
          "scatter": [
           {
            "fillpattern": {
             "fillmode": "overlay",
             "size": 10,
             "solidity": 0.2
            },
            "type": "scatter"
           }
          ],
          "scatter3d": [
           {
            "line": {
             "colorbar": {
              "outlinewidth": 0,
              "ticks": ""
             }
            },
            "marker": {
             "colorbar": {
              "outlinewidth": 0,
              "ticks": ""
             }
            },
            "type": "scatter3d"
           }
          ],
          "scattercarpet": [
           {
            "marker": {
             "colorbar": {
              "outlinewidth": 0,
              "ticks": ""
             }
            },
            "type": "scattercarpet"
           }
          ],
          "scattergeo": [
           {
            "marker": {
             "colorbar": {
              "outlinewidth": 0,
              "ticks": ""
             }
            },
            "type": "scattergeo"
           }
          ],
          "scattergl": [
           {
            "marker": {
             "colorbar": {
              "outlinewidth": 0,
              "ticks": ""
             }
            },
            "type": "scattergl"
           }
          ],
          "scattermap": [
           {
            "marker": {
             "colorbar": {
              "outlinewidth": 0,
              "ticks": ""
             }
            },
            "type": "scattermap"
           }
          ],
          "scattermapbox": [
           {
            "marker": {
             "colorbar": {
              "outlinewidth": 0,
              "ticks": ""
             }
            },
            "type": "scattermapbox"
           }
          ],
          "scatterpolar": [
           {
            "marker": {
             "colorbar": {
              "outlinewidth": 0,
              "ticks": ""
             }
            },
            "type": "scatterpolar"
           }
          ],
          "scatterpolargl": [
           {
            "marker": {
             "colorbar": {
              "outlinewidth": 0,
              "ticks": ""
             }
            },
            "type": "scatterpolargl"
           }
          ],
          "scatterternary": [
           {
            "marker": {
             "colorbar": {
              "outlinewidth": 0,
              "ticks": ""
             }
            },
            "type": "scatterternary"
           }
          ],
          "surface": [
           {
            "colorbar": {
             "outlinewidth": 0,
             "ticks": ""
            },
            "colorscale": [
             [
              0,
              "#0d0887"
             ],
             [
              0.1111111111111111,
              "#46039f"
             ],
             [
              0.2222222222222222,
              "#7201a8"
             ],
             [
              0.3333333333333333,
              "#9c179e"
             ],
             [
              0.4444444444444444,
              "#bd3786"
             ],
             [
              0.5555555555555556,
              "#d8576b"
             ],
             [
              0.6666666666666666,
              "#ed7953"
             ],
             [
              0.7777777777777778,
              "#fb9f3a"
             ],
             [
              0.8888888888888888,
              "#fdca26"
             ],
             [
              1,
              "#f0f921"
             ]
            ],
            "type": "surface"
           }
          ],
          "table": [
           {
            "cells": {
             "fill": {
              "color": "#EBF0F8"
             },
             "line": {
              "color": "white"
             }
            },
            "header": {
             "fill": {
              "color": "#C8D4E3"
             },
             "line": {
              "color": "white"
             }
            },
            "type": "table"
           }
          ]
         },
         "layout": {
          "annotationdefaults": {
           "arrowcolor": "#2a3f5f",
           "arrowhead": 0,
           "arrowwidth": 1
          },
          "autotypenumbers": "strict",
          "coloraxis": {
           "colorbar": {
            "outlinewidth": 0,
            "ticks": ""
           }
          },
          "colorscale": {
           "diverging": [
            [
             0,
             "#8e0152"
            ],
            [
             0.1,
             "#c51b7d"
            ],
            [
             0.2,
             "#de77ae"
            ],
            [
             0.3,
             "#f1b6da"
            ],
            [
             0.4,
             "#fde0ef"
            ],
            [
             0.5,
             "#f7f7f7"
            ],
            [
             0.6,
             "#e6f5d0"
            ],
            [
             0.7,
             "#b8e186"
            ],
            [
             0.8,
             "#7fbc41"
            ],
            [
             0.9,
             "#4d9221"
            ],
            [
             1,
             "#276419"
            ]
           ],
           "sequential": [
            [
             0,
             "#0d0887"
            ],
            [
             0.1111111111111111,
             "#46039f"
            ],
            [
             0.2222222222222222,
             "#7201a8"
            ],
            [
             0.3333333333333333,
             "#9c179e"
            ],
            [
             0.4444444444444444,
             "#bd3786"
            ],
            [
             0.5555555555555556,
             "#d8576b"
            ],
            [
             0.6666666666666666,
             "#ed7953"
            ],
            [
             0.7777777777777778,
             "#fb9f3a"
            ],
            [
             0.8888888888888888,
             "#fdca26"
            ],
            [
             1,
             "#f0f921"
            ]
           ],
           "sequentialminus": [
            [
             0,
             "#0d0887"
            ],
            [
             0.1111111111111111,
             "#46039f"
            ],
            [
             0.2222222222222222,
             "#7201a8"
            ],
            [
             0.3333333333333333,
             "#9c179e"
            ],
            [
             0.4444444444444444,
             "#bd3786"
            ],
            [
             0.5555555555555556,
             "#d8576b"
            ],
            [
             0.6666666666666666,
             "#ed7953"
            ],
            [
             0.7777777777777778,
             "#fb9f3a"
            ],
            [
             0.8888888888888888,
             "#fdca26"
            ],
            [
             1,
             "#f0f921"
            ]
           ]
          },
          "colorway": [
           "#636efa",
           "#EF553B",
           "#00cc96",
           "#ab63fa",
           "#FFA15A",
           "#19d3f3",
           "#FF6692",
           "#B6E880",
           "#FF97FF",
           "#FECB52"
          ],
          "font": {
           "color": "#2a3f5f"
          },
          "geo": {
           "bgcolor": "white",
           "lakecolor": "white",
           "landcolor": "#E5ECF6",
           "showlakes": true,
           "showland": true,
           "subunitcolor": "white"
          },
          "hoverlabel": {
           "align": "left"
          },
          "hovermode": "closest",
          "mapbox": {
           "style": "light"
          },
          "paper_bgcolor": "white",
          "plot_bgcolor": "#E5ECF6",
          "polar": {
           "angularaxis": {
            "gridcolor": "white",
            "linecolor": "white",
            "ticks": ""
           },
           "bgcolor": "#E5ECF6",
           "radialaxis": {
            "gridcolor": "white",
            "linecolor": "white",
            "ticks": ""
           }
          },
          "scene": {
           "xaxis": {
            "backgroundcolor": "#E5ECF6",
            "gridcolor": "white",
            "gridwidth": 2,
            "linecolor": "white",
            "showbackground": true,
            "ticks": "",
            "zerolinecolor": "white"
           },
           "yaxis": {
            "backgroundcolor": "#E5ECF6",
            "gridcolor": "white",
            "gridwidth": 2,
            "linecolor": "white",
            "showbackground": true,
            "ticks": "",
            "zerolinecolor": "white"
           },
           "zaxis": {
            "backgroundcolor": "#E5ECF6",
            "gridcolor": "white",
            "gridwidth": 2,
            "linecolor": "white",
            "showbackground": true,
            "ticks": "",
            "zerolinecolor": "white"
           }
          },
          "shapedefaults": {
           "line": {
            "color": "#2a3f5f"
           }
          },
          "ternary": {
           "aaxis": {
            "gridcolor": "white",
            "linecolor": "white",
            "ticks": ""
           },
           "baxis": {
            "gridcolor": "white",
            "linecolor": "white",
            "ticks": ""
           },
           "bgcolor": "#E5ECF6",
           "caxis": {
            "gridcolor": "white",
            "linecolor": "white",
            "ticks": ""
           }
          },
          "title": {
           "x": 0.05
          },
          "xaxis": {
           "automargin": true,
           "gridcolor": "white",
           "linecolor": "white",
           "ticks": "",
           "title": {
            "standoff": 15
           },
           "zerolinecolor": "white",
           "zerolinewidth": 2
          },
          "yaxis": {
           "automargin": true,
           "gridcolor": "white",
           "linecolor": "white",
           "ticks": "",
           "title": {
            "standoff": 15
           },
           "zerolinecolor": "white",
           "zerolinewidth": 2
          }
         }
        },
        "title": {
         "text": "Rutas categorizadas (Bajo/Medio/Alto) – Economy, Health, Freedom, Trust vs Happiness Score"
        }
       }
      }
     },
     "metadata": {},
     "output_type": "display_data"
    }
   ],
   "source": [
    "# Pregunta 13\n",
    "\n",
    "vars_disc = [\n",
    "    \"Economy (GDP per Capita)\",\n",
    "    \"Health (Life Expectancy)\",\n",
    "    \"Freedom\",\n",
    "    \"Trust (Government Corruption)\"\n",
    "]\n",
    "score_col = \"Happiness Score\"\n",
    "\n",
    "# Copia y elimina nulos\n",
    "dfc = df[vars_disc + [score_col]].dropna().copy()\n",
    "\n",
    "# Discretización en Bajo/Medio/Alto (terciles)\n",
    "labels3 = [\"Bajo\", \"Medio\", \"Alto\"]\n",
    "for c in vars_disc:\n",
    "    dfc[c + \"_q\"] = pd.qcut(dfc[c], q=3, labels=labels3, duplicates=\"drop\")\n",
    "\n",
    "# Categoría de felicidad (bajo/alto) por mediana\n",
    "med = dfc[score_col].median()\n",
    "dfc[\"Happiness_q\"] = pd.cut(\n",
    "    dfc[score_col],\n",
    "    bins=[-float(\"inf\"), med, float(\"inf\")],\n",
    "    labels=[\"Bajo\", \"Alto\"],\n",
    "    include_lowest=True\n",
    ")\n",
    "\n",
    "# Parallel categories (rutas categorizadas)\n",
    "fig = px.parallel_categories(\n",
    "    dfc,\n",
    "    dimensions=[\"Happiness_q\"] + [c + \"_q\" for c in vars_disc],\n",
    "    color=score_col,\n",
    "    color_continuous_scale=\"deep\",\n",
    "    labels={\n",
    "        \"Happiness_q\": \"Happiness Score\",\n",
    "        \"Economy (GDP per Capita)_q\": \"Economy\",\n",
    "        \"Health (Life Expectancy)_q\": \"Health\",\n",
    "        \"Freedom_q\": \"Freedom\",\n",
    "        \"Trust (Government Corruption)_q\": \"Trust\"\n",
    "    },\n",
    "    title=\"Rutas categorizadas (Bajo/Medio/Alto) – Economy, Health, Freedom, Trust vs Happiness Score\"\n",
    ")\n",
    "\n",
    "fig.update_layout(coloraxis_colorbar=dict(title=\"Happiness Score\"))\n",
    "fig.show()"
   ]
  },
  {
   "cell_type": "code",
   "execution_count": 79,
   "id": "e15c8366",
   "metadata": {},
   "outputs": [
    {
     "data": {
      "application/vnd.plotly.v1+json": {
       "config": {
        "plotlyServerURL": "https://plot.ly"
       },
       "data": [
        {
         "customdata": [
          [
           1.39651,
           "Western Europe",
           "Switzerland"
          ],
          [
           1.30232,
           "Western Europe",
           "Iceland"
          ],
          [
           1.32548,
           "Western Europe",
           "Denmark"
          ],
          [
           1.459,
           "Western Europe",
           "Norway"
          ],
          [
           1.29025,
           "Western Europe",
           "Finland"
          ],
          [
           1.32944,
           "Western Europe",
           "Netherlands"
          ],
          [
           1.33171,
           "Western Europe",
           "Sweden"
          ],
          [
           1.33723,
           "Western Europe",
           "Austria"
          ],
          [
           1.56391,
           "Western Europe",
           "Luxembourg"
          ],
          [
           1.33596,
           "Western Europe",
           "Ireland"
          ],
          [
           1.30782,
           "Western Europe",
           "Belgium"
          ],
          [
           1.26637,
           "Western Europe",
           "United Kingdom"
          ],
          [
           1.32792,
           "Western Europe",
           "Germany"
          ],
          [
           1.27778,
           "Western Europe",
           "France"
          ],
          [
           1.23011,
           "Western Europe",
           "Spain"
          ],
          [
           1.2074,
           "Western Europe",
           "Malta"
          ],
          [
           1.25114,
           "Western Europe",
           "Italy"
          ],
          [
           1.20806,
           "Western Europe",
           "North Cyprus"
          ],
          [
           1.20813,
           "Western Europe",
           "Cyprus"
          ],
          [
           1.15991,
           "Western Europe",
           "Portugal"
          ],
          [
           1.15406,
           "Western Europe",
           "Greece"
          ]
         ],
         "hovertemplate": "<b>%{hovertext}</b><br><br>Health (Life Expectancy)=%{x:.3f}<br>Family=%{y:.3f}<br>Happiness Score=%{z:.3f}<br>Economy (GDP per Capita)=%{customdata[0]:.3f}<extra></extra>",
         "hovertext": [
          "Switzerland",
          "Iceland",
          "Denmark",
          "Norway",
          "Finland",
          "Netherlands",
          "Sweden",
          "Austria",
          "Luxembourg",
          "Ireland",
          "Belgium",
          "United Kingdom",
          "Germany",
          "France",
          "Spain",
          "Malta",
          "Italy",
          "North Cyprus",
          "Cyprus",
          "Portugal",
          "Greece"
         ],
         "legendgroup": "Western Europe",
         "marker": {
          "color": "#636efa",
          "symbol": "circle"
         },
         "mode": "markers",
         "name": "Western Europe",
         "scene": "scene",
         "showlegend": true,
         "type": "scatter3d",
         "x": {
          "bdata": "HCWvzjEg7j+G5jqNtFTuPwXAeAYN/es/+vIC7KNT7D9rfZHQlnPsP8PwETElkuw/Zwqd19gl7T/KiXYVUn7sP0eP39v0Z+0/9BWkGYum7D/9vKlIhbHsP3wKgPEMGu0/tYmT+x2K7D9rSNxj6UPuP6Pp7GRwlO4/pOTVOQZk7D+X4qqy74ruP6+ZfLPNje0/r5l8s82N7T/hKHl1jgHsP19BmrFoOuw/",
          "dtype": "f8"
         },
         "y": {
          "bdata": "1v85zJeX9T9zhXe5iG/2P4V3uYjvxPU/escpOpJL9T/W/znMlxf1PwggtYmTe/Q/VRNE3Qeg9D9UqdkDrcD0PxaHM7+ag/M/02pI3GPp9T/gZ1w4EJL0P+GX+nlTkfQ/0XR2MjjK9D8KhQg4hCr0P0z9vKlIBfU/95LGaB3V9D8nFCLgECrzP6yowTQMH/E/9x4uOe6U7D9fKcsQxzryPz4ipkQSve0/",
          "dtype": "f8"
         },
         "z": {
          "bdata": "DAIrhxZZHkBYObTIdj4eQM/3U+OlGx5ASgwCK4cWHkA5tMh2vp8dQFCNl24Sgx1A2/l+arx0HUDNzMzMzMwcQGIQWDm0yBtAw/UoXI/CG0BzaJHtfL8bQCuHFtnOdxtAAAAAAAAAG0DNzMzMzEwaQDeJQWDlUBlAaJHtfD81GUCYbhKDwMoXQEjhehSuxxZAqMZLN4nBFkCcxCCwcmgUQCGwcmiRbRNA",
          "dtype": "f8"
         }
        },
        {
         "customdata": [
          [
           1.32629,
           "North America",
           "Canada"
          ],
          [
           1.39451,
           "North America",
           "United States"
          ]
         ],
         "hovertemplate": "<b>%{hovertext}</b><br><br>Health (Life Expectancy)=%{x:.3f}<br>Family=%{y:.3f}<br>Happiness Score=%{z:.3f}<br>Economy (GDP per Capita)=%{customdata[0]:.3f}<extra></extra>",
         "hovertext": [
          "Canada",
          "United States"
         ],
         "legendgroup": "North America",
         "marker": {
          "color": "#EF553B",
          "symbol": "circle"
         },
         "mode": "markers",
         "name": "North America",
         "scene": "scene",
         "showlegend": true,
         "type": "scatter3d",
         "x": {
          "bdata": "7dgIxOv67D+HokCfyJPrPw==",
          "dtype": "f8"
         },
         "y": {
          "bdata": "DM11Gmkp9T+jO4idKfTzPw==",
          "dtype": "f8"
         },
         "z": {
          "bdata": "aJHtfD+1HUBg5dAi23kcQA==",
          "dtype": "f8"
         }
        },
        {
         "customdata": [
          [
           1.25018,
           "Australia and New Zealand",
           "New Zealand"
          ],
          [
           1.33358,
           "Australia and New Zealand",
           "Australia"
          ]
         ],
         "hovertemplate": "<b>%{hovertext}</b><br><br>Health (Life Expectancy)=%{x:.3f}<br>Family=%{y:.3f}<br>Happiness Score=%{z:.3f}<br>Economy (GDP per Capita)=%{customdata[0]:.3f}<extra></extra>",
         "hovertext": [
          "New Zealand",
          "Australia"
         ],
         "legendgroup": "Australia and New Zealand",
         "marker": {
          "color": "#00cc96",
          "symbol": "circle"
         },
         "mode": "markers",
         "name": "Australia and New Zealand",
         "scene": "scene",
         "showlegend": true,
         "type": "scatter3d",
         "x": {
          "bdata": "U1xV9l0R7T9XYMjqVs/tPw==",
          "dtype": "f8"
         },
         "y": {
          "bdata": "djI4Sl4d9T/CEg8om/L0Pw==",
          "dtype": "f8"
         },
         "z": {
          "bdata": "vp8aL90kHUCJQWDl0CIdQA==",
          "dtype": "f8"
         }
        },
        {
         "customdata": [
          [
           1.22857,
           "Middle East and Northern Africa",
           "Israel"
          ],
          [
           1.42727,
           "Middle East and Northern Africa",
           "United Arab Emirates"
          ],
          [
           1.36011,
           "Middle East and Northern Africa",
           "Oman"
          ],
          [
           1.69042,
           "Middle East and Northern Africa",
           "Qatar"
          ],
          [
           1.39541,
           "Middle East and Northern Africa",
           "Saudi Arabia"
          ],
          [
           1.55422,
           "Middle East and Northern Africa",
           "Kuwait"
          ],
          [
           1.32376,
           "Middle East and Northern Africa",
           "Bahrain"
          ],
          [
           1.13145,
           "Middle East and Northern Africa",
           "Libya"
          ],
          [
           0.93929,
           "Middle East and Northern Africa",
           "Algeria"
          ],
          [
           1.06098,
           "Middle East and Northern Africa",
           "Turkey"
          ],
          [
           0.90198,
           "Middle East and Northern Africa",
           "Jordan"
          ],
          [
           0.73479,
           "Middle East and Northern Africa",
           "Morocco"
          ],
          [
           1.02564,
           "Middle East and Northern Africa",
           "Lebanon"
          ],
          [
           0.88113,
           "Middle East and Northern Africa",
           "Tunisia"
          ],
          [
           0.59867,
           "Middle East and Northern Africa",
           "Palestinian Territories"
          ],
          [
           1.0088,
           "Middle East and Northern Africa",
           "Iran"
          ],
          [
           0.98549,
           "Middle East and Northern Africa",
           "Iraq"
          ],
          [
           0.8818,
           "Middle East and Northern Africa",
           "Egypt"
          ],
          [
           0.54649,
           "Middle East and Northern Africa",
           "Yemen"
          ],
          [
           0.6632,
           "Middle East and Northern Africa",
           "Syria"
          ]
         ],
         "hovertemplate": "<b>%{hovertext}</b><br><br>Health (Life Expectancy)=%{x:.3f}<br>Family=%{y:.3f}<br>Happiness Score=%{z:.3f}<br>Economy (GDP per Capita)=%{customdata[0]:.3f}<extra></extra>",
         "hovertext": [
          "Israel",
          "United Arab Emirates",
          "Oman",
          "Qatar",
          "Saudi Arabia",
          "Kuwait",
          "Bahrain",
          "Libya",
          "Algeria",
          "Turkey",
          "Jordan",
          "Morocco",
          "Lebanon",
          "Tunisia",
          "Palestinian Territories",
          "Iran",
          "Iraq",
          "Egypt",
          "Yemen",
          "Syria"
         ],
         "legendgroup": "Middle East and Northern Africa",
         "marker": {
          "color": "#ab63fa",
          "symbol": "circle"
         },
         "mode": "markers",
         "name": "Middle East and Northern Africa",
         "scene": "scene",
         "showlegend": true,
         "type": "scatter3d",
         "x": {
          "bdata": "5nRZTGw+7T9MN4lBYOXpP39N1qiHaOg/a9RDNLqD6T8/NV66SQznPxjshm2LMuc/uCOcFrzo5z/2l92Th4XmP/mDgefew+M/J4i6D0Bq5z+3XWiu00jmP6hSswdageM/zSN/MPDc6j/MlxdgH53nP3KKjuTyH+U/LSEf9GxW5j+77UJznUbjPwGkNnFyv+M/Tgte9BWk2T98CoDxDBrnPw==",
          "dtype": "f8"
         },
         "y": {
          "bdata": "E36pnzeV8z9QjZduEgPyPx6KAn0iT/E/GXPXEvJB8T/Wc9L7xlfxP2SSkbOwp/I/hGQBE7h18z+gbMoV3uXxPwPso1NXPvE/gJ9x4UBI7j/pmsk329zwP9/gC5OpguQ/fSJPkq6Z6T9KmGn7V1bjPx+duvJZnu0/XOZ0WUxs4T+jryDNWDTqP4GVQ4ts5+c/YLAbti3K5T/boswGmWTePw==",
          "dtype": "f8"
         },
         "z": {
          "bdata": "6SYxCKwcHUC0yHa+n5obQLbz/dR4aRtAi2zn+6lxGkC+nxov3aQZQK5H4XoULhlA16NwPQrXF0BqvHSTGAQXQOxRuB6FaxZAhxbZzvdTFUD4U+Olm8QUQFpkO99PDRRAQmDl0CJbE0Db+X5qvPQSQFyPwvUo3BJAWDm0yHa+EkBoke18P7USQC2yne+nxhBAAiuHFtlOEEA/NV66SQwIQA==",
          "dtype": "f8"
         }
        },
        {
         "customdata": [
          [
           0.95578,
           "Latin America and Caribbean",
           "Costa Rica"
          ],
          [
           1.02054,
           "Latin America and Caribbean",
           "Mexico"
          ],
          [
           0.98124,
           "Latin America and Caribbean",
           "Brazil"
          ],
          [
           1.04424,
           "Latin America and Caribbean",
           "Venezuela"
          ],
          [
           1.06353,
           "Latin America and Caribbean",
           "Panama"
          ],
          [
           1.10715,
           "Latin America and Caribbean",
           "Chile"
          ],
          [
           1.05351,
           "Latin America and Caribbean",
           "Argentina"
          ],
          [
           1.06166,
           "Latin America and Caribbean",
           "Uruguay"
          ],
          [
           0.91861,
           "Latin America and Caribbean",
           "Colombia"
          ],
          [
           0.99534,
           "Latin America and Caribbean",
           "Suriname"
          ],
          [
           1.21183,
           "Latin America and Caribbean",
           "Trinidad and Tobago"
          ],
          [
           0.76454,
           "Latin America and Caribbean",
           "El Salvador"
          ],
          [
           0.74553,
           "Latin America and Caribbean",
           "Guatemala"
          ],
          [
           0.86402,
           "Latin America and Caribbean",
           "Ecuador"
          ],
          [
           0.68133,
           "Latin America and Caribbean",
           "Bolivia"
          ],
          [
           0.75985,
           "Latin America and Caribbean",
           "Paraguay"
          ],
          [
           0.59325,
           "Latin America and Caribbean",
           "Nicaragua"
          ],
          [
           0.90019,
           "Latin America and Caribbean",
           "Peru"
          ],
          [
           0.81038,
           "Latin America and Caribbean",
           "Jamaica"
          ],
          [
           0.89537,
           "Latin America and Caribbean",
           "Dominican Republic"
          ],
          [
           0.59532,
           "Latin America and Caribbean",
           "Honduras"
          ],
          [
           0.26673,
           "Latin America and Caribbean",
           "Haiti"
          ]
         ],
         "hovertemplate": "<b>%{hovertext}</b><br><br>Health (Life Expectancy)=%{x:.3f}<br>Family=%{y:.3f}<br>Happiness Score=%{z:.3f}<br>Economy (GDP per Capita)=%{customdata[0]:.3f}<extra></extra>",
         "hovertext": [
          "Costa Rica",
          "Mexico",
          "Brazil",
          "Venezuela",
          "Panama",
          "Chile",
          "Argentina",
          "Uruguay",
          "Colombia",
          "Suriname",
          "Trinidad and Tobago",
          "El Salvador",
          "Guatemala",
          "Ecuador",
          "Bolivia",
          "Paraguay",
          "Nicaragua",
          "Peru",
          "Jamaica",
          "Dominican Republic",
          "Honduras",
          "Haiti"
         ],
         "legendgroup": "Latin America and Caribbean",
         "marker": {
          "color": "#FFA15A",
          "symbol": "circle"
         },
         "mode": "markers",
         "name": "Latin America and Caribbean",
         "scene": "scene",
         "showlegend": true,
         "type": "scatter3d",
         "x": {
          "bdata": "gVt381SH6z9WvJF55A/qP64NFeP8TeY/PKWD9X8O5z92VDVB1H3pP3506spnees/N8MN+Pww6T8N4C2QoPjpP3va4a/JGuY/n6ut2F924z+UMNP2r6zjPyJUqdkDreU/BFYOLbKd5D/n+6nx0k3pPzcawFsgQeE/Lexph78m5T+dLouJzcfnP3am0HmNXec/ATCeQUP/5T/8qfHSTWLlPyBj7lpCPuY/IoleRrHc2D8=",
          "dtype": "f8"
         },
         "y": {
          "bdata": "rvVFQlvO8z/Brbt5qkPtPyeDo+TVufM/uFhRg2kY9D+TGARWDi3zP3ZUNUHU/fE/Yi0+BcD48z+BJsKGp1fzP9Zz0vvG1/M/tMh2vp8a7z8dIJijx+/yP4LF4cyvZvA/w552+Guy8D/VITfDDfjvPx6KAn0iT+8/qtTsgVbg9D/3OxQF+kTyP8dGIF7XL+8/tKuQ8pNq8j9xICQLmMDyP4l7LH3ogu4/9MMI4dHG5z8=",
          "dtype": "f8"
         },
         "z": {
          "bdata": "gZVDi2znHEBzaJHtfL8cQDvfT42X7htAPQrXo3A9G0C+nxov3SQbQK5H4XoUrhpAsp3vp8ZLGkBxPQrXo/AZQJzEILBy6BlA+n5qvHQTGUB56SYxCKwYQIXrUbgehRhAy6FFtvN9GEBmZmZmZuYXQI/C9ShcjxdAUI2XbhKDF0AdWmQ7308XQLKd76fGSxdAvHSTGATWFkAK16NwPYoTQPT91HjpJhNA30+Nl24SEkA=",
          "dtype": "f8"
         }
        },
        {
         "customdata": [
          [
           1.52186,
           "Southeastern Asia",
           "Singapore"
          ],
          [
           0.9669,
           "Southeastern Asia",
           "Thailand"
          ],
          [
           1.12486,
           "Southeastern Asia",
           "Malaysia"
          ],
          [
           0.82827,
           "Southeastern Asia",
           "Indonesia"
          ],
          [
           0.63216,
           "Southeastern Asia",
           "Vietnam"
          ],
          [
           0.70532,
           "Southeastern Asia",
           "Philippines"
          ],
          [
           0.59066,
           "Southeastern Asia",
           "Laos"
          ],
          [
           0.27108,
           "Southeastern Asia",
           "Myanmar"
          ],
          [
           0.46038,
           "Southeastern Asia",
           "Cambodia"
          ]
         ],
         "hovertemplate": "<b>%{hovertext}</b><br><br>Health (Life Expectancy)=%{x:.3f}<br>Family=%{y:.3f}<br>Happiness Score=%{z:.3f}<br>Economy (GDP per Capita)=%{customdata[0]:.3f}<extra></extra>",
         "hovertext": [
          "Singapore",
          "Thailand",
          "Malaysia",
          "Indonesia",
          "Vietnam",
          "Philippines",
          "Laos",
          "Myanmar",
          "Cambodia"
         ],
         "legendgroup": "Southeastern Asia",
         "marker": {
          "color": "#19d3f3",
          "symbol": "circle"
         },
         "mode": "markers",
         "name": "Southeastern Asia",
         "scene": "scene",
         "showlegend": true,
         "type": "scatter3d",
         "x": {
          "bdata": "gZVDi2xn8D9vEoPAyqHnPwqFCDiEKuc/mWTkLOxp5D8vwD46deXnP9S3zOmymOI/w/ARMSWS4T/GM2jon+DeP8rgKHl1juM/",
          "dtype": "f8"
         },
         "y": {
          "bdata": "UrgehetR8D8EHEKVmj30P1YrE36pH/E/vyuC/61k8T/hXS7iOzHtP6sJou4DkPA/rvAuF/Gd5z9UUiegibDmP6UxWkdVE+Q/",
          "dtype": "f8"
         },
         "z": {
          "bdata": "/tR46SYxG0BSuB6F69EZQBSuR+F6FBdAf2q8dJOYFUBxPQrXo3AVQJhuEoPAShRAGy/dJAaBE0DufD81XjoRQFpkO99PjQ5A",
          "dtype": "f8"
         }
        },
        {
         "customdata": [
          [
           1.17898,
           "Central and Eastern Europe",
           "Czech Republic"
          ],
          [
           0.63244,
           "Central and Eastern Europe",
           "Uzbekistan"
          ],
          [
           1.16891,
           "Central and Eastern Europe",
           "Slovakia"
          ],
          [
           0.59448,
           "Central and Eastern Europe",
           "Moldova"
          ],
          [
           1.12254,
           "Central and Eastern Europe",
           "Kazakhstan"
          ],
          [
           1.18498,
           "Central and Eastern Europe",
           "Slovenia"
          ],
          [
           1.14723,
           "Central and Eastern Europe",
           "Lithuania"
          ],
          [
           1.03192,
           "Central and Eastern Europe",
           "Belarus"
          ],
          [
           1.12555,
           "Central and Eastern Europe",
           "Poland"
          ],
          [
           1.08254,
           "Central and Eastern Europe",
           "Croatia"
          ],
          [
           1.13764,
           "Central and Eastern Europe",
           "Russia"
          ],
          [
           0.80148,
           "Central and Eastern Europe",
           "Kosovo"
          ],
          [
           0.95847,
           "Central and Eastern Europe",
           "Turkmenistan"
          ],
          [
           1.15174,
           "Central and Eastern Europe",
           "Estonia"
          ],
          [
           0.47428,
           "Central and Eastern Europe",
           "Kyrgyzstan"
          ],
          [
           1.02389,
           "Central and Eastern Europe",
           "Azerbaijan"
          ],
          [
           0.97438,
           "Central and Eastern Europe",
           "Montenegro"
          ],
          [
           1.04345,
           "Central and Eastern Europe",
           "Romania"
          ],
          [
           0.92053,
           "Central and Eastern Europe",
           "Serbia"
          ],
          [
           1.11312,
           "Central and Eastern Europe",
           "Latvia"
          ],
          [
           0.91851,
           "Central and Eastern Europe",
           "Macedonia"
          ],
          [
           0.87867,
           "Central and Eastern Europe",
           "Albania"
          ],
          [
           0.83223,
           "Central and Eastern Europe",
           "Bosnia and Herzegovina"
          ],
          [
           1.12094,
           "Central and Eastern Europe",
           "Hungary"
          ],
          [
           0.39047,
           "Central and Eastern Europe",
           "Tajikistan"
          ],
          [
           0.79907,
           "Central and Eastern Europe",
           "Ukraine"
          ],
          [
           0.76821,
           "Central and Eastern Europe",
           "Armenia"
          ],
          [
           0.7419,
           "Central and Eastern Europe",
           "Georgia"
          ],
          [
           1.01216,
           "Central and Eastern Europe",
           "Bulgaria"
          ]
         ],
         "hovertemplate": "<b>%{hovertext}</b><br><br>Health (Life Expectancy)=%{x:.3f}<br>Family=%{y:.3f}<br>Happiness Score=%{z:.3f}<br>Economy (GDP per Capita)=%{customdata[0]:.3f}<extra></extra>",
         "hovertext": [
          "Czech Republic",
          "Uzbekistan",
          "Slovakia",
          "Moldova",
          "Kazakhstan",
          "Slovenia",
          "Lithuania",
          "Belarus",
          "Poland",
          "Croatia",
          "Russia",
          "Kosovo",
          "Turkmenistan",
          "Estonia",
          "Kyrgyzstan",
          "Azerbaijan",
          "Montenegro",
          "Romania",
          "Serbia",
          "Latvia",
          "Macedonia",
          "Albania",
          "Bosnia and Herzegovina",
          "Hungary",
          "Tajikistan",
          "Ukraine",
          "Armenia",
          "Georgia",
          "Bulgaria"
         ],
         "legendgroup": "Central and Eastern Europe",
         "marker": {
          "color": "#FF6692",
          "symbol": "circle"
         },
         "mode": "markers",
         "name": "Central and Eastern Europe",
         "scene": "scene",
         "showlegend": true,
         "type": "scatter3d",
         "x": {
          "bdata": "8L+V7NgI6z+qSIWxhSDjPzp6/N6mP+k/RpkNMsnI4z9i26LMBpnkPzTXaaSl8us/EQGHUKVm5z91q+ek943nP8tKk1LQ7eg/D5wzorQ36T+0q5Dyk2rlP2vxKQDGM+Q/A+yjU1c+4T9TeTvCacHoP/naM0sC1OQ/dCSX/5B+5D/bbRea6zTnP+2ePCzUmug/UU60q5Dy5z88g4b+CS7nP3/7OnDOiOc/oBov3SQG6j88MevFUE7pP+7rwDkjSug/6rKY2Hxc4j/jx5i7lpDlP3o2qz5XW+c/oP1IERlW5z/XwFYJFofoPw==",
          "dtype": "f8"
         },
         "y": {
          "bdata": "y5wui4lN8z+KPEm6ZnL1P+DzwwjhUfQ/rYbEPZY+8D/2QCswZPXxP1InoImwYfQ/5q4l5IMe9D8LDFnd6rnzP2ItPgXAePQ/l4v4Tsx66T+6vaQxWsfzP88xIHu9++k/OIQqNXug8z/a5sb0hKXzP3qlLEMca/I/M/59xoUD7j+Yo8fvbfrsP37GhQMhWew/LLzLRXwn8D8Pf03WqIfxPwwHQrKACfA/IqtbPSe96T/SUnk7wmntP7IubqMBPPM/Uz9vKlJh6z+thsQ9lj7zPzygbMoV3ug/y74rgv+t2D9Qwkzbv7LxPw==",
          "dtype": "f8"
         },
         "z": {
          "bdata": "hetRuB4FGkBQjZduEgMYQHsUrkfh+hdAdZMYBFaOF0DsUbgehWsXQDEIrBxaZBdAokW28/1UF0CNl24Sg0AXQESLbOf7KRdA8KfGSzcJF0B3vp8aL90WQEJg5dAiWxZA/tR46SYxFkCe76fGS7cVQL6fGi/dJBVADAIrhxbZFED4U+Olm8QUQOXQItv5fhRAy6FFtvN9FEAxCKwcWmQUQLpJDAIrBxRAvHSTGATWE0Cyne+nxssTQDMzMzMzMxNAvp8aL90kE0DTTWIQWLkSQGZmZmZmZhFA46WbxCAwEUCsHFpkO98QQA==",
          "dtype": "f8"
         }
        },
        {
         "customdata": [
          [
           1.29098,
           "Eastern Asia",
           "Taiwan"
          ],
          [
           1.27074,
           "Eastern Asia",
           "Japan"
          ],
          [
           1.24461,
           "Eastern Asia",
           "South Korea"
          ],
          [
           1.38604,
           "Eastern Asia",
           "Hong Kong"
          ],
          [
           0.89012,
           "Eastern Asia",
           "China"
          ],
          [
           0.82819,
           "Eastern Asia",
           "Mongolia"
          ]
         ],
         "hovertemplate": "<b>%{hovertext}</b><br><br>Health (Life Expectancy)=%{x:.3f}<br>Family=%{y:.3f}<br>Happiness Score=%{z:.3f}<br>Economy (GDP per Capita)=%{customdata[0]:.3f}<extra></extra>",
         "hovertext": [
          "Taiwan",
          "Japan",
          "South Korea",
          "Hong Kong",
          "China",
          "Mongolia"
         ],
         "legendgroup": "Eastern Asia",
         "marker": {
          "color": "#B6E880",
          "symbol": "circle"
         },
         "mode": "markers",
         "name": "Eastern Asia",
         "scene": "scene",
         "showlegend": true,
         "type": "scatter3d",
         "x": {
          "bdata": "pgpGJXUC7D9JopdRLLfvP6PMBplk5O4/2A3bFmU28D9vKlJhbCHqP0WBPpEnSeM/",
          "dtype": "f8"
         },
         "y": {
          "bdata": "K/uuCP438T8+XHLcKR30P/ZFQlvOpe4/H4DUJk7u8D+yne+nxkvuP3PXEvJBz/Q/",
          "dtype": "f8"
         },
         "z": {
          "bdata": "/tR46SYxGUCmm8QgsPIXQFYOLbKd7xdATDeJQWDlFUCPwvUoXI8UQOXQItv5fhNA",
          "dtype": "f8"
         }
        },
        {
         "customdata": [
          [
           1.00761,
           "Sub-Saharan Africa",
           "Mauritius"
          ],
          [
           0.65435,
           "Sub-Saharan Africa",
           "Nigeria"
          ],
          [
           0.47038,
           "Sub-Saharan Africa",
           "Zambia"
          ],
          [
           0.18847,
           "Sub-Saharan Africa",
           "Somaliland region"
          ],
          [
           0.08308,
           "Sub-Saharan Africa",
           "Mozambique"
          ],
          [
           0.37545,
           "Sub-Saharan Africa",
           "Lesotho"
          ],
          [
           0.71206,
           "Sub-Saharan Africa",
           "Swaziland"
          ],
          [
           0.92049,
           "Sub-Saharan Africa",
           "South Africa"
          ],
          [
           0.54558,
           "Sub-Saharan Africa",
           "Ghana"
          ],
          [
           0.271,
           "Sub-Saharan Africa",
           "Zimbabwe"
          ],
          [
           0.0712,
           "Sub-Saharan Africa",
           "Liberia"
          ],
          [
           0.52107,
           "Sub-Saharan Africa",
           "Sudan"
          ],
          [
           0,
           "Sub-Saharan Africa",
           "Congo (Kinshasa)"
          ],
          [
           0.19073,
           "Sub-Saharan Africa",
           "Ethiopia"
          ],
          [
           0.33024,
           "Sub-Saharan Africa",
           "Sierra Leone"
          ],
          [
           0.45407,
           "Sub-Saharan Africa",
           "Mauritania"
          ],
          [
           0.36471,
           "Sub-Saharan Africa",
           "Kenya"
          ],
          [
           0.44025,
           "Sub-Saharan Africa",
           "Djibouti"
          ],
          [
           0.99355,
           "Sub-Saharan Africa",
           "Botswana"
          ],
          [
           0.01604,
           "Sub-Saharan Africa",
           "Malawi"
          ],
          [
           0.4225,
           "Sub-Saharan Africa",
           "Cameroon"
          ],
          [
           0.75778,
           "Sub-Saharan Africa",
           "Angola"
          ],
          [
           0.26074,
           "Sub-Saharan Africa",
           "Mali"
          ],
          [
           0.67866,
           "Sub-Saharan Africa",
           "Congo (Brazzaville)"
          ],
          [
           0.23906,
           "Sub-Saharan Africa",
           "Comoros"
          ],
          [
           0.21102,
           "Sub-Saharan Africa",
           "Uganda"
          ],
          [
           0.36498,
           "Sub-Saharan Africa",
           "Senegal"
          ],
          [
           1.06024,
           "Sub-Saharan Africa",
           "Gabon"
          ],
          [
           0.0694,
           "Sub-Saharan Africa",
           "Niger"
          ],
          [
           0.2852,
           "Sub-Saharan Africa",
           "Tanzania"
          ],
          [
           0.20824,
           "Sub-Saharan Africa",
           "Madagascar"
          ],
          [
           0.0785,
           "Sub-Saharan Africa",
           "Central African Republic"
          ],
          [
           0.34193,
           "Sub-Saharan Africa",
           "Chad"
          ],
          [
           0.17417,
           "Sub-Saharan Africa",
           "Guinea"
          ],
          [
           0.46534,
           "Sub-Saharan Africa",
           "Ivory Coast"
          ],
          [
           0.25812,
           "Sub-Saharan Africa",
           "Burkina Faso"
          ],
          [
           0.22208,
           "Sub-Saharan Africa",
           "Rwanda"
          ],
          [
           0.28665,
           "Sub-Saharan Africa",
           "Benin"
          ],
          [
           0.0153,
           "Sub-Saharan Africa",
           "Burundi"
          ],
          [
           0.20868,
           "Sub-Saharan Africa",
           "Togo"
          ]
         ],
         "hovertemplate": "<b>%{hovertext}</b><br><br>Health (Life Expectancy)=%{x:.3f}<br>Family=%{y:.3f}<br>Happiness Score=%{z:.3f}<br>Economy (GDP per Capita)=%{customdata[0]:.3f}<extra></extra>",
         "hovertext": [
          "Mauritius",
          "Nigeria",
          "Zambia",
          "Somaliland region",
          "Mozambique",
          "Lesotho",
          "Swaziland",
          "South Africa",
          "Ghana",
          "Zimbabwe",
          "Liberia",
          "Sudan",
          "Congo (Kinshasa)",
          "Ethiopia",
          "Sierra Leone",
          "Mauritania",
          "Kenya",
          "Djibouti",
          "Botswana",
          "Malawi",
          "Cameroon",
          "Angola",
          "Mali",
          "Congo (Brazzaville)",
          "Comoros",
          "Uganda",
          "Senegal",
          "Gabon",
          "Niger",
          "Tanzania",
          "Madagascar",
          "Central African Republic",
          "Chad",
          "Guinea",
          "Ivory Coast",
          "Burkina Faso",
          "Rwanda",
          "Benin",
          "Burundi",
          "Togo"
         ],
         "legendgroup": "Sub-Saharan Africa",
         "marker": {
          "color": "#FF97FF",
          "symbol": "circle"
         },
         "mode": "markers",
         "name": "Sub-Saharan Africa",
         "scene": "scene",
         "showlegend": true,
         "type": "scatter3d",
         "x": {
          "bdata": "TmIQWDm05j9aDYl7LH3EPy3saYe/JtM/h4px/iYU3D8AOsyXF2C3PyJPkq6ZfLM/PIidKXResz+cpzrkZrjRPx7EzhQ6r9k/BoGVQ4ts1T/d6jnpfePVP+7O2m0Xmtc/7bYLzXUauT/gLZCg+DHcPwAAAAAAAAAALxfxnZj11j8UP8bctYTaPwsMWd3qOdc/3CkdrP9zqD8aaam8HeHMP9wRTgte9M0/X+/+eK9axT8qkUQvo1jKP3MuxVVl39M/rrZif9k91z/PTgZHyavVP+hqK/aX3ds/bsDnhxHC2z+l2qfjMQPTP0ymCkYlddg/Zk6XxcTm3T/YtiizQSaxP7yWkA96NsM/s14M5US7zj+P5PIf0m/DP1yPwvUoXNE/5nlwd9Zu2z+V1AloImzUP0JbzqW4qsw/+RQA4xk00j8=",
          "dtype": "f8"
         },
         "y": {
          "bdata": "LSY2H9eG7z+OzCN/MPDsP8bE5uPaUO0/ba0vEtpy7j9dFhObj2vwP2N6whIPqPA/Q3OdRloq8T+/mgMEc/TyP+ZciqvKvuU/Ed+JWS+G8D/bxMn9DkXpP5pfzQGCOfA/TRWMSuoE8D/cSxqjdVTjP6G5TiMtle4/HXIz3IDP6z/ZsRGI1/XvP8Mq3sg88uI/sacd/pqs8T9PWOIBZVPaP4B9dOrKZ+w/Dk+vlGWI6z8cti3KbJDwP7yWkA96NuU/y9sRTgte6T/iHksfuiDyP+nUlc/yPO8/1SE3ww347D8LJCh+jLnoPwmnBS/6CvA/qtTsgVZg5T8AAAAAAAAAAGXfFcH/Vug/WDm0yHa+3T/M7snDQq3oPzS6g9iZQus/UkmdgCbC6D8vNNdppKXWPyHNWDSdndo/J6CJsOHpwT8=",
          "dtype": "f8"
         },
         "z": {
          "bdata": "nMQgsHLoFUDfT42XbhIVQGq8dJMYhBRA7nw/NV46FED8qfHSTeITQGQ730+NlxNAK4cW2c53E0DFILByaJESQNV46SYxiBJAcT0K16NwEkBiEFg5tEgSQDMzMzMzMxJAxSCwcmgREkA/NV66SQwSQLpJDAIrBxJAWDm0yHa+EUCTGARWDq0RQGDl0CLbeRFAhxbZzvdTEUBeukkMAisRQDVeukkMAhFAbxKDwMohEED2KFyPwvUPQLbz/dR46Q9A2c73U+OlD0Cmm8QgsHIPQAisHFpkOw9AXrpJDAIrD0DD9Shcj8IOQHNoke18Pw5AppvEILByDUAGgZVDi2wNQLx0kxgEVg1Ac2iR7Xw/DUA9CtejcD0NQBkEVg4tsgxAuB6F61G4C0C4HoXrUbgKQD0K16NwPQdAg8DKoUW2BkA=",
          "dtype": "f8"
         }
        },
        {
         "customdata": [
          [
           0.77042,
           "Southern Asia",
           "Bhutan"
          ],
          [
           0.59543,
           "Southern Asia",
           "Pakistan"
          ],
          [
           0.39753,
           "Southern Asia",
           "Bangladesh"
          ],
          [
           0.64499,
           "Southern Asia",
           "India"
          ],
          [
           0.35997,
           "Southern Asia",
           "Nepal"
          ],
          [
           0.83524,
           "Southern Asia",
           "Sri Lanka"
          ],
          [
           0.31982,
           "Southern Asia",
           "Afghanistan"
          ]
         ],
         "hovertemplate": "<b>%{hovertext}</b><br><br>Health (Life Expectancy)=%{x:.3f}<br>Family=%{y:.3f}<br>Happiness Score=%{z:.3f}<br>Economy (GDP per Capita)=%{customdata[0]:.3f}<extra></extra>",
         "hovertext": [
          "Bhutan",
          "Pakistan",
          "Bangladesh",
          "India",
          "Nepal",
          "Sri Lanka",
          "Afghanistan"
         ],
         "legendgroup": "Southern Asia",
         "marker": {
          "color": "#FECB52",
          "symbol": "circle"
         },
         "mode": "markers",
         "name": "Southern Asia",
         "scene": "scene",
         "showlegend": true,
         "type": "scatter3d",
         "x": {
          "bdata": "yatzDMhe4j9H5pE/GHjgP+LkfoeiQOM/PpY+dEF94D9Qqn06HjPiP2Ni83FtqOY/YHZPHhZq0z8=",
          "dtype": "f8"
         },
         "y": {
          "bdata": "C7Wmecep8T9wlLw6x4DaP9hHp658lts/dc3km21u2D9gArfu5qnrPyDSb18HTvA/i/1l9+Rh0z8=",
          "dtype": "f8"
         },
         "z": {
          "bdata": "UI2XbhIDFUAtsp3vp8YUQC2yne+nxhJAw/UoXI9CEkB1kxgEVg4SQC/dJAaBFRFAmpmZmZmZDEA=",
          "dtype": "f8"
         }
        }
       ],
       "layout": {
        "legend": {
         "title": {
          "text": "Region"
         },
         "tracegroupgap": 0
        },
        "scene": {
         "domain": {
          "x": [
           0,
           1
          ],
          "y": [
           0,
           1
          ]
         },
         "xaxis": {
          "title": {
           "text": "Health (Life Expectancy)"
          }
         },
         "yaxis": {
          "title": {
           "text": "Family"
          }
         },
         "zaxis": {
          "title": {
           "text": "Happiness Score"
          }
         }
        },
        "template": {
         "data": {
          "bar": [
           {
            "error_x": {
             "color": "#2a3f5f"
            },
            "error_y": {
             "color": "#2a3f5f"
            },
            "marker": {
             "line": {
              "color": "#E5ECF6",
              "width": 0.5
             },
             "pattern": {
              "fillmode": "overlay",
              "size": 10,
              "solidity": 0.2
             }
            },
            "type": "bar"
           }
          ],
          "barpolar": [
           {
            "marker": {
             "line": {
              "color": "#E5ECF6",
              "width": 0.5
             },
             "pattern": {
              "fillmode": "overlay",
              "size": 10,
              "solidity": 0.2
             }
            },
            "type": "barpolar"
           }
          ],
          "carpet": [
           {
            "aaxis": {
             "endlinecolor": "#2a3f5f",
             "gridcolor": "white",
             "linecolor": "white",
             "minorgridcolor": "white",
             "startlinecolor": "#2a3f5f"
            },
            "baxis": {
             "endlinecolor": "#2a3f5f",
             "gridcolor": "white",
             "linecolor": "white",
             "minorgridcolor": "white",
             "startlinecolor": "#2a3f5f"
            },
            "type": "carpet"
           }
          ],
          "choropleth": [
           {
            "colorbar": {
             "outlinewidth": 0,
             "ticks": ""
            },
            "type": "choropleth"
           }
          ],
          "contour": [
           {
            "colorbar": {
             "outlinewidth": 0,
             "ticks": ""
            },
            "colorscale": [
             [
              0,
              "#0d0887"
             ],
             [
              0.1111111111111111,
              "#46039f"
             ],
             [
              0.2222222222222222,
              "#7201a8"
             ],
             [
              0.3333333333333333,
              "#9c179e"
             ],
             [
              0.4444444444444444,
              "#bd3786"
             ],
             [
              0.5555555555555556,
              "#d8576b"
             ],
             [
              0.6666666666666666,
              "#ed7953"
             ],
             [
              0.7777777777777778,
              "#fb9f3a"
             ],
             [
              0.8888888888888888,
              "#fdca26"
             ],
             [
              1,
              "#f0f921"
             ]
            ],
            "type": "contour"
           }
          ],
          "contourcarpet": [
           {
            "colorbar": {
             "outlinewidth": 0,
             "ticks": ""
            },
            "type": "contourcarpet"
           }
          ],
          "heatmap": [
           {
            "colorbar": {
             "outlinewidth": 0,
             "ticks": ""
            },
            "colorscale": [
             [
              0,
              "#0d0887"
             ],
             [
              0.1111111111111111,
              "#46039f"
             ],
             [
              0.2222222222222222,
              "#7201a8"
             ],
             [
              0.3333333333333333,
              "#9c179e"
             ],
             [
              0.4444444444444444,
              "#bd3786"
             ],
             [
              0.5555555555555556,
              "#d8576b"
             ],
             [
              0.6666666666666666,
              "#ed7953"
             ],
             [
              0.7777777777777778,
              "#fb9f3a"
             ],
             [
              0.8888888888888888,
              "#fdca26"
             ],
             [
              1,
              "#f0f921"
             ]
            ],
            "type": "heatmap"
           }
          ],
          "histogram": [
           {
            "marker": {
             "pattern": {
              "fillmode": "overlay",
              "size": 10,
              "solidity": 0.2
             }
            },
            "type": "histogram"
           }
          ],
          "histogram2d": [
           {
            "colorbar": {
             "outlinewidth": 0,
             "ticks": ""
            },
            "colorscale": [
             [
              0,
              "#0d0887"
             ],
             [
              0.1111111111111111,
              "#46039f"
             ],
             [
              0.2222222222222222,
              "#7201a8"
             ],
             [
              0.3333333333333333,
              "#9c179e"
             ],
             [
              0.4444444444444444,
              "#bd3786"
             ],
             [
              0.5555555555555556,
              "#d8576b"
             ],
             [
              0.6666666666666666,
              "#ed7953"
             ],
             [
              0.7777777777777778,
              "#fb9f3a"
             ],
             [
              0.8888888888888888,
              "#fdca26"
             ],
             [
              1,
              "#f0f921"
             ]
            ],
            "type": "histogram2d"
           }
          ],
          "histogram2dcontour": [
           {
            "colorbar": {
             "outlinewidth": 0,
             "ticks": ""
            },
            "colorscale": [
             [
              0,
              "#0d0887"
             ],
             [
              0.1111111111111111,
              "#46039f"
             ],
             [
              0.2222222222222222,
              "#7201a8"
             ],
             [
              0.3333333333333333,
              "#9c179e"
             ],
             [
              0.4444444444444444,
              "#bd3786"
             ],
             [
              0.5555555555555556,
              "#d8576b"
             ],
             [
              0.6666666666666666,
              "#ed7953"
             ],
             [
              0.7777777777777778,
              "#fb9f3a"
             ],
             [
              0.8888888888888888,
              "#fdca26"
             ],
             [
              1,
              "#f0f921"
             ]
            ],
            "type": "histogram2dcontour"
           }
          ],
          "mesh3d": [
           {
            "colorbar": {
             "outlinewidth": 0,
             "ticks": ""
            },
            "type": "mesh3d"
           }
          ],
          "parcoords": [
           {
            "line": {
             "colorbar": {
              "outlinewidth": 0,
              "ticks": ""
             }
            },
            "type": "parcoords"
           }
          ],
          "pie": [
           {
            "automargin": true,
            "type": "pie"
           }
          ],
          "scatter": [
           {
            "fillpattern": {
             "fillmode": "overlay",
             "size": 10,
             "solidity": 0.2
            },
            "type": "scatter"
           }
          ],
          "scatter3d": [
           {
            "line": {
             "colorbar": {
              "outlinewidth": 0,
              "ticks": ""
             }
            },
            "marker": {
             "colorbar": {
              "outlinewidth": 0,
              "ticks": ""
             }
            },
            "type": "scatter3d"
           }
          ],
          "scattercarpet": [
           {
            "marker": {
             "colorbar": {
              "outlinewidth": 0,
              "ticks": ""
             }
            },
            "type": "scattercarpet"
           }
          ],
          "scattergeo": [
           {
            "marker": {
             "colorbar": {
              "outlinewidth": 0,
              "ticks": ""
             }
            },
            "type": "scattergeo"
           }
          ],
          "scattergl": [
           {
            "marker": {
             "colorbar": {
              "outlinewidth": 0,
              "ticks": ""
             }
            },
            "type": "scattergl"
           }
          ],
          "scattermap": [
           {
            "marker": {
             "colorbar": {
              "outlinewidth": 0,
              "ticks": ""
             }
            },
            "type": "scattermap"
           }
          ],
          "scattermapbox": [
           {
            "marker": {
             "colorbar": {
              "outlinewidth": 0,
              "ticks": ""
             }
            },
            "type": "scattermapbox"
           }
          ],
          "scatterpolar": [
           {
            "marker": {
             "colorbar": {
              "outlinewidth": 0,
              "ticks": ""
             }
            },
            "type": "scatterpolar"
           }
          ],
          "scatterpolargl": [
           {
            "marker": {
             "colorbar": {
              "outlinewidth": 0,
              "ticks": ""
             }
            },
            "type": "scatterpolargl"
           }
          ],
          "scatterternary": [
           {
            "marker": {
             "colorbar": {
              "outlinewidth": 0,
              "ticks": ""
             }
            },
            "type": "scatterternary"
           }
          ],
          "surface": [
           {
            "colorbar": {
             "outlinewidth": 0,
             "ticks": ""
            },
            "colorscale": [
             [
              0,
              "#0d0887"
             ],
             [
              0.1111111111111111,
              "#46039f"
             ],
             [
              0.2222222222222222,
              "#7201a8"
             ],
             [
              0.3333333333333333,
              "#9c179e"
             ],
             [
              0.4444444444444444,
              "#bd3786"
             ],
             [
              0.5555555555555556,
              "#d8576b"
             ],
             [
              0.6666666666666666,
              "#ed7953"
             ],
             [
              0.7777777777777778,
              "#fb9f3a"
             ],
             [
              0.8888888888888888,
              "#fdca26"
             ],
             [
              1,
              "#f0f921"
             ]
            ],
            "type": "surface"
           }
          ],
          "table": [
           {
            "cells": {
             "fill": {
              "color": "#EBF0F8"
             },
             "line": {
              "color": "white"
             }
            },
            "header": {
             "fill": {
              "color": "#C8D4E3"
             },
             "line": {
              "color": "white"
             }
            },
            "type": "table"
           }
          ]
         },
         "layout": {
          "annotationdefaults": {
           "arrowcolor": "#2a3f5f",
           "arrowhead": 0,
           "arrowwidth": 1
          },
          "autotypenumbers": "strict",
          "coloraxis": {
           "colorbar": {
            "outlinewidth": 0,
            "ticks": ""
           }
          },
          "colorscale": {
           "diverging": [
            [
             0,
             "#8e0152"
            ],
            [
             0.1,
             "#c51b7d"
            ],
            [
             0.2,
             "#de77ae"
            ],
            [
             0.3,
             "#f1b6da"
            ],
            [
             0.4,
             "#fde0ef"
            ],
            [
             0.5,
             "#f7f7f7"
            ],
            [
             0.6,
             "#e6f5d0"
            ],
            [
             0.7,
             "#b8e186"
            ],
            [
             0.8,
             "#7fbc41"
            ],
            [
             0.9,
             "#4d9221"
            ],
            [
             1,
             "#276419"
            ]
           ],
           "sequential": [
            [
             0,
             "#0d0887"
            ],
            [
             0.1111111111111111,
             "#46039f"
            ],
            [
             0.2222222222222222,
             "#7201a8"
            ],
            [
             0.3333333333333333,
             "#9c179e"
            ],
            [
             0.4444444444444444,
             "#bd3786"
            ],
            [
             0.5555555555555556,
             "#d8576b"
            ],
            [
             0.6666666666666666,
             "#ed7953"
            ],
            [
             0.7777777777777778,
             "#fb9f3a"
            ],
            [
             0.8888888888888888,
             "#fdca26"
            ],
            [
             1,
             "#f0f921"
            ]
           ],
           "sequentialminus": [
            [
             0,
             "#0d0887"
            ],
            [
             0.1111111111111111,
             "#46039f"
            ],
            [
             0.2222222222222222,
             "#7201a8"
            ],
            [
             0.3333333333333333,
             "#9c179e"
            ],
            [
             0.4444444444444444,
             "#bd3786"
            ],
            [
             0.5555555555555556,
             "#d8576b"
            ],
            [
             0.6666666666666666,
             "#ed7953"
            ],
            [
             0.7777777777777778,
             "#fb9f3a"
            ],
            [
             0.8888888888888888,
             "#fdca26"
            ],
            [
             1,
             "#f0f921"
            ]
           ]
          },
          "colorway": [
           "#636efa",
           "#EF553B",
           "#00cc96",
           "#ab63fa",
           "#FFA15A",
           "#19d3f3",
           "#FF6692",
           "#B6E880",
           "#FF97FF",
           "#FECB52"
          ],
          "font": {
           "color": "#2a3f5f"
          },
          "geo": {
           "bgcolor": "white",
           "lakecolor": "white",
           "landcolor": "#E5ECF6",
           "showlakes": true,
           "showland": true,
           "subunitcolor": "white"
          },
          "hoverlabel": {
           "align": "left"
          },
          "hovermode": "closest",
          "mapbox": {
           "style": "light"
          },
          "paper_bgcolor": "white",
          "plot_bgcolor": "#E5ECF6",
          "polar": {
           "angularaxis": {
            "gridcolor": "white",
            "linecolor": "white",
            "ticks": ""
           },
           "bgcolor": "#E5ECF6",
           "radialaxis": {
            "gridcolor": "white",
            "linecolor": "white",
            "ticks": ""
           }
          },
          "scene": {
           "xaxis": {
            "backgroundcolor": "#E5ECF6",
            "gridcolor": "white",
            "gridwidth": 2,
            "linecolor": "white",
            "showbackground": true,
            "ticks": "",
            "zerolinecolor": "white"
           },
           "yaxis": {
            "backgroundcolor": "#E5ECF6",
            "gridcolor": "white",
            "gridwidth": 2,
            "linecolor": "white",
            "showbackground": true,
            "ticks": "",
            "zerolinecolor": "white"
           },
           "zaxis": {
            "backgroundcolor": "#E5ECF6",
            "gridcolor": "white",
            "gridwidth": 2,
            "linecolor": "white",
            "showbackground": true,
            "ticks": "",
            "zerolinecolor": "white"
           }
          },
          "shapedefaults": {
           "line": {
            "color": "#2a3f5f"
           }
          },
          "ternary": {
           "aaxis": {
            "gridcolor": "white",
            "linecolor": "white",
            "ticks": ""
           },
           "baxis": {
            "gridcolor": "white",
            "linecolor": "white",
            "ticks": ""
           },
           "bgcolor": "#E5ECF6",
           "caxis": {
            "gridcolor": "white",
            "linecolor": "white",
            "ticks": ""
           }
          },
          "title": {
           "x": 0.05
          },
          "xaxis": {
           "automargin": true,
           "gridcolor": "white",
           "linecolor": "white",
           "ticks": "",
           "title": {
            "standoff": 15
           },
           "zerolinecolor": "white",
           "zerolinewidth": 2
          },
          "yaxis": {
           "automargin": true,
           "gridcolor": "white",
           "linecolor": "white",
           "ticks": "",
           "title": {
            "standoff": 15
           },
           "zerolinecolor": "white",
           "zerolinewidth": 2
          }
         }
        },
        "title": {
         "text": "Triada crítica: Salud + Familia + Felicidad"
        }
       }
      }
     },
     "metadata": {},
     "output_type": "display_data"
    }
   ],
   "source": [
    "# Filtra filas completas en las columnas usadas\n",
    "\n",
    "cols = [\"Health (Life Expectancy)\", \"Family\", \"Happiness Score\", \"Region\", \"Country\", \"Economy (GDP per Capita)\"]\n",
    "df3d = df[cols].dropna().copy()\n",
    "\n",
    "# Scatter 3D: Salud (x), Familia (y), Felicidad (z), color por Región\n",
    "fig = px.scatter_3d(\n",
    "    df3d,\n",
    "    x=\"Health (Life Expectancy)\",\n",
    "    y=\"Family\",\n",
    "    z=\"Happiness Score\",\n",
    "    color=\"Region\",\n",
    "    hover_name=\"Country\",\n",
    "    hover_data={\n",
    "        \"Economy (GDP per Capita)\": ':.3f',\n",
    "        \"Health (Life Expectancy)\": ':.3f',\n",
    "        \"Family\": ':.3f',\n",
    "        \"Happiness Score\": ':.3f',\n",
    "        \"Region\": False,  # ya está por color\n",
    "        \"Country\": False  # ya está en hover_name\n",
    "    },\n",
    "    title=\"Triada crítica: Salud + Familia + Felicidad\"\n",
    ")\n",
    "\n",
    "fig.update_layout(\n",
    "    scene=dict(\n",
    "        xaxis_title=\"Health (Life Expectancy)\",\n",
    "        yaxis_title=\"Family\",\n",
    "        zaxis_title=\"Happiness Score\"\n",
    "    ),\n",
    "    legend_title=\"Region\"\n",
    ")\n",
    "\n",
    "fig.show()"
   ]
  },
  {
   "cell_type": "markdown",
   "id": "d3f59239",
   "metadata": {},
   "source": [
    "El gráfico muestra que al superar umbrales altos en Health y Family, los países tienden a ubicarse en la parte superior del eje de felicidad.\n",
    "Se forma así una meseta de alta felicidad, con puntajes sostenidos por encima de 6.\n",
    "Esto indica que salud y familia actúan como pilares básicos para mantener la felicidad elevada."
   ]
  },
  {
   "cell_type": "code",
   "execution_count": 84,
   "id": "f56a6c3b",
   "metadata": {},
   "outputs": [
    {
     "data": {
      "application/vnd.plotly.v1+json": {
       "config": {
        "plotlyServerURL": "https://plot.ly"
       },
       "data": [
        {
         "fill": "toself",
         "hovertemplate": "Grupo=LATAM<br>Valor=%{r}<br>Factor=%{theta}<extra></extra>",
         "legendgroup": "LATAM",
         "line": {
          "color": "#636efa",
          "dash": "solid"
         },
         "marker": {
          "symbol": "circle"
         },
         "mode": "lines+markers",
         "name": "LATAM",
         "r": {
          "bdata": "oc28SN8O7D9x6/da76zxP5aW3FQbhuY/KcpaF0AO4D98kBrn+P69P8+iDd934Ms/oc28SN8O7D8=",
          "dtype": "f8"
         },
         "showlegend": true,
         "subplot": "polar",
         "theta": [
          "Economy (GDP per Capita)",
          "Family",
          "Health (Life Expectancy)",
          "Freedom",
          "Trust (Government Corruption)",
          "Generosity",
          "Economy (GDP per Capita)"
         ],
         "type": "scatterpolar"
        },
        {
         "fill": "toself",
         "hovertemplate": "Grupo=Global<br>Valor=%{r}<br>Factor=%{theta}<extra></extra>",
         "legendgroup": "Global",
         "line": {
          "color": "#EF553B",
          "dash": "solid"
         },
         "marker": {
          "symbol": "circle"
         },
         "mode": "lines+markers",
         "name": "Global",
         "r": {
          "bdata": "n2hlWo4T6z9orav+pbbvP1SVNLEVK+Q/eHfvV21u2z9TTGGOpVvCP1TtlfuyX84/n2hlWo4T6z8=",
          "dtype": "f8"
         },
         "showlegend": true,
         "subplot": "polar",
         "theta": [
          "Economy (GDP per Capita)",
          "Family",
          "Health (Life Expectancy)",
          "Freedom",
          "Trust (Government Corruption)",
          "Generosity",
          "Economy (GDP per Capita)"
         ],
         "type": "scatterpolar"
        }
       ],
       "layout": {
        "legend": {
         "title": {
          "text": ""
         },
         "tracegroupgap": 0
        },
        "polar": {
         "angularaxis": {
          "categoryarray": [
           "Economy (GDP per Capita)",
           "Family",
           "Health (Life Expectancy)",
           "Freedom",
           "Trust (Government Corruption)",
           "Generosity"
          ],
          "categoryorder": "array",
          "direction": "clockwise",
          "rotation": 90
         },
         "domain": {
          "x": [
           0,
           1
          ],
          "y": [
           0,
           1
          ]
         }
        },
        "template": {
         "data": {
          "bar": [
           {
            "error_x": {
             "color": "#2a3f5f"
            },
            "error_y": {
             "color": "#2a3f5f"
            },
            "marker": {
             "line": {
              "color": "#E5ECF6",
              "width": 0.5
             },
             "pattern": {
              "fillmode": "overlay",
              "size": 10,
              "solidity": 0.2
             }
            },
            "type": "bar"
           }
          ],
          "barpolar": [
           {
            "marker": {
             "line": {
              "color": "#E5ECF6",
              "width": 0.5
             },
             "pattern": {
              "fillmode": "overlay",
              "size": 10,
              "solidity": 0.2
             }
            },
            "type": "barpolar"
           }
          ],
          "carpet": [
           {
            "aaxis": {
             "endlinecolor": "#2a3f5f",
             "gridcolor": "white",
             "linecolor": "white",
             "minorgridcolor": "white",
             "startlinecolor": "#2a3f5f"
            },
            "baxis": {
             "endlinecolor": "#2a3f5f",
             "gridcolor": "white",
             "linecolor": "white",
             "minorgridcolor": "white",
             "startlinecolor": "#2a3f5f"
            },
            "type": "carpet"
           }
          ],
          "choropleth": [
           {
            "colorbar": {
             "outlinewidth": 0,
             "ticks": ""
            },
            "type": "choropleth"
           }
          ],
          "contour": [
           {
            "colorbar": {
             "outlinewidth": 0,
             "ticks": ""
            },
            "colorscale": [
             [
              0,
              "#0d0887"
             ],
             [
              0.1111111111111111,
              "#46039f"
             ],
             [
              0.2222222222222222,
              "#7201a8"
             ],
             [
              0.3333333333333333,
              "#9c179e"
             ],
             [
              0.4444444444444444,
              "#bd3786"
             ],
             [
              0.5555555555555556,
              "#d8576b"
             ],
             [
              0.6666666666666666,
              "#ed7953"
             ],
             [
              0.7777777777777778,
              "#fb9f3a"
             ],
             [
              0.8888888888888888,
              "#fdca26"
             ],
             [
              1,
              "#f0f921"
             ]
            ],
            "type": "contour"
           }
          ],
          "contourcarpet": [
           {
            "colorbar": {
             "outlinewidth": 0,
             "ticks": ""
            },
            "type": "contourcarpet"
           }
          ],
          "heatmap": [
           {
            "colorbar": {
             "outlinewidth": 0,
             "ticks": ""
            },
            "colorscale": [
             [
              0,
              "#0d0887"
             ],
             [
              0.1111111111111111,
              "#46039f"
             ],
             [
              0.2222222222222222,
              "#7201a8"
             ],
             [
              0.3333333333333333,
              "#9c179e"
             ],
             [
              0.4444444444444444,
              "#bd3786"
             ],
             [
              0.5555555555555556,
              "#d8576b"
             ],
             [
              0.6666666666666666,
              "#ed7953"
             ],
             [
              0.7777777777777778,
              "#fb9f3a"
             ],
             [
              0.8888888888888888,
              "#fdca26"
             ],
             [
              1,
              "#f0f921"
             ]
            ],
            "type": "heatmap"
           }
          ],
          "histogram": [
           {
            "marker": {
             "pattern": {
              "fillmode": "overlay",
              "size": 10,
              "solidity": 0.2
             }
            },
            "type": "histogram"
           }
          ],
          "histogram2d": [
           {
            "colorbar": {
             "outlinewidth": 0,
             "ticks": ""
            },
            "colorscale": [
             [
              0,
              "#0d0887"
             ],
             [
              0.1111111111111111,
              "#46039f"
             ],
             [
              0.2222222222222222,
              "#7201a8"
             ],
             [
              0.3333333333333333,
              "#9c179e"
             ],
             [
              0.4444444444444444,
              "#bd3786"
             ],
             [
              0.5555555555555556,
              "#d8576b"
             ],
             [
              0.6666666666666666,
              "#ed7953"
             ],
             [
              0.7777777777777778,
              "#fb9f3a"
             ],
             [
              0.8888888888888888,
              "#fdca26"
             ],
             [
              1,
              "#f0f921"
             ]
            ],
            "type": "histogram2d"
           }
          ],
          "histogram2dcontour": [
           {
            "colorbar": {
             "outlinewidth": 0,
             "ticks": ""
            },
            "colorscale": [
             [
              0,
              "#0d0887"
             ],
             [
              0.1111111111111111,
              "#46039f"
             ],
             [
              0.2222222222222222,
              "#7201a8"
             ],
             [
              0.3333333333333333,
              "#9c179e"
             ],
             [
              0.4444444444444444,
              "#bd3786"
             ],
             [
              0.5555555555555556,
              "#d8576b"
             ],
             [
              0.6666666666666666,
              "#ed7953"
             ],
             [
              0.7777777777777778,
              "#fb9f3a"
             ],
             [
              0.8888888888888888,
              "#fdca26"
             ],
             [
              1,
              "#f0f921"
             ]
            ],
            "type": "histogram2dcontour"
           }
          ],
          "mesh3d": [
           {
            "colorbar": {
             "outlinewidth": 0,
             "ticks": ""
            },
            "type": "mesh3d"
           }
          ],
          "parcoords": [
           {
            "line": {
             "colorbar": {
              "outlinewidth": 0,
              "ticks": ""
             }
            },
            "type": "parcoords"
           }
          ],
          "pie": [
           {
            "automargin": true,
            "type": "pie"
           }
          ],
          "scatter": [
           {
            "fillpattern": {
             "fillmode": "overlay",
             "size": 10,
             "solidity": 0.2
            },
            "type": "scatter"
           }
          ],
          "scatter3d": [
           {
            "line": {
             "colorbar": {
              "outlinewidth": 0,
              "ticks": ""
             }
            },
            "marker": {
             "colorbar": {
              "outlinewidth": 0,
              "ticks": ""
             }
            },
            "type": "scatter3d"
           }
          ],
          "scattercarpet": [
           {
            "marker": {
             "colorbar": {
              "outlinewidth": 0,
              "ticks": ""
             }
            },
            "type": "scattercarpet"
           }
          ],
          "scattergeo": [
           {
            "marker": {
             "colorbar": {
              "outlinewidth": 0,
              "ticks": ""
             }
            },
            "type": "scattergeo"
           }
          ],
          "scattergl": [
           {
            "marker": {
             "colorbar": {
              "outlinewidth": 0,
              "ticks": ""
             }
            },
            "type": "scattergl"
           }
          ],
          "scattermap": [
           {
            "marker": {
             "colorbar": {
              "outlinewidth": 0,
              "ticks": ""
             }
            },
            "type": "scattermap"
           }
          ],
          "scattermapbox": [
           {
            "marker": {
             "colorbar": {
              "outlinewidth": 0,
              "ticks": ""
             }
            },
            "type": "scattermapbox"
           }
          ],
          "scatterpolar": [
           {
            "marker": {
             "colorbar": {
              "outlinewidth": 0,
              "ticks": ""
             }
            },
            "type": "scatterpolar"
           }
          ],
          "scatterpolargl": [
           {
            "marker": {
             "colorbar": {
              "outlinewidth": 0,
              "ticks": ""
             }
            },
            "type": "scatterpolargl"
           }
          ],
          "scatterternary": [
           {
            "marker": {
             "colorbar": {
              "outlinewidth": 0,
              "ticks": ""
             }
            },
            "type": "scatterternary"
           }
          ],
          "surface": [
           {
            "colorbar": {
             "outlinewidth": 0,
             "ticks": ""
            },
            "colorscale": [
             [
              0,
              "#0d0887"
             ],
             [
              0.1111111111111111,
              "#46039f"
             ],
             [
              0.2222222222222222,
              "#7201a8"
             ],
             [
              0.3333333333333333,
              "#9c179e"
             ],
             [
              0.4444444444444444,
              "#bd3786"
             ],
             [
              0.5555555555555556,
              "#d8576b"
             ],
             [
              0.6666666666666666,
              "#ed7953"
             ],
             [
              0.7777777777777778,
              "#fb9f3a"
             ],
             [
              0.8888888888888888,
              "#fdca26"
             ],
             [
              1,
              "#f0f921"
             ]
            ],
            "type": "surface"
           }
          ],
          "table": [
           {
            "cells": {
             "fill": {
              "color": "#EBF0F8"
             },
             "line": {
              "color": "white"
             }
            },
            "header": {
             "fill": {
              "color": "#C8D4E3"
             },
             "line": {
              "color": "white"
             }
            },
            "type": "table"
           }
          ]
         },
         "layout": {
          "annotationdefaults": {
           "arrowcolor": "#2a3f5f",
           "arrowhead": 0,
           "arrowwidth": 1
          },
          "autotypenumbers": "strict",
          "coloraxis": {
           "colorbar": {
            "outlinewidth": 0,
            "ticks": ""
           }
          },
          "colorscale": {
           "diverging": [
            [
             0,
             "#8e0152"
            ],
            [
             0.1,
             "#c51b7d"
            ],
            [
             0.2,
             "#de77ae"
            ],
            [
             0.3,
             "#f1b6da"
            ],
            [
             0.4,
             "#fde0ef"
            ],
            [
             0.5,
             "#f7f7f7"
            ],
            [
             0.6,
             "#e6f5d0"
            ],
            [
             0.7,
             "#b8e186"
            ],
            [
             0.8,
             "#7fbc41"
            ],
            [
             0.9,
             "#4d9221"
            ],
            [
             1,
             "#276419"
            ]
           ],
           "sequential": [
            [
             0,
             "#0d0887"
            ],
            [
             0.1111111111111111,
             "#46039f"
            ],
            [
             0.2222222222222222,
             "#7201a8"
            ],
            [
             0.3333333333333333,
             "#9c179e"
            ],
            [
             0.4444444444444444,
             "#bd3786"
            ],
            [
             0.5555555555555556,
             "#d8576b"
            ],
            [
             0.6666666666666666,
             "#ed7953"
            ],
            [
             0.7777777777777778,
             "#fb9f3a"
            ],
            [
             0.8888888888888888,
             "#fdca26"
            ],
            [
             1,
             "#f0f921"
            ]
           ],
           "sequentialminus": [
            [
             0,
             "#0d0887"
            ],
            [
             0.1111111111111111,
             "#46039f"
            ],
            [
             0.2222222222222222,
             "#7201a8"
            ],
            [
             0.3333333333333333,
             "#9c179e"
            ],
            [
             0.4444444444444444,
             "#bd3786"
            ],
            [
             0.5555555555555556,
             "#d8576b"
            ],
            [
             0.6666666666666666,
             "#ed7953"
            ],
            [
             0.7777777777777778,
             "#fb9f3a"
            ],
            [
             0.8888888888888888,
             "#fdca26"
            ],
            [
             1,
             "#f0f921"
            ]
           ]
          },
          "colorway": [
           "#636efa",
           "#EF553B",
           "#00cc96",
           "#ab63fa",
           "#FFA15A",
           "#19d3f3",
           "#FF6692",
           "#B6E880",
           "#FF97FF",
           "#FECB52"
          ],
          "font": {
           "color": "#2a3f5f"
          },
          "geo": {
           "bgcolor": "white",
           "lakecolor": "white",
           "landcolor": "#E5ECF6",
           "showlakes": true,
           "showland": true,
           "subunitcolor": "white"
          },
          "hoverlabel": {
           "align": "left"
          },
          "hovermode": "closest",
          "mapbox": {
           "style": "light"
          },
          "paper_bgcolor": "white",
          "plot_bgcolor": "#E5ECF6",
          "polar": {
           "angularaxis": {
            "gridcolor": "white",
            "linecolor": "white",
            "ticks": ""
           },
           "bgcolor": "#E5ECF6",
           "radialaxis": {
            "gridcolor": "white",
            "linecolor": "white",
            "ticks": ""
           }
          },
          "scene": {
           "xaxis": {
            "backgroundcolor": "#E5ECF6",
            "gridcolor": "white",
            "gridwidth": 2,
            "linecolor": "white",
            "showbackground": true,
            "ticks": "",
            "zerolinecolor": "white"
           },
           "yaxis": {
            "backgroundcolor": "#E5ECF6",
            "gridcolor": "white",
            "gridwidth": 2,
            "linecolor": "white",
            "showbackground": true,
            "ticks": "",
            "zerolinecolor": "white"
           },
           "zaxis": {
            "backgroundcolor": "#E5ECF6",
            "gridcolor": "white",
            "gridwidth": 2,
            "linecolor": "white",
            "showbackground": true,
            "ticks": "",
            "zerolinecolor": "white"
           }
          },
          "shapedefaults": {
           "line": {
            "color": "#2a3f5f"
           }
          },
          "ternary": {
           "aaxis": {
            "gridcolor": "white",
            "linecolor": "white",
            "ticks": ""
           },
           "baxis": {
            "gridcolor": "white",
            "linecolor": "white",
            "ticks": ""
           },
           "bgcolor": "#E5ECF6",
           "caxis": {
            "gridcolor": "white",
            "linecolor": "white",
            "ticks": ""
           }
          },
          "title": {
           "x": 0.05
          },
          "xaxis": {
           "automargin": true,
           "gridcolor": "white",
           "linecolor": "white",
           "ticks": "",
           "title": {
            "standoff": 15
           },
           "zerolinecolor": "white",
           "zerolinewidth": 2
          },
          "yaxis": {
           "automargin": true,
           "gridcolor": "white",
           "linecolor": "white",
           "ticks": "",
           "title": {
            "standoff": 15
           },
           "zerolinecolor": "white",
           "zerolinewidth": 2
          }
         }
        },
        "title": {
         "text": "LATAM vs. Mundo – Promedios de factores"
        }
       }
      }
     },
     "metadata": {},
     "output_type": "display_data"
    }
   ],
   "source": [
    "\n",
    "factores = [\n",
    "    \"Economy (GDP per Capita)\",\n",
    "    \"Family\",\n",
    "    \"Health (Life Expectancy)\",\n",
    "    \"Freedom\",\n",
    "    \"Trust (Government Corruption)\",\n",
    "    \"Generosity\"\n",
    "]\n",
    "\n",
    "# Detecta la etiqueta de LATAM exactamente como aparece en tu Excel\n",
    "regions = df[\"Region\"].astype(str)\n",
    "latam_label = next((r for r in regions.unique() if \"latin\" in r.lower()), None)\n",
    "assert latam_label is not None, \"No se encontró una región que contenga 'latin' en su nombre.\"\n",
    "\n",
    "# Promedios Global y LATAM\n",
    "global_mean = df[factores].mean(numeric_only=True)\n",
    "latam_mean  = df.loc[regions == latam_label, factores].mean(numeric_only=True)\n",
    "\n",
    "# Formato largo para polar\n",
    "radar_df = pd.DataFrame({\n",
    "    \"Factor\": factores * 2,\n",
    "    \"Valor\": pd.concat([latam_mean, global_mean], axis=0).values,\n",
    "    \"Grupo\": [\"LATAM\"] * len(factores) + [\"Global\"] * len(factores)\n",
    "})\n",
    "\n",
    "# Radar (polar) con dos trazas\n",
    "fig = px.line_polar(\n",
    "    radar_df,\n",
    "    r=\"Valor\",\n",
    "    theta=\"Factor\",\n",
    "    color=\"Grupo\",\n",
    "    line_close=True,\n",
    "    category_orders={\"Factor\": factores},\n",
    "    title=\"LATAM vs. Mundo – Promedios de factores\"\n",
    ")\n",
    "fig.update_traces(mode=\"lines+markers\")\n",
    "fig.update_traces(fill=\"toself\")  # relleno tipo radar\n",
    "fig.update_layout(legend_title_text=\"\")\n",
    "fig.show()"
   ]
  },
  {
   "cell_type": "markdown",
   "id": "3f69eec6",
   "metadata": {},
   "source": [
    "En LATAM los pétalos de Family y Generosity se abren más que el promedio global, mientras que Economy, Health y Trust se cierran notablemente. Esto muestra un fuerte sostén social, pero con rezagos en capital económico, salud e instituciones."
   ]
  }
 ],
 "metadata": {
  "kernelspec": {
   "display_name": "base",
   "language": "python",
   "name": "python3"
  },
  "language_info": {
   "codemirror_mode": {
    "name": "ipython",
    "version": 3
   },
   "file_extension": ".py",
   "mimetype": "text/x-python",
   "name": "python",
   "nbconvert_exporter": "python",
   "pygments_lexer": "ipython3",
   "version": "3.11.7"
  }
 },
 "nbformat": 4,
 "nbformat_minor": 5
}
