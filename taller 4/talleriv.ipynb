{
 "cells": [
  {
   "cell_type": "code",
   "execution_count": 6,
   "id": "b5a3b311",
   "metadata": {},
   "outputs": [],
   "source": [
    "# Importar librerías necesarias\n",
    "import pandas as pd\n",
    "import plotly.express as px\n",
    "from dash import Dash, html, dcc, dash_table\n",
    "from jupyter_dash import JupyterDash"
   ]
  },
  {
   "cell_type": "code",
   "execution_count": 4,
   "id": "690b9bdf",
   "metadata": {},
   "outputs": [
    {
     "data": {
      "text/plain": [
       "['Country',\n",
       " 'Region',\n",
       " 'Happiness Rank',\n",
       " 'Happiness Score',\n",
       " 'Standard Error',\n",
       " 'Economy (GDP per Capita)',\n",
       " 'Family',\n",
       " 'Health (Life Expectancy)',\n",
       " 'Freedom',\n",
       " 'Trust (Government Corruption)',\n",
       " 'Generosity',\n",
       " 'Dystopia Residual']"
      ]
     },
     "execution_count": 4,
     "metadata": {},
     "output_type": "execute_result"
    }
   ],
   "source": [
    "# Cargar datos desde CSV\n",
    "df = pd.read_csv('happiness.csv')\n",
    "list(df.columns)"
   ]
  },
  {
   "cell_type": "code",
   "execution_count": 7,
   "id": "1c12b813",
   "metadata": {},
   "outputs": [
    {
     "name": "stderr",
     "output_type": "stream",
     "text": [
      "/opt/homebrew/lib/python3.13/site-packages/dash/dash.py:634: UserWarning:\n",
      "\n",
      "JupyterDash is deprecated, use Dash instead.\n",
      "See https://dash.plotly.com/dash-in-jupyter for more details.\n",
      "\n"
     ]
    },
    {
     "name": "stdout",
     "output_type": "stream",
     "text": [
      "Dash app running on http://127.0.0.1:8050/\n"
     ]
    }
   ],
   "source": [
    "# Crear tabla de datos\n",
    "table = dash_table.DataTable(\n",
    "    data=df.to_dict('records'),\n",
    "    page_size=10\n",
    "    )\n",
    "\n",
    "# Crear gráfico con Plotly\n",
    "fig = px.bar(df,\n",
    "    x='Country',\n",
    "    y='Happiness Rank',\n",
    "    color='Region',\n",
    "    title='Datos por Categoría'\n",
    "    )\n",
    "app = JupyterDash()\n",
    "# Layout con tabla y gráfico\n",
    "app.layout = html.Div([\n",
    "    html.H1('Dashboard de Datos'),\n",
    "    html.H2('Tabla de Datos'),\n",
    "    table,\n",
    "    html.H2('Gráfico Interactivo'),\n",
    "    dcc.Graph(figure=fig)\n",
    "    ])\n",
    "\n",
    "app.run(jupyter_mode='external')"
   ]
  }
 ],
 "metadata": {
  "kernelspec": {
   "display_name": "Python 3",
   "language": "python",
   "name": "python3"
  },
  "language_info": {
   "codemirror_mode": {
    "name": "ipython",
    "version": 3
   },
   "file_extension": ".py",
   "mimetype": "text/x-python",
   "name": "python",
   "nbconvert_exporter": "python",
   "pygments_lexer": "ipython3",
   "version": "3.13.7"
  }
 },
 "nbformat": 4,
 "nbformat_minor": 5
}
